{
 "cells": [
  {
   "cell_type": "code",
   "execution_count": 1,
   "metadata": {
    "_cell_guid": "b1076dfc-b9ad-4769-8c92-a6c4dae69d19",
    "_uuid": "8f2839f25d086af736a60e9eeb907d3b93b6e0e5"
   },
   "outputs": [
    {
     "name": "stdout",
     "output_type": "stream",
     "text": [
      "/kaggle/input/lab3-resnet50/train_images_resnet50.csv\n",
      "/kaggle/input/lab3-resnet50/test_images_resnet50.csv\n",
      "/kaggle/input/lab36-vgg19/train_images_vgg19.csv\n",
      "/kaggle/input/lab36-vgg19/test_images_vgg19.csv\n",
      "/kaggle/input/lab3-vgg16/test_images_vgg16.csv\n",
      "/kaggle/input/lab3-vgg16/train_images_vgg16.csv\n",
      "/kaggle/input/lab3-efficientnet/test_images_efficient_net.csv\n",
      "/kaggle/input/lab3-efficientnet/train_images_efficent_net.csv\n",
      "/kaggle/input/lab3-inceptionv3/test_images_inceptionv3.csv\n",
      "/kaggle/input/lab3-inceptionv3/train_images_inceptionv3.csv\n"
     ]
    }
   ],
   "source": [
    "# This Python 3 environment comes with many helpful analytics libraries installed\n",
    "# It is defined by the kaggle/python Docker image: https://github.com/kaggle/docker-python\n",
    "# For example, here's several helpful packages to load\n",
    "\n",
    "import numpy as np # linear algebra\n",
    "import pandas as pd # data processing, CSV file I/O (e.g. pd.read_csv)\n",
    "\n",
    "# Input data files are available in the read-only \"../input/\" directory\n",
    "# For example, running this (by clicking run or pressing Shift+Enter) will list all files under the input directory\n",
    "\n",
    "import os\n",
    "for dirname, _, filenames in os.walk('/kaggle/input'):\n",
    "    for filename in filenames:\n",
    "        print(os.path.join(dirname, filename))\n",
    "\n",
    "# You can write up to 20GB to the current directory (/kaggle/working/) that gets preserved as output when you create a version using \"Save & Run All\" \n",
    "# You can also write temporary files to /kaggle/temp/, but they won't be saved outside of the current session"
   ]
  },
  {
   "cell_type": "code",
   "execution_count": 89,
   "metadata": {},
   "outputs": [],
   "source": [
    "from sklearn.linear_model import LogisticRegression\n",
    "from sklearn.decomposition import PCA\n",
    "from sklearn.svm import SVC\n",
    "from sklearn.ensemble import GradientBoostingClassifier, RandomForestClassifier\n",
    "from sklearn.metrics import roc_auc_score, f1_score, precision_score, recall_score, accuracy_score\n",
    "import scikitplot as skplt\n",
    "import matplotlib.pyplot as plt\n",
    "import seaborn as sns"
   ]
  },
  {
   "cell_type": "code",
   "execution_count": 24,
   "metadata": {},
   "outputs": [],
   "source": [
    "from keras.models import Sequential\n",
    "from keras.layers import Dense"
   ]
  },
  {
   "cell_type": "markdown",
   "metadata": {},
   "source": [
    "# Main task"
   ]
  },
  {
   "cell_type": "markdown",
   "metadata": {},
   "source": [
    "## Raw Hog Embeddings"
   ]
  },
  {
   "cell_type": "code",
   "execution_count": 4,
   "metadata": {},
   "outputs": [],
   "source": [
    "train_raw_hogs = pd.read_csv('/kaggle/input/lab3-rawhogembeddings/raw_hog_embeddings_train.csv')\n",
    "test_raw_hogs = pd.read_csv('/kaggle/input/lab3-rawhogembeddings/raw_hog_embeddings_test.csv')"
   ]
  },
  {
   "cell_type": "code",
   "execution_count": 5,
   "metadata": {},
   "outputs": [
    {
     "data": {
      "text/html": [
       "<div>\n",
       "<style scoped>\n",
       "    .dataframe tbody tr th:only-of-type {\n",
       "        vertical-align: middle;\n",
       "    }\n",
       "\n",
       "    .dataframe tbody tr th {\n",
       "        vertical-align: top;\n",
       "    }\n",
       "\n",
       "    .dataframe thead th {\n",
       "        text-align: right;\n",
       "    }\n",
       "</style>\n",
       "<table border=\"1\" class=\"dataframe\">\n",
       "  <thead>\n",
       "    <tr style=\"text-align: right;\">\n",
       "      <th></th>\n",
       "      <th>image_name</th>\n",
       "      <th>target</th>\n",
       "      <th>0</th>\n",
       "      <th>1</th>\n",
       "      <th>2</th>\n",
       "      <th>3</th>\n",
       "      <th>4</th>\n",
       "      <th>5</th>\n",
       "      <th>6</th>\n",
       "      <th>7</th>\n",
       "      <th>...</th>\n",
       "      <th>34586</th>\n",
       "      <th>34587</th>\n",
       "      <th>34588</th>\n",
       "      <th>34589</th>\n",
       "      <th>34590</th>\n",
       "      <th>34591</th>\n",
       "      <th>34592</th>\n",
       "      <th>34593</th>\n",
       "      <th>34594</th>\n",
       "      <th>34595</th>\n",
       "    </tr>\n",
       "  </thead>\n",
       "  <tbody>\n",
       "    <tr>\n",
       "      <th>0</th>\n",
       "      <td>/kaggle/input/real-and-fake-face-detection/rea...</td>\n",
       "      <td>0</td>\n",
       "      <td>0.229916</td>\n",
       "      <td>0.054096</td>\n",
       "      <td>0.229916</td>\n",
       "      <td>0.114668</td>\n",
       "      <td>0.125780</td>\n",
       "      <td>0.229424</td>\n",
       "      <td>0.229916</td>\n",
       "      <td>0.229916</td>\n",
       "      <td>...</td>\n",
       "      <td>0.197192</td>\n",
       "      <td>0.058731</td>\n",
       "      <td>0.015924</td>\n",
       "      <td>0.044487</td>\n",
       "      <td>0.017448</td>\n",
       "      <td>0.214358</td>\n",
       "      <td>0.022509</td>\n",
       "      <td>0.188540</td>\n",
       "      <td>0.012744</td>\n",
       "      <td>0.180506</td>\n",
       "    </tr>\n",
       "    <tr>\n",
       "      <th>1</th>\n",
       "      <td>/kaggle/input/real-and-fake-face-detection/rea...</td>\n",
       "      <td>0</td>\n",
       "      <td>0.238039</td>\n",
       "      <td>0.180553</td>\n",
       "      <td>0.159582</td>\n",
       "      <td>0.173781</td>\n",
       "      <td>0.238039</td>\n",
       "      <td>0.148919</td>\n",
       "      <td>0.119426</td>\n",
       "      <td>0.041752</td>\n",
       "      <td>...</td>\n",
       "      <td>0.230621</td>\n",
       "      <td>0.203280</td>\n",
       "      <td>0.170389</td>\n",
       "      <td>0.092759</td>\n",
       "      <td>0.085495</td>\n",
       "      <td>0.230621</td>\n",
       "      <td>0.082703</td>\n",
       "      <td>0.043651</td>\n",
       "      <td>0.070549</td>\n",
       "      <td>0.046353</td>\n",
       "    </tr>\n",
       "  </tbody>\n",
       "</table>\n",
       "<p>2 rows × 34598 columns</p>\n",
       "</div>"
      ],
      "text/plain": [
       "                                          image_name  target         0  \\\n",
       "0  /kaggle/input/real-and-fake-face-detection/rea...       0  0.229916   \n",
       "1  /kaggle/input/real-and-fake-face-detection/rea...       0  0.238039   \n",
       "\n",
       "          1         2         3         4         5         6         7  ...  \\\n",
       "0  0.054096  0.229916  0.114668  0.125780  0.229424  0.229916  0.229916  ...   \n",
       "1  0.180553  0.159582  0.173781  0.238039  0.148919  0.119426  0.041752  ...   \n",
       "\n",
       "      34586     34587     34588     34589     34590     34591     34592  \\\n",
       "0  0.197192  0.058731  0.015924  0.044487  0.017448  0.214358  0.022509   \n",
       "1  0.230621  0.203280  0.170389  0.092759  0.085495  0.230621  0.082703   \n",
       "\n",
       "      34593     34594     34595  \n",
       "0  0.188540  0.012744  0.180506  \n",
       "1  0.043651  0.070549  0.046353  \n",
       "\n",
       "[2 rows x 34598 columns]"
      ]
     },
     "execution_count": 5,
     "metadata": {},
     "output_type": "execute_result"
    }
   ],
   "source": [
    "train_raw_hogs.head(2)"
   ]
  },
  {
   "cell_type": "code",
   "execution_count": 6,
   "metadata": {},
   "outputs": [
    {
     "data": {
      "text/plain": [
       "(967, 34598)"
      ]
     },
     "execution_count": 6,
     "metadata": {},
     "output_type": "execute_result"
    }
   ],
   "source": [
    "train_raw_hogs.shape"
   ]
  },
  {
   "cell_type": "markdown",
   "metadata": {},
   "source": [
    "### Raw SVC"
   ]
  },
  {
   "cell_type": "code",
   "execution_count": 7,
   "metadata": {},
   "outputs": [],
   "source": [
    "svc = SVC(random_state=42, probability=True)"
   ]
  },
  {
   "cell_type": "code",
   "execution_count": 8,
   "metadata": {},
   "outputs": [],
   "source": [
    "hog_features = train_raw_hogs.columns[2:]"
   ]
  },
  {
   "cell_type": "code",
   "execution_count": 11,
   "metadata": {},
   "outputs": [],
   "source": [
    "## handle missing values\n",
    "train_raw_hogs[hog_features] = train_raw_hogs[hog_features].fillna(0)\n",
    "test_raw_hogs[hog_features] = test_raw_hogs[hog_features].fillna(0)"
   ]
  },
  {
   "cell_type": "code",
   "execution_count": 58,
   "metadata": {},
   "outputs": [
    {
     "name": "stdout",
     "output_type": "stream",
     "text": [
      "CPU times: user 2min 42s, sys: 250 ms, total: 2min 43s\n",
      "Wall time: 2min 45s\n"
     ]
    },
    {
     "data": {
      "text/plain": [
       "SVC(probability=True, random_state=42)"
      ]
     },
     "execution_count": 58,
     "metadata": {},
     "output_type": "execute_result"
    }
   ],
   "source": [
    "%%time\n",
    "svc.fit(train_raw_hogs[hog_features], train_raw_hogs['target'])"
   ]
  },
  {
   "cell_type": "markdown",
   "metadata": {},
   "source": [
    "### PCA + SVC"
   ]
  },
  {
   "cell_type": "code",
   "execution_count": 18,
   "metadata": {},
   "outputs": [],
   "source": [
    "pca = PCA(n_components=500, random_state=42)"
   ]
  },
  {
   "cell_type": "code",
   "execution_count": 19,
   "metadata": {},
   "outputs": [
    {
     "name": "stdout",
     "output_type": "stream",
     "text": [
      "CPU times: user 11 s, sys: 572 ms, total: 11.5 s\n",
      "Wall time: 11.7 s\n"
     ]
    }
   ],
   "source": [
    "%%time\n",
    "train_raw_hogs_transformed = pca.fit_transform(train_raw_hogs[hog_features])"
   ]
  },
  {
   "cell_type": "code",
   "execution_count": 20,
   "metadata": {},
   "outputs": [
    {
     "name": "stdout",
     "output_type": "stream",
     "text": [
      "CPU times: user 615 ms, sys: 68.1 ms, total: 683 ms\n",
      "Wall time: 684 ms\n"
     ]
    }
   ],
   "source": [
    "%%time\n",
    "test_raw_hogs_transformed = pca.transform(test_raw_hogs[hog_features])"
   ]
  },
  {
   "cell_type": "code",
   "execution_count": 21,
   "metadata": {},
   "outputs": [],
   "source": [
    "svc_hog_transformed = SVC(random_state=42, probability=True)"
   ]
  },
  {
   "cell_type": "code",
   "execution_count": 23,
   "metadata": {},
   "outputs": [
    {
     "name": "stdout",
     "output_type": "stream",
     "text": [
      "CPU times: user 2.31 s, sys: 1.99 ms, total: 2.31 s\n",
      "Wall time: 2.31 s\n"
     ]
    },
    {
     "data": {
      "text/plain": [
       "SVC(probability=True, random_state=42)"
      ]
     },
     "execution_count": 23,
     "metadata": {},
     "output_type": "execute_result"
    }
   ],
   "source": [
    "%%time\n",
    "svc_hog_transformed.fit(train_raw_hogs_transformed,\n",
    "                        train_raw_hogs['target'])"
   ]
  },
  {
   "cell_type": "markdown",
   "metadata": {},
   "source": [
    "## Dense Net, raw hog features"
   ]
  },
  {
   "cell_type": "code",
   "execution_count": 25,
   "metadata": {},
   "outputs": [
    {
     "data": {
      "text/plain": [
       "(967, 34598)"
      ]
     },
     "execution_count": 25,
     "metadata": {},
     "output_type": "execute_result"
    }
   ],
   "source": [
    "train_raw_hogs.shape"
   ]
  },
  {
   "cell_type": "code",
   "execution_count": 30,
   "metadata": {},
   "outputs": [],
   "source": [
    "model_raw_hog = Sequential()\n",
    "model_raw_hog.add(Dense(12, input_dim=len(hog_features), activation='relu'))\n",
    "model_raw_hog.add(Dense(8, activation='relu'))\n",
    "model_raw_hog.add(Dense(1, activation='sigmoid'))"
   ]
  },
  {
   "cell_type": "code",
   "execution_count": 31,
   "metadata": {},
   "outputs": [
    {
     "name": "stdout",
     "output_type": "stream",
     "text": [
      "Model: \"sequential_1\"\n",
      "_________________________________________________________________\n",
      "Layer (type)                 Output Shape              Param #   \n",
      "=================================================================\n",
      "dense_3 (Dense)              (None, 12)                415164    \n",
      "_________________________________________________________________\n",
      "dense_4 (Dense)              (None, 8)                 104       \n",
      "_________________________________________________________________\n",
      "dense_5 (Dense)              (None, 1)                 9         \n",
      "=================================================================\n",
      "Total params: 415,277\n",
      "Trainable params: 415,277\n",
      "Non-trainable params: 0\n",
      "_________________________________________________________________\n"
     ]
    }
   ],
   "source": [
    "model_raw_hog.summary()"
   ]
  },
  {
   "cell_type": "code",
   "execution_count": 32,
   "metadata": {},
   "outputs": [],
   "source": [
    "model_raw_hog.compile(loss='binary_crossentropy', optimizer='adam', metrics=['accuracy', 'AUC'])"
   ]
  },
  {
   "cell_type": "code",
   "execution_count": 34,
   "metadata": {},
   "outputs": [
    {
     "name": "stdout",
     "output_type": "stream",
     "text": [
      "Epoch 1/150\n",
      "97/97 [==============================] - 0s 5ms/step - loss: 0.1072 - accuracy: 0.9845 - auc: 0.9989\n",
      "Epoch 2/150\n",
      "97/97 [==============================] - 0s 4ms/step - loss: 0.0832 - accuracy: 0.9897 - auc: 0.9994\n",
      "Epoch 3/150\n",
      "97/97 [==============================] - 0s 5ms/step - loss: 0.0810 - accuracy: 0.9835 - auc: 0.9984\n",
      "Epoch 4/150\n",
      "97/97 [==============================] - 0s 5ms/step - loss: 0.0478 - accuracy: 0.9959 - auc: 1.0000\n",
      "Epoch 5/150\n",
      "97/97 [==============================] - 0s 4ms/step - loss: 0.0321 - accuracy: 1.0000 - auc: 1.0000\n",
      "Epoch 6/150\n",
      "97/97 [==============================] - 0s 4ms/step - loss: 0.0221 - accuracy: 1.0000 - auc: 1.0000\n",
      "Epoch 7/150\n",
      "97/97 [==============================] - 0s 4ms/step - loss: 0.0190 - accuracy: 1.0000 - auc: 1.0000\n",
      "Epoch 8/150\n",
      "97/97 [==============================] - 0s 4ms/step - loss: 0.0141 - accuracy: 1.0000 - auc: 1.0000\n",
      "Epoch 9/150\n",
      "97/97 [==============================] - 0s 4ms/step - loss: 0.0114 - accuracy: 1.0000 - auc: 1.0000\n",
      "Epoch 10/150\n",
      "97/97 [==============================] - 0s 5ms/step - loss: 0.0102 - accuracy: 1.0000 - auc: 1.0000\n",
      "Epoch 11/150\n",
      "97/97 [==============================] - 0s 4ms/step - loss: 0.0086 - accuracy: 1.0000 - auc: 1.0000\n",
      "Epoch 12/150\n",
      "97/97 [==============================] - 0s 4ms/step - loss: 0.0068 - accuracy: 1.0000 - auc: 1.0000\n",
      "Epoch 13/150\n",
      "97/97 [==============================] - 0s 4ms/step - loss: 0.0059 - accuracy: 1.0000 - auc: 1.0000\n",
      "Epoch 14/150\n",
      "97/97 [==============================] - 0s 4ms/step - loss: 0.0052 - accuracy: 1.0000 - auc: 1.0000\n",
      "Epoch 15/150\n",
      "97/97 [==============================] - 0s 4ms/step - loss: 0.0044 - accuracy: 1.0000 - auc: 1.0000\n",
      "Epoch 16/150\n",
      "97/97 [==============================] - 0s 4ms/step - loss: 0.0038 - accuracy: 1.0000 - auc: 1.0000\n",
      "Epoch 17/150\n",
      "97/97 [==============================] - 0s 5ms/step - loss: 0.0035 - accuracy: 1.0000 - auc: 1.0000\n",
      "Epoch 18/150\n",
      "97/97 [==============================] - 1s 5ms/step - loss: 0.0031 - accuracy: 1.0000 - auc: 1.0000\n",
      "Epoch 19/150\n",
      "97/97 [==============================] - 1s 7ms/step - loss: 0.0028 - accuracy: 1.0000 - auc: 1.0000\n",
      "Epoch 20/150\n",
      "97/97 [==============================] - 0s 5ms/step - loss: 0.0025 - accuracy: 1.0000 - auc: 1.0000\n",
      "Epoch 21/150\n",
      "97/97 [==============================] - 1s 6ms/step - loss: 0.0022 - accuracy: 1.0000 - auc: 1.0000\n",
      "Epoch 22/150\n",
      "97/97 [==============================] - 1s 6ms/step - loss: 0.0020 - accuracy: 1.0000 - auc: 1.0000\n",
      "Epoch 23/150\n",
      "97/97 [==============================] - 0s 4ms/step - loss: 0.0018 - accuracy: 1.0000 - auc: 1.0000\n",
      "Epoch 24/150\n",
      "97/97 [==============================] - 0s 5ms/step - loss: 0.0017 - accuracy: 1.0000 - auc: 1.0000\n",
      "Epoch 25/150\n",
      "97/97 [==============================] - 0s 4ms/step - loss: 0.0015 - accuracy: 1.0000 - auc: 1.0000\n",
      "Epoch 26/150\n",
      "97/97 [==============================] - 0s 5ms/step - loss: 0.0014 - accuracy: 1.0000 - auc: 1.0000\n",
      "Epoch 27/150\n",
      "97/97 [==============================] - 0s 4ms/step - loss: 0.0012 - accuracy: 1.0000 - auc: 1.0000\n",
      "Epoch 28/150\n",
      "97/97 [==============================] - 0s 4ms/step - loss: 0.0011 - accuracy: 1.0000 - auc: 1.0000\n",
      "Epoch 29/150\n",
      "97/97 [==============================] - 0s 4ms/step - loss: 0.0010 - accuracy: 1.0000 - auc: 1.0000\n",
      "Epoch 30/150\n",
      "97/97 [==============================] - 0s 4ms/step - loss: 9.4000e-04 - accuracy: 1.0000 - auc: 1.0000\n",
      "Epoch 31/150\n",
      "97/97 [==============================] - 0s 4ms/step - loss: 8.6061e-04 - accuracy: 1.0000 - auc: 1.0000\n",
      "Epoch 32/150\n",
      "97/97 [==============================] - 0s 5ms/step - loss: 8.0254e-04 - accuracy: 1.0000 - auc: 1.0000\n",
      "Epoch 33/150\n",
      "97/97 [==============================] - 0s 4ms/step - loss: 7.3209e-04 - accuracy: 1.0000 - auc: 1.0000\n",
      "Epoch 34/150\n",
      "97/97 [==============================] - 0s 4ms/step - loss: 7.0172e-04 - accuracy: 1.0000 - auc: 1.0000\n",
      "Epoch 35/150\n",
      "97/97 [==============================] - 0s 4ms/step - loss: 6.3040e-04 - accuracy: 1.0000 - auc: 1.0000\n",
      "Epoch 36/150\n",
      "97/97 [==============================] - 0s 4ms/step - loss: 5.8785e-04 - accuracy: 1.0000 - auc: 1.0000\n",
      "Epoch 37/150\n",
      "97/97 [==============================] - 0s 4ms/step - loss: 5.3856e-04 - accuracy: 1.0000 - auc: 1.0000\n",
      "Epoch 38/150\n",
      "97/97 [==============================] - 0s 4ms/step - loss: 4.9909e-04 - accuracy: 1.0000 - auc: 1.0000\n",
      "Epoch 39/150\n",
      "97/97 [==============================] - 0s 4ms/step - loss: 4.6901e-04 - accuracy: 1.0000 - auc: 1.0000\n",
      "Epoch 40/150\n",
      "97/97 [==============================] - 0s 4ms/step - loss: 4.3339e-04 - accuracy: 1.0000 - auc: 1.0000\n",
      "Epoch 41/150\n",
      "97/97 [==============================] - 0s 4ms/step - loss: 4.0533e-04 - accuracy: 1.0000 - auc: 1.0000\n",
      "Epoch 42/150\n",
      "97/97 [==============================] - 0s 4ms/step - loss: 2.9585e-04 - accuracy: 1.0000 - auc: 1.0000: 0s - loss: 3.8531e-04 - accuracy: 1.0000 - a\n",
      "Epoch 43/150\n",
      "97/97 [==============================] - 0s 4ms/step - loss: 9.1993e-05 - accuracy: 1.0000 - auc: 1.0000\n",
      "Epoch 44/150\n",
      "97/97 [==============================] - 0s 5ms/step - loss: 6.9419e-05 - accuracy: 1.0000 - auc: 1.0000\n",
      "Epoch 45/150\n",
      "97/97 [==============================] - 0s 4ms/step - loss: 5.6814e-05 - accuracy: 1.0000 - auc: 1.0000\n",
      "Epoch 46/150\n",
      "97/97 [==============================] - 1s 6ms/step - loss: 4.8162e-05 - accuracy: 1.0000 - auc: 1.0000\n",
      "Epoch 47/150\n",
      "97/97 [==============================] - 1s 5ms/step - loss: 4.2009e-05 - accuracy: 1.0000 - auc: 1.0000\n",
      "Epoch 48/150\n",
      "97/97 [==============================] - 0s 4ms/step - loss: 3.7398e-05 - accuracy: 1.0000 - auc: 1.0000\n",
      "Epoch 49/150\n",
      "97/97 [==============================] - 0s 4ms/step - loss: 3.3426e-05 - accuracy: 1.0000 - auc: 1.0000\n",
      "Epoch 50/150\n",
      "97/97 [==============================] - 0s 4ms/step - loss: 3.0281e-05 - accuracy: 1.0000 - auc: 1.0000\n",
      "Epoch 51/150\n",
      "97/97 [==============================] - 0s 4ms/step - loss: 2.7559e-05 - accuracy: 1.0000 - auc: 1.0000\n",
      "Epoch 52/150\n",
      "97/97 [==============================] - 0s 4ms/step - loss: 2.5088e-05 - accuracy: 1.0000 - auc: 1.0000\n",
      "Epoch 53/150\n",
      "97/97 [==============================] - 0s 4ms/step - loss: 2.3161e-05 - accuracy: 1.0000 - auc: 1.0000\n",
      "Epoch 54/150\n",
      "97/97 [==============================] - 0s 4ms/step - loss: 2.1256e-05 - accuracy: 1.0000 - auc: 1.0000\n",
      "Epoch 55/150\n",
      "97/97 [==============================] - 0s 5ms/step - loss: 1.9579e-05 - accuracy: 1.0000 - auc: 1.0000\n",
      "Epoch 56/150\n",
      "97/97 [==============================] - 0s 4ms/step - loss: 1.8176e-05 - accuracy: 1.0000 - auc: 1.0000\n",
      "Epoch 57/150\n",
      "97/97 [==============================] - 0s 4ms/step - loss: 1.6839e-05 - accuracy: 1.0000 - auc: 1.0000\n",
      "Epoch 58/150\n",
      "97/97 [==============================] - 0s 4ms/step - loss: 1.5656e-05 - accuracy: 1.0000 - auc: 1.0000\n",
      "Epoch 59/150\n",
      "97/97 [==============================] - 0s 4ms/step - loss: 1.4582e-05 - accuracy: 1.0000 - auc: 1.0000\n",
      "Epoch 60/150\n",
      "97/97 [==============================] - 0s 4ms/step - loss: 1.3597e-05 - accuracy: 1.0000 - auc: 1.0000\n",
      "Epoch 61/150\n",
      "97/97 [==============================] - 0s 5ms/step - loss: 1.2698e-05 - accuracy: 1.0000 - auc: 1.0000\n",
      "Epoch 62/150\n",
      "97/97 [==============================] - 0s 4ms/step - loss: 1.1861e-05 - accuracy: 1.0000 - auc: 1.0000\n",
      "Epoch 63/150\n",
      "97/97 [==============================] - 0s 4ms/step - loss: 1.1075e-05 - accuracy: 1.0000 - auc: 1.0000\n",
      "Epoch 64/150\n",
      "97/97 [==============================] - 0s 4ms/step - loss: 1.0389e-05 - accuracy: 1.0000 - auc: 1.0000\n",
      "Epoch 65/150\n",
      "97/97 [==============================] - 0s 4ms/step - loss: 9.7269e-06 - accuracy: 1.0000 - auc: 1.0000\n",
      "Epoch 66/150\n",
      "97/97 [==============================] - 0s 4ms/step - loss: 9.1083e-06 - accuracy: 1.0000 - auc: 1.0000\n",
      "Epoch 67/150\n",
      "97/97 [==============================] - 0s 4ms/step - loss: 8.5479e-06 - accuracy: 1.0000 - auc: 1.0000\n",
      "Epoch 68/150\n",
      "97/97 [==============================] - 0s 4ms/step - loss: 8.0194e-06 - accuracy: 1.0000 - auc: 1.0000\n",
      "Epoch 69/150\n",
      "97/97 [==============================] - 0s 4ms/step - loss: 7.5574e-06 - accuracy: 1.0000 - auc: 1.0000\n",
      "Epoch 70/150\n",
      "97/97 [==============================] - 0s 4ms/step - loss: 7.0687e-06 - accuracy: 1.0000 - auc: 1.0000\n",
      "Epoch 71/150\n"
     ]
    },
    {
     "name": "stdout",
     "output_type": "stream",
     "text": [
      "97/97 [==============================] - 1s 6ms/step - loss: 6.6551e-06 - accuracy: 1.0000 - auc: 1.0000\n",
      "Epoch 72/150\n",
      "97/97 [==============================] - 1s 5ms/step - loss: 6.2588e-06 - accuracy: 1.0000 - auc: 1.0000\n",
      "Epoch 73/150\n",
      "97/97 [==============================] - 0s 4ms/step - loss: 5.8860e-06 - accuracy: 1.0000 - auc: 1.0000\n",
      "Epoch 74/150\n",
      "97/97 [==============================] - 0s 4ms/step - loss: 5.5399e-06 - accuracy: 1.0000 - auc: 1.0000\n",
      "Epoch 75/150\n",
      "97/97 [==============================] - 0s 4ms/step - loss: 5.2167e-06 - accuracy: 1.0000 - auc: 1.0000\n",
      "Epoch 76/150\n",
      "97/97 [==============================] - 0s 4ms/step - loss: 4.9148e-06 - accuracy: 1.0000 - auc: 1.0000\n",
      "Epoch 77/150\n",
      "97/97 [==============================] - 0s 4ms/step - loss: 4.6258e-06 - accuracy: 1.0000 - auc: 1.0000\n",
      "Epoch 78/150\n",
      "97/97 [==============================] - 0s 4ms/step - loss: 4.3683e-06 - accuracy: 1.0000 - auc: 1.0000\n",
      "Epoch 79/150\n",
      "97/97 [==============================] - 0s 5ms/step - loss: 4.1159e-06 - accuracy: 1.0000 - auc: 1.0000\n",
      "Epoch 80/150\n",
      "97/97 [==============================] - 0s 4ms/step - loss: 3.8806e-06 - accuracy: 1.0000 - auc: 1.0000\n",
      "Epoch 81/150\n",
      "97/97 [==============================] - 0s 5ms/step - loss: 3.6602e-06 - accuracy: 1.0000 - auc: 1.0000\n",
      "Epoch 82/150\n",
      "97/97 [==============================] - 0s 4ms/step - loss: 3.4557e-06 - accuracy: 1.0000 - auc: 1.0000\n",
      "Epoch 83/150\n",
      "97/97 [==============================] - 1s 7ms/step - loss: 3.2583e-06 - accuracy: 1.0000 - auc: 1.0000\n",
      "Epoch 84/150\n",
      "97/97 [==============================] - 1s 8ms/step - loss: 3.0733e-06 - accuracy: 1.0000 - auc: 1.0000\n",
      "Epoch 85/150\n",
      "97/97 [==============================] - 1s 6ms/step - loss: 2.9017e-06 - accuracy: 1.0000 - auc: 1.0000\n",
      "Epoch 86/150\n",
      "97/97 [==============================] - 0s 5ms/step - loss: 2.7370e-06 - accuracy: 1.0000 - auc: 1.0000\n",
      "Epoch 87/150\n",
      "97/97 [==============================] - 1s 7ms/step - loss: 2.5874e-06 - accuracy: 1.0000 - auc: 1.0000\n",
      "Epoch 88/150\n",
      "97/97 [==============================] - 1s 6ms/step - loss: 2.4440e-06 - accuracy: 1.0000 - auc: 1.0000\n",
      "Epoch 89/150\n",
      "97/97 [==============================] - 0s 4ms/step - loss: 2.3088e-06 - accuracy: 1.0000 - auc: 1.0000\n",
      "Epoch 90/150\n",
      "97/97 [==============================] - 0s 5ms/step - loss: 2.1784e-06 - accuracy: 1.0000 - auc: 1.0000\n",
      "Epoch 91/150\n",
      "97/97 [==============================] - 0s 4ms/step - loss: 2.0595e-06 - accuracy: 1.0000 - auc: 1.0000\n",
      "Epoch 92/150\n",
      "97/97 [==============================] - 0s 5ms/step - loss: 1.9446e-06 - accuracy: 1.0000 - auc: 1.0000\n",
      "Epoch 93/150\n",
      "97/97 [==============================] - 0s 4ms/step - loss: 1.8380e-06 - accuracy: 1.0000 - auc: 1.0000\n",
      "Epoch 94/150\n",
      "97/97 [==============================] - 1s 8ms/step - loss: 1.7373e-06 - accuracy: 1.0000 - auc: 1.0000\n",
      "Epoch 95/150\n",
      "97/97 [==============================] - 1s 6ms/step - loss: 1.6407e-06 - accuracy: 1.0000 - auc: 1.0000\n",
      "Epoch 96/150\n",
      "97/97 [==============================] - 0s 5ms/step - loss: 1.5519e-06 - accuracy: 1.0000 - auc: 1.0000\n",
      "Epoch 97/150\n",
      "97/97 [==============================] - 0s 4ms/step - loss: 1.4682e-06 - accuracy: 1.0000 - auc: 1.0000\n",
      "Epoch 98/150\n",
      "97/97 [==============================] - 0s 4ms/step - loss: 1.3881e-06 - accuracy: 1.0000 - auc: 1.0000\n",
      "Epoch 99/150\n",
      "97/97 [==============================] - 0s 4ms/step - loss: 1.3120e-06 - accuracy: 1.0000 - auc: 1.0000\n",
      "Epoch 100/150\n",
      "97/97 [==============================] - 0s 4ms/step - loss: 1.2417e-06 - accuracy: 1.0000 - auc: 1.0000\n",
      "Epoch 101/150\n",
      "97/97 [==============================] - 0s 4ms/step - loss: 1.1743e-06 - accuracy: 1.0000 - auc: 1.0000\n",
      "Epoch 102/150\n",
      "97/97 [==============================] - 0s 4ms/step - loss: 1.1102e-06 - accuracy: 1.0000 - auc: 1.0000\n",
      "Epoch 103/150\n",
      "97/97 [==============================] - 0s 4ms/step - loss: 1.0504e-06 - accuracy: 1.0000 - auc: 1.0000\n",
      "Epoch 104/150\n",
      "97/97 [==============================] - 0s 4ms/step - loss: 9.9289e-07 - accuracy: 1.0000 - auc: 1.0000\n",
      "Epoch 105/150\n",
      "97/97 [==============================] - 0s 4ms/step - loss: 9.4031e-07 - accuracy: 1.0000 - auc: 1.0000\n",
      "Epoch 106/150\n",
      "97/97 [==============================] - 0s 4ms/step - loss: 8.8900e-07 - accuracy: 1.0000 - auc: 1.0000\n",
      "Epoch 107/150\n",
      "97/97 [==============================] - 0s 4ms/step - loss: 8.4196e-07 - accuracy: 1.0000 - auc: 1.0000\n",
      "Epoch 108/150\n",
      "97/97 [==============================] - 0s 5ms/step - loss: 7.9648e-07 - accuracy: 1.0000 - auc: 1.0000\n",
      "Epoch 109/150\n",
      "97/97 [==============================] - 0s 4ms/step - loss: 7.5416e-07 - accuracy: 1.0000 - auc: 1.0000\n",
      "Epoch 110/150\n",
      "97/97 [==============================] - 0s 4ms/step - loss: 7.1404e-07 - accuracy: 1.0000 - auc: 1.0000\n",
      "Epoch 111/150\n",
      "97/97 [==============================] - 0s 4ms/step - loss: 6.7559e-07 - accuracy: 1.0000 - auc: 1.0000\n",
      "Epoch 112/150\n",
      "97/97 [==============================] - 0s 4ms/step - loss: 6.3969e-07 - accuracy: 1.0000 - auc: 1.0000\n",
      "Epoch 113/150\n",
      "97/97 [==============================] - 0s 4ms/step - loss: 6.0503e-07 - accuracy: 1.0000 - auc: 1.0000\n",
      "Epoch 114/150\n",
      "97/97 [==============================] - 0s 4ms/step - loss: 5.7283e-07 - accuracy: 1.0000 - auc: 1.0000\n",
      "Epoch 115/150\n",
      "97/97 [==============================] - 0s 4ms/step - loss: 5.4267e-07 - accuracy: 1.0000 - auc: 1.0000\n",
      "Epoch 116/150\n",
      "97/97 [==============================] - 0s 4ms/step - loss: 5.1394e-07 - accuracy: 1.0000 - auc: 1.0000\n",
      "Epoch 117/150\n",
      "97/97 [==============================] - 0s 5ms/step - loss: 4.8631e-07 - accuracy: 1.0000 - auc: 1.0000\n",
      "Epoch 118/150\n",
      "97/97 [==============================] - 1s 7ms/step - loss: 4.6046e-07 - accuracy: 1.0000 - auc: 1.0000\n",
      "Epoch 119/150\n",
      "97/97 [==============================] - 0s 5ms/step - loss: 4.3683e-07 - accuracy: 1.0000 - auc: 1.0000\n",
      "Epoch 120/150\n",
      "97/97 [==============================] - 0s 5ms/step - loss: 4.1299e-07 - accuracy: 1.0000 - auc: 1.0000\n",
      "Epoch 121/150\n",
      "97/97 [==============================] - 0s 4ms/step - loss: 3.9107e-07 - accuracy: 1.0000 - auc: 1.0000\n",
      "Epoch 122/150\n",
      "97/97 [==============================] - 0s 4ms/step - loss: 3.7060e-07 - accuracy: 1.0000 - auc: 1.0000\n",
      "Epoch 123/150\n",
      "97/97 [==============================] - 0s 4ms/step - loss: 3.5084e-07 - accuracy: 1.0000 - auc: 1.0000\n",
      "Epoch 124/150\n",
      "97/97 [==============================] - 0s 4ms/step - loss: 3.3287e-07 - accuracy: 1.0000 - auc: 1.0000\n",
      "Epoch 125/150\n",
      "97/97 [==============================] - 0s 4ms/step - loss: 3.1496e-07 - accuracy: 1.0000 - auc: 1.0000\n",
      "Epoch 126/150\n",
      "97/97 [==============================] - 0s 5ms/step - loss: 2.9835e-07 - accuracy: 1.0000 - auc: 1.0000\n",
      "Epoch 127/150\n",
      "97/97 [==============================] - 0s 5ms/step - loss: 2.8271e-07 - accuracy: 1.0000 - auc: 1.0000\n",
      "Epoch 128/150\n",
      "97/97 [==============================] - 0s 5ms/step - loss: 2.6803e-07 - accuracy: 1.0000 - auc: 1.0000\n",
      "Epoch 129/150\n",
      "97/97 [==============================] - 0s 5ms/step - loss: 2.5411e-07 - accuracy: 1.0000 - auc: 1.0000\n",
      "Epoch 130/150\n",
      "97/97 [==============================] - 0s 5ms/step - loss: 2.4054e-07 - accuracy: 1.0000 - auc: 1.0000\n",
      "Epoch 131/150\n",
      "97/97 [==============================] - 0s 5ms/step - loss: 2.2791e-07 - accuracy: 1.0000 - auc: 1.0000\n",
      "Epoch 132/150\n",
      "97/97 [==============================] - 0s 5ms/step - loss: 2.1608e-07 - accuracy: 1.0000 - auc: 1.0000\n",
      "Epoch 133/150\n",
      "97/97 [==============================] - 0s 5ms/step - loss: 2.0475e-07 - accuracy: 1.0000 - auc: 1.0000\n",
      "Epoch 134/150\n",
      "97/97 [==============================] - 0s 5ms/step - loss: 1.9413e-07 - accuracy: 1.0000 - auc: 1.0000\n",
      "Epoch 135/150\n",
      "97/97 [==============================] - 0s 5ms/step - loss: 1.8380e-07 - accuracy: 1.0000 - auc: 1.0000\n",
      "Epoch 136/150\n",
      "97/97 [==============================] - 0s 5ms/step - loss: 1.7420e-07 - accuracy: 1.0000 - auc: 1.0000\n",
      "Epoch 137/150\n",
      "97/97 [==============================] - 0s 5ms/step - loss: 1.6514e-07 - accuracy: 1.0000 - auc: 1.0000\n",
      "Epoch 138/150\n",
      "97/97 [==============================] - 0s 5ms/step - loss: 1.5655e-07 - accuracy: 1.0000 - auc: 1.0000\n",
      "Epoch 139/150\n",
      "97/97 [==============================] - 0s 5ms/step - loss: 1.4843e-07 - accuracy: 1.0000 - auc: 1.0000\n",
      "Epoch 140/150\n",
      "97/97 [==============================] - 0s 5ms/step - loss: 1.4053e-07 - accuracy: 1.0000 - auc: 1.0000\n",
      "Epoch 141/150\n",
      "97/97 [==============================] - 1s 6ms/step - loss: 1.3341e-07 - accuracy: 1.0000 - auc: 1.0000\n",
      "Epoch 142/150\n",
      "97/97 [==============================] - 1s 5ms/step - loss: 1.2654e-07 - accuracy: 1.0000 - auc: 1.0000\n",
      "Epoch 143/150\n",
      "97/97 [==============================] - 0s 5ms/step - loss: 1.1995e-07 - accuracy: 1.0000 - auc: 1.0000\n",
      "Epoch 144/150\n",
      "97/97 [==============================] - 0s 5ms/step - loss: 1.1381e-07 - accuracy: 1.0000 - auc: 1.0000\n",
      "Epoch 145/150\n",
      "97/97 [==============================] - 0s 5ms/step - loss: 1.0790e-07 - accuracy: 1.0000 - auc: 1.0000\n",
      "Epoch 146/150\n",
      "97/97 [==============================] - 0s 5ms/step - loss: 1.0232e-07 - accuracy: 1.0000 - auc: 1.0000\n",
      "Epoch 147/150\n",
      "97/97 [==============================] - 0s 5ms/step - loss: 9.6992e-08 - accuracy: 1.0000 - auc: 1.0000\n",
      "Epoch 148/150\n",
      "97/97 [==============================] - 0s 4ms/step - loss: 9.2353e-08 - accuracy: 1.0000 - auc: 1.0000\n",
      "Epoch 149/150\n",
      "97/97 [==============================] - 0s 4ms/step - loss: 8.7396e-08 - accuracy: 1.0000 - auc: 1.0000\n",
      "Epoch 150/150\n",
      "97/97 [==============================] - 0s 4ms/step - loss: 8.2921e-08 - accuracy: 1.0000 - auc: 1.0000\n",
      "CPU times: user 1min 24s, sys: 13.4 s, total: 1min 37s\n",
      "Wall time: 1min 9s\n"
     ]
    },
    {
     "data": {
      "text/plain": [
       "<tensorflow.python.keras.callbacks.History at 0x7f370c0a3990>"
      ]
     },
     "execution_count": 34,
     "metadata": {},
     "output_type": "execute_result"
    }
   ],
   "source": [
    "%%time\n",
    "model_raw_hog.fit(train_raw_hogs[hog_features], train_raw_hogs['target'],\n",
    "                  epochs=150, batch_size=10)"
   ]
  },
  {
   "cell_type": "markdown",
   "metadata": {},
   "source": [
    "#### Metrics per iteration for Dense Net"
   ]
  },
  {
   "cell_type": "code",
   "execution_count": 40,
   "metadata": {},
   "outputs": [
    {
     "data": {
      "image/png": "[encoded data removed]",
      "text/plain": [
       "<Figure size 432x288 with 1 Axes>"
      ]
     },
     "metadata": {
      "needs_background": "light"
     },
     "output_type": "display_data"
    }
   ],
   "source": [
    "plt.plot(model_raw_hog.history.history['auc']);\n",
    "plt.title('ROC-AUC per number of iterations');\n",
    "plt.xlabel('N iterations');\n",
    "plt.ylabel('ROC AUC');"
   ]
  },
  {
   "cell_type": "code",
   "execution_count": 41,
   "metadata": {},
   "outputs": [
    {
     "data": {
      "image/png": "[encoded data removed]",
      "text/plain": [
       "<Figure size 432x288 with 1 Axes>"
      ]
     },
     "metadata": {
      "needs_background": "light"
     },
     "output_type": "display_data"
    }
   ],
   "source": [
    "plt.plot(model_raw_hog.history.history['accuracy']);\n",
    "plt.title('Accuracy per number of iterations');\n",
    "plt.xlabel('N iterations');\n",
    "plt.ylabel('Accuracy');"
   ]
  },
  {
   "cell_type": "markdown",
   "metadata": {},
   "source": [
    "## Dense Net + PCA"
   ]
  },
  {
   "cell_type": "code",
   "execution_count": 42,
   "metadata": {},
   "outputs": [
    {
     "data": {
      "text/plain": [
       "(967, 500)"
      ]
     },
     "execution_count": 42,
     "metadata": {},
     "output_type": "execute_result"
    }
   ],
   "source": [
    "train_raw_hogs_transformed.shape"
   ]
  },
  {
   "cell_type": "code",
   "execution_count": 43,
   "metadata": {},
   "outputs": [],
   "source": [
    "model_raw_hog_pca = Sequential()\n",
    "model_raw_hog_pca.add(Dense(12, input_dim=500, activation='relu'))\n",
    "model_raw_hog_pca.add(Dense(8, activation='relu'))\n",
    "model_raw_hog_pca.add(Dense(1, activation='sigmoid'))"
   ]
  },
  {
   "cell_type": "code",
   "execution_count": 44,
   "metadata": {},
   "outputs": [
    {
     "name": "stdout",
     "output_type": "stream",
     "text": [
      "Model: \"sequential_2\"\n",
      "_________________________________________________________________\n",
      "Layer (type)                 Output Shape              Param #   \n",
      "=================================================================\n",
      "dense_6 (Dense)              (None, 12)                6012      \n",
      "_________________________________________________________________\n",
      "dense_7 (Dense)              (None, 8)                 104       \n",
      "_________________________________________________________________\n",
      "dense_8 (Dense)              (None, 1)                 9         \n",
      "=================================================================\n",
      "Total params: 6,125\n",
      "Trainable params: 6,125\n",
      "Non-trainable params: 0\n",
      "_________________________________________________________________\n"
     ]
    }
   ],
   "source": [
    "model_raw_hog_pca.summary()"
   ]
  },
  {
   "cell_type": "code",
   "execution_count": 45,
   "metadata": {},
   "outputs": [],
   "source": [
    "model_raw_hog_pca.compile(loss='binary_crossentropy', optimizer='adam',\n",
    "                          metrics=['accuracy', 'AUC'])"
   ]
  },
  {
   "cell_type": "code",
   "execution_count": 46,
   "metadata": {},
   "outputs": [
    {
     "name": "stdout",
     "output_type": "stream",
     "text": [
      "Epoch 1/150\n",
      "97/97 [==============================] - 0s 3ms/step - loss: 0.5455 - accuracy: 0.7239 - auc: 0.6678\n",
      "Epoch 2/150\n",
      "97/97 [==============================] - 0s 3ms/step - loss: 0.4110 - accuracy: 0.8014 - auc: 0.8361\n",
      "Epoch 3/150\n",
      "97/97 [==============================] - 0s 3ms/step - loss: 0.3543 - accuracy: 0.8170 - auc: 0.9083\n",
      "Epoch 4/150\n",
      "97/97 [==============================] - 0s 3ms/step - loss: 0.2916 - accuracy: 0.8728 - auc: 0.9607\n",
      "Epoch 5/150\n",
      "97/97 [==============================] - 0s 3ms/step - loss: 0.2185 - accuracy: 0.9307 - auc: 0.9831\n",
      "Epoch 6/150\n",
      "97/97 [==============================] - 0s 3ms/step - loss: 0.1460 - accuracy: 0.9710 - auc: 0.9941\n",
      "Epoch 7/150\n",
      "97/97 [==============================] - 1s 6ms/step - loss: 0.0889 - accuracy: 0.9835 - auc: 0.9987\n",
      "Epoch 8/150\n",
      "97/97 [==============================] - 0s 5ms/step - loss: 0.0552 - accuracy: 0.9907 - auc: 0.9996\n",
      "Epoch 9/150\n",
      "97/97 [==============================] - 0s 3ms/step - loss: 0.0355 - accuracy: 0.9928 - auc: 0.9999\n",
      "Epoch 10/150\n",
      "97/97 [==============================] - 0s 3ms/step - loss: 0.0238 - accuracy: 0.9959 - auc: 1.0000\n",
      "Epoch 11/150\n",
      "97/97 [==============================] - 0s 3ms/step - loss: 0.0170 - accuracy: 0.9959 - auc: 1.0000\n",
      "Epoch 12/150\n",
      "97/97 [==============================] - 0s 3ms/step - loss: 0.0129 - accuracy: 0.9959 - auc: 1.0000\n",
      "Epoch 13/150\n",
      "97/97 [==============================] - 0s 3ms/step - loss: 0.0104 - accuracy: 0.9959 - auc: 1.0000\n",
      "Epoch 14/150\n",
      "97/97 [==============================] - 0s 3ms/step - loss: 0.0087 - accuracy: 0.9959 - auc: 1.0000\n",
      "Epoch 15/150\n",
      "97/97 [==============================] - 0s 3ms/step - loss: 0.0075 - accuracy: 0.9959 - auc: 1.0000\n",
      "Epoch 16/150\n",
      "97/97 [==============================] - 0s 3ms/step - loss: 0.0065 - accuracy: 0.9959 - auc: 1.0000\n",
      "Epoch 17/150\n",
      "97/97 [==============================] - 0s 3ms/step - loss: 0.0058 - accuracy: 0.9959 - auc: 1.0000\n",
      "Epoch 18/150\n",
      "97/97 [==============================] - 0s 3ms/step - loss: 0.0052 - accuracy: 1.0000 - auc: 1.0000\n",
      "Epoch 19/150\n",
      "97/97 [==============================] - 0s 3ms/step - loss: 0.0047 - accuracy: 1.0000 - auc: 1.0000\n",
      "Epoch 20/150\n",
      "97/97 [==============================] - 0s 3ms/step - loss: 0.0042 - accuracy: 1.0000 - auc: 1.0000\n",
      "Epoch 21/150\n",
      "97/97 [==============================] - 0s 3ms/step - loss: 0.0039 - accuracy: 1.0000 - auc: 1.0000\n",
      "Epoch 22/150\n",
      "97/97 [==============================] - 0s 3ms/step - loss: 0.0036 - accuracy: 1.0000 - auc: 1.0000\n",
      "Epoch 23/150\n",
      "97/97 [==============================] - 0s 3ms/step - loss: 0.0033 - accuracy: 1.0000 - auc: 1.0000\n",
      "Epoch 24/150\n",
      "97/97 [==============================] - 0s 3ms/step - loss: 0.0030 - accuracy: 1.0000 - auc: 1.0000\n",
      "Epoch 25/150\n",
      "97/97 [==============================] - 0s 3ms/step - loss: 0.0028 - accuracy: 1.0000 - auc: 1.0000\n",
      "Epoch 26/150\n",
      "97/97 [==============================] - 0s 3ms/step - loss: 0.0026 - accuracy: 1.0000 - auc: 1.0000\n",
      "Epoch 27/150\n",
      "97/97 [==============================] - 0s 3ms/step - loss: 0.0024 - accuracy: 1.0000 - auc: 1.0000\n",
      "Epoch 28/150\n",
      "97/97 [==============================] - 0s 4ms/step - loss: 0.0023 - accuracy: 1.0000 - auc: 1.0000\n",
      "Epoch 29/150\n",
      "97/97 [==============================] - 0s 4ms/step - loss: 0.0021 - accuracy: 1.0000 - auc: 1.0000\n",
      "Epoch 30/150\n",
      "97/97 [==============================] - 0s 4ms/step - loss: 0.0020 - accuracy: 1.0000 - auc: 1.0000\n",
      "Epoch 31/150\n",
      "97/97 [==============================] - 0s 3ms/step - loss: 0.0019 - accuracy: 1.0000 - auc: 1.0000\n",
      "Epoch 32/150\n",
      "97/97 [==============================] - 0s 3ms/step - loss: 0.0017 - accuracy: 1.0000 - auc: 1.0000\n",
      "Epoch 33/150\n",
      "97/97 [==============================] - 0s 3ms/step - loss: 0.0016 - accuracy: 1.0000 - auc: 1.0000\n",
      "Epoch 34/150\n",
      "97/97 [==============================] - 0s 3ms/step - loss: 0.0015 - accuracy: 1.0000 - auc: 1.0000\n",
      "Epoch 35/150\n",
      "97/97 [==============================] - 0s 3ms/step - loss: 0.0014 - accuracy: 1.0000 - auc: 1.0000\n",
      "Epoch 36/150\n",
      "97/97 [==============================] - 0s 3ms/step - loss: 0.0013 - accuracy: 1.0000 - auc: 1.0000\n",
      "Epoch 37/150\n",
      "97/97 [==============================] - 0s 3ms/step - loss: 0.0012 - accuracy: 1.0000 - auc: 1.0000\n",
      "Epoch 38/150\n",
      "97/97 [==============================] - 0s 3ms/step - loss: 0.0012 - accuracy: 1.0000 - auc: 1.0000\n",
      "Epoch 39/150\n",
      "97/97 [==============================] - 0s 3ms/step - loss: 0.0011 - accuracy: 1.0000 - auc: 1.0000\n",
      "Epoch 40/150\n",
      "97/97 [==============================] - 0s 3ms/step - loss: 0.0010 - accuracy: 1.0000 - auc: 1.0000\n",
      "Epoch 41/150\n",
      "97/97 [==============================] - 0s 3ms/step - loss: 9.5315e-04 - accuracy: 1.0000 - auc: 1.0000\n",
      "Epoch 42/150\n",
      "97/97 [==============================] - 0s 3ms/step - loss: 9.0301e-04 - accuracy: 1.0000 - auc: 1.0000\n",
      "Epoch 43/150\n",
      "97/97 [==============================] - 0s 3ms/step - loss: 8.4522e-04 - accuracy: 1.0000 - auc: 1.0000\n",
      "Epoch 44/150\n",
      "97/97 [==============================] - 0s 3ms/step - loss: 7.9179e-04 - accuracy: 1.0000 - auc: 1.0000\n",
      "Epoch 45/150\n",
      "97/97 [==============================] - 0s 3ms/step - loss: 7.4173e-04 - accuracy: 1.0000 - auc: 1.0000\n",
      "Epoch 46/150\n",
      "97/97 [==============================] - 0s 3ms/step - loss: 6.9345e-04 - accuracy: 1.0000 - auc: 1.0000\n",
      "Epoch 47/150\n",
      "97/97 [==============================] - 0s 3ms/step - loss: 6.5248e-04 - accuracy: 1.0000 - auc: 1.0000\n",
      "Epoch 48/150\n",
      "97/97 [==============================] - 0s 3ms/step - loss: 6.2206e-04 - accuracy: 1.0000 - auc: 1.0000\n",
      "Epoch 49/150\n",
      "97/97 [==============================] - 0s 3ms/step - loss: 5.8945e-04 - accuracy: 1.0000 - auc: 1.0000\n",
      "Epoch 50/150\n",
      "97/97 [==============================] - 0s 3ms/step - loss: 5.5941e-04 - accuracy: 1.0000 - auc: 1.0000\n",
      "Epoch 51/150\n",
      "97/97 [==============================] - 0s 3ms/step - loss: 5.3047e-04 - accuracy: 1.0000 - auc: 1.0000\n",
      "Epoch 52/150\n",
      "97/97 [==============================] - 0s 3ms/step - loss: 5.0238e-04 - accuracy: 1.0000 - auc: 1.0000\n",
      "Epoch 53/150\n",
      "97/97 [==============================] - 0s 3ms/step - loss: 4.7939e-04 - accuracy: 1.0000 - auc: 1.0000\n",
      "Epoch 54/150\n",
      "97/97 [==============================] - 0s 3ms/step - loss: 4.5439e-04 - accuracy: 1.0000 - auc: 1.0000\n",
      "Epoch 55/150\n",
      "97/97 [==============================] - 0s 3ms/step - loss: 4.3181e-04 - accuracy: 1.0000 - auc: 1.0000\n",
      "Epoch 56/150\n",
      "97/97 [==============================] - 0s 3ms/step - loss: 4.0899e-04 - accuracy: 1.0000 - auc: 1.0000\n",
      "Epoch 57/150\n",
      "97/97 [==============================] - 0s 3ms/step - loss: 3.8710e-04 - accuracy: 1.0000 - auc: 1.0000\n",
      "Epoch 58/150\n",
      "97/97 [==============================] - 0s 3ms/step - loss: 3.6677e-04 - accuracy: 1.0000 - auc: 1.0000\n",
      "Epoch 59/150\n",
      "97/97 [==============================] - 0s 3ms/step - loss: 3.4712e-04 - accuracy: 1.0000 - auc: 1.0000\n",
      "Epoch 60/150\n",
      "97/97 [==============================] - 0s 3ms/step - loss: 3.2891e-04 - accuracy: 1.0000 - auc: 1.0000\n",
      "Epoch 61/150\n",
      "97/97 [==============================] - 0s 3ms/step - loss: 3.1399e-04 - accuracy: 1.0000 - auc: 1.0000\n",
      "Epoch 62/150\n",
      "97/97 [==============================] - 0s 3ms/step - loss: 2.9872e-04 - accuracy: 1.0000 - auc: 1.0000\n",
      "Epoch 63/150\n",
      "97/97 [==============================] - 0s 3ms/step - loss: 2.8228e-04 - accuracy: 1.0000 - auc: 1.0000\n",
      "Epoch 64/150\n",
      "97/97 [==============================] - 0s 5ms/step - loss: 2.6593e-04 - accuracy: 1.0000 - auc: 1.0000\n",
      "Epoch 65/150\n",
      "97/97 [==============================] - 0s 4ms/step - loss: 2.5149e-04 - accuracy: 1.0000 - auc: 1.0000\n",
      "Epoch 66/150\n",
      "97/97 [==============================] - 0s 3ms/step - loss: 2.3811e-04 - accuracy: 1.0000 - auc: 1.0000\n",
      "Epoch 67/150\n",
      "97/97 [==============================] - 0s 3ms/step - loss: 2.2534e-04 - accuracy: 1.0000 - auc: 1.0000\n",
      "Epoch 68/150\n",
      "97/97 [==============================] - 0s 3ms/step - loss: 2.1383e-04 - accuracy: 1.0000 - auc: 1.0000\n",
      "Epoch 69/150\n",
      "97/97 [==============================] - 0s 3ms/step - loss: 2.0192e-04 - accuracy: 1.0000 - auc: 1.0000\n",
      "Epoch 70/150\n",
      "97/97 [==============================] - 0s 3ms/step - loss: 1.9138e-04 - accuracy: 1.0000 - auc: 1.0000\n",
      "Epoch 71/150\n",
      "97/97 [==============================] - 0s 3ms/step - loss: 1.8036e-04 - accuracy: 1.0000 - auc: 1.0000\n",
      "Epoch 72/150\n",
      "97/97 [==============================] - 0s 3ms/step - loss: 1.7040e-04 - accuracy: 1.0000 - auc: 1.0000\n",
      "Epoch 73/150\n",
      "97/97 [==============================] - 0s 3ms/step - loss: 1.6082e-04 - accuracy: 1.0000 - auc: 1.0000\n",
      "Epoch 74/150\n",
      "97/97 [==============================] - 0s 3ms/step - loss: 1.5284e-04 - accuracy: 1.0000 - auc: 1.0000\n",
      "Epoch 75/150\n",
      "97/97 [==============================] - 0s 3ms/step - loss: 1.4464e-04 - accuracy: 1.0000 - auc: 1.0000\n",
      "Epoch 76/150\n",
      "97/97 [==============================] - 0s 3ms/step - loss: 1.3667e-04 - accuracy: 1.0000 - auc: 1.0000\n",
      "Epoch 77/150\n",
      "97/97 [==============================] - 0s 5ms/step - loss: 1.2966e-04 - accuracy: 1.0000 - auc: 1.0000\n",
      "Epoch 78/150\n",
      "97/97 [==============================] - 0s 5ms/step - loss: 1.2257e-04 - accuracy: 1.0000 - auc: 1.0000\n",
      "Epoch 79/150\n",
      "97/97 [==============================] - 0s 4ms/step - loss: 1.1593e-04 - accuracy: 1.0000 - auc: 1.0000\n",
      "Epoch 80/150\n",
      "97/97 [==============================] - 0s 3ms/step - loss: 1.0989e-04 - accuracy: 1.0000 - auc: 1.0000\n",
      "Epoch 81/150\n",
      "97/97 [==============================] - 0s 3ms/step - loss: 1.0417e-04 - accuracy: 1.0000 - auc: 1.0000\n",
      "Epoch 82/150\n",
      "97/97 [==============================] - 0s 3ms/step - loss: 9.8950e-05 - accuracy: 1.0000 - auc: 1.0000\n",
      "Epoch 83/150\n",
      "97/97 [==============================] - 0s 3ms/step - loss: 9.3337e-05 - accuracy: 1.0000 - auc: 1.0000\n",
      "Epoch 84/150\n",
      "97/97 [==============================] - 0s 4ms/step - loss: 8.8163e-05 - accuracy: 1.0000 - auc: 1.0000\n",
      "Epoch 85/150\n",
      "97/97 [==============================] - 1s 5ms/step - loss: 8.3697e-05 - accuracy: 1.0000 - auc: 1.0000\n",
      "Epoch 86/150\n",
      "97/97 [==============================] - 0s 3ms/step - loss: 7.9195e-05 - accuracy: 1.0000 - auc: 1.0000\n",
      "Epoch 87/150\n",
      "97/97 [==============================] - 0s 3ms/step - loss: 7.4977e-05 - accuracy: 1.0000 - auc: 1.0000\n",
      "Epoch 88/150\n",
      "97/97 [==============================] - 0s 3ms/step - loss: 7.0993e-05 - accuracy: 1.0000 - auc: 1.0000\n",
      "Epoch 89/150\n",
      "97/97 [==============================] - 0s 3ms/step - loss: 6.7573e-05 - accuracy: 1.0000 - auc: 1.0000\n",
      "Epoch 90/150\n",
      "97/97 [==============================] - 0s 3ms/step - loss: 6.3657e-05 - accuracy: 1.0000 - auc: 1.0000\n",
      "Epoch 91/150\n",
      "97/97 [==============================] - 0s 4ms/step - loss: 6.0489e-05 - accuracy: 1.0000 - auc: 1.0000\n",
      "Epoch 92/150\n",
      "97/97 [==============================] - 0s 3ms/step - loss: 5.7082e-05 - accuracy: 1.0000 - auc: 1.0000\n",
      "Epoch 93/150\n",
      "97/97 [==============================] - 0s 3ms/step - loss: 5.3964e-05 - accuracy: 1.0000 - auc: 1.0000\n",
      "Epoch 94/150\n",
      "97/97 [==============================] - 0s 3ms/step - loss: 5.1178e-05 - accuracy: 1.0000 - auc: 1.0000\n",
      "Epoch 95/150\n",
      "97/97 [==============================] - 0s 3ms/step - loss: 4.8311e-05 - accuracy: 1.0000 - auc: 1.0000\n",
      "Epoch 96/150\n",
      "97/97 [==============================] - 0s 3ms/step - loss: 4.5857e-05 - accuracy: 1.0000 - auc: 1.0000\n",
      "Epoch 97/150\n",
      "97/97 [==============================] - 0s 3ms/step - loss: 4.3439e-05 - accuracy: 1.0000 - auc: 1.0000\n",
      "Epoch 98/150\n",
      "97/97 [==============================] - 0s 5ms/step - loss: 4.1111e-05 - accuracy: 1.0000 - auc: 1.0000\n",
      "Epoch 99/150\n",
      "97/97 [==============================] - 0s 4ms/step - loss: 3.8941e-05 - accuracy: 1.0000 - auc: 1.0000\n",
      "Epoch 100/150\n",
      "97/97 [==============================] - 0s 4ms/step - loss: 3.6962e-05 - accuracy: 1.0000 - auc: 1.0000\n",
      "Epoch 101/150\n",
      "97/97 [==============================] - 0s 3ms/step - loss: 3.5338e-05 - accuracy: 1.0000 - auc: 1.0000\n",
      "Epoch 102/150\n",
      "97/97 [==============================] - 0s 3ms/step - loss: 3.3110e-05 - accuracy: 1.0000 - auc: 1.0000\n",
      "Epoch 103/150\n",
      "97/97 [==============================] - 0s 4ms/step - loss: 3.1357e-05 - accuracy: 1.0000 - auc: 1.0000\n",
      "Epoch 104/150\n",
      "97/97 [==============================] - 0s 3ms/step - loss: 2.9726e-05 - accuracy: 1.0000 - auc: 1.0000\n",
      "Epoch 105/150\n",
      "97/97 [==============================] - 0s 5ms/step - loss: 2.8240e-05 - accuracy: 1.0000 - auc: 1.0000\n",
      "Epoch 106/150\n",
      "97/97 [==============================] - 0s 5ms/step - loss: 2.6632e-05 - accuracy: 1.0000 - auc: 1.0000\n",
      "Epoch 107/150\n",
      "97/97 [==============================] - 0s 3ms/step - loss: 2.5357e-05 - accuracy: 1.0000 - auc: 1.0000\n",
      "Epoch 108/150\n",
      "97/97 [==============================] - 0s 3ms/step - loss: 2.4004e-05 - accuracy: 1.0000 - auc: 1.0000\n",
      "Epoch 109/150\n",
      "97/97 [==============================] - 0s 3ms/step - loss: 2.2657e-05 - accuracy: 1.0000 - auc: 1.0000\n",
      "Epoch 110/150\n",
      "97/97 [==============================] - 0s 3ms/step - loss: 2.1530e-05 - accuracy: 1.0000 - auc: 1.0000\n",
      "Epoch 111/150\n",
      "97/97 [==============================] - 0s 3ms/step - loss: 2.0416e-05 - accuracy: 1.0000 - auc: 1.0000\n",
      "Epoch 112/150\n",
      "97/97 [==============================] - 0s 3ms/step - loss: 1.9344e-05 - accuracy: 1.0000 - auc: 1.0000\n",
      "Epoch 113/150\n",
      "97/97 [==============================] - 0s 3ms/step - loss: 1.8334e-05 - accuracy: 1.0000 - auc: 1.0000\n",
      "Epoch 114/150\n",
      "97/97 [==============================] - 0s 3ms/step - loss: 1.7372e-05 - accuracy: 1.0000 - auc: 1.0000\n",
      "Epoch 115/150\n",
      "97/97 [==============================] - 0s 3ms/step - loss: 1.6496e-05 - accuracy: 1.0000 - auc: 1.0000\n",
      "Epoch 116/150\n",
      "97/97 [==============================] - 0s 3ms/step - loss: 1.5619e-05 - accuracy: 1.0000 - auc: 1.0000\n",
      "Epoch 117/150\n",
      "97/97 [==============================] - 0s 3ms/step - loss: 1.4760e-05 - accuracy: 1.0000 - auc: 1.0000\n",
      "Epoch 118/150\n",
      "97/97 [==============================] - 0s 4ms/step - loss: 1.4057e-05 - accuracy: 1.0000 - auc: 1.0000\n",
      "Epoch 119/150\n",
      "97/97 [==============================] - 0s 3ms/step - loss: 1.3278e-05 - accuracy: 1.0000 - auc: 1.0000\n",
      "Epoch 120/150\n",
      "97/97 [==============================] - 0s 3ms/step - loss: 1.2595e-05 - accuracy: 1.0000 - auc: 1.0000\n",
      "Epoch 121/150\n",
      "97/97 [==============================] - 0s 3ms/step - loss: 1.1938e-05 - accuracy: 1.0000 - auc: 1.0000\n",
      "Epoch 122/150\n",
      "97/97 [==============================] - 0s 3ms/step - loss: 1.1326e-05 - accuracy: 1.0000 - auc: 1.0000\n",
      "Epoch 123/150\n",
      "97/97 [==============================] - 0s 3ms/step - loss: 1.0777e-05 - accuracy: 1.0000 - auc: 1.0000\n",
      "Epoch 124/150\n",
      "97/97 [==============================] - 0s 3ms/step - loss: 1.0184e-05 - accuracy: 1.0000 - auc: 1.0000\n",
      "Epoch 125/150\n",
      "97/97 [==============================] - 0s 3ms/step - loss: 9.6689e-06 - accuracy: 1.0000 - auc: 1.0000\n",
      "Epoch 126/150\n",
      "97/97 [==============================] - 0s 3ms/step - loss: 9.2112e-06 - accuracy: 1.0000 - auc: 1.0000\n",
      "Epoch 127/150\n",
      "97/97 [==============================] - 0s 3ms/step - loss: 8.6885e-06 - accuracy: 1.0000 - auc: 1.0000\n",
      "Epoch 128/150\n",
      "97/97 [==============================] - 0s 3ms/step - loss: 8.2265e-06 - accuracy: 1.0000 - auc: 1.0000\n",
      "Epoch 129/150\n",
      "97/97 [==============================] - 0s 5ms/step - loss: 7.8760e-06 - accuracy: 1.0000 - auc: 1.0000\n",
      "Epoch 130/150\n",
      "97/97 [==============================] - 0s 5ms/step - loss: 7.4035e-06 - accuracy: 1.0000 - auc: 1.0000\n",
      "Epoch 131/150\n",
      "97/97 [==============================] - 0s 3ms/step - loss: 7.0274e-06 - accuracy: 1.0000 - auc: 1.0000\n",
      "Epoch 132/150\n",
      "97/97 [==============================] - 0s 3ms/step - loss: 6.6656e-06 - accuracy: 1.0000 - auc: 1.0000\n",
      "Epoch 133/150\n",
      "97/97 [==============================] - 0s 3ms/step - loss: 6.3187e-06 - accuracy: 1.0000 - auc: 1.0000\n",
      "Epoch 134/150\n",
      "97/97 [==============================] - 0s 3ms/step - loss: 5.9888e-06 - accuracy: 1.0000 - auc: 1.0000\n",
      "Epoch 135/150\n",
      "97/97 [==============================] - 0s 3ms/step - loss: 5.6809e-06 - accuracy: 1.0000 - auc: 1.0000\n",
      "Epoch 136/150\n",
      "97/97 [==============================] - 0s 3ms/step - loss: 5.4224e-06 - accuracy: 1.0000 - auc: 1.0000\n",
      "Epoch 137/150\n",
      "97/97 [==============================] - 0s 3ms/step - loss: 5.1160e-06 - accuracy: 1.0000 - auc: 1.0000\n",
      "Epoch 138/150\n",
      "97/97 [==============================] - 0s 3ms/step - loss: 4.8621e-06 - accuracy: 1.0000 - auc: 1.0000\n",
      "Epoch 139/150\n",
      "97/97 [==============================] - 0s 3ms/step - loss: 4.6450e-06 - accuracy: 1.0000 - auc: 1.0000\n",
      "Epoch 140/150\n"
     ]
    },
    {
     "name": "stdout",
     "output_type": "stream",
     "text": [
      "97/97 [==============================] - 0s 3ms/step - loss: 4.4024e-06 - accuracy: 1.0000 - auc: 1.0000\n",
      "Epoch 141/150\n",
      "97/97 [==============================] - 0s 3ms/step - loss: 4.1895e-06 - accuracy: 1.0000 - auc: 1.0000\n",
      "Epoch 142/150\n",
      "97/97 [==============================] - 0s 3ms/step - loss: 3.9635e-06 - accuracy: 1.0000 - auc: 1.0000\n",
      "Epoch 143/150\n",
      "97/97 [==============================] - 0s 3ms/step - loss: 3.7565e-06 - accuracy: 1.0000 - auc: 1.0000\n",
      "Epoch 144/150\n",
      "97/97 [==============================] - 0s 3ms/step - loss: 3.5619e-06 - accuracy: 1.0000 - auc: 1.0000\n",
      "Epoch 145/150\n",
      "97/97 [==============================] - 0s 3ms/step - loss: 3.3925e-06 - accuracy: 1.0000 - auc: 1.0000\n",
      "Epoch 146/150\n",
      "97/97 [==============================] - 0s 3ms/step - loss: 3.2073e-06 - accuracy: 1.0000 - auc: 1.0000\n",
      "Epoch 147/150\n",
      "97/97 [==============================] - 0s 3ms/step - loss: 3.0418e-06 - accuracy: 1.0000 - auc: 1.0000\n",
      "Epoch 148/150\n",
      "97/97 [==============================] - 0s 3ms/step - loss: 2.8934e-06 - accuracy: 1.0000 - auc: 1.0000\n",
      "Epoch 149/150\n",
      "97/97 [==============================] - 0s 3ms/step - loss: 2.7338e-06 - accuracy: 1.0000 - auc: 1.0000\n",
      "Epoch 150/150\n",
      "97/97 [==============================] - 0s 3ms/step - loss: 2.5934e-06 - accuracy: 1.0000 - auc: 1.0000\n",
      "CPU times: user 59.9 s, sys: 8.36 s, total: 1min 8s\n",
      "Wall time: 49.3 s\n"
     ]
    },
    {
     "data": {
      "text/plain": [
       "<tensorflow.python.keras.callbacks.History at 0x7f370ccb37d0>"
      ]
     },
     "execution_count": 46,
     "metadata": {},
     "output_type": "execute_result"
    }
   ],
   "source": [
    "%%time\n",
    "model_raw_hog_pca.fit(train_raw_hogs_transformed, train_raw_hogs['target'],\n",
    "                  epochs=150, batch_size=10)"
   ]
  },
  {
   "cell_type": "markdown",
   "metadata": {},
   "source": [
    "#### Metrics per iteration for Dense Net + PCA"
   ]
  },
  {
   "cell_type": "code",
   "execution_count": 47,
   "metadata": {},
   "outputs": [
    {
     "data": {
      "image/png": "[encoded data removed]",
      "text/plain": [
       "<Figure size 432x288 with 1 Axes>"
      ]
     },
     "metadata": {
      "needs_background": "light"
     },
     "output_type": "display_data"
    }
   ],
   "source": [
    "plt.plot(model_raw_hog_pca.history.history['auc']);\n",
    "plt.title('ROC-AUC per number of iterations');\n",
    "plt.xlabel('N iterations');\n",
    "plt.ylabel('ROC AUC');"
   ]
  },
  {
   "cell_type": "code",
   "execution_count": 48,
   "metadata": {},
   "outputs": [
    {
     "data": {
      "image/png": "[encoded data removed]",
      "text/plain": [
       "<Figure size 432x288 with 1 Axes>"
      ]
     },
     "metadata": {
      "needs_background": "light"
     },
     "output_type": "display_data"
    }
   ],
   "source": [
    "plt.plot(model_raw_hog_pca.history.history['accuracy']);\n",
    "plt.title('Accuracy per number of iterations');\n",
    "plt.xlabel('N iterations');\n",
    "plt.ylabel('Accuracy');"
   ]
  },
  {
   "cell_type": "markdown",
   "metadata": {},
   "source": [
    "# Viola-Jones + Hog Embeddings"
   ]
  },
  {
   "cell_type": "code",
   "execution_count": 49,
   "metadata": {},
   "outputs": [],
   "source": [
    "train_viola_jones_hogs = pd.read_csv('/kaggle/input/lab3-viola-jones-hog-embeddings/viola_jones_3_3_hog_embeddings_train.csv')\n",
    "test_viola_jones_hogs = pd.read_csv('/kaggle/input/lab3-viola-jones-hog-embeddings/viola_jones_3_3_hog_embeddings_test.csv')"
   ]
  },
  {
   "cell_type": "code",
   "execution_count": 50,
   "metadata": {},
   "outputs": [
    {
     "data": {
      "text/html": [
       "<div>\n",
       "<style scoped>\n",
       "    .dataframe tbody tr th:only-of-type {\n",
       "        vertical-align: middle;\n",
       "    }\n",
       "\n",
       "    .dataframe tbody tr th {\n",
       "        vertical-align: top;\n",
       "    }\n",
       "\n",
       "    .dataframe thead th {\n",
       "        text-align: right;\n",
       "    }\n",
       "</style>\n",
       "<table border=\"1\" class=\"dataframe\">\n",
       "  <thead>\n",
       "    <tr style=\"text-align: right;\">\n",
       "      <th></th>\n",
       "      <th>image_name</th>\n",
       "      <th>target</th>\n",
       "      <th>0</th>\n",
       "      <th>1</th>\n",
       "      <th>2</th>\n",
       "      <th>3</th>\n",
       "      <th>4</th>\n",
       "      <th>5</th>\n",
       "      <th>6</th>\n",
       "      <th>7</th>\n",
       "      <th>...</th>\n",
       "      <th>24326</th>\n",
       "      <th>24327</th>\n",
       "      <th>24328</th>\n",
       "      <th>24329</th>\n",
       "      <th>24330</th>\n",
       "      <th>24331</th>\n",
       "      <th>24332</th>\n",
       "      <th>24333</th>\n",
       "      <th>24334</th>\n",
       "      <th>24335</th>\n",
       "    </tr>\n",
       "  </thead>\n",
       "  <tbody>\n",
       "    <tr>\n",
       "      <th>0</th>\n",
       "      <td>/kaggle/input/real-and-fake-face-detection/rea...</td>\n",
       "      <td>0</td>\n",
       "      <td>NaN</td>\n",
       "      <td>NaN</td>\n",
       "      <td>NaN</td>\n",
       "      <td>NaN</td>\n",
       "      <td>NaN</td>\n",
       "      <td>NaN</td>\n",
       "      <td>NaN</td>\n",
       "      <td>NaN</td>\n",
       "      <td>...</td>\n",
       "      <td>NaN</td>\n",
       "      <td>NaN</td>\n",
       "      <td>NaN</td>\n",
       "      <td>NaN</td>\n",
       "      <td>NaN</td>\n",
       "      <td>NaN</td>\n",
       "      <td>NaN</td>\n",
       "      <td>NaN</td>\n",
       "      <td>NaN</td>\n",
       "      <td>NaN</td>\n",
       "    </tr>\n",
       "    <tr>\n",
       "      <th>1</th>\n",
       "      <td>/kaggle/input/real-and-fake-face-detection/rea...</td>\n",
       "      <td>0</td>\n",
       "      <td>0.323051</td>\n",
       "      <td>0.123716</td>\n",
       "      <td>0.10009</td>\n",
       "      <td>0.136105</td>\n",
       "      <td>0.323051</td>\n",
       "      <td>0.308274</td>\n",
       "      <td>0.030495</td>\n",
       "      <td>0.231455</td>\n",
       "      <td>...</td>\n",
       "      <td>0.005944</td>\n",
       "      <td>0.196936</td>\n",
       "      <td>0.0</td>\n",
       "      <td>0.142117</td>\n",
       "      <td>0.031834</td>\n",
       "      <td>0.286887</td>\n",
       "      <td>0.022326</td>\n",
       "      <td>0.017426</td>\n",
       "      <td>0.013486</td>\n",
       "      <td>0.286887</td>\n",
       "    </tr>\n",
       "  </tbody>\n",
       "</table>\n",
       "<p>2 rows × 24338 columns</p>\n",
       "</div>"
      ],
      "text/plain": [
       "                                          image_name  target         0  \\\n",
       "0  /kaggle/input/real-and-fake-face-detection/rea...       0       NaN   \n",
       "1  /kaggle/input/real-and-fake-face-detection/rea...       0  0.323051   \n",
       "\n",
       "          1        2         3         4         5         6         7  ...  \\\n",
       "0       NaN      NaN       NaN       NaN       NaN       NaN       NaN  ...   \n",
       "1  0.123716  0.10009  0.136105  0.323051  0.308274  0.030495  0.231455  ...   \n",
       "\n",
       "      24326     24327  24328     24329     24330     24331     24332  \\\n",
       "0       NaN       NaN    NaN       NaN       NaN       NaN       NaN   \n",
       "1  0.005944  0.196936    0.0  0.142117  0.031834  0.286887  0.022326   \n",
       "\n",
       "      24333     24334     24335  \n",
       "0       NaN       NaN       NaN  \n",
       "1  0.017426  0.013486  0.286887  \n",
       "\n",
       "[2 rows x 24338 columns]"
      ]
     },
     "execution_count": 50,
     "metadata": {},
     "output_type": "execute_result"
    }
   ],
   "source": [
    "train_viola_jones_hogs.head(2)"
   ]
  },
  {
   "cell_type": "code",
   "execution_count": 51,
   "metadata": {},
   "outputs": [
    {
     "data": {
      "text/plain": [
       "(967, 24338)"
      ]
     },
     "execution_count": 51,
     "metadata": {},
     "output_type": "execute_result"
    }
   ],
   "source": [
    "train_viola_jones_hogs.shape"
   ]
  },
  {
   "cell_type": "code",
   "execution_count": 52,
   "metadata": {},
   "outputs": [],
   "source": [
    "viola_jones_hog_features = train_viola_jones_hogs.columns[2:]"
   ]
  },
  {
   "cell_type": "markdown",
   "metadata": {},
   "source": [
    "### Raw SVC"
   ]
  },
  {
   "cell_type": "code",
   "execution_count": 54,
   "metadata": {},
   "outputs": [],
   "source": [
    "svc_viola_jones_hog = SVC(random_state=42, probability=True)"
   ]
  },
  {
   "cell_type": "code",
   "execution_count": 55,
   "metadata": {},
   "outputs": [],
   "source": [
    "## handle missing values\n",
    "train_viola_jones_hogs[viola_jones_hog_features] = train_viola_jones_hogs[\n",
    "    viola_jones_hog_features].fillna(0)\n",
    "test_viola_jones_hogs[viola_jones_hog_features] = test_viola_jones_hogs[\n",
    "    viola_jones_hog_features].fillna(0)"
   ]
  },
  {
   "cell_type": "code",
   "execution_count": 57,
   "metadata": {},
   "outputs": [
    {
     "name": "stdout",
     "output_type": "stream",
     "text": [
      "CPU times: user 1min 24s, sys: 162 ms, total: 1min 24s\n",
      "Wall time: 1min 25s\n"
     ]
    },
    {
     "data": {
      "text/plain": [
       "SVC(probability=True, random_state=42)"
      ]
     },
     "execution_count": 57,
     "metadata": {},
     "output_type": "execute_result"
    }
   ],
   "source": [
    "%%time\n",
    "svc_viola_jones_hog.fit(train_viola_jones_hogs[viola_jones_hog_features],\n",
    "                        train_viola_jones_hogs['target'])"
   ]
  },
  {
   "cell_type": "markdown",
   "metadata": {},
   "source": [
    "### PCA + SVC"
   ]
  },
  {
   "cell_type": "code",
   "execution_count": 59,
   "metadata": {},
   "outputs": [],
   "source": [
    "pca_viola_hogs = PCA(n_components=500, random_state=42)"
   ]
  },
  {
   "cell_type": "code",
   "execution_count": 60,
   "metadata": {},
   "outputs": [
    {
     "name": "stdout",
     "output_type": "stream",
     "text": [
      "CPU times: user 8.46 s, sys: 441 ms, total: 8.9 s\n",
      "Wall time: 8.95 s\n"
     ]
    }
   ],
   "source": [
    "%%time\n",
    "train_viola_jones_hogs_transformed = pca_viola_hogs.fit_transform(\n",
    "    train_viola_jones_hogs[viola_jones_hog_features])"
   ]
  },
  {
   "cell_type": "code",
   "execution_count": 62,
   "metadata": {},
   "outputs": [
    {
     "name": "stdout",
     "output_type": "stream",
     "text": [
      "CPU times: user 434 ms, sys: 51.4 ms, total: 486 ms\n",
      "Wall time: 485 ms\n"
     ]
    }
   ],
   "source": [
    "%%time\n",
    "test_viola_jones_hogs_transformed = pca_viola_hogs.transform(\n",
    "    test_viola_jones_hogs[viola_jones_hog_features])"
   ]
  },
  {
   "cell_type": "code",
   "execution_count": 63,
   "metadata": {},
   "outputs": [],
   "source": [
    "svc_viola_jones_hog_transformed = SVC(random_state=42, probability=True)"
   ]
  },
  {
   "cell_type": "code",
   "execution_count": 64,
   "metadata": {},
   "outputs": [
    {
     "name": "stdout",
     "output_type": "stream",
     "text": [
      "CPU times: user 1.68 s, sys: 1.44 ms, total: 1.68 s\n",
      "Wall time: 1.68 s\n"
     ]
    },
    {
     "data": {
      "text/plain": [
       "SVC(probability=True, random_state=42)"
      ]
     },
     "execution_count": 64,
     "metadata": {},
     "output_type": "execute_result"
    }
   ],
   "source": [
    "%%time\n",
    "svc_viola_jones_hog_transformed.fit(train_viola_jones_hogs_transformed,\n",
    "                                    train_viola_jones_hogs['target'])"
   ]
  },
  {
   "cell_type": "markdown",
   "metadata": {},
   "source": [
    "## Dense Net, raw hog features"
   ]
  },
  {
   "cell_type": "code",
   "execution_count": 65,
   "metadata": {},
   "outputs": [
    {
     "data": {
      "text/plain": [
       "(967, 24338)"
      ]
     },
     "execution_count": 65,
     "metadata": {},
     "output_type": "execute_result"
    }
   ],
   "source": [
    "train_viola_jones_hogs.shape"
   ]
  },
  {
   "cell_type": "code",
   "execution_count": 66,
   "metadata": {},
   "outputs": [],
   "source": [
    "model_viola_jones_hog = Sequential()\n",
    "model_viola_jones_hog.add(Dense(12, input_dim=len(viola_jones_hog_features), activation='relu'))\n",
    "model_viola_jones_hog.add(Dense(8, activation='relu'))\n",
    "model_viola_jones_hog.add(Dense(1, activation='sigmoid'))"
   ]
  },
  {
   "cell_type": "code",
   "execution_count": 67,
   "metadata": {},
   "outputs": [
    {
     "name": "stdout",
     "output_type": "stream",
     "text": [
      "Model: \"sequential_3\"\n",
      "_________________________________________________________________\n",
      "Layer (type)                 Output Shape              Param #   \n",
      "=================================================================\n",
      "dense_9 (Dense)              (None, 12)                292044    \n",
      "_________________________________________________________________\n",
      "dense_10 (Dense)             (None, 8)                 104       \n",
      "_________________________________________________________________\n",
      "dense_11 (Dense)             (None, 1)                 9         \n",
      "=================================================================\n",
      "Total params: 292,157\n",
      "Trainable params: 292,157\n",
      "Non-trainable params: 0\n",
      "_________________________________________________________________\n"
     ]
    }
   ],
   "source": [
    "model_viola_jones_hog.summary()"
   ]
  },
  {
   "cell_type": "code",
   "execution_count": 68,
   "metadata": {},
   "outputs": [],
   "source": [
    "model_viola_jones_hog.compile(loss='binary_crossentropy', optimizer='adam',\n",
    "                              metrics=['accuracy', 'AUC'])"
   ]
  },
  {
   "cell_type": "code",
   "execution_count": 70,
   "metadata": {},
   "outputs": [
    {
     "name": "stdout",
     "output_type": "stream",
     "text": [
      "Epoch 1/150\n",
      "97/97 [==============================] - 1s 6ms/step - loss: 0.6883 - accuracy: 0.7518 - auc: 0.4776\n",
      "Epoch 2/150\n",
      "97/97 [==============================] - 0s 5ms/step - loss: 0.6280 - accuracy: 0.7818 - auc: 0.4518\n",
      "Epoch 3/150\n",
      "97/97 [==============================] - 0s 4ms/step - loss: 0.5970 - accuracy: 0.7818 - auc: 0.4549\n",
      "Epoch 4/150\n",
      "97/97 [==============================] - 0s 4ms/step - loss: 0.5687 - accuracy: 0.7818 - auc: 0.4963\n",
      "Epoch 5/150\n",
      "97/97 [==============================] - 0s 4ms/step - loss: 0.5494 - accuracy: 0.7818 - auc: 0.5030\n",
      "Epoch 6/150\n",
      "97/97 [==============================] - 0s 4ms/step - loss: 0.5230 - accuracy: 0.7818 - auc: 0.5704\n",
      "Epoch 7/150\n",
      "97/97 [==============================] - 0s 4ms/step - loss: 0.5072 - accuracy: 0.7818 - auc: 0.6191\n",
      "Epoch 8/150\n",
      "97/97 [==============================] - 0s 4ms/step - loss: 0.5017 - accuracy: 0.7818 - auc: 0.6483\n",
      "Epoch 9/150\n",
      "97/97 [==============================] - 0s 4ms/step - loss: 0.4948 - accuracy: 0.7818 - auc: 0.6476\n",
      "Epoch 10/150\n",
      "97/97 [==============================] - 0s 4ms/step - loss: 0.5230 - accuracy: 0.7818 - auc: 0.5350\n",
      "Epoch 11/150\n",
      "97/97 [==============================] - 0s 4ms/step - loss: 0.5220 - accuracy: 0.7818 - auc: 0.5529\n",
      "Epoch 12/150\n",
      "97/97 [==============================] - 1s 7ms/step - loss: 0.5214 - accuracy: 0.7818 - auc: 0.5448\n",
      "Epoch 13/150\n",
      "97/97 [==============================] - 0s 5ms/step - loss: 0.5210 - accuracy: 0.7818 - auc: 0.5448\n",
      "Epoch 14/150\n",
      "97/97 [==============================] - 0s 4ms/step - loss: 0.5208 - accuracy: 0.7818 - auc: 0.5341\n",
      "Epoch 15/150\n",
      "97/97 [==============================] - 0s 4ms/step - loss: 0.5207 - accuracy: 0.7818 - auc: 0.5273\n",
      "Epoch 16/150\n",
      "97/97 [==============================] - 1s 6ms/step - loss: 0.5209 - accuracy: 0.7818 - auc: 0.5369\n",
      "Epoch 17/150\n",
      "97/97 [==============================] - 0s 4ms/step - loss: 0.5199 - accuracy: 0.7818 - auc: 0.5513\n",
      "Epoch 18/150\n",
      "97/97 [==============================] - 0s 4ms/step - loss: 0.5204 - accuracy: 0.7818 - auc: 0.5334\n",
      "Epoch 19/150\n",
      "97/97 [==============================] - 0s 4ms/step - loss: 0.5199 - accuracy: 0.7818 - auc: 0.5449\n",
      "Epoch 20/150\n",
      "97/97 [==============================] - 0s 4ms/step - loss: 0.5197 - accuracy: 0.7818 - auc: 0.5274\n",
      "Epoch 21/150\n",
      "97/97 [==============================] - 0s 4ms/step - loss: 0.5194 - accuracy: 0.7818 - auc: 0.5402\n",
      "Epoch 22/150\n",
      "97/97 [==============================] - 0s 4ms/step - loss: 0.5194 - accuracy: 0.7818 - auc: 0.5471\n",
      "Epoch 23/150\n",
      "97/97 [==============================] - 0s 4ms/step - loss: 0.5194 - accuracy: 0.7818 - auc: 0.5501\n",
      "Epoch 24/150\n",
      "97/97 [==============================] - 0s 4ms/step - loss: 0.5193 - accuracy: 0.7818 - auc: 0.5336\n",
      "Epoch 25/150\n",
      "97/97 [==============================] - 0s 4ms/step - loss: 0.5195 - accuracy: 0.7818 - auc: 0.5225\n",
      "Epoch 26/150\n",
      "97/97 [==============================] - 0s 4ms/step - loss: 0.5190 - accuracy: 0.7818 - auc: 0.5205\n",
      "Epoch 27/150\n",
      "97/97 [==============================] - 0s 4ms/step - loss: 0.5189 - accuracy: 0.7818 - auc: 0.5454\n",
      "Epoch 28/150\n",
      "97/97 [==============================] - 1s 6ms/step - loss: 0.5189 - accuracy: 0.7818 - auc: 0.5395\n",
      "Epoch 29/150\n",
      "97/97 [==============================] - 1s 6ms/step - loss: 0.5188 - accuracy: 0.7818 - auc: 0.5317\n",
      "Epoch 30/150\n",
      "97/97 [==============================] - 0s 4ms/step - loss: 0.5193 - accuracy: 0.7818 - auc: 0.5301\n",
      "Epoch 31/150\n",
      "97/97 [==============================] - 0s 4ms/step - loss: 0.5186 - accuracy: 0.7818 - auc: 0.5411\n",
      "Epoch 32/150\n",
      "97/97 [==============================] - 0s 4ms/step - loss: 0.5187 - accuracy: 0.7818 - auc: 0.5504\n",
      "Epoch 33/150\n",
      "97/97 [==============================] - 0s 4ms/step - loss: 0.5186 - accuracy: 0.7818 - auc: 0.5378\n",
      "Epoch 34/150\n",
      "97/97 [==============================] - 0s 4ms/step - loss: 0.5187 - accuracy: 0.7818 - auc: 0.5384\n",
      "Epoch 35/150\n",
      "97/97 [==============================] - 0s 4ms/step - loss: 0.5183 - accuracy: 0.7818 - auc: 0.5332\n",
      "Epoch 36/150\n",
      "97/97 [==============================] - 0s 4ms/step - loss: 0.5183 - accuracy: 0.7818 - auc: 0.5374\n",
      "Epoch 37/150\n",
      "97/97 [==============================] - 0s 4ms/step - loss: 0.5183 - accuracy: 0.7818 - auc: 0.5508\n",
      "Epoch 38/150\n",
      "97/97 [==============================] - 0s 4ms/step - loss: 0.5184 - accuracy: 0.7818 - auc: 0.5292\n",
      "Epoch 39/150\n",
      "97/97 [==============================] - 0s 4ms/step - loss: 0.5189 - accuracy: 0.7818 - auc: 0.5063\n",
      "Epoch 40/150\n",
      "97/97 [==============================] - 0s 4ms/step - loss: 0.5183 - accuracy: 0.7818 - auc: 0.5297\n",
      "Epoch 41/150\n",
      "97/97 [==============================] - 0s 4ms/step - loss: 0.5184 - accuracy: 0.7818 - auc: 0.5284\n",
      "Epoch 42/150\n",
      "97/97 [==============================] - 0s 4ms/step - loss: 0.5183 - accuracy: 0.7818 - auc: 0.5300\n",
      "Epoch 43/150\n",
      "97/97 [==============================] - 0s 4ms/step - loss: 0.5181 - accuracy: 0.7818 - auc: 0.5448\n",
      "Epoch 44/150\n",
      "97/97 [==============================] - 0s 4ms/step - loss: 0.5180 - accuracy: 0.7818 - auc: 0.5416\n",
      "Epoch 45/150\n",
      "97/97 [==============================] - 0s 4ms/step - loss: 0.5182 - accuracy: 0.7818 - auc: 0.5475\n",
      "Epoch 46/150\n",
      "97/97 [==============================] - 0s 4ms/step - loss: 0.5180 - accuracy: 0.7818 - auc: 0.5374\n",
      "Epoch 47/150\n",
      "97/97 [==============================] - 0s 4ms/step - loss: 0.5181 - accuracy: 0.7818 - auc: 0.5358\n",
      "Epoch 48/150\n",
      "97/97 [==============================] - 0s 4ms/step - loss: 0.5181 - accuracy: 0.7818 - auc: 0.5351\n",
      "Epoch 49/150\n",
      "97/97 [==============================] - 0s 4ms/step - loss: 0.5184 - accuracy: 0.7818 - auc: 0.5325\n",
      "Epoch 50/150\n",
      "97/97 [==============================] - 0s 4ms/step - loss: 0.5180 - accuracy: 0.7818 - auc: 0.5383\n",
      "Epoch 51/150\n",
      "97/97 [==============================] - 0s 4ms/step - loss: 0.5179 - accuracy: 0.7818 - auc: 0.5352\n",
      "Epoch 52/150\n",
      "97/97 [==============================] - 0s 4ms/step - loss: 0.5178 - accuracy: 0.7818 - auc: 0.5306\n",
      "Epoch 53/150\n",
      "97/97 [==============================] - 0s 4ms/step - loss: 0.5179 - accuracy: 0.7818 - auc: 0.5155\n",
      "Epoch 54/150\n",
      "97/97 [==============================] - 1s 5ms/step - loss: 0.5180 - accuracy: 0.7818 - auc: 0.5460\n",
      "Epoch 55/150\n",
      "97/97 [==============================] - 1s 6ms/step - loss: 0.5179 - accuracy: 0.7818 - auc: 0.5282\n",
      "Epoch 56/150\n",
      "97/97 [==============================] - 0s 5ms/step - loss: 0.5177 - accuracy: 0.7818 - auc: 0.5350\n",
      "Epoch 57/150\n",
      "97/97 [==============================] - 1s 6ms/step - loss: 0.5178 - accuracy: 0.7818 - auc: 0.5302\n",
      "Epoch 58/150\n",
      "97/97 [==============================] - 0s 4ms/step - loss: 0.5179 - accuracy: 0.7818 - auc: 0.5364\n",
      "Epoch 59/150\n",
      "97/97 [==============================] - 0s 4ms/step - loss: 0.5182 - accuracy: 0.7818 - auc: 0.5256\n",
      "Epoch 60/150\n",
      "97/97 [==============================] - 0s 4ms/step - loss: 0.5179 - accuracy: 0.7818 - auc: 0.5191\n",
      "Epoch 61/150\n",
      "97/97 [==============================] - 0s 4ms/step - loss: 0.5178 - accuracy: 0.7818 - auc: 0.5420\n",
      "Epoch 62/150\n",
      "97/97 [==============================] - 0s 4ms/step - loss: 0.5177 - accuracy: 0.7818 - auc: 0.5403\n",
      "Epoch 63/150\n",
      "97/97 [==============================] - 0s 4ms/step - loss: 0.5177 - accuracy: 0.7818 - auc: 0.5473\n",
      "Epoch 64/150\n",
      "97/97 [==============================] - 0s 4ms/step - loss: 0.5178 - accuracy: 0.7818 - auc: 0.5361\n",
      "Epoch 65/150\n",
      "97/97 [==============================] - 0s 4ms/step - loss: 0.5178 - accuracy: 0.7818 - auc: 0.5416\n",
      "Epoch 66/150\n",
      "97/97 [==============================] - 0s 4ms/step - loss: 0.5180 - accuracy: 0.7818 - auc: 0.5399\n",
      "Epoch 67/150\n",
      "97/97 [==============================] - 0s 4ms/step - loss: 0.5179 - accuracy: 0.7818 - auc: 0.5299\n",
      "Epoch 68/150\n",
      "97/97 [==============================] - 0s 4ms/step - loss: 0.5177 - accuracy: 0.7818 - auc: 0.5432\n",
      "Epoch 69/150\n",
      "97/97 [==============================] - 0s 4ms/step - loss: 0.5178 - accuracy: 0.7818 - auc: 0.5344\n",
      "Epoch 70/150\n",
      "97/97 [==============================] - 0s 4ms/step - loss: 0.5176 - accuracy: 0.7818 - auc: 0.5425\n",
      "Epoch 71/150\n",
      "97/97 [==============================] - 0s 4ms/step - loss: 0.5178 - accuracy: 0.7818 - auc: 0.5418\n",
      "Epoch 72/150\n",
      "97/97 [==============================] - 0s 4ms/step - loss: 0.5179 - accuracy: 0.7818 - auc: 0.5409\n",
      "Epoch 73/150\n",
      "97/97 [==============================] - 0s 4ms/step - loss: 0.5178 - accuracy: 0.7818 - auc: 0.5444\n",
      "Epoch 74/150\n",
      "97/97 [==============================] - 0s 4ms/step - loss: 0.5177 - accuracy: 0.7818 - auc: 0.5338\n",
      "Epoch 75/150\n",
      "97/97 [==============================] - 0s 4ms/step - loss: 0.5180 - accuracy: 0.7818 - auc: 0.5194\n",
      "Epoch 76/150\n",
      "97/97 [==============================] - 0s 4ms/step - loss: 0.5177 - accuracy: 0.7818 - auc: 0.5450\n",
      "Epoch 77/150\n",
      "97/97 [==============================] - 0s 4ms/step - loss: 0.5176 - accuracy: 0.7818 - auc: 0.5507\n",
      "Epoch 78/150\n",
      "97/97 [==============================] - 0s 4ms/step - loss: 0.5177 - accuracy: 0.7818 - auc: 0.5297\n",
      "Epoch 79/150\n",
      "97/97 [==============================] - 0s 4ms/step - loss: 0.5178 - accuracy: 0.7818 - auc: 0.5364\n",
      "Epoch 80/150\n",
      "97/97 [==============================] - 0s 4ms/step - loss: 0.5176 - accuracy: 0.7818 - auc: 0.5179\n",
      "Epoch 81/150\n",
      "97/97 [==============================] - 1s 5ms/step - loss: 0.5176 - accuracy: 0.7818 - auc: 0.5480\n",
      "Epoch 82/150\n",
      "97/97 [==============================] - 0s 5ms/step - loss: 0.5178 - accuracy: 0.7818 - auc: 0.5503\n",
      "Epoch 83/150\n",
      "97/97 [==============================] - 0s 4ms/step - loss: 0.5180 - accuracy: 0.7818 - auc: 0.5227\n",
      "Epoch 84/150\n",
      "97/97 [==============================] - 0s 4ms/step - loss: 0.5177 - accuracy: 0.7818 - auc: 0.5380\n",
      "Epoch 85/150\n",
      "97/97 [==============================] - 0s 4ms/step - loss: 0.5177 - accuracy: 0.7818 - auc: 0.5371\n",
      "Epoch 86/150\n",
      "97/97 [==============================] - 0s 4ms/step - loss: 0.5177 - accuracy: 0.7818 - auc: 0.5403\n",
      "Epoch 87/150\n",
      "97/97 [==============================] - 0s 4ms/step - loss: 0.5179 - accuracy: 0.7818 - auc: 0.5246\n",
      "Epoch 88/150\n",
      "97/97 [==============================] - 0s 4ms/step - loss: 0.5176 - accuracy: 0.7818 - auc: 0.5424\n",
      "Epoch 89/150\n",
      "97/97 [==============================] - 0s 4ms/step - loss: 0.5176 - accuracy: 0.7818 - auc: 0.5487\n",
      "Epoch 90/150\n",
      "97/97 [==============================] - 0s 4ms/step - loss: 0.5176 - accuracy: 0.7818 - auc: 0.5389\n",
      "Epoch 91/150\n",
      "97/97 [==============================] - 0s 4ms/step - loss: 0.5175 - accuracy: 0.7818 - auc: 0.5512\n",
      "Epoch 92/150\n",
      "97/97 [==============================] - 0s 4ms/step - loss: 0.5178 - accuracy: 0.7818 - auc: 0.5320\n",
      "Epoch 93/150\n",
      "97/97 [==============================] - 0s 4ms/step - loss: 0.5175 - accuracy: 0.7818 - auc: 0.5273\n",
      "Epoch 94/150\n",
      "97/97 [==============================] - 0s 4ms/step - loss: 0.5177 - accuracy: 0.7818 - auc: 0.5231\n",
      "Epoch 95/150\n",
      "97/97 [==============================] - 0s 4ms/step - loss: 0.5176 - accuracy: 0.7818 - auc: 0.5476\n",
      "Epoch 96/150\n",
      "97/97 [==============================] - 0s 4ms/step - loss: 0.5178 - accuracy: 0.7818 - auc: 0.5279\n",
      "Epoch 97/150\n",
      "97/97 [==============================] - 0s 4ms/step - loss: 0.5176 - accuracy: 0.7818 - auc: 0.5483\n",
      "Epoch 98/150\n",
      "97/97 [==============================] - 0s 4ms/step - loss: 0.5176 - accuracy: 0.7818 - auc: 0.5498\n",
      "Epoch 99/150\n",
      "97/97 [==============================] - 0s 4ms/step - loss: 0.5177 - accuracy: 0.7818 - auc: 0.5309\n",
      "Epoch 100/150\n",
      "97/97 [==============================] - 0s 4ms/step - loss: 0.5176 - accuracy: 0.7818 - auc: 0.5384\n",
      "Epoch 101/150\n",
      "97/97 [==============================] - 0s 4ms/step - loss: 0.5176 - accuracy: 0.7818 - auc: 0.5388\n",
      "Epoch 102/150\n",
      "97/97 [==============================] - 0s 4ms/step - loss: 0.5177 - accuracy: 0.7818 - auc: 0.5466\n",
      "Epoch 103/150\n",
      "97/97 [==============================] - 0s 4ms/step - loss: 0.5176 - accuracy: 0.7818 - auc: 0.5503\n",
      "Epoch 104/150\n",
      "97/97 [==============================] - 0s 4ms/step - loss: 0.5177 - accuracy: 0.7818 - auc: 0.5378\n",
      "Epoch 105/150\n",
      "97/97 [==============================] - 0s 4ms/step - loss: 0.5179 - accuracy: 0.7818 - auc: 0.5280\n",
      "Epoch 106/150\n",
      "97/97 [==============================] - 0s 4ms/step - loss: 0.5180 - accuracy: 0.7818 - auc: 0.5297\n",
      "Epoch 107/150\n",
      "97/97 [==============================] - 0s 4ms/step - loss: 0.5178 - accuracy: 0.7818 - auc: 0.5280\n",
      "Epoch 108/150\n",
      "97/97 [==============================] - 0s 4ms/step - loss: 0.5177 - accuracy: 0.7818 - auc: 0.5313\n",
      "Epoch 109/150\n",
      "97/97 [==============================] - 0s 4ms/step - loss: 0.5178 - accuracy: 0.7818 - auc: 0.5237\n",
      "Epoch 110/150\n",
      "97/97 [==============================] - 1s 6ms/step - loss: 0.5176 - accuracy: 0.7818 - auc: 0.5433\n",
      "Epoch 111/150\n",
      "97/97 [==============================] - 0s 4ms/step - loss: 0.5177 - accuracy: 0.7818 - auc: 0.5317\n",
      "Epoch 112/150\n",
      "97/97 [==============================] - 0s 4ms/step - loss: 0.5175 - accuracy: 0.7818 - auc: 0.5192\n",
      "Epoch 113/150\n",
      "97/97 [==============================] - 0s 4ms/step - loss: 0.5176 - accuracy: 0.7818 - auc: 0.5339\n",
      "Epoch 114/150\n",
      "97/97 [==============================] - 0s 4ms/step - loss: 0.5177 - accuracy: 0.7818 - auc: 0.5422\n",
      "Epoch 115/150\n",
      "97/97 [==============================] - 0s 4ms/step - loss: 0.5176 - accuracy: 0.7818 - auc: 0.5421\n",
      "Epoch 116/150\n",
      "97/97 [==============================] - 0s 4ms/step - loss: 0.5177 - accuracy: 0.7818 - auc: 0.5232\n",
      "Epoch 117/150\n",
      "97/97 [==============================] - 0s 4ms/step - loss: 0.5178 - accuracy: 0.7818 - auc: 0.5312\n",
      "Epoch 118/150\n",
      "97/97 [==============================] - 0s 4ms/step - loss: 0.5175 - accuracy: 0.7818 - auc: 0.5324\n",
      "Epoch 119/150\n",
      "97/97 [==============================] - 0s 4ms/step - loss: 0.5175 - accuracy: 0.7818 - auc: 0.5416\n",
      "Epoch 120/150\n",
      "97/97 [==============================] - 0s 4ms/step - loss: 0.5176 - accuracy: 0.7818 - auc: 0.5326\n",
      "Epoch 121/150\n",
      "97/97 [==============================] - 0s 4ms/step - loss: 0.5179 - accuracy: 0.7818 - auc: 0.5249\n",
      "Epoch 122/150\n",
      "97/97 [==============================] - 0s 4ms/step - loss: 0.5178 - accuracy: 0.7818 - auc: 0.5485\n",
      "Epoch 123/150\n",
      "97/97 [==============================] - 0s 4ms/step - loss: 0.5176 - accuracy: 0.7818 - auc: 0.5300\n",
      "Epoch 124/150\n",
      "97/97 [==============================] - 0s 4ms/step - loss: 0.5176 - accuracy: 0.7818 - auc: 0.5401\n",
      "Epoch 125/150\n",
      "97/97 [==============================] - 0s 4ms/step - loss: 0.5177 - accuracy: 0.7818 - auc: 0.5248\n",
      "Epoch 126/150\n",
      "97/97 [==============================] - 0s 4ms/step - loss: 0.5176 - accuracy: 0.7818 - auc: 0.5202\n",
      "Epoch 127/150\n",
      "97/97 [==============================] - 0s 4ms/step - loss: 0.5175 - accuracy: 0.7818 - auc: 0.5464\n",
      "Epoch 128/150\n",
      "97/97 [==============================] - 0s 4ms/step - loss: 0.5177 - accuracy: 0.7818 - auc: 0.5256\n",
      "Epoch 129/150\n",
      "97/97 [==============================] - 0s 4ms/step - loss: 0.5177 - accuracy: 0.7818 - auc: 0.5413\n",
      "Epoch 130/150\n",
      "97/97 [==============================] - 0s 4ms/step - loss: 0.5177 - accuracy: 0.7818 - auc: 0.5379\n",
      "Epoch 131/150\n",
      "97/97 [==============================] - 0s 4ms/step - loss: 0.5176 - accuracy: 0.7818 - auc: 0.5217\n",
      "Epoch 132/150\n",
      "97/97 [==============================] - 0s 4ms/step - loss: 0.5178 - accuracy: 0.7818 - auc: 0.5260\n",
      "Epoch 133/150\n",
      "97/97 [==============================] - 0s 4ms/step - loss: 0.5176 - accuracy: 0.7818 - auc: 0.5322\n",
      "Epoch 134/150\n",
      "97/97 [==============================] - 0s 4ms/step - loss: 0.5176 - accuracy: 0.7818 - auc: 0.5393\n",
      "Epoch 135/150\n",
      "97/97 [==============================] - 0s 4ms/step - loss: 0.5175 - accuracy: 0.7818 - auc: 0.5286\n",
      "Epoch 136/150\n",
      "97/97 [==============================] - 0s 4ms/step - loss: 0.5175 - accuracy: 0.7818 - auc: 0.5355\n",
      "Epoch 137/150\n",
      "97/97 [==============================] - 1s 7ms/step - loss: 0.5176 - accuracy: 0.7818 - auc: 0.5329\n",
      "Epoch 138/150\n",
      "97/97 [==============================] - 1s 8ms/step - loss: 0.5176 - accuracy: 0.7818 - auc: 0.5461\n",
      "Epoch 139/150\n",
      "97/97 [==============================] - 0s 4ms/step - loss: 0.5175 - accuracy: 0.7818 - auc: 0.5467\n",
      "Epoch 140/150\n",
      "97/97 [==============================] - 0s 4ms/step - loss: 0.5178 - accuracy: 0.7818 - auc: 0.5273\n",
      "Epoch 141/150\n",
      "97/97 [==============================] - 0s 4ms/step - loss: 0.5176 - accuracy: 0.7818 - auc: 0.5322\n",
      "Epoch 142/150\n",
      "97/97 [==============================] - 0s 4ms/step - loss: 0.5176 - accuracy: 0.7818 - auc: 0.5415\n",
      "Epoch 143/150\n"
     ]
    },
    {
     "name": "stdout",
     "output_type": "stream",
     "text": [
      "97/97 [==============================] - 0s 4ms/step - loss: 0.5175 - accuracy: 0.7818 - auc: 0.5343\n",
      "Epoch 144/150\n",
      "97/97 [==============================] - 0s 4ms/step - loss: 0.5177 - accuracy: 0.7818 - auc: 0.5329\n",
      "Epoch 145/150\n",
      "97/97 [==============================] - 0s 4ms/step - loss: 0.5178 - accuracy: 0.7818 - auc: 0.5480\n",
      "Epoch 146/150\n",
      "97/97 [==============================] - 0s 4ms/step - loss: 0.5178 - accuracy: 0.7818 - auc: 0.5357\n",
      "Epoch 147/150\n",
      "97/97 [==============================] - 0s 4ms/step - loss: 0.5175 - accuracy: 0.7818 - auc: 0.5289\n",
      "Epoch 148/150\n",
      "97/97 [==============================] - 0s 4ms/step - loss: 0.5176 - accuracy: 0.7818 - auc: 0.5407\n",
      "Epoch 149/150\n",
      "97/97 [==============================] - 0s 4ms/step - loss: 0.5176 - accuracy: 0.7818 - auc: 0.5401\n",
      "Epoch 150/150\n",
      "97/97 [==============================] - 0s 4ms/step - loss: 0.5175 - accuracy: 0.7818 - auc: 0.5396\n",
      "CPU times: user 1min 17s, sys: 8.7 s, total: 1min 26s\n",
      "Wall time: 1min 2s\n"
     ]
    },
    {
     "data": {
      "text/plain": [
       "<tensorflow.python.keras.callbacks.History at 0x7f370b3e6890>"
      ]
     },
     "execution_count": 70,
     "metadata": {},
     "output_type": "execute_result"
    }
   ],
   "source": [
    "%%time\n",
    "model_viola_jones_hog.fit(train_viola_jones_hogs[viola_jones_hog_features],\n",
    "                          train_viola_jones_hogs['target'],\n",
    "                          epochs=150, batch_size=10)"
   ]
  },
  {
   "cell_type": "markdown",
   "metadata": {},
   "source": [
    "#### Metrics per iteration for Dense Net"
   ]
  },
  {
   "cell_type": "code",
   "execution_count": 71,
   "metadata": {},
   "outputs": [
    {
     "data": {
      "image/png": "[encoded data removed]",
      "text/plain": [
       "<Figure size 432x288 with 1 Axes>"
      ]
     },
     "metadata": {
      "needs_background": "light"
     },
     "output_type": "display_data"
    }
   ],
   "source": [
    "plt.plot(model_viola_jones_hog.history.history['auc']);\n",
    "plt.title('ROC-AUC per number of iterations');\n",
    "plt.xlabel('N iterations');\n",
    "plt.ylabel('ROC AUC');"
   ]
  },
  {
   "cell_type": "code",
   "execution_count": 72,
   "metadata": {},
   "outputs": [
    {
     "data": {
      "image/png": "[encoded data removed]",
      "text/plain": [
       "<Figure size 432x288 with 1 Axes>"
      ]
     },
     "metadata": {
      "needs_background": "light"
     },
     "output_type": "display_data"
    }
   ],
   "source": [
    "plt.plot(model_viola_jones_hog.history.history['accuracy']);\n",
    "plt.title('Accuracy per number of iterations');\n",
    "plt.xlabel('N iterations');\n",
    "plt.ylabel('Accuracy');"
   ]
  },
  {
   "cell_type": "markdown",
   "metadata": {},
   "source": [
    "## Dense Net + PCA"
   ]
  },
  {
   "cell_type": "code",
   "execution_count": 73,
   "metadata": {},
   "outputs": [
    {
     "data": {
      "text/plain": [
       "(967, 500)"
      ]
     },
     "execution_count": 73,
     "metadata": {},
     "output_type": "execute_result"
    }
   ],
   "source": [
    "train_viola_jones_hogs_transformed.shape"
   ]
  },
  {
   "cell_type": "code",
   "execution_count": 74,
   "metadata": {},
   "outputs": [],
   "source": [
    "model_viola_jones_hog_pca = Sequential()\n",
    "model_viola_jones_hog_pca.add(Dense(12, input_dim=500, activation='relu'))\n",
    "model_viola_jones_hog_pca.add(Dense(8, activation='relu'))\n",
    "model_viola_jones_hog_pca.add(Dense(1, activation='sigmoid'))"
   ]
  },
  {
   "cell_type": "code",
   "execution_count": 75,
   "metadata": {},
   "outputs": [
    {
     "name": "stdout",
     "output_type": "stream",
     "text": [
      "Model: \"sequential_4\"\n",
      "_________________________________________________________________\n",
      "Layer (type)                 Output Shape              Param #   \n",
      "=================================================================\n",
      "dense_12 (Dense)             (None, 12)                6012      \n",
      "_________________________________________________________________\n",
      "dense_13 (Dense)             (None, 8)                 104       \n",
      "_________________________________________________________________\n",
      "dense_14 (Dense)             (None, 1)                 9         \n",
      "=================================================================\n",
      "Total params: 6,125\n",
      "Trainable params: 6,125\n",
      "Non-trainable params: 0\n",
      "_________________________________________________________________\n"
     ]
    }
   ],
   "source": [
    "model_viola_jones_hog_pca.summary()"
   ]
  },
  {
   "cell_type": "code",
   "execution_count": 76,
   "metadata": {},
   "outputs": [],
   "source": [
    "model_viola_jones_hog_pca.compile(loss='binary_crossentropy', optimizer='adam',\n",
    "                                  metrics=['accuracy', 'AUC'])"
   ]
  },
  {
   "cell_type": "code",
   "execution_count": 77,
   "metadata": {},
   "outputs": [
    {
     "name": "stdout",
     "output_type": "stream",
     "text": [
      "Epoch 1/150\n",
      "97/97 [==============================] - 0s 4ms/step - loss: 0.6586 - accuracy: 0.7549 - auc: 0.4932\n",
      "Epoch 2/150\n",
      "97/97 [==============================] - 0s 3ms/step - loss: 0.5717 - accuracy: 0.7890 - auc: 0.5667\n",
      "Epoch 3/150\n",
      "97/97 [==============================] - 0s 3ms/step - loss: 0.5100 - accuracy: 0.7932 - auc: 0.6405\n",
      "Epoch 4/150\n",
      "97/97 [==============================] - 0s 3ms/step - loss: 0.4774 - accuracy: 0.8025 - auc: 0.6274\n",
      "Epoch 5/150\n",
      "97/97 [==============================] - 0s 4ms/step - loss: 0.4582 - accuracy: 0.8232 - auc: 0.6549\n",
      "Epoch 6/150\n",
      "97/97 [==============================] - 0s 5ms/step - loss: 0.4448 - accuracy: 0.8304 - auc: 0.6540\n",
      "Epoch 7/150\n",
      "97/97 [==============================] - 1s 5ms/step - loss: 0.4354 - accuracy: 0.8356 - auc: 0.6570\n",
      "Epoch 8/150\n",
      "97/97 [==============================] - 0s 4ms/step - loss: 0.4287 - accuracy: 0.8345 - auc: 0.6669\n",
      "Epoch 9/150\n",
      "97/97 [==============================] - 0s 3ms/step - loss: 0.4236 - accuracy: 0.8356 - auc: 0.6719\n",
      "Epoch 10/150\n",
      "97/97 [==============================] - 0s 3ms/step - loss: 0.4201 - accuracy: 0.8356 - auc: 0.6660\n",
      "Epoch 11/150\n",
      "97/97 [==============================] - 0s 3ms/step - loss: 0.4174 - accuracy: 0.8356 - auc: 0.6574\n",
      "Epoch 12/150\n",
      "97/97 [==============================] - 0s 3ms/step - loss: 0.4153 - accuracy: 0.8356 - auc: 0.6766\n",
      "Epoch 13/150\n",
      "97/97 [==============================] - 0s 3ms/step - loss: 0.4138 - accuracy: 0.8356 - auc: 0.6781\n",
      "Epoch 14/150\n",
      "97/97 [==============================] - 0s 3ms/step - loss: 0.4127 - accuracy: 0.8356 - auc: 0.6869\n",
      "Epoch 15/150\n",
      "97/97 [==============================] - 0s 3ms/step - loss: 0.4118 - accuracy: 0.8356 - auc: 0.6666\n",
      "Epoch 16/150\n",
      "97/97 [==============================] - 0s 3ms/step - loss: 0.4105 - accuracy: 0.8356 - auc: 0.6867\n",
      "Epoch 17/150\n",
      "97/97 [==============================] - 0s 3ms/step - loss: 0.4100 - accuracy: 0.8356 - auc: 0.6713\n",
      "Epoch 18/150\n",
      "97/97 [==============================] - 0s 3ms/step - loss: 0.4096 - accuracy: 0.8366 - auc: 0.6829\n",
      "Epoch 19/150\n",
      "97/97 [==============================] - 0s 3ms/step - loss: 0.4090 - accuracy: 0.8366 - auc: 0.6760\n",
      "Epoch 20/150\n",
      "97/97 [==============================] - 0s 3ms/step - loss: 0.4086 - accuracy: 0.8366 - auc: 0.6711\n",
      "Epoch 21/150\n",
      "97/97 [==============================] - 0s 3ms/step - loss: 0.4083 - accuracy: 0.8366 - auc: 0.6787\n",
      "Epoch 22/150\n",
      "97/97 [==============================] - 0s 3ms/step - loss: 0.4082 - accuracy: 0.8366 - auc: 0.6747\n",
      "Epoch 23/150\n",
      "97/97 [==============================] - 0s 4ms/step - loss: 0.4081 - accuracy: 0.8366 - auc: 0.6547\n",
      "Epoch 24/150\n",
      "97/97 [==============================] - 0s 3ms/step - loss: 0.4075 - accuracy: 0.8366 - auc: 0.6878\n",
      "Epoch 25/150\n",
      "97/97 [==============================] - 0s 3ms/step - loss: 0.4082 - accuracy: 0.8366 - auc: 0.6800\n",
      "Epoch 26/150\n",
      "97/97 [==============================] - 0s 3ms/step - loss: 0.4078 - accuracy: 0.8366 - auc: 0.6614\n",
      "Epoch 27/150\n",
      "97/97 [==============================] - 0s 3ms/step - loss: 0.4073 - accuracy: 0.8366 - auc: 0.6816\n",
      "Epoch 28/150\n",
      "97/97 [==============================] - 0s 3ms/step - loss: 0.4073 - accuracy: 0.8366 - auc: 0.6751\n",
      "Epoch 29/150\n",
      "97/97 [==============================] - 0s 3ms/step - loss: 0.4072 - accuracy: 0.8366 - auc: 0.6625\n",
      "Epoch 30/150\n",
      "97/97 [==============================] - 0s 3ms/step - loss: 0.4072 - accuracy: 0.8366 - auc: 0.6610\n",
      "Epoch 31/150\n",
      "97/97 [==============================] - 0s 3ms/step - loss: 0.4069 - accuracy: 0.8366 - auc: 0.6894\n",
      "Epoch 32/150\n",
      "97/97 [==============================] - 0s 3ms/step - loss: 0.4069 - accuracy: 0.8366 - auc: 0.6724\n",
      "Epoch 33/150\n",
      "97/97 [==============================] - 0s 3ms/step - loss: 0.4068 - accuracy: 0.8366 - auc: 0.6813\n",
      "Epoch 34/150\n",
      "97/97 [==============================] - 0s 3ms/step - loss: 0.4068 - accuracy: 0.8366 - auc: 0.6699\n",
      "Epoch 35/150\n",
      "97/97 [==============================] - 0s 3ms/step - loss: 0.4068 - accuracy: 0.8366 - auc: 0.6806\n",
      "Epoch 36/150\n",
      "97/97 [==============================] - 0s 3ms/step - loss: 0.4067 - accuracy: 0.8366 - auc: 0.6763\n",
      "Epoch 37/150\n",
      "97/97 [==============================] - 0s 3ms/step - loss: 0.4067 - accuracy: 0.8366 - auc: 0.6635\n",
      "Epoch 38/150\n",
      "97/97 [==============================] - 0s 3ms/step - loss: 0.4066 - accuracy: 0.8366 - auc: 0.6855\n",
      "Epoch 39/150\n",
      "97/97 [==============================] - 0s 3ms/step - loss: 0.4066 - accuracy: 0.8366 - auc: 0.6565\n",
      "Epoch 40/150\n",
      "97/97 [==============================] - 0s 4ms/step - loss: 0.4064 - accuracy: 0.8366 - auc: 0.6855\n",
      "Epoch 41/150\n",
      "97/97 [==============================] - 0s 4ms/step - loss: 0.4067 - accuracy: 0.8366 - auc: 0.6610\n",
      "Epoch 42/150\n",
      "97/97 [==============================] - 0s 4ms/step - loss: 0.4065 - accuracy: 0.8366 - auc: 0.6828\n",
      "Epoch 43/150\n",
      "97/97 [==============================] - 0s 3ms/step - loss: 0.4066 - accuracy: 0.8366 - auc: 0.6590\n",
      "Epoch 44/150\n",
      "97/97 [==============================] - 0s 3ms/step - loss: 0.4065 - accuracy: 0.8366 - auc: 0.6870\n",
      "Epoch 45/150\n",
      "97/97 [==============================] - 0s 3ms/step - loss: 0.4065 - accuracy: 0.8366 - auc: 0.6720\n",
      "Epoch 46/150\n",
      "97/97 [==============================] - 0s 3ms/step - loss: 0.4065 - accuracy: 0.8366 - auc: 0.6782\n",
      "Epoch 47/150\n",
      "97/97 [==============================] - 0s 3ms/step - loss: 0.4065 - accuracy: 0.8366 - auc: 0.6876\n",
      "Epoch 48/150\n",
      "97/97 [==============================] - 0s 3ms/step - loss: 0.4066 - accuracy: 0.8366 - auc: 0.6637\n",
      "Epoch 49/150\n",
      "97/97 [==============================] - 0s 3ms/step - loss: 0.4066 - accuracy: 0.8366 - auc: 0.6703\n",
      "Epoch 50/150\n",
      "97/97 [==============================] - 0s 3ms/step - loss: 0.4065 - accuracy: 0.8366 - auc: 0.6729\n",
      "Epoch 51/150\n",
      "97/97 [==============================] - 0s 3ms/step - loss: 0.4067 - accuracy: 0.8366 - auc: 0.6770\n",
      "Epoch 52/150\n",
      "97/97 [==============================] - 0s 3ms/step - loss: 0.4068 - accuracy: 0.8366 - auc: 0.6674\n",
      "Epoch 53/150\n",
      "97/97 [==============================] - 0s 3ms/step - loss: 0.4064 - accuracy: 0.8366 - auc: 0.6707\n",
      "Epoch 54/150\n",
      "97/97 [==============================] - 0s 3ms/step - loss: 0.4064 - accuracy: 0.8366 - auc: 0.6815\n",
      "Epoch 55/150\n",
      "97/97 [==============================] - 0s 3ms/step - loss: 0.4064 - accuracy: 0.8366 - auc: 0.6691\n",
      "Epoch 56/150\n",
      "97/97 [==============================] - 0s 3ms/step - loss: 0.4065 - accuracy: 0.8366 - auc: 0.6744\n",
      "Epoch 57/150\n",
      "97/97 [==============================] - 0s 3ms/step - loss: 0.4063 - accuracy: 0.8366 - auc: 0.6635\n",
      "Epoch 58/150\n",
      "97/97 [==============================] - 0s 3ms/step - loss: 0.4063 - accuracy: 0.8366 - auc: 0.6700\n",
      "Epoch 59/150\n",
      "97/97 [==============================] - 0s 3ms/step - loss: 0.4070 - accuracy: 0.8366 - auc: 0.6645\n",
      "Epoch 60/150\n",
      "97/97 [==============================] - 0s 3ms/step - loss: 0.4066 - accuracy: 0.8366 - auc: 0.6678\n",
      "Epoch 61/150\n",
      "97/97 [==============================] - 0s 3ms/step - loss: 0.4062 - accuracy: 0.8366 - auc: 0.6835\n",
      "Epoch 62/150\n",
      "97/97 [==============================] - 0s 3ms/step - loss: 0.4065 - accuracy: 0.8366 - auc: 0.6706\n",
      "Epoch 63/150\n",
      "97/97 [==============================] - 0s 3ms/step - loss: 0.4064 - accuracy: 0.8366 - auc: 0.6706\n",
      "Epoch 64/150\n",
      "97/97 [==============================] - 0s 3ms/step - loss: 0.4063 - accuracy: 0.8366 - auc: 0.6736\n",
      "Epoch 65/150\n",
      "97/97 [==============================] - 0s 3ms/step - loss: 0.4064 - accuracy: 0.8366 - auc: 0.6860\n",
      "Epoch 66/150\n",
      "97/97 [==============================] - 0s 3ms/step - loss: 0.4066 - accuracy: 0.8366 - auc: 0.6729\n",
      "Epoch 67/150\n",
      "97/97 [==============================] - 0s 3ms/step - loss: 0.4063 - accuracy: 0.8366 - auc: 0.6775\n",
      "Epoch 68/150\n",
      "97/97 [==============================] - 0s 3ms/step - loss: 0.4065 - accuracy: 0.8366 - auc: 0.6649\n",
      "Epoch 69/150\n",
      "97/97 [==============================] - 0s 3ms/step - loss: 0.4061 - accuracy: 0.8366 - auc: 0.6913\n",
      "Epoch 70/150\n",
      "97/97 [==============================] - 0s 3ms/step - loss: 0.4063 - accuracy: 0.8366 - auc: 0.6758\n",
      "Epoch 71/150\n",
      "97/97 [==============================] - 0s 3ms/step - loss: 0.4062 - accuracy: 0.8366 - auc: 0.6735\n",
      "Epoch 72/150\n",
      "97/97 [==============================] - 0s 3ms/step - loss: 0.4063 - accuracy: 0.8366 - auc: 0.6671\n",
      "Epoch 73/150\n",
      "97/97 [==============================] - 0s 3ms/step - loss: 0.4064 - accuracy: 0.8366 - auc: 0.6731\n",
      "Epoch 74/150\n",
      "97/97 [==============================] - 0s 3ms/step - loss: 0.4062 - accuracy: 0.8366 - auc: 0.6802\n",
      "Epoch 75/150\n",
      "97/97 [==============================] - 0s 3ms/step - loss: 0.4065 - accuracy: 0.8366 - auc: 0.6792\n",
      "Epoch 76/150\n",
      "97/97 [==============================] - 0s 4ms/step - loss: 0.4066 - accuracy: 0.8366 - auc: 0.6888\n",
      "Epoch 77/150\n",
      "97/97 [==============================] - 0s 5ms/step - loss: 0.4063 - accuracy: 0.8366 - auc: 0.6828\n",
      "Epoch 78/150\n",
      "97/97 [==============================] - 0s 3ms/step - loss: 0.4063 - accuracy: 0.8366 - auc: 0.6738\n",
      "Epoch 79/150\n",
      "97/97 [==============================] - 0s 3ms/step - loss: 0.4064 - accuracy: 0.8366 - auc: 0.6775\n",
      "Epoch 80/150\n",
      "97/97 [==============================] - 0s 3ms/step - loss: 0.4064 - accuracy: 0.8366 - auc: 0.6803\n",
      "Epoch 81/150\n",
      "97/97 [==============================] - 0s 3ms/step - loss: 0.4065 - accuracy: 0.8366 - auc: 0.6675\n",
      "Epoch 82/150\n",
      "97/97 [==============================] - 0s 3ms/step - loss: 0.4064 - accuracy: 0.8366 - auc: 0.6717\n",
      "Epoch 83/150\n",
      "97/97 [==============================] - 0s 3ms/step - loss: 0.4063 - accuracy: 0.8366 - auc: 0.6848\n",
      "Epoch 84/150\n",
      "97/97 [==============================] - 0s 4ms/step - loss: 0.4064 - accuracy: 0.8366 - auc: 0.6710\n",
      "Epoch 85/150\n",
      "97/97 [==============================] - 0s 3ms/step - loss: 0.4065 - accuracy: 0.8366 - auc: 0.6864\n",
      "Epoch 86/150\n",
      "97/97 [==============================] - 0s 3ms/step - loss: 0.4062 - accuracy: 0.8366 - auc: 0.6726\n",
      "Epoch 87/150\n",
      "97/97 [==============================] - 0s 3ms/step - loss: 0.4064 - accuracy: 0.8366 - auc: 0.6742\n",
      "Epoch 88/150\n",
      "97/97 [==============================] - 0s 5ms/step - loss: 0.4065 - accuracy: 0.8366 - auc: 0.6710\n",
      "Epoch 89/150\n",
      "97/97 [==============================] - 0s 5ms/step - loss: 0.4064 - accuracy: 0.8366 - auc: 0.6660\n",
      "Epoch 90/150\n",
      "97/97 [==============================] - 0s 4ms/step - loss: 0.4062 - accuracy: 0.8366 - auc: 0.6799\n",
      "Epoch 91/150\n",
      "97/97 [==============================] - 0s 3ms/step - loss: 0.4062 - accuracy: 0.8366 - auc: 0.6929\n",
      "Epoch 92/150\n",
      "97/97 [==============================] - 0s 3ms/step - loss: 0.4064 - accuracy: 0.8366 - auc: 0.6859\n",
      "Epoch 93/150\n",
      "97/97 [==============================] - 0s 3ms/step - loss: 0.4065 - accuracy: 0.8366 - auc: 0.6800\n",
      "Epoch 94/150\n",
      "97/97 [==============================] - 0s 3ms/step - loss: 0.4065 - accuracy: 0.8366 - auc: 0.6573\n",
      "Epoch 95/150\n",
      "97/97 [==============================] - 0s 3ms/step - loss: 0.4064 - accuracy: 0.8366 - auc: 0.6646\n",
      "Epoch 96/150\n",
      "97/97 [==============================] - 0s 3ms/step - loss: 0.4063 - accuracy: 0.8366 - auc: 0.6717\n",
      "Epoch 97/150\n",
      "97/97 [==============================] - 0s 3ms/step - loss: 0.4064 - accuracy: 0.8366 - auc: 0.6717\n",
      "Epoch 98/150\n",
      "97/97 [==============================] - 0s 3ms/step - loss: 0.4062 - accuracy: 0.8366 - auc: 0.6877\n",
      "Epoch 99/150\n",
      "97/97 [==============================] - 0s 3ms/step - loss: 0.4062 - accuracy: 0.8366 - auc: 0.6948\n",
      "Epoch 100/150\n",
      "97/97 [==============================] - 0s 3ms/step - loss: 0.4062 - accuracy: 0.8366 - auc: 0.6797\n",
      "Epoch 101/150\n",
      "97/97 [==============================] - 0s 3ms/step - loss: 0.4064 - accuracy: 0.8366 - auc: 0.6738\n",
      "Epoch 102/150\n",
      "97/97 [==============================] - 0s 3ms/step - loss: 0.4065 - accuracy: 0.8366 - auc: 0.6791\n",
      "Epoch 103/150\n",
      "97/97 [==============================] - 0s 3ms/step - loss: 0.4062 - accuracy: 0.8366 - auc: 0.6843\n",
      "Epoch 104/150\n",
      "97/97 [==============================] - 0s 3ms/step - loss: 0.4063 - accuracy: 0.8366 - auc: 0.6914\n",
      "Epoch 105/150\n",
      "97/97 [==============================] - 0s 3ms/step - loss: 0.4063 - accuracy: 0.8366 - auc: 0.6678\n",
      "Epoch 106/150\n",
      "97/97 [==============================] - 0s 3ms/step - loss: 0.4064 - accuracy: 0.8366 - auc: 0.6745\n",
      "Epoch 107/150\n",
      "97/97 [==============================] - 0s 3ms/step - loss: 0.4064 - accuracy: 0.8366 - auc: 0.6719\n",
      "Epoch 108/150\n",
      "97/97 [==============================] - 0s 3ms/step - loss: 0.4063 - accuracy: 0.8366 - auc: 0.6718\n",
      "Epoch 109/150\n",
      "97/97 [==============================] - 0s 5ms/step - loss: 0.4063 - accuracy: 0.8366 - auc: 0.6746\n",
      "Epoch 110/150\n",
      "97/97 [==============================] - 0s 4ms/step - loss: 0.4066 - accuracy: 0.8366 - auc: 0.6688\n",
      "Epoch 111/150\n",
      "97/97 [==============================] - 0s 3ms/step - loss: 0.4063 - accuracy: 0.8366 - auc: 0.6849\n",
      "Epoch 112/150\n",
      "97/97 [==============================] - 0s 3ms/step - loss: 0.4067 - accuracy: 0.8366 - auc: 0.6684\n",
      "Epoch 113/150\n",
      "97/97 [==============================] - 0s 3ms/step - loss: 0.4062 - accuracy: 0.8366 - auc: 0.6765\n",
      "Epoch 114/150\n",
      "97/97 [==============================] - 0s 3ms/step - loss: 0.4063 - accuracy: 0.8366 - auc: 0.6757\n",
      "Epoch 115/150\n",
      "97/97 [==============================] - 0s 3ms/step - loss: 0.4063 - accuracy: 0.8366 - auc: 0.6633\n",
      "Epoch 116/150\n",
      "97/97 [==============================] - 0s 3ms/step - loss: 0.4062 - accuracy: 0.8366 - auc: 0.6738\n",
      "Epoch 117/150\n",
      "97/97 [==============================] - 0s 3ms/step - loss: 0.4064 - accuracy: 0.8366 - auc: 0.6709\n",
      "Epoch 118/150\n",
      "97/97 [==============================] - 0s 3ms/step - loss: 0.4068 - accuracy: 0.8366 - auc: 0.6713\n",
      "Epoch 119/150\n",
      "97/97 [==============================] - 0s 3ms/step - loss: 0.4063 - accuracy: 0.8366 - auc: 0.6759\n",
      "Epoch 120/150\n",
      "97/97 [==============================] - 0s 3ms/step - loss: 0.4062 - accuracy: 0.8366 - auc: 0.6650\n",
      "Epoch 121/150\n",
      "97/97 [==============================] - 0s 3ms/step - loss: 0.4064 - accuracy: 0.8366 - auc: 0.6647\n",
      "Epoch 122/150\n",
      "97/97 [==============================] - 0s 3ms/step - loss: 0.4064 - accuracy: 0.8366 - auc: 0.6600\n",
      "Epoch 123/150\n",
      "97/97 [==============================] - 0s 3ms/step - loss: 0.4063 - accuracy: 0.8366 - auc: 0.6743\n",
      "Epoch 124/150\n",
      "97/97 [==============================] - 0s 3ms/step - loss: 0.4063 - accuracy: 0.8366 - auc: 0.6888\n",
      "Epoch 125/150\n",
      "97/97 [==============================] - 0s 3ms/step - loss: 0.4064 - accuracy: 0.8366 - auc: 0.6720\n",
      "Epoch 126/150\n",
      "97/97 [==============================] - 0s 3ms/step - loss: 0.4065 - accuracy: 0.8366 - auc: 0.6736\n",
      "Epoch 127/150\n",
      "97/97 [==============================] - 0s 3ms/step - loss: 0.4062 - accuracy: 0.8366 - auc: 0.6806\n",
      "Epoch 128/150\n",
      "97/97 [==============================] - 0s 3ms/step - loss: 0.4063 - accuracy: 0.8366 - auc: 0.6761\n",
      "Epoch 129/150\n",
      "97/97 [==============================] - 0s 3ms/step - loss: 0.4064 - accuracy: 0.8366 - auc: 0.6660\n",
      "Epoch 130/150\n",
      "97/97 [==============================] - 0s 3ms/step - loss: 0.4063 - accuracy: 0.8366 - auc: 0.6705\n",
      "Epoch 131/150\n",
      "97/97 [==============================] - 0s 3ms/step - loss: 0.4064 - accuracy: 0.8366 - auc: 0.6806\n",
      "Epoch 132/150\n",
      "97/97 [==============================] - 0s 3ms/step - loss: 0.4063 - accuracy: 0.8366 - auc: 0.6774\n",
      "Epoch 133/150\n",
      "97/97 [==============================] - 0s 3ms/step - loss: 0.4066 - accuracy: 0.8366 - auc: 0.6761\n",
      "Epoch 134/150\n",
      "97/97 [==============================] - 0s 3ms/step - loss: 0.4064 - accuracy: 0.8366 - auc: 0.6819\n",
      "Epoch 135/150\n",
      "97/97 [==============================] - 0s 3ms/step - loss: 0.4065 - accuracy: 0.8366 - auc: 0.6768\n",
      "Epoch 136/150\n",
      "97/97 [==============================] - 0s 3ms/step - loss: 0.4063 - accuracy: 0.8366 - auc: 0.6737\n",
      "Epoch 137/150\n",
      "97/97 [==============================] - 0s 3ms/step - loss: 0.4064 - accuracy: 0.8366 - auc: 0.6786\n",
      "Epoch 138/150\n",
      "97/97 [==============================] - 0s 3ms/step - loss: 0.4065 - accuracy: 0.8366 - auc: 0.6757\n",
      "Epoch 139/150\n",
      "97/97 [==============================] - 0s 3ms/step - loss: 0.4063 - accuracy: 0.8366 - auc: 0.6619\n",
      "Epoch 140/150\n",
      "97/97 [==============================] - 0s 3ms/step - loss: 0.4062 - accuracy: 0.8366 - auc: 0.6807\n",
      "Epoch 141/150\n",
      "97/97 [==============================] - 0s 3ms/step - loss: 0.4063 - accuracy: 0.8366 - auc: 0.6876\n",
      "Epoch 142/150\n",
      "97/97 [==============================] - 0s 3ms/step - loss: 0.4064 - accuracy: 0.8366 - auc: 0.6675\n",
      "Epoch 143/150\n"
     ]
    },
    {
     "name": "stdout",
     "output_type": "stream",
     "text": [
      "97/97 [==============================] - 0s 3ms/step - loss: 0.4064 - accuracy: 0.8366 - auc: 0.6691\n",
      "Epoch 144/150\n",
      "97/97 [==============================] - 0s 3ms/step - loss: 0.4063 - accuracy: 0.8366 - auc: 0.6810\n",
      "Epoch 145/150\n",
      "97/97 [==============================] - 0s 4ms/step - loss: 0.4063 - accuracy: 0.8366 - auc: 0.6801\n",
      "Epoch 146/150\n",
      "97/97 [==============================] - 0s 4ms/step - loss: 0.4062 - accuracy: 0.8366 - auc: 0.6875\n",
      "Epoch 147/150\n",
      "97/97 [==============================] - 0s 4ms/step - loss: 0.4066 - accuracy: 0.8366 - auc: 0.6722\n",
      "Epoch 148/150\n",
      "97/97 [==============================] - 0s 4ms/step - loss: 0.4062 - accuracy: 0.8366 - auc: 0.6807\n",
      "Epoch 149/150\n",
      "97/97 [==============================] - 0s 3ms/step - loss: 0.4064 - accuracy: 0.8366 - auc: 0.6797\n",
      "Epoch 150/150\n",
      "97/97 [==============================] - 0s 3ms/step - loss: 0.4064 - accuracy: 0.8366 - auc: 0.6880\n",
      "CPU times: user 58.8 s, sys: 7.89 s, total: 1min 6s\n",
      "Wall time: 48.6 s\n"
     ]
    },
    {
     "data": {
      "text/plain": [
       "<tensorflow.python.keras.callbacks.History at 0x7f36a823b5d0>"
      ]
     },
     "execution_count": 77,
     "metadata": {},
     "output_type": "execute_result"
    }
   ],
   "source": [
    "%%time\n",
    "model_viola_jones_hog_pca.fit(train_viola_jones_hogs_transformed,\n",
    "                              train_viola_jones_hogs['target'],\n",
    "                              epochs=150, batch_size=10)"
   ]
  },
  {
   "cell_type": "markdown",
   "metadata": {},
   "source": [
    "#### Metrics per iteration for Dense Net + PCA"
   ]
  },
  {
   "cell_type": "code",
   "execution_count": 78,
   "metadata": {},
   "outputs": [
    {
     "data": {
      "image/png": "[encoded data removed]",
      "text/plain": [
       "<Figure size 432x288 with 1 Axes>"
      ]
     },
     "metadata": {
      "needs_background": "light"
     },
     "output_type": "display_data"
    }
   ],
   "source": [
    "plt.plot(model_viola_jones_hog_pca.history.history['auc']);\n",
    "plt.title('ROC-AUC per number of iterations');\n",
    "plt.xlabel('N iterations');\n",
    "plt.ylabel('ROC AUC');"
   ]
  },
  {
   "cell_type": "code",
   "execution_count": 79,
   "metadata": {},
   "outputs": [
    {
     "data": {
      "image/png": "[encoded data removed]",
      "text/plain": [
       "<Figure size 432x288 with 1 Axes>"
      ]
     },
     "metadata": {
      "needs_background": "light"
     },
     "output_type": "display_data"
    }
   ],
   "source": [
    "plt.plot(model_viola_jones_hog_pca.history.history['accuracy']);\n",
    "plt.title('Accuracy per number of iterations');\n",
    "plt.xlabel('N iterations');\n",
    "plt.ylabel('Accuracy');"
   ]
  },
  {
   "cell_type": "markdown",
   "metadata": {},
   "source": [
    "# Calculate metrics"
   ]
  },
  {
   "cell_type": "code",
   "execution_count": 80,
   "metadata": {},
   "outputs": [],
   "source": [
    "train_datasets = (train_raw_hogs, train_raw_hogs_transformed, train_viola_jones_hogs,\n",
    "                 train_viola_jones_hogs_transformed)\n",
    "\n",
    "test_datasets = (test_raw_hogs, test_raw_hogs_transformed, test_viola_jones_hogs,\n",
    "                test_viola_jones_hogs_transformed)"
   ]
  },
  {
   "cell_type": "code",
   "execution_count": 86,
   "metadata": {},
   "outputs": [],
   "source": [
    "models_svc = (svc, svc_hog_transformed, svc_viola_jones_hog, svc_viola_jones_hog_transformed)\n",
    "models_dense_net = (model_raw_hog, model_raw_hog_pca, model_viola_jones_hog,\n",
    "                    model_viola_jones_hog_pca)\n",
    "\n",
    "svc_models_titles = ('SVC_Raw_HOG_features', 'SVC_PCA_HOG_features',\n",
    "                     'SVC_Viola_Jones_HOG_features','SVC_PCA_Viola_Jones_HOG_features')\n",
    "\n",
    "dense_net_models_titles = ('DenseNet_Raw_HOG_features', 'DenseNet_PCA_HOG_features',\n",
    "                           'DenseNet_Viola_Jones_HOG_features',\n",
    "                           'DenseNet_PCA_Viola_Jones_HOG_features'\n",
    "                          )\n",
    "\n",
    "all_models_titles = ('SVC_Raw_HOG_features', 'SVC_PCA_HOG_features',\n",
    "                     'SVC_Viola_Jones_HOG_features','SVC_PCA_Viola_Jones_HOG_features',\n",
    "                    'DenseNet_Raw_HOG_features', 'DenseNet_PCA_HOG_features',\n",
    "                     'DenseNet_Viola_Jones_HOG_features','DenseNet_PCA_Viola_Jones_HOG_features')"
   ]
  },
  {
   "cell_type": "code",
   "execution_count": 116,
   "metadata": {},
   "outputs": [],
   "source": [
    "index_metrics = pd.MultiIndex.from_product((all_models_titles, ('train', 'test')))\n",
    "columns_metrics = ['Accuracy', 'AUC', 'F1', 'Recall', 'Precision']"
   ]
  },
  {
   "cell_type": "code",
   "execution_count": 117,
   "metadata": {},
   "outputs": [],
   "source": [
    "metrics_df = pd.DataFrame(index=index_metrics, columns=columns_metrics)"
   ]
  },
  {
   "cell_type": "code",
   "execution_count": 122,
   "metadata": {},
   "outputs": [
    {
     "name": "stderr",
     "output_type": "stream",
     "text": [
      "/opt/conda/lib/python3.7/site-packages/sklearn/metrics/_classification.py:1221: UndefinedMetricWarning: Precision is ill-defined and being set to 0.0 due to no predicted samples. Use `zero_division` parameter to control this behavior.\n",
      "  _warn_prf(average, modifier, msg_start, len(result))\n"
     ]
    }
   ],
   "source": [
    "metrics_df.loc[('SVC_Raw_HOG_features', 'train'), 'Accuracy'] = accuracy_score(\n",
    "    train_raw_hogs['target'], svc.predict(train_raw_hogs[hog_features]))\n",
    "\n",
    "metrics_df.loc[('SVC_Raw_HOG_features', 'test'), 'Accuracy'] = accuracy_score(\n",
    "    test_raw_hogs['target'], svc.predict(test_raw_hogs[hog_features]))\n",
    "\n",
    "metrics_df.loc[('SVC_Raw_HOG_features', 'train'), 'AUC'] = roc_auc_score(\n",
    "    train_raw_hogs['target'], svc.predict(train_raw_hogs[hog_features]))\n",
    "\n",
    "metrics_df.loc[('SVC_Raw_HOG_features', 'test'), 'AUC'] = roc_auc_score(\n",
    "    test_raw_hogs['target'], svc.predict(test_raw_hogs[hog_features]))\n",
    "\n",
    "metrics_df.loc[('SVC_Raw_HOG_features', 'train'), 'F1'] = f1_score(\n",
    "    train_raw_hogs['target'], svc.predict(train_raw_hogs[hog_features]))\n",
    "\n",
    "metrics_df.loc[('SVC_Raw_HOG_features', 'test'), 'F1'] = f1_score(\n",
    "    test_raw_hogs['target'], svc.predict(test_raw_hogs[hog_features]))\n",
    "\n",
    "metrics_df.loc[('SVC_Raw_HOG_features', 'train'), 'Recall'] = recall_score(\n",
    "    train_raw_hogs['target'], svc.predict(train_raw_hogs[hog_features]))\n",
    "\n",
    "metrics_df.loc[('SVC_Raw_HOG_features', 'test'), 'Recall'] = recall_score(\n",
    "    test_raw_hogs['target'], svc.predict(test_raw_hogs[hog_features]))\n",
    "\n",
    "metrics_df.loc[('SVC_Raw_HOG_features', 'train'), 'Precision'] = precision_score(\n",
    "    train_raw_hogs['target'], svc.predict(train_raw_hogs[hog_features]))\n",
    "\n",
    "metrics_df.loc[('SVC_Raw_HOG_features', 'test'), 'Precision'] = precision_score(\n",
    "    test_raw_hogs['target'], svc.predict(test_raw_hogs[hog_features]))"
   ]
  },
  {
   "cell_type": "code",
   "execution_count": 124,
   "metadata": {},
   "outputs": [
    {
     "name": "stderr",
     "output_type": "stream",
     "text": [
      "/opt/conda/lib/python3.7/site-packages/sklearn/metrics/_classification.py:1221: UndefinedMetricWarning: Precision is ill-defined and being set to 0.0 due to no predicted samples. Use `zero_division` parameter to control this behavior.\n",
      "  _warn_prf(average, modifier, msg_start, len(result))\n"
     ]
    }
   ],
   "source": [
    "metrics_df.loc[('SVC_Viola_Jones_HOG_features', 'train'), 'Accuracy'] = accuracy_score(\n",
    "    train_viola_jones_hogs['target'],\n",
    "    svc_viola_jones_hog.predict(train_viola_jones_hogs[viola_jones_hog_features]))\n",
    "\n",
    "metrics_df.loc[('SVC_Viola_Jones_HOG_features', 'test'), 'Accuracy'] = accuracy_score(\n",
    "    test_viola_jones_hogs['target'], \n",
    "    svc_viola_jones_hog.predict(test_viola_jones_hogs[viola_jones_hog_features]))\n",
    "\n",
    "metrics_df.loc[('SVC_Viola_Jones_HOG_features', 'train'), 'AUC'] = roc_auc_score(\n",
    "    train_viola_jones_hogs['target'],\n",
    "    svc_viola_jones_hog.predict(train_raw_hogs[viola_jones_hog_features]))\n",
    "\n",
    "metrics_df.loc[('SVC_Viola_Jones_HOG_features', 'test'), 'AUC'] = roc_auc_score(\n",
    "    test_viola_jones_hogs['target'],\n",
    "    svc_viola_jones_hog.predict(test_viola_jones_hogs[viola_jones_hog_features]))\n",
    "\n",
    "metrics_df.loc[('SVC_Viola_Jones_HOG_features', 'train'), 'F1'] = f1_score(\n",
    "    train_viola_jones_hogs['target'], \n",
    "    svc_viola_jones_hog.predict(train_viola_jones_hogs[viola_jones_hog_features]))\n",
    "\n",
    "metrics_df.loc[('SVC_Viola_Jones_HOG_features', 'test'), 'F1'] = f1_score(\n",
    "    test_viola_jones_hogs['target'],\n",
    "    svc_viola_jones_hog.predict(test_viola_jones_hogs[viola_jones_hog_features]))\n",
    "\n",
    "metrics_df.loc[('SVC_Viola_Jones_HOG_features', 'train'), 'Recall'] = recall_score(\n",
    "    train_viola_jones_hogs['target'],\n",
    "    svc_viola_jones_hog.predict(train_viola_jones_hogs[viola_jones_hog_features]))\n",
    "\n",
    "metrics_df.loc[('SVC_Viola_Jones_HOG_features', 'test'), 'Recall'] = recall_score(\n",
    "    test_viola_jones_hogs['target'],\n",
    "    svc_viola_jones_hog.predict(test_viola_jones_hogs[viola_jones_hog_features]))\n",
    "\n",
    "metrics_df.loc[('SVC_Viola_Jones_HOG_features', 'train'), 'Precision'] = precision_score(\n",
    "    train_viola_jones_hogs['target'], \n",
    "    svc_viola_jones_hog.predict(train_viola_jones_hogs[viola_jones_hog_features]))\n",
    "\n",
    "metrics_df.loc[('SVC_Viola_Jones_HOG_features', 'test'), 'Precision'] = precision_score(\n",
    "    test_viola_jones_hogs['target'], \n",
    "    svc_viola_jones_hog.predict(test_viola_jones_hogs[viola_jones_hog_features]))"
   ]
  },
  {
   "cell_type": "code",
   "execution_count": 125,
   "metadata": {},
   "outputs": [
    {
     "name": "stderr",
     "output_type": "stream",
     "text": [
      "/opt/conda/lib/python3.7/site-packages/sklearn/metrics/_classification.py:1221: UndefinedMetricWarning: Precision is ill-defined and being set to 0.0 due to no predicted samples. Use `zero_division` parameter to control this behavior.\n",
      "  _warn_prf(average, modifier, msg_start, len(result))\n"
     ]
    }
   ],
   "source": [
    "metrics_df.loc[('SVC_PCA_HOG_features', 'train'), 'Accuracy'] = accuracy_score(\n",
    "    train_raw_hogs['target'], svc_hog_transformed.predict(train_raw_hogs_transformed))\n",
    "\n",
    "metrics_df.loc[('SVC_PCA_HOG_features', 'test'), 'Accuracy'] = accuracy_score(\n",
    "    test_raw_hogs['target'], svc_hog_transformed.predict(test_raw_hogs_transformed))\n",
    "\n",
    "metrics_df.loc[('SVC_PCA_HOG_features', 'train'), 'AUC'] = roc_auc_score(\n",
    "    train_raw_hogs['target'], svc_hog_transformed.predict(train_raw_hogs_transformed))\n",
    "\n",
    "metrics_df.loc[('SVC_PCA_HOG_features', 'test'), 'AUC'] = roc_auc_score(\n",
    "    test_raw_hogs['target'], svc_hog_transformed.predict(test_raw_hogs_transformed))\n",
    "\n",
    "metrics_df.loc[('SVC_PCA_HOG_features', 'train'), 'F1'] = f1_score(\n",
    "    train_raw_hogs['target'], svc_hog_transformed.predict(train_raw_hogs_transformed))\n",
    "\n",
    "metrics_df.loc[('SVC_PCA_HOG_features', 'test'), 'F1'] = f1_score(\n",
    "    test_raw_hogs['target'], svc_hog_transformed.predict(test_raw_hogs_transformed))\n",
    "\n",
    "metrics_df.loc[('SVC_PCA_HOG_features', 'train'), 'Recall'] = recall_score(\n",
    "    train_raw_hogs['target'], svc_hog_transformed.predict(train_raw_hogs_transformed))\n",
    "\n",
    "metrics_df.loc[('SVC_PCA_HOG_features', 'test'), 'Recall'] = recall_score(\n",
    "    test_raw_hogs['target'], svc_hog_transformed.predict(test_raw_hogs_transformed))\n",
    "\n",
    "metrics_df.loc[('SVC_PCA_HOG_features', 'train'), 'Precision'] = precision_score(\n",
    "    train_raw_hogs['target'], svc_hog_transformed.predict(train_raw_hogs_transformed))\n",
    "\n",
    "metrics_df.loc[('SVC_PCA_HOG_features', 'test'), 'Precision'] = precision_score(\n",
    "    test_raw_hogs['target'], svc_hog_transformed.predict(test_raw_hogs_transformed))"
   ]
  },
  {
   "cell_type": "code",
   "execution_count": 126,
   "metadata": {},
   "outputs": [
    {
     "name": "stderr",
     "output_type": "stream",
     "text": [
      "/opt/conda/lib/python3.7/site-packages/sklearn/metrics/_classification.py:1221: UndefinedMetricWarning: Precision is ill-defined and being set to 0.0 due to no predicted samples. Use `zero_division` parameter to control this behavior.\n",
      "  _warn_prf(average, modifier, msg_start, len(result))\n"
     ]
    }
   ],
   "source": [
    "metrics_df.loc[('SVC_PCA_Viola_Jones_HOG_features', 'train'), 'Accuracy'] = accuracy_score(\n",
    "    train_viola_jones_hogs['target'], svc_viola_jones_hog_transformed.predict(train_viola_jones_hogs_transformed))\n",
    "\n",
    "metrics_df.loc[('SVC_PCA_Viola_Jones_HOG_features', 'test'), 'Accuracy'] = accuracy_score(\n",
    "    test_viola_jones_hogs['target'], svc_viola_jones_hog_transformed.predict(test_viola_jones_hogs_transformed))\n",
    "\n",
    "metrics_df.loc[('SVC_PCA_Viola_Jones_HOG_features', 'train'), 'AUC'] = roc_auc_score(\n",
    "    train_viola_jones_hogs['target'], svc_viola_jones_hog_transformed.predict(train_viola_jones_hogs_transformed))\n",
    "\n",
    "metrics_df.loc[('SVC_PCA_Viola_Jones_HOG_features', 'test'), 'AUC'] = roc_auc_score(\n",
    "    test_viola_jones_hogs['target'], svc_viola_jones_hog_transformed.predict(test_viola_jones_hogs_transformed))\n",
    "\n",
    "metrics_df.loc[('SVC_PCA_Viola_Jones_HOG_features', 'train'), 'F1'] = f1_score(\n",
    "    train_viola_jones_hogs['target'], svc_viola_jones_hog_transformed.predict(train_viola_jones_hogs_transformed))\n",
    "\n",
    "metrics_df.loc[('SVC_PCA_Viola_Jones_HOG_features', 'test'), 'F1'] = f1_score(\n",
    "    test_viola_jones_hogs['target'], svc_viola_jones_hog_transformed.predict(test_viola_jones_hogs_transformed))\n",
    "\n",
    "metrics_df.loc[('SVC_PCA_Viola_Jones_HOG_features', 'train'), 'Recall'] = recall_score(\n",
    "    train_viola_jones_hogs['target'], svc_viola_jones_hog_transformed.predict(train_viola_jones_hogs_transformed))\n",
    "\n",
    "metrics_df.loc[('SVC_PCA_Viola_Jones_HOG_features', 'test'), 'Recall'] = recall_score(\n",
    "    test_viola_jones_hogs['target'], svc_viola_jones_hog_transformed.predict(test_viola_jones_hogs_transformed))\n",
    "\n",
    "metrics_df.loc[('SVC_PCA_Viola_Jones_HOG_features', 'train'), 'Precision'] = precision_score(\n",
    "    train_viola_jones_hogs['target'], svc_viola_jones_hog_transformed.predict(train_viola_jones_hogs_transformed))\n",
    "\n",
    "metrics_df.loc[('SVC_PCA_Viola_Jones_HOG_features', 'test'), 'Precision'] = precision_score(\n",
    "    test_viola_jones_hogs['target'], svc_viola_jones_hog_transformed.predict(test_viola_jones_hogs_transformed))"
   ]
  },
  {
   "cell_type": "markdown",
   "metadata": {},
   "source": [
    "#### Dense Net"
   ]
  },
  {
   "cell_type": "code",
   "execution_count": 129,
   "metadata": {},
   "outputs": [],
   "source": [
    "metrics_df.loc[('DenseNet_Raw_HOG_features', 'train'), 'Accuracy'] = accuracy_score(\n",
    "    train_raw_hogs['target'], model_raw_hog.predict(train_raw_hogs[hog_features]).flatten() > 0.5)\n",
    "\n",
    "metrics_df.loc[('DenseNet_Raw_HOG_features', 'test'), 'Accuracy'] = accuracy_score(\n",
    "    test_raw_hogs['target'], model_raw_hog.predict(test_raw_hogs[hog_features]).flatten() > 0.5)\n",
    "\n",
    "metrics_df.loc[('DenseNet_Raw_HOG_features', 'train'), 'AUC'] = roc_auc_score(\n",
    "    train_raw_hogs['target'], model_raw_hog.predict(train_raw_hogs[hog_features]).flatten() > 0.5)\n",
    "\n",
    "metrics_df.loc[('DenseNet_Raw_HOG_features', 'test'), 'AUC'] = roc_auc_score(\n",
    "    test_raw_hogs['target'], model_raw_hog.predict(test_raw_hogs[hog_features]).flatten() > 0.5)\n",
    "\n",
    "metrics_df.loc[('DenseNet_Raw_HOG_features', 'train'), 'F1'] = f1_score(\n",
    "    train_raw_hogs['target'], model_raw_hog.predict(train_raw_hogs[hog_features]).flatten() > 0.5)\n",
    "\n",
    "metrics_df.loc[('DenseNet_Raw_HOG_features', 'test'), 'F1'] = f1_score(\n",
    "    test_raw_hogs['target'], model_raw_hog.predict(test_raw_hogs[hog_features]).flatten() > 0.5)\n",
    "\n",
    "metrics_df.loc[('DenseNet_Raw_HOG_features', 'train'), 'Recall'] = recall_score(\n",
    "    train_raw_hogs['target'], model_raw_hog.predict(train_raw_hogs[hog_features]).flatten() > 0.5)\n",
    "\n",
    "metrics_df.loc[('DenseNet_Raw_HOG_features', 'test'), 'Recall'] = recall_score(\n",
    "    test_raw_hogs['target'], model_raw_hog.predict(test_raw_hogs[hog_features]).flatten() > 0.5)\n",
    "\n",
    "metrics_df.loc[('DenseNet_Raw_HOG_features', 'train'), 'Precision'] = precision_score(\n",
    "    train_raw_hogs['target'], model_raw_hog.predict(train_raw_hogs[hog_features]).flatten() > 0.5)\n",
    "\n",
    "metrics_df.loc[('DenseNet_Raw_HOG_features', 'test'), 'Precision'] = precision_score(\n",
    "    test_raw_hogs['target'], model_raw_hog.predict(test_raw_hogs[hog_features]).flatten() > 0.5)"
   ]
  },
  {
   "cell_type": "code",
   "execution_count": 131,
   "metadata": {},
   "outputs": [
    {
     "name": "stderr",
     "output_type": "stream",
     "text": [
      "/opt/conda/lib/python3.7/site-packages/sklearn/metrics/_classification.py:1221: UndefinedMetricWarning: Precision is ill-defined and being set to 0.0 due to no predicted samples. Use `zero_division` parameter to control this behavior.\n",
      "  _warn_prf(average, modifier, msg_start, len(result))\n",
      "/opt/conda/lib/python3.7/site-packages/sklearn/metrics/_classification.py:1221: UndefinedMetricWarning: Precision is ill-defined and being set to 0.0 due to no predicted samples. Use `zero_division` parameter to control this behavior.\n",
      "  _warn_prf(average, modifier, msg_start, len(result))\n"
     ]
    }
   ],
   "source": [
    "metrics_df.loc[('DenseNet_Viola_Jones_HOG_features', 'train'), 'Accuracy'] = accuracy_score(\n",
    "    train_viola_jones_hogs['target'],\n",
    "    model_viola_jones_hog.predict(train_viola_jones_hogs[viola_jones_hog_features]).flatten() > 0.5)\n",
    "\n",
    "metrics_df.loc[('DenseNet_Viola_Jones_HOG_features', 'test'), 'Accuracy'] = accuracy_score(\n",
    "    test_viola_jones_hogs['target'], \n",
    "    model_viola_jones_hog.predict(test_viola_jones_hogs[viola_jones_hog_features]).flatten() > 0.5)\n",
    "\n",
    "metrics_df.loc[('DenseNet_Viola_Jones_HOG_features', 'train'), 'AUC'] = roc_auc_score(\n",
    "    train_viola_jones_hogs['target'],\n",
    "    model_viola_jones_hog.predict(train_raw_hogs[viola_jones_hog_features]).flatten() > 0.5)\n",
    "\n",
    "metrics_df.loc[('DenseNet_Viola_Jones_HOG_features', 'test'), 'AUC'] = roc_auc_score(\n",
    "    test_viola_jones_hogs['target'],\n",
    "    model_viola_jones_hog.predict(test_viola_jones_hogs[viola_jones_hog_features]).flatten() > 0.5)\n",
    "\n",
    "metrics_df.loc[('DenseNet_Viola_Jones_HOG_features', 'train'), 'F1'] = f1_score(\n",
    "    train_viola_jones_hogs['target'], \n",
    "    model_viola_jones_hog.predict(train_viola_jones_hogs[viola_jones_hog_features]).flatten() > 0.5)\n",
    "\n",
    "metrics_df.loc[('DenseNet_Viola_Jones_HOG_features', 'test'), 'F1'] = f1_score(\n",
    "    test_viola_jones_hogs['target'],\n",
    "    model_viola_jones_hog.predict(test_viola_jones_hogs[viola_jones_hog_features]).flatten() > 0.5)\n",
    "\n",
    "metrics_df.loc[('DenseNet_Viola_Jones_HOG_features', 'train'), 'Recall'] = recall_score(\n",
    "    train_viola_jones_hogs['target'],\n",
    "    model_viola_jones_hog.predict(train_viola_jones_hogs[viola_jones_hog_features]).flatten() > 0.5)\n",
    "\n",
    "metrics_df.loc[('DenseNet_Viola_Jones_HOG_features', 'test'), 'Recall'] = recall_score(\n",
    "    test_viola_jones_hogs['target'],\n",
    "    model_viola_jones_hog.predict(test_viola_jones_hogs[viola_jones_hog_features]).flatten() > 0.5)\n",
    "\n",
    "metrics_df.loc[('DenseNet_Viola_Jones_HOG_features', 'train'), 'Precision'] = precision_score(\n",
    "    train_viola_jones_hogs['target'], \n",
    "    model_viola_jones_hog.predict(train_viola_jones_hogs[viola_jones_hog_features]).flatten() > 0.5)\n",
    "\n",
    "metrics_df.loc[('DenseNet_Viola_Jones_HOG_features', 'test'), 'Precision'] = precision_score(\n",
    "    test_viola_jones_hogs['target'], \n",
    "    model_viola_jones_hog.predict(test_viola_jones_hogs[viola_jones_hog_features]).flatten() > 0.5)"
   ]
  },
  {
   "cell_type": "code",
   "execution_count": 132,
   "metadata": {},
   "outputs": [],
   "source": [
    "metrics_df.loc[('DenseNet_PCA_HOG_features', 'train'), 'Accuracy'] = accuracy_score(\n",
    "    train_raw_hogs['target'], model_raw_hog_pca.predict(train_raw_hogs_transformed).flatten() > 0.5)\n",
    "\n",
    "metrics_df.loc[('DenseNet_PCA_HOG_features', 'test'), 'Accuracy'] = accuracy_score(\n",
    "    test_raw_hogs['target'], model_raw_hog_pca.predict(test_raw_hogs_transformed).flatten() > 0.5)\n",
    "\n",
    "metrics_df.loc[('DenseNet_PCA_HOG_features', 'train'), 'AUC'] = roc_auc_score(\n",
    "    train_raw_hogs['target'], model_raw_hog_pca.predict(train_raw_hogs_transformed).flatten() > 0.5)\n",
    "\n",
    "metrics_df.loc[('DenseNet_PCA_HOG_features', 'test'), 'AUC'] = roc_auc_score(\n",
    "    test_raw_hogs['target'], model_raw_hog_pca.predict(test_raw_hogs_transformed).flatten() > 0.5)\n",
    "\n",
    "metrics_df.loc[('DenseNet_PCA_HOG_features', 'train'), 'F1'] = f1_score(\n",
    "    train_raw_hogs['target'], model_raw_hog_pca.predict(train_raw_hogs_transformed).flatten() > 0.5)\n",
    "\n",
    "metrics_df.loc[('DenseNet_PCA_HOG_features', 'test'), 'F1'] = f1_score(\n",
    "    test_raw_hogs['target'], model_raw_hog_pca.predict(test_raw_hogs_transformed).flatten() > 0.5)\n",
    "\n",
    "metrics_df.loc[('DenseNet_PCA_HOG_features', 'train'), 'Recall'] = recall_score(\n",
    "    train_raw_hogs['target'], model_raw_hog_pca.predict(train_raw_hogs_transformed).flatten() > 0.5)\n",
    "\n",
    "metrics_df.loc[('DenseNet_PCA_HOG_features', 'test'), 'Recall'] = recall_score(\n",
    "    test_raw_hogs['target'], model_raw_hog_pca.predict(test_raw_hogs_transformed).flatten() > 0.5)\n",
    "\n",
    "metrics_df.loc[('DenseNet_PCA_HOG_features', 'train'), 'Precision'] = precision_score(\n",
    "    train_raw_hogs['target'], model_raw_hog_pca.predict(train_raw_hogs_transformed).flatten() > 0.5)\n",
    "\n",
    "metrics_df.loc[('DenseNet_PCA_HOG_features', 'test'), 'Precision'] = precision_score(\n",
    "    test_raw_hogs['target'], model_raw_hog_pca.predict(test_raw_hogs_transformed).flatten() > 0.5)"
   ]
  },
  {
   "cell_type": "code",
   "execution_count": 134,
   "metadata": {},
   "outputs": [],
   "source": [
    "metrics_df.loc[('DenseNet_PCA_Viola_Jones_HOG_features', 'train'), 'Accuracy'] = accuracy_score(\n",
    "    train_viola_jones_hogs['target'], \n",
    "    model_viola_jones_hog_pca.predict(train_viola_jones_hogs_transformed).flatten() > 0.5)\n",
    "\n",
    "metrics_df.loc[('DenseNet_PCA_Viola_Jones_HOG_features', 'test'), 'Accuracy'] = accuracy_score(\n",
    "    test_viola_jones_hogs['target'], \n",
    "    model_viola_jones_hog_pca.predict(test_viola_jones_hogs_transformed).flatten() > 0.5)\n",
    "\n",
    "metrics_df.loc[('DenseNet_PCA_Viola_Jones_HOG_features', 'train'), 'AUC'] = roc_auc_score(\n",
    "    train_viola_jones_hogs['target'], \n",
    "    model_viola_jones_hog_pca.predict(train_viola_jones_hogs_transformed).flatten() > 0.5)\n",
    "\n",
    "metrics_df.loc[('DenseNet_PCA_Viola_Jones_HOG_features', 'test'), 'AUC'] = roc_auc_score(\n",
    "    test_viola_jones_hogs['target'], \n",
    "    model_viola_jones_hog_pca.predict(test_viola_jones_hogs_transformed).flatten() > 0.5)\n",
    "\n",
    "metrics_df.loc[('DenseNet_PCA_Viola_Jones_HOG_features', 'train'), 'F1'] = f1_score(\n",
    "    train_viola_jones_hogs['target'],\n",
    "    model_viola_jones_hog_pca.predict(train_viola_jones_hogs_transformed).flatten() > 0.5)\n",
    "\n",
    "metrics_df.loc[('DenseNet_PCA_Viola_Jones_HOG_features', 'test'), 'F1'] = f1_score(\n",
    "    test_viola_jones_hogs['target'],\n",
    "    model_viola_jones_hog_pca.predict(test_viola_jones_hogs_transformed).flatten() > 0.5)\n",
    "\n",
    "metrics_df.loc[('DenseNet_PCA_Viola_Jones_HOG_features', 'train'), 'Recall'] = recall_score(\n",
    "    train_viola_jones_hogs['target'], \n",
    "    model_viola_jones_hog_pca.predict(train_viola_jones_hogs_transformed).flatten() > 0.5)\n",
    "\n",
    "metrics_df.loc[('DenseNet_PCA_Viola_Jones_HOG_features', 'test'), 'Recall'] = recall_score(\n",
    "    test_viola_jones_hogs['target'],\n",
    "    model_viola_jones_hog_pca.predict(test_viola_jones_hogs_transformed).flatten() > 0.5)\n",
    "\n",
    "metrics_df.loc[('DenseNet_PCA_Viola_Jones_HOG_features', 'train'), 'Precision'] = precision_score(\n",
    "    train_viola_jones_hogs['target'],\n",
    "    model_viola_jones_hog_pca.predict(train_viola_jones_hogs_transformed).flatten() > 0.5)\n",
    "\n",
    "metrics_df.loc[('DenseNet_PCA_Viola_Jones_HOG_features', 'test'), 'Precision'] = precision_score(\n",
    "    test_viola_jones_hogs['target'],\n",
    "    model_viola_jones_hog_pca.predict(test_viola_jones_hogs_transformed).flatten() > 0.5)"
   ]
  },
  {
   "cell_type": "code",
   "execution_count": 135,
   "metadata": {},
   "outputs": [
    {
     "data": {
      "text/html": [
       "<div>\n",
       "<style scoped>\n",
       "    .dataframe tbody tr th:only-of-type {\n",
       "        vertical-align: middle;\n",
       "    }\n",
       "\n",
       "    .dataframe tbody tr th {\n",
       "        vertical-align: top;\n",
       "    }\n",
       "\n",
       "    .dataframe thead th {\n",
       "        text-align: right;\n",
       "    }\n",
       "</style>\n",
       "<table border=\"1\" class=\"dataframe\">\n",
       "  <thead>\n",
       "    <tr style=\"text-align: right;\">\n",
       "      <th></th>\n",
       "      <th></th>\n",
       "      <th>Accuracy</th>\n",
       "      <th>AUC</th>\n",
       "      <th>F1</th>\n",
       "      <th>Recall</th>\n",
       "      <th>Precision</th>\n",
       "    </tr>\n",
       "  </thead>\n",
       "  <tbody>\n",
       "    <tr>\n",
       "      <th rowspan=\"2\" valign=\"top\">SVC_Raw_HOG_features</th>\n",
       "      <th>train</th>\n",
       "      <td>0.959669</td>\n",
       "      <td>0.907583</td>\n",
       "      <td>0.898172</td>\n",
       "      <td>0.815166</td>\n",
       "      <td>1</td>\n",
       "    </tr>\n",
       "    <tr>\n",
       "      <th>test</th>\n",
       "      <td>0.783133</td>\n",
       "      <td>0.5</td>\n",
       "      <td>0</td>\n",
       "      <td>0</td>\n",
       "      <td>0</td>\n",
       "    </tr>\n",
       "    <tr>\n",
       "      <th rowspan=\"2\" valign=\"top\">SVC_PCA_HOG_features</th>\n",
       "      <th>train</th>\n",
       "      <td>0.925543</td>\n",
       "      <td>0.829384</td>\n",
       "      <td>0.794286</td>\n",
       "      <td>0.658768</td>\n",
       "      <td>1</td>\n",
       "    </tr>\n",
       "    <tr>\n",
       "      <th>test</th>\n",
       "      <td>0.783133</td>\n",
       "      <td>0.5</td>\n",
       "      <td>0</td>\n",
       "      <td>0</td>\n",
       "      <td>0</td>\n",
       "    </tr>\n",
       "    <tr>\n",
       "      <th rowspan=\"2\" valign=\"top\">SVC_Viola_Jones_HOG_features</th>\n",
       "      <th>train</th>\n",
       "      <td>0.830403</td>\n",
       "      <td>0.5</td>\n",
       "      <td>0.364341</td>\n",
       "      <td>0.222749</td>\n",
       "      <td>1</td>\n",
       "    </tr>\n",
       "    <tr>\n",
       "      <th>test</th>\n",
       "      <td>0.783133</td>\n",
       "      <td>0.5</td>\n",
       "      <td>0</td>\n",
       "      <td>0</td>\n",
       "      <td>0</td>\n",
       "    </tr>\n",
       "    <tr>\n",
       "      <th rowspan=\"2\" valign=\"top\">SVC_PCA_Viola_Jones_HOG_features</th>\n",
       "      <th>train</th>\n",
       "      <td>0.830403</td>\n",
       "      <td>0.611374</td>\n",
       "      <td>0.364341</td>\n",
       "      <td>0.222749</td>\n",
       "      <td>1</td>\n",
       "    </tr>\n",
       "    <tr>\n",
       "      <th>test</th>\n",
       "      <td>0.783133</td>\n",
       "      <td>0.5</td>\n",
       "      <td>0</td>\n",
       "      <td>0</td>\n",
       "      <td>0</td>\n",
       "    </tr>\n",
       "    <tr>\n",
       "      <th rowspan=\"2\" valign=\"top\">DenseNet_Raw_HOG_features</th>\n",
       "      <th>train</th>\n",
       "      <td>1</td>\n",
       "      <td>1</td>\n",
       "      <td>1</td>\n",
       "      <td>1</td>\n",
       "      <td>1</td>\n",
       "    </tr>\n",
       "    <tr>\n",
       "      <th>test</th>\n",
       "      <td>0.79759</td>\n",
       "      <td>0.557436</td>\n",
       "      <td>0.222222</td>\n",
       "      <td>0.133333</td>\n",
       "      <td>0.666667</td>\n",
       "    </tr>\n",
       "    <tr>\n",
       "      <th rowspan=\"2\" valign=\"top\">DenseNet_PCA_HOG_features</th>\n",
       "      <th>train</th>\n",
       "      <td>1</td>\n",
       "      <td>1</td>\n",
       "      <td>1</td>\n",
       "      <td>1</td>\n",
       "      <td>1</td>\n",
       "    </tr>\n",
       "    <tr>\n",
       "      <th>test</th>\n",
       "      <td>0.814458</td>\n",
       "      <td>0.596325</td>\n",
       "      <td>0.330435</td>\n",
       "      <td>0.211111</td>\n",
       "      <td>0.76</td>\n",
       "    </tr>\n",
       "    <tr>\n",
       "      <th rowspan=\"2\" valign=\"top\">DenseNet_Viola_Jones_HOG_features</th>\n",
       "      <th>train</th>\n",
       "      <td>0.781799</td>\n",
       "      <td>0.5</td>\n",
       "      <td>0</td>\n",
       "      <td>0</td>\n",
       "      <td>0</td>\n",
       "    </tr>\n",
       "    <tr>\n",
       "      <th>test</th>\n",
       "      <td>0.783133</td>\n",
       "      <td>0.5</td>\n",
       "      <td>0</td>\n",
       "      <td>0</td>\n",
       "      <td>0</td>\n",
       "    </tr>\n",
       "    <tr>\n",
       "      <th rowspan=\"2\" valign=\"top\">DenseNet_PCA_Viola_Jones_HOG_features</th>\n",
       "      <th>train</th>\n",
       "      <td>0.836608</td>\n",
       "      <td>0.625592</td>\n",
       "      <td>0.401515</td>\n",
       "      <td>0.251185</td>\n",
       "      <td>1</td>\n",
       "    </tr>\n",
       "    <tr>\n",
       "      <th>test</th>\n",
       "      <td>0.785542</td>\n",
       "      <td>0.505556</td>\n",
       "      <td>0.021978</td>\n",
       "      <td>0.0111111</td>\n",
       "      <td>1</td>\n",
       "    </tr>\n",
       "  </tbody>\n",
       "</table>\n",
       "</div>"
      ],
      "text/plain": [
       "                                             Accuracy       AUC        F1  \\\n",
       "SVC_Raw_HOG_features                  train  0.959669  0.907583  0.898172   \n",
       "                                      test   0.783133       0.5         0   \n",
       "SVC_PCA_HOG_features                  train  0.925543  0.829384  0.794286   \n",
       "                                      test   0.783133       0.5         0   \n",
       "SVC_Viola_Jones_HOG_features          train  0.830403       0.5  0.364341   \n",
       "                                      test   0.783133       0.5         0   \n",
       "SVC_PCA_Viola_Jones_HOG_features      train  0.830403  0.611374  0.364341   \n",
       "                                      test   0.783133       0.5         0   \n",
       "DenseNet_Raw_HOG_features             train         1         1         1   \n",
       "                                      test    0.79759  0.557436  0.222222   \n",
       "DenseNet_PCA_HOG_features             train         1         1         1   \n",
       "                                      test   0.814458  0.596325  0.330435   \n",
       "DenseNet_Viola_Jones_HOG_features     train  0.781799       0.5         0   \n",
       "                                      test   0.783133       0.5         0   \n",
       "DenseNet_PCA_Viola_Jones_HOG_features train  0.836608  0.625592  0.401515   \n",
       "                                      test   0.785542  0.505556  0.021978   \n",
       "\n",
       "                                                Recall Precision  \n",
       "SVC_Raw_HOG_features                  train   0.815166         1  \n",
       "                                      test           0         0  \n",
       "SVC_PCA_HOG_features                  train   0.658768         1  \n",
       "                                      test           0         0  \n",
       "SVC_Viola_Jones_HOG_features          train   0.222749         1  \n",
       "                                      test           0         0  \n",
       "SVC_PCA_Viola_Jones_HOG_features      train   0.222749         1  \n",
       "                                      test           0         0  \n",
       "DenseNet_Raw_HOG_features             train          1         1  \n",
       "                                      test    0.133333  0.666667  \n",
       "DenseNet_PCA_HOG_features             train          1         1  \n",
       "                                      test    0.211111      0.76  \n",
       "DenseNet_Viola_Jones_HOG_features     train          0         0  \n",
       "                                      test           0         0  \n",
       "DenseNet_PCA_Viola_Jones_HOG_features train   0.251185         1  \n",
       "                                      test   0.0111111         1  "
      ]
     },
     "execution_count": 135,
     "metadata": {},
     "output_type": "execute_result"
    }
   ],
   "source": [
    "metrics_df"
   ]
  },
  {
   "cell_type": "code",
   "execution_count": null,
   "metadata": {},
   "outputs": [],
   "source": [
    "metrics_df.to_csv('all_metrics_lab3.csv', index=True)"
   ]
  }
 ],
 "metadata": {
  "kernelspec": {
   "display_name": "Python 3",
   "language": "python",
   "name": "python3"
  },
  "language_info": {
   "codemirror_mode": {
    "name": "ipython",
    "version": 3
   },
   "file_extension": ".py",
   "mimetype": "text/x-python",
   "name": "python",
   "nbconvert_exporter": "python",
   "pygments_lexer": "ipython3",
   "version": "3.6.9"
  }
 },
 "nbformat": 4,
 "nbformat_minor": 4
}
