{
 "cells": [
  {
   "cell_type": "code",
   "execution_count": 1,
   "metadata": {
    "_cell_guid": "b1076dfc-b9ad-4769-8c92-a6c4dae69d19",
    "_uuid": "8f2839f25d086af736a60e9eeb907d3b93b6e0e5"
   },
   "outputs": [
    {
     "name": "stdout",
     "output_type": "stream",
     "text": [
      "/kaggle/input/lab3-inceptionv3/test_images_inceptionv3.csv\n",
      "/kaggle/input/lab3-inceptionv3/train_images_inceptionv3.csv\n",
      "/kaggle/input/lab3-vgg16/test_images_vgg16.csv\n",
      "/kaggle/input/lab3-vgg16/train_images_vgg16.csv\n",
      "/kaggle/input/lab3-resnet50/train_images_resnet50.csv\n",
      "/kaggle/input/lab3-resnet50/test_images_resnet50.csv\n",
      "/kaggle/input/lab3-efficientnet/test_images_efficient_net.csv\n",
      "/kaggle/input/lab3-efficientnet/train_images_efficent_net.csv\n",
      "/kaggle/input/lab36-vgg19/train_images_vgg19.csv\n",
      "/kaggle/input/lab36-vgg19/test_images_vgg19.csv\n"
     ]
    }
   ],
   "source": [
    "# This Python 3 environment comes with many helpful analytics libraries installed\n",
    "# It is defined by the kaggle/python Docker image: https://github.com/kaggle/docker-python\n",
    "# For example, here's several helpful packages to load\n",
    "\n",
    "import numpy as np # linear algebra\n",
    "import pandas as pd # data processing, CSV file I/O (e.g. pd.read_csv)\n",
    "\n",
    "# Input data files are available in the read-only \"../input/\" directory\n",
    "# For example, running this (by clicking run or pressing Shift+Enter) will list all files under the input directory\n",
    "\n",
    "import os\n",
    "for dirname, _, filenames in os.walk('/kaggle/input'):\n",
    "    for filename in filenames:\n",
    "        print(os.path.join(dirname, filename))\n",
    "\n",
    "# You can write up to 20GB to the current directory (/kaggle/working/) that gets preserved as output when you create a version using \"Save & Run All\" \n",
    "# You can also write temporary files to /kaggle/temp/, but they won't be saved outside of the current session"
   ]
  },
  {
   "cell_type": "code",
   "execution_count": 4,
   "metadata": {},
   "outputs": [],
   "source": [
    "from sklearn.linear_model import LogisticRegression\n",
    "from sklearn.decomposition import PCA\n",
    "from sklearn.svm import SVC\n",
    "from sklearn.ensemble import GradientBoostingClassifier, RandomForestClassifier\n",
    "from sklearn.metrics import roc_auc_score, f1_score, precision_score, recall_score, accuracy_score\n",
    "import scikitplot as skplt\n",
    "import matplotlib.pyplot as plt\n",
    "import seaborn as sns"
   ]
  },
  {
   "cell_type": "code",
   "execution_count": 5,
   "metadata": {},
   "outputs": [],
   "source": [
    "from keras.models import Sequential\n",
    "from keras.layers import Dense"
   ]
  },
  {
   "cell_type": "markdown",
   "metadata": {},
   "source": [
    "# Use embeddings from pretrained models"
   ]
  },
  {
   "cell_type": "markdown",
   "metadata": {},
   "source": [
    "## VGG 16"
   ]
  },
  {
   "cell_type": "code",
   "execution_count": 2,
   "metadata": {
    "_cell_guid": "79c7e3d0-c299-4dcb-8224-4455121ee9b0",
    "_uuid": "d629ff2d2480ee46fbb7e2d37f6b5fab8052498a"
   },
   "outputs": [],
   "source": [
    "train_vgg16 = pd.read_csv('/kaggle/input/lab3-vgg16/train_images_vgg16.csv')\n",
    "test_vgg16 = pd.read_csv('/kaggle/input/lab3-vgg16/test_images_vgg16.csv')"
   ]
  },
  {
   "cell_type": "code",
   "execution_count": 3,
   "metadata": {},
   "outputs": [
    {
     "data": {
      "text/html": [
       "<div>\n",
       "<style scoped>\n",
       "    .dataframe tbody tr th:only-of-type {\n",
       "        vertical-align: middle;\n",
       "    }\n",
       "\n",
       "    .dataframe tbody tr th {\n",
       "        vertical-align: top;\n",
       "    }\n",
       "\n",
       "    .dataframe thead th {\n",
       "        text-align: right;\n",
       "    }\n",
       "</style>\n",
       "<table border=\"1\" class=\"dataframe\">\n",
       "  <thead>\n",
       "    <tr style=\"text-align: right;\">\n",
       "      <th></th>\n",
       "      <th>image_name</th>\n",
       "      <th>target</th>\n",
       "      <th>0</th>\n",
       "      <th>1</th>\n",
       "      <th>2</th>\n",
       "      <th>3</th>\n",
       "      <th>4</th>\n",
       "      <th>5</th>\n",
       "      <th>6</th>\n",
       "      <th>7</th>\n",
       "      <th>...</th>\n",
       "      <th>8182</th>\n",
       "      <th>8183</th>\n",
       "      <th>8184</th>\n",
       "      <th>8185</th>\n",
       "      <th>8186</th>\n",
       "      <th>8187</th>\n",
       "      <th>8188</th>\n",
       "      <th>8189</th>\n",
       "      <th>8190</th>\n",
       "      <th>8191</th>\n",
       "    </tr>\n",
       "  </thead>\n",
       "  <tbody>\n",
       "    <tr>\n",
       "      <th>0</th>\n",
       "      <td>/kaggle/input/real-and-fake-face-detection/rea...</td>\n",
       "      <td>0</td>\n",
       "      <td>0.0</td>\n",
       "      <td>0.00000</td>\n",
       "      <td>0.0</td>\n",
       "      <td>0.0</td>\n",
       "      <td>0.0</td>\n",
       "      <td>0.0</td>\n",
       "      <td>0.0</td>\n",
       "      <td>0.0</td>\n",
       "      <td>...</td>\n",
       "      <td>0.0</td>\n",
       "      <td>0.000000</td>\n",
       "      <td>0.0</td>\n",
       "      <td>0.0</td>\n",
       "      <td>57.007713</td>\n",
       "      <td>0.0</td>\n",
       "      <td>0.0</td>\n",
       "      <td>0.000000</td>\n",
       "      <td>0.000000</td>\n",
       "      <td>63.855167</td>\n",
       "    </tr>\n",
       "    <tr>\n",
       "      <th>1</th>\n",
       "      <td>/kaggle/input/lab3-datasets/russel_crowe_image...</td>\n",
       "      <td>1</td>\n",
       "      <td>0.0</td>\n",
       "      <td>52.81078</td>\n",
       "      <td>0.0</td>\n",
       "      <td>0.0</td>\n",
       "      <td>0.0</td>\n",
       "      <td>0.0</td>\n",
       "      <td>0.0</td>\n",
       "      <td>0.0</td>\n",
       "      <td>...</td>\n",
       "      <td>0.0</td>\n",
       "      <td>13.627598</td>\n",
       "      <td>0.0</td>\n",
       "      <td>0.0</td>\n",
       "      <td>0.000000</td>\n",
       "      <td>0.0</td>\n",
       "      <td>0.0</td>\n",
       "      <td>0.079455</td>\n",
       "      <td>10.876463</td>\n",
       "      <td>0.000000</td>\n",
       "    </tr>\n",
       "  </tbody>\n",
       "</table>\n",
       "<p>2 rows × 8194 columns</p>\n",
       "</div>"
      ],
      "text/plain": [
       "                                          image_name  target    0         1  \\\n",
       "0  /kaggle/input/real-and-fake-face-detection/rea...       0  0.0   0.00000   \n",
       "1  /kaggle/input/lab3-datasets/russel_crowe_image...       1  0.0  52.81078   \n",
       "\n",
       "     2    3    4    5    6    7  ...  8182       8183  8184  8185       8186  \\\n",
       "0  0.0  0.0  0.0  0.0  0.0  0.0  ...   0.0   0.000000   0.0   0.0  57.007713   \n",
       "1  0.0  0.0  0.0  0.0  0.0  0.0  ...   0.0  13.627598   0.0   0.0   0.000000   \n",
       "\n",
       "   8187  8188      8189       8190       8191  \n",
       "0   0.0   0.0  0.000000   0.000000  63.855167  \n",
       "1   0.0   0.0  0.079455  10.876463   0.000000  \n",
       "\n",
       "[2 rows x 8194 columns]"
      ]
     },
     "execution_count": 3,
     "metadata": {},
     "output_type": "execute_result"
    }
   ],
   "source": [
    "train_vgg16.head(2)"
   ]
  },
  {
   "cell_type": "markdown",
   "metadata": {},
   "source": [
    "### SVC"
   ]
  },
  {
   "cell_type": "code",
   "execution_count": 6,
   "metadata": {},
   "outputs": [],
   "source": [
    "svc = SVC(random_state=42, probability=True)"
   ]
  },
  {
   "cell_type": "code",
   "execution_count": 8,
   "metadata": {},
   "outputs": [],
   "source": [
    "## handle missing values\n",
    "train_vgg16[train_vgg16.columns[2:]] = train_vgg16[train_vgg16.columns[2:]].fillna(0)\n",
    "test_vgg16[test_vgg16.columns[2:]] = test_vgg16[test_vgg16.columns[2:]].fillna(0)"
   ]
  },
  {
   "cell_type": "code",
   "execution_count": 9,
   "metadata": {},
   "outputs": [
    {
     "name": "stdout",
     "output_type": "stream",
     "text": [
      "CPU times: user 47.7 s, sys: 69.2 ms, total: 47.7 s\n",
      "Wall time: 48 s\n"
     ]
    },
    {
     "data": {
      "text/plain": [
       "SVC(probability=True, random_state=42)"
      ]
     },
     "execution_count": 9,
     "metadata": {},
     "output_type": "execute_result"
    }
   ],
   "source": [
    "%%time\n",
    "svc.fit(train_vgg16[train_vgg16.columns[2:]], train_vgg16['target'])"
   ]
  },
  {
   "cell_type": "markdown",
   "metadata": {},
   "source": [
    "### Dense Net"
   ]
  },
  {
   "cell_type": "code",
   "execution_count": 10,
   "metadata": {},
   "outputs": [],
   "source": [
    "model_raw_vgg16 = Sequential()\n",
    "model_raw_vgg16.add(Dense(12, input_dim=len(train_vgg16.columns[2:]), activation='relu'))\n",
    "model_raw_vgg16.add(Dense(8, activation='relu'))\n",
    "model_raw_vgg16.add(Dense(1, activation='sigmoid'))"
   ]
  },
  {
   "cell_type": "code",
   "execution_count": 11,
   "metadata": {},
   "outputs": [
    {
     "name": "stdout",
     "output_type": "stream",
     "text": [
      "Model: \"sequential\"\n",
      "_________________________________________________________________\n",
      "Layer (type)                 Output Shape              Param #   \n",
      "=================================================================\n",
      "dense (Dense)                (None, 12)                98316     \n",
      "_________________________________________________________________\n",
      "dense_1 (Dense)              (None, 8)                 104       \n",
      "_________________________________________________________________\n",
      "dense_2 (Dense)              (None, 1)                 9         \n",
      "=================================================================\n",
      "Total params: 98,429\n",
      "Trainable params: 98,429\n",
      "Non-trainable params: 0\n",
      "_________________________________________________________________\n"
     ]
    }
   ],
   "source": [
    "model_raw_vgg16.summary()"
   ]
  },
  {
   "cell_type": "code",
   "execution_count": 12,
   "metadata": {},
   "outputs": [],
   "source": [
    "model_raw_vgg16.compile(loss='binary_crossentropy', optimizer='adam',\n",
    "                        metrics=['accuracy', 'AUC'])"
   ]
  },
  {
   "cell_type": "code",
   "execution_count": 13,
   "metadata": {},
   "outputs": [
    {
     "name": "stdout",
     "output_type": "stream",
     "text": [
      "Epoch 1/150\n",
      "97/97 [==============================] - 0s 2ms/step - loss: 0.9944 - accuracy: 0.7570 - auc: 0.4482\n",
      "Epoch 2/150\n",
      "97/97 [==============================] - 0s 2ms/step - loss: 0.5955 - accuracy: 0.7859 - auc: 0.6098\n",
      "Epoch 3/150\n",
      "97/97 [==============================] - 0s 2ms/step - loss: 0.5431 - accuracy: 0.7870 - auc: 0.7048\n",
      "Epoch 4/150\n",
      "97/97 [==============================] - 0s 2ms/step - loss: 0.4879 - accuracy: 0.7880 - auc: 0.7801\n",
      "Epoch 5/150\n",
      "97/97 [==============================] - 0s 3ms/step - loss: 0.4703 - accuracy: 0.7880 - auc: 0.7951\n",
      "Epoch 6/150\n",
      "97/97 [==============================] - 0s 3ms/step - loss: 0.4452 - accuracy: 0.7880 - auc: 0.8234\n",
      "Epoch 7/150\n",
      "97/97 [==============================] - 0s 2ms/step - loss: 0.4368 - accuracy: 0.7880 - auc: 0.8398\n",
      "Epoch 8/150\n",
      "97/97 [==============================] - 0s 2ms/step - loss: 0.4360 - accuracy: 0.7880 - auc: 0.8234\n",
      "Epoch 9/150\n",
      "97/97 [==============================] - 0s 2ms/step - loss: 0.4122 - accuracy: 0.7880 - auc: 0.8566\n",
      "Epoch 10/150\n",
      "97/97 [==============================] - 0s 3ms/step - loss: 0.4099 - accuracy: 0.7880 - auc: 0.8524\n",
      "Epoch 11/150\n",
      "97/97 [==============================] - 0s 3ms/step - loss: 0.4063 - accuracy: 0.7880 - auc: 0.8385\n",
      "Epoch 12/150\n",
      "97/97 [==============================] - 0s 3ms/step - loss: 0.3950 - accuracy: 0.7880 - auc: 0.8575\n",
      "Epoch 13/150\n",
      "97/97 [==============================] - 0s 2ms/step - loss: 0.3866 - accuracy: 0.7880 - auc: 0.8382\n",
      "Epoch 14/150\n",
      "97/97 [==============================] - 0s 2ms/step - loss: 0.3809 - accuracy: 0.7994 - auc: 0.8502\n",
      "Epoch 15/150\n",
      "97/97 [==============================] - 0s 2ms/step - loss: 0.4397 - accuracy: 0.7932 - auc: 0.7901\n",
      "Epoch 16/150\n",
      "97/97 [==============================] - 0s 2ms/step - loss: 0.3923 - accuracy: 0.7963 - auc: 0.8371\n",
      "Epoch 17/150\n",
      "97/97 [==============================] - 0s 2ms/step - loss: 0.3595 - accuracy: 0.8056 - auc: 0.8269\n",
      "Epoch 18/150\n",
      "97/97 [==============================] - 0s 2ms/step - loss: 0.3415 - accuracy: 0.8139 - auc: 0.8607\n",
      "Epoch 19/150\n",
      "97/97 [==============================] - 0s 2ms/step - loss: 0.3346 - accuracy: 0.8159 - auc: 0.8381\n",
      "Epoch 20/150\n",
      "97/97 [==============================] - 0s 3ms/step - loss: 0.3708 - accuracy: 0.8149 - auc: 0.8377\n",
      "Epoch 21/150\n",
      "97/97 [==============================] - 0s 3ms/step - loss: 0.3666 - accuracy: 0.8201 - auc: 0.8387\n",
      "Epoch 22/150\n",
      "97/97 [==============================] - 0s 2ms/step - loss: 0.3155 - accuracy: 0.8221 - auc: 0.8623\n",
      "Epoch 23/150\n",
      "97/97 [==============================] - 0s 3ms/step - loss: 0.3334 - accuracy: 0.8242 - auc: 0.8502\n",
      "Epoch 24/150\n",
      "97/97 [==============================] - 0s 3ms/step - loss: 0.3737 - accuracy: 0.8263 - auc: 0.7826\n",
      "Epoch 25/150\n",
      "97/97 [==============================] - 0s 2ms/step - loss: 0.3795 - accuracy: 0.8252 - auc: 0.8088\n",
      "Epoch 26/150\n",
      "97/97 [==============================] - 0s 2ms/step - loss: 0.3147 - accuracy: 0.8304 - auc: 0.8591\n",
      "Epoch 27/150\n",
      "97/97 [==============================] - 0s 3ms/step - loss: 0.3125 - accuracy: 0.8294 - auc: 0.8751\n",
      "Epoch 28/150\n",
      "97/97 [==============================] - 0s 3ms/step - loss: 0.2968 - accuracy: 0.8283 - auc: 0.8815\n",
      "Epoch 29/150\n",
      "97/97 [==============================] - 0s 2ms/step - loss: 0.2870 - accuracy: 0.8325 - auc: 0.8807\n",
      "Epoch 30/150\n",
      "97/97 [==============================] - 0s 2ms/step - loss: 0.2757 - accuracy: 0.8314 - auc: 0.8946\n",
      "Epoch 31/150\n",
      "97/97 [==============================] - 0s 2ms/step - loss: 0.2839 - accuracy: 0.8314 - auc: 0.8842\n",
      "Epoch 32/150\n",
      "97/97 [==============================] - 0s 2ms/step - loss: 0.2440 - accuracy: 0.8345 - auc: 0.9200\n",
      "Epoch 33/150\n",
      "97/97 [==============================] - 0s 2ms/step - loss: 0.2380 - accuracy: 0.8345 - auc: 0.9145\n",
      "Epoch 34/150\n",
      "97/97 [==============================] - 0s 2ms/step - loss: 0.2488 - accuracy: 0.8345 - auc: 0.9090\n",
      "Epoch 35/150\n",
      "97/97 [==============================] - 0s 2ms/step - loss: 0.2577 - accuracy: 0.8345 - auc: 0.9059\n",
      "Epoch 36/150\n",
      "97/97 [==============================] - 0s 3ms/step - loss: 0.2482 - accuracy: 0.8345 - auc: 0.9171\n",
      "Epoch 37/150\n",
      "97/97 [==============================] - 0s 3ms/step - loss: 0.2738 - accuracy: 0.8304 - auc: 0.9068\n",
      "Epoch 38/150\n",
      "97/97 [==============================] - 0s 2ms/step - loss: 0.2457 - accuracy: 0.8263 - auc: 0.9274\n",
      "Epoch 39/150\n",
      "97/97 [==============================] - 0s 2ms/step - loss: 0.2167 - accuracy: 0.8563 - auc: 0.9392\n",
      "Epoch 40/150\n",
      "97/97 [==============================] - 0s 3ms/step - loss: 0.2170 - accuracy: 0.8780 - auc: 0.9418\n",
      "Epoch 41/150\n",
      "97/97 [==============================] - 0s 2ms/step - loss: 0.2154 - accuracy: 0.8769 - auc: 0.9356\n",
      "Epoch 42/150\n",
      "97/97 [==============================] - 0s 2ms/step - loss: 0.1978 - accuracy: 0.8873 - auc: 0.9472\n",
      "Epoch 43/150\n",
      "97/97 [==============================] - 0s 3ms/step - loss: 0.1911 - accuracy: 0.8966 - auc: 0.9451\n",
      "Epoch 44/150\n",
      "97/97 [==============================] - 0s 3ms/step - loss: 0.1975 - accuracy: 0.8873 - auc: 0.9430\n",
      "Epoch 45/150\n",
      "97/97 [==============================] - 0s 2ms/step - loss: 0.1905 - accuracy: 0.8925 - auc: 0.9413\n",
      "Epoch 46/150\n",
      "97/97 [==============================] - 0s 2ms/step - loss: 0.1868 - accuracy: 0.8945 - auc: 0.9473\n",
      "Epoch 47/150\n",
      "97/97 [==============================] - 0s 2ms/step - loss: 0.1836 - accuracy: 0.8997 - auc: 0.9479\n",
      "Epoch 48/150\n",
      "97/97 [==============================] - 0s 2ms/step - loss: 0.1838 - accuracy: 0.8997 - auc: 0.9462\n",
      "Epoch 49/150\n",
      "97/97 [==============================] - 0s 2ms/step - loss: 0.1867 - accuracy: 0.8987 - auc: 0.9421\n",
      "Epoch 50/150\n",
      "97/97 [==============================] - 0s 2ms/step - loss: 0.1761 - accuracy: 0.9059 - auc: 0.9518\n",
      "Epoch 51/150\n",
      "97/97 [==============================] - 0s 2ms/step - loss: 0.1706 - accuracy: 0.9080 - auc: 0.9491\n",
      "Epoch 52/150\n",
      "97/97 [==============================] - 0s 2ms/step - loss: 0.1713 - accuracy: 0.9069 - auc: 0.9532\n",
      "Epoch 53/150\n",
      "97/97 [==============================] - 0s 3ms/step - loss: 0.1690 - accuracy: 0.9090 - auc: 0.9526\n",
      "Epoch 54/150\n",
      "97/97 [==============================] - 0s 3ms/step - loss: 0.1685 - accuracy: 0.9090 - auc: 0.9512\n",
      "Epoch 55/150\n",
      "97/97 [==============================] - 0s 3ms/step - loss: 0.1799 - accuracy: 0.9059 - auc: 0.9491\n",
      "Epoch 56/150\n",
      "97/97 [==============================] - 0s 3ms/step - loss: 0.1666 - accuracy: 0.9121 - auc: 0.9535\n",
      "Epoch 57/150\n",
      "97/97 [==============================] - 0s 3ms/step - loss: 0.1674 - accuracy: 0.9152 - auc: 0.9552\n",
      "Epoch 58/150\n",
      "97/97 [==============================] - 0s 3ms/step - loss: 0.1742 - accuracy: 0.9059 - auc: 0.9552\n",
      "Epoch 59/150\n",
      "97/97 [==============================] - 0s 3ms/step - loss: 0.1733 - accuracy: 0.9080 - auc: 0.9550\n",
      "Epoch 60/150\n",
      "97/97 [==============================] - 0s 3ms/step - loss: 0.1894 - accuracy: 0.9162 - auc: 0.9559\n",
      "Epoch 61/150\n",
      "97/97 [==============================] - 0s 3ms/step - loss: 0.1748 - accuracy: 0.9100 - auc: 0.9524\n",
      "Epoch 62/150\n",
      "97/97 [==============================] - 0s 3ms/step - loss: 0.1655 - accuracy: 0.9214 - auc: 0.9604\n",
      "Epoch 63/150\n",
      "97/97 [==============================] - 0s 3ms/step - loss: 0.1547 - accuracy: 0.9255 - auc: 0.9597\n",
      "Epoch 64/150\n",
      "97/97 [==============================] - 0s 3ms/step - loss: 0.1490 - accuracy: 0.9297 - auc: 0.9635\n",
      "Epoch 65/150\n",
      "97/97 [==============================] - 0s 4ms/step - loss: 0.1462 - accuracy: 0.9297 - auc: 0.9646\n",
      "Epoch 66/150\n",
      "97/97 [==============================] - 0s 4ms/step - loss: 0.1444 - accuracy: 0.9307 - auc: 0.9636\n",
      "Epoch 67/150\n",
      "97/97 [==============================] - 0s 3ms/step - loss: 0.1447 - accuracy: 0.9297 - auc: 0.9658\n",
      "Epoch 68/150\n",
      "97/97 [==============================] - 0s 3ms/step - loss: 0.1519 - accuracy: 0.9255 - auc: 0.9644\n",
      "Epoch 69/150\n",
      "97/97 [==============================] - 0s 3ms/step - loss: 0.1562 - accuracy: 0.9338 - auc: 0.9656\n",
      "Epoch 70/150\n",
      "97/97 [==============================] - 0s 3ms/step - loss: 0.1447 - accuracy: 0.9359 - auc: 0.9739\n",
      "Epoch 71/150\n",
      "97/97 [==============================] - 0s 3ms/step - loss: 0.1324 - accuracy: 0.9462 - auc: 0.9728\n",
      "Epoch 72/150\n",
      "97/97 [==============================] - 0s 2ms/step - loss: 0.1262 - accuracy: 0.9473 - auc: 0.9770\n",
      "Epoch 73/150\n",
      "97/97 [==============================] - 0s 2ms/step - loss: 0.1429 - accuracy: 0.9421 - auc: 0.9727\n",
      "Epoch 74/150\n",
      "97/97 [==============================] - 0s 3ms/step - loss: 0.1222 - accuracy: 0.9504 - auc: 0.9793\n",
      "Epoch 75/150\n",
      "97/97 [==============================] - 0s 2ms/step - loss: 0.1061 - accuracy: 0.9597 - auc: 0.9793\n",
      "Epoch 76/150\n",
      "97/97 [==============================] - 0s 2ms/step - loss: 0.1038 - accuracy: 0.9597 - auc: 0.9805\n",
      "Epoch 77/150\n",
      "97/97 [==============================] - 0s 2ms/step - loss: 0.1029 - accuracy: 0.9617 - auc: 0.9836\n",
      "Epoch 78/150\n",
      "97/97 [==============================] - 0s 2ms/step - loss: 0.0936 - accuracy: 0.9659 - auc: 0.9834\n",
      "Epoch 79/150\n",
      "97/97 [==============================] - 0s 2ms/step - loss: 0.0918 - accuracy: 0.9669 - auc: 0.9836\n",
      "Epoch 80/150\n",
      "97/97 [==============================] - 0s 2ms/step - loss: 0.0918 - accuracy: 0.9659 - auc: 0.9818\n",
      "Epoch 81/150\n",
      "97/97 [==============================] - 0s 3ms/step - loss: 0.0909 - accuracy: 0.9669 - auc: 0.9821\n",
      "Epoch 82/150\n",
      "97/97 [==============================] - 0s 2ms/step - loss: 0.0904 - accuracy: 0.9669 - auc: 0.9840\n",
      "Epoch 83/150\n",
      "97/97 [==============================] - 0s 2ms/step - loss: 0.0902 - accuracy: 0.9669 - auc: 0.9809\n",
      "Epoch 84/150\n",
      "97/97 [==============================] - 0s 2ms/step - loss: 0.0900 - accuracy: 0.9669 - auc: 0.9840\n",
      "Epoch 85/150\n",
      "97/97 [==============================] - 0s 2ms/step - loss: 0.0900 - accuracy: 0.9669 - auc: 0.9830\n",
      "Epoch 86/150\n",
      "97/97 [==============================] - 0s 2ms/step - loss: 0.1025 - accuracy: 0.9628 - auc: 0.9794\n",
      "Epoch 87/150\n",
      "97/97 [==============================] - 0s 2ms/step - loss: 0.0949 - accuracy: 0.9648 - auc: 0.9837\n",
      "Epoch 88/150\n",
      "97/97 [==============================] - 0s 2ms/step - loss: 0.0884 - accuracy: 0.9690 - auc: 0.9809\n",
      "Epoch 89/150\n",
      "97/97 [==============================] - 0s 2ms/step - loss: 0.0846 - accuracy: 0.9700 - auc: 0.9829\n",
      "Epoch 90/150\n",
      "97/97 [==============================] - 0s 2ms/step - loss: 0.0849 - accuracy: 0.9690 - auc: 0.9842\n",
      "Epoch 91/150\n",
      "97/97 [==============================] - 0s 2ms/step - loss: 0.0910 - accuracy: 0.9669 - auc: 0.9824\n",
      "Epoch 92/150\n",
      "97/97 [==============================] - 0s 2ms/step - loss: 0.0823 - accuracy: 0.9710 - auc: 0.9860\n",
      "Epoch 93/150\n",
      "97/97 [==============================] - 0s 2ms/step - loss: 0.0852 - accuracy: 0.9700 - auc: 0.9852\n",
      "Epoch 94/150\n",
      "97/97 [==============================] - 0s 2ms/step - loss: 0.0821 - accuracy: 0.9710 - auc: 0.9838\n",
      "Epoch 95/150\n",
      "97/97 [==============================] - 0s 3ms/step - loss: 0.0825 - accuracy: 0.9710 - auc: 0.9859\n",
      "Epoch 96/150\n",
      "97/97 [==============================] - 0s 3ms/step - loss: 0.1031 - accuracy: 0.9669 - auc: 0.9807\n",
      "Epoch 97/150\n",
      "97/97 [==============================] - 0s 3ms/step - loss: 0.0922 - accuracy: 0.9690 - auc: 0.9832\n",
      "Epoch 98/150\n",
      "97/97 [==============================] - 0s 3ms/step - loss: 0.0895 - accuracy: 0.9659 - auc: 0.9839\n",
      "Epoch 99/150\n",
      "97/97 [==============================] - 0s 3ms/step - loss: 0.0840 - accuracy: 0.9700 - auc: 0.9863\n",
      "Epoch 100/150\n",
      "97/97 [==============================] - 0s 2ms/step - loss: 0.0827 - accuracy: 0.9710 - auc: 0.9831\n",
      "Epoch 101/150\n",
      "97/97 [==============================] - 0s 2ms/step - loss: 0.0828 - accuracy: 0.9710 - auc: 0.9860\n",
      "Epoch 102/150\n",
      "97/97 [==============================] - 0s 2ms/step - loss: 0.0801 - accuracy: 0.9721 - auc: 0.9865\n",
      "Epoch 103/150\n",
      "97/97 [==============================] - 0s 2ms/step - loss: 0.0800 - accuracy: 0.9721 - auc: 0.9854\n",
      "Epoch 104/150\n",
      "97/97 [==============================] - 0s 2ms/step - loss: 0.0800 - accuracy: 0.9721 - auc: 0.9857\n",
      "Epoch 105/150\n",
      "97/97 [==============================] - 0s 2ms/step - loss: 0.0799 - accuracy: 0.9721 - auc: 0.9865\n",
      "Epoch 106/150\n",
      "97/97 [==============================] - 0s 2ms/step - loss: 0.0799 - accuracy: 0.9721 - auc: 0.9865\n",
      "Epoch 107/150\n",
      "97/97 [==============================] - 0s 2ms/step - loss: 0.0800 - accuracy: 0.9721 - auc: 0.9840\n",
      "Epoch 108/150\n",
      "97/97 [==============================] - 0s 2ms/step - loss: 0.0800 - accuracy: 0.9721 - auc: 0.9865\n",
      "Epoch 109/150\n",
      "97/97 [==============================] - 0s 2ms/step - loss: 0.0800 - accuracy: 0.9721 - auc: 0.9865\n",
      "Epoch 110/150\n",
      "97/97 [==============================] - 0s 3ms/step - loss: 0.0799 - accuracy: 0.9721 - auc: 0.9865\n",
      "Epoch 111/150\n",
      "97/97 [==============================] - 0s 2ms/step - loss: 0.0800 - accuracy: 0.9721 - auc: 0.9847\n",
      "Epoch 112/150\n",
      "97/97 [==============================] - 0s 2ms/step - loss: 0.0799 - accuracy: 0.9721 - auc: 0.9843\n",
      "Epoch 113/150\n",
      "97/97 [==============================] - 0s 2ms/step - loss: 0.0799 - accuracy: 0.9721 - auc: 0.9865\n",
      "Epoch 114/150\n",
      "97/97 [==============================] - 0s 2ms/step - loss: 0.0799 - accuracy: 0.9721 - auc: 0.9853\n",
      "Epoch 115/150\n",
      "97/97 [==============================] - 0s 2ms/step - loss: 0.0804 - accuracy: 0.9721 - auc: 0.9864\n",
      "Epoch 116/150\n",
      "97/97 [==============================] - 0s 2ms/step - loss: 0.0819 - accuracy: 0.9710 - auc: 0.9860\n",
      "Epoch 117/150\n",
      "97/97 [==============================] - 0s 3ms/step - loss: 0.0820 - accuracy: 0.9710 - auc: 0.9840\n",
      "Epoch 118/150\n",
      "97/97 [==============================] - 0s 2ms/step - loss: 0.0819 - accuracy: 0.9710 - auc: 0.9843\n",
      "Epoch 119/150\n",
      "97/97 [==============================] - 0s 2ms/step - loss: 0.0819 - accuracy: 0.9710 - auc: 0.9860\n",
      "Epoch 120/150\n",
      "97/97 [==============================] - 0s 2ms/step - loss: 0.0819 - accuracy: 0.9710 - auc: 0.9836\n",
      "Epoch 121/150\n",
      "97/97 [==============================] - 0s 2ms/step - loss: 0.0819 - accuracy: 0.9710 - auc: 0.9850\n",
      "Epoch 122/150\n",
      "97/97 [==============================] - 0s 2ms/step - loss: 0.0819 - accuracy: 0.9710 - auc: 0.9860\n",
      "Epoch 123/150\n",
      "97/97 [==============================] - 0s 2ms/step - loss: 0.0820 - accuracy: 0.9710 - auc: 0.9859\n",
      "Epoch 124/150\n",
      "97/97 [==============================] - 0s 2ms/step - loss: 0.1582 - accuracy: 0.9586 - auc: 0.9718\n",
      "Epoch 125/150\n",
      "97/97 [==============================] - 0s 2ms/step - loss: 0.1421 - accuracy: 0.9483 - auc: 0.9684\n",
      "Epoch 126/150\n",
      "97/97 [==============================] - 0s 2ms/step - loss: 0.1469 - accuracy: 0.9524 - auc: 0.9772\n",
      "Epoch 127/150\n",
      "97/97 [==============================] - 0s 2ms/step - loss: 0.0917 - accuracy: 0.9679 - auc: 0.9854\n",
      "Epoch 128/150\n",
      "97/97 [==============================] - 0s 2ms/step - loss: 0.0810 - accuracy: 0.9721 - auc: 0.9870\n",
      "Epoch 129/150\n",
      "97/97 [==============================] - 0s 2ms/step - loss: 0.0865 - accuracy: 0.9700 - auc: 0.9860\n",
      "Epoch 130/150\n",
      "97/97 [==============================] - 0s 2ms/step - loss: 0.0785 - accuracy: 0.9731 - auc: 0.9865\n",
      "Epoch 131/150\n",
      "97/97 [==============================] - 0s 2ms/step - loss: 0.0782 - accuracy: 0.9731 - auc: 0.9860\n",
      "Epoch 132/150\n",
      "97/97 [==============================] - 0s 2ms/step - loss: 0.0781 - accuracy: 0.9731 - auc: 0.9870\n",
      "Epoch 133/150\n",
      "97/97 [==============================] - 0s 2ms/step - loss: 0.0780 - accuracy: 0.9731 - auc: 0.9870\n",
      "Epoch 134/150\n",
      "97/97 [==============================] - 0s 2ms/step - loss: 0.0796 - accuracy: 0.9731 - auc: 0.9848\n",
      "Epoch 135/150\n",
      "97/97 [==============================] - 0s 4ms/step - loss: 0.0780 - accuracy: 0.9731 - auc: 0.9870\n",
      "Epoch 136/150\n",
      "97/97 [==============================] - 0s 3ms/step - loss: 0.0780 - accuracy: 0.9731 - auc: 0.9870\n",
      "Epoch 137/150\n",
      "97/97 [==============================] - 0s 3ms/step - loss: 0.0785 - accuracy: 0.9731 - auc: 0.9869\n",
      "Epoch 138/150\n",
      "97/97 [==============================] - 0s 3ms/step - loss: 0.0779 - accuracy: 0.9731 - auc: 0.9867\n",
      "Epoch 139/150\n",
      "97/97 [==============================] - 0s 3ms/step - loss: 0.0779 - accuracy: 0.9731 - auc: 0.9870\n",
      "Epoch 140/150\n",
      "97/97 [==============================] - 0s 3ms/step - loss: 0.0779 - accuracy: 0.9731 - auc: 0.9870\n",
      "Epoch 141/150\n",
      "97/97 [==============================] - 0s 3ms/step - loss: 0.0779 - accuracy: 0.9731 - auc: 0.9870\n",
      "Epoch 142/150\n",
      "97/97 [==============================] - 0s 2ms/step - loss: 0.0779 - accuracy: 0.9731 - auc: 0.9870\n",
      "Epoch 143/150\n"
     ]
    },
    {
     "name": "stdout",
     "output_type": "stream",
     "text": [
      "97/97 [==============================] - 0s 2ms/step - loss: 0.0779 - accuracy: 0.9731 - auc: 0.9849\n",
      "Epoch 144/150\n",
      "97/97 [==============================] - 0s 3ms/step - loss: 0.0779 - accuracy: 0.9731 - auc: 0.9870\n",
      "Epoch 145/150\n",
      "97/97 [==============================] - 0s 2ms/step - loss: 0.0779 - accuracy: 0.9731 - auc: 0.9846\n",
      "Epoch 146/150\n",
      "97/97 [==============================] - 0s 2ms/step - loss: 0.0779 - accuracy: 0.9731 - auc: 0.9856\n",
      "Epoch 147/150\n",
      "97/97 [==============================] - 0s 3ms/step - loss: 0.0780 - accuracy: 0.9731 - auc: 0.9844\n",
      "Epoch 148/150\n",
      "97/97 [==============================] - 0s 2ms/step - loss: 0.0779 - accuracy: 0.9731 - auc: 0.9870\n",
      "Epoch 149/150\n",
      "97/97 [==============================] - 0s 2ms/step - loss: 0.0779 - accuracy: 0.9731 - auc: 0.9850\n",
      "Epoch 150/150\n",
      "97/97 [==============================] - 0s 2ms/step - loss: 0.0779 - accuracy: 0.9731 - auc: 0.9828\n",
      "CPU times: user 1min 3s, sys: 8.84 s, total: 1min 12s\n",
      "Wall time: 38.5 s\n"
     ]
    },
    {
     "data": {
      "text/plain": [
       "<tensorflow.python.keras.callbacks.History at 0x7fde104e9c10>"
      ]
     },
     "execution_count": 13,
     "metadata": {},
     "output_type": "execute_result"
    }
   ],
   "source": [
    "%%time\n",
    "model_raw_vgg16.fit(train_vgg16[train_vgg16.columns[2:]], train_vgg16['target'],\n",
    "                    epochs=150, batch_size=10)"
   ]
  },
  {
   "cell_type": "markdown",
   "metadata": {},
   "source": [
    "#### Metrics per iteration for Dense Net"
   ]
  },
  {
   "cell_type": "code",
   "execution_count": 14,
   "metadata": {},
   "outputs": [
    {
     "data": {
      "image/png": "[encoded data removed]",
      "text/plain": [
       "<Figure size 432x288 with 1 Axes>"
      ]
     },
     "metadata": {
      "needs_background": "light"
     },
     "output_type": "display_data"
    }
   ],
   "source": [
    "plt.plot(model_raw_vgg16.history.history['auc']);\n",
    "plt.title('ROC-AUC per number of iterations');\n",
    "plt.xlabel('N iterations');\n",
    "plt.ylabel('ROC AUC');"
   ]
  },
  {
   "cell_type": "code",
   "execution_count": 15,
   "metadata": {},
   "outputs": [
    {
     "data": {
      "image/png": "[encoded data removed]",
      "text/plain": [
       "<Figure size 432x288 with 1 Axes>"
      ]
     },
     "metadata": {
      "needs_background": "light"
     },
     "output_type": "display_data"
    }
   ],
   "source": [
    "plt.plot(model_raw_vgg16.history.history['accuracy']);\n",
    "plt.title('ROC-AUC per number of iterations');\n",
    "plt.xlabel('N iterations');\n",
    "plt.ylabel('ROC AUC');"
   ]
  },
  {
   "cell_type": "markdown",
   "metadata": {},
   "source": [
    "### Logistic Regression"
   ]
  },
  {
   "cell_type": "code",
   "execution_count": 16,
   "metadata": {},
   "outputs": [],
   "source": [
    "log_reg = LogisticRegression(random_state=42)"
   ]
  },
  {
   "cell_type": "code",
   "execution_count": 17,
   "metadata": {},
   "outputs": [
    {
     "name": "stdout",
     "output_type": "stream",
     "text": [
      "CPU times: user 3.71 s, sys: 65 ms, total: 3.78 s\n",
      "Wall time: 2.03 s\n"
     ]
    },
    {
     "name": "stderr",
     "output_type": "stream",
     "text": [
      "/opt/conda/lib/python3.7/site-packages/sklearn/linear_model/_logistic.py:764: ConvergenceWarning: lbfgs failed to converge (status=1):\n",
      "STOP: TOTAL NO. of ITERATIONS REACHED LIMIT.\n",
      "\n",
      "Increase the number of iterations (max_iter) or scale the data as shown in:\n",
      "    https://scikit-learn.org/stable/modules/preprocessing.html\n",
      "Please also refer to the documentation for alternative solver options:\n",
      "    https://scikit-learn.org/stable/modules/linear_model.html#logistic-regression\n",
      "  extra_warning_msg=_LOGISTIC_SOLVER_CONVERGENCE_MSG)\n"
     ]
    },
    {
     "data": {
      "text/plain": [
       "LogisticRegression(random_state=42)"
      ]
     },
     "execution_count": 17,
     "metadata": {},
     "output_type": "execute_result"
    }
   ],
   "source": [
    "%%time\n",
    "log_reg.fit(train_vgg16[train_vgg16.columns[2:]], train_vgg16['target'])"
   ]
  },
  {
   "cell_type": "markdown",
   "metadata": {},
   "source": [
    "### GradientBoositng"
   ]
  },
  {
   "cell_type": "code",
   "execution_count": 18,
   "metadata": {},
   "outputs": [],
   "source": [
    "gbr = GradientBoostingClassifier(random_state=42)"
   ]
  },
  {
   "cell_type": "code",
   "execution_count": 19,
   "metadata": {},
   "outputs": [
    {
     "name": "stdout",
     "output_type": "stream",
     "text": [
      "CPU times: user 22.4 s, sys: 6.23 ms, total: 22.4 s\n",
      "Wall time: 22.5 s\n"
     ]
    },
    {
     "data": {
      "text/plain": [
       "GradientBoostingClassifier(random_state=42)"
      ]
     },
     "execution_count": 19,
     "metadata": {},
     "output_type": "execute_result"
    }
   ],
   "source": [
    "%%time\n",
    "gbr.fit(train_vgg16[train_vgg16.columns[2:]], train_vgg16['target'])"
   ]
  },
  {
   "cell_type": "markdown",
   "metadata": {},
   "source": [
    "### RandomForest"
   ]
  },
  {
   "cell_type": "code",
   "execution_count": 20,
   "metadata": {},
   "outputs": [],
   "source": [
    "rf = RandomForestClassifier(random_state=42)"
   ]
  },
  {
   "cell_type": "code",
   "execution_count": 21,
   "metadata": {},
   "outputs": [
    {
     "name": "stdout",
     "output_type": "stream",
     "text": [
      "CPU times: user 1.34 s, sys: 0 ns, total: 1.34 s\n",
      "Wall time: 1.35 s\n"
     ]
    },
    {
     "data": {
      "text/plain": [
       "RandomForestClassifier(random_state=42)"
      ]
     },
     "execution_count": 21,
     "metadata": {},
     "output_type": "execute_result"
    }
   ],
   "source": [
    "%%time\n",
    "rf.fit(train_vgg16[train_vgg16.columns[2:]], train_vgg16['target'])"
   ]
  },
  {
   "cell_type": "markdown",
   "metadata": {},
   "source": [
    "## VGG 19"
   ]
  },
  {
   "cell_type": "code",
   "execution_count": 22,
   "metadata": {
    "_cell_guid": "79c7e3d0-c299-4dcb-8224-4455121ee9b0",
    "_uuid": "d629ff2d2480ee46fbb7e2d37f6b5fab8052498a"
   },
   "outputs": [],
   "source": [
    "train_vgg19 = pd.read_csv('/kaggle/input/lab36-vgg19/train_images_vgg19.csv')\n",
    "test_vgg19 = pd.read_csv('/kaggle/input/lab36-vgg19/test_images_vgg19.csv')"
   ]
  },
  {
   "cell_type": "code",
   "execution_count": 23,
   "metadata": {},
   "outputs": [
    {
     "data": {
      "text/html": [
       "<div>\n",
       "<style scoped>\n",
       "    .dataframe tbody tr th:only-of-type {\n",
       "        vertical-align: middle;\n",
       "    }\n",
       "\n",
       "    .dataframe tbody tr th {\n",
       "        vertical-align: top;\n",
       "    }\n",
       "\n",
       "    .dataframe thead th {\n",
       "        text-align: right;\n",
       "    }\n",
       "</style>\n",
       "<table border=\"1\" class=\"dataframe\">\n",
       "  <thead>\n",
       "    <tr style=\"text-align: right;\">\n",
       "      <th></th>\n",
       "      <th>image_name</th>\n",
       "      <th>target</th>\n",
       "      <th>0</th>\n",
       "      <th>1</th>\n",
       "      <th>2</th>\n",
       "      <th>3</th>\n",
       "      <th>4</th>\n",
       "      <th>5</th>\n",
       "      <th>6</th>\n",
       "      <th>7</th>\n",
       "      <th>...</th>\n",
       "      <th>8182</th>\n",
       "      <th>8183</th>\n",
       "      <th>8184</th>\n",
       "      <th>8185</th>\n",
       "      <th>8186</th>\n",
       "      <th>8187</th>\n",
       "      <th>8188</th>\n",
       "      <th>8189</th>\n",
       "      <th>8190</th>\n",
       "      <th>8191</th>\n",
       "    </tr>\n",
       "  </thead>\n",
       "  <tbody>\n",
       "    <tr>\n",
       "      <th>0</th>\n",
       "      <td>/kaggle/input/real-and-fake-face-detection/rea...</td>\n",
       "      <td>0</td>\n",
       "      <td>0.0</td>\n",
       "      <td>0.0</td>\n",
       "      <td>0.0</td>\n",
       "      <td>0.0</td>\n",
       "      <td>7.433889</td>\n",
       "      <td>0.0</td>\n",
       "      <td>0.811353</td>\n",
       "      <td>0.0</td>\n",
       "      <td>...</td>\n",
       "      <td>0.0</td>\n",
       "      <td>16.343136</td>\n",
       "      <td>0.0</td>\n",
       "      <td>0.0</td>\n",
       "      <td>20.089308</td>\n",
       "      <td>0.0</td>\n",
       "      <td>0.000000</td>\n",
       "      <td>0.0</td>\n",
       "      <td>0.000000</td>\n",
       "      <td>37.92097</td>\n",
       "    </tr>\n",
       "    <tr>\n",
       "      <th>1</th>\n",
       "      <td>/kaggle/input/lab3-datasets/russel_crowe_image...</td>\n",
       "      <td>1</td>\n",
       "      <td>0.0</td>\n",
       "      <td>0.0</td>\n",
       "      <td>0.0</td>\n",
       "      <td>0.0</td>\n",
       "      <td>0.000000</td>\n",
       "      <td>0.0</td>\n",
       "      <td>0.000000</td>\n",
       "      <td>0.0</td>\n",
       "      <td>...</td>\n",
       "      <td>0.0</td>\n",
       "      <td>0.119959</td>\n",
       "      <td>0.0</td>\n",
       "      <td>0.0</td>\n",
       "      <td>0.000000</td>\n",
       "      <td>0.0</td>\n",
       "      <td>0.219941</td>\n",
       "      <td>0.0</td>\n",
       "      <td>0.106321</td>\n",
       "      <td>0.00000</td>\n",
       "    </tr>\n",
       "  </tbody>\n",
       "</table>\n",
       "<p>2 rows × 8194 columns</p>\n",
       "</div>"
      ],
      "text/plain": [
       "                                          image_name  target    0    1    2  \\\n",
       "0  /kaggle/input/real-and-fake-face-detection/rea...       0  0.0  0.0  0.0   \n",
       "1  /kaggle/input/lab3-datasets/russel_crowe_image...       1  0.0  0.0  0.0   \n",
       "\n",
       "     3         4    5         6    7  ...  8182       8183  8184  8185  \\\n",
       "0  0.0  7.433889  0.0  0.811353  0.0  ...   0.0  16.343136   0.0   0.0   \n",
       "1  0.0  0.000000  0.0  0.000000  0.0  ...   0.0   0.119959   0.0   0.0   \n",
       "\n",
       "        8186  8187      8188  8189      8190      8191  \n",
       "0  20.089308   0.0  0.000000   0.0  0.000000  37.92097  \n",
       "1   0.000000   0.0  0.219941   0.0  0.106321   0.00000  \n",
       "\n",
       "[2 rows x 8194 columns]"
      ]
     },
     "execution_count": 23,
     "metadata": {},
     "output_type": "execute_result"
    }
   ],
   "source": [
    "train_vgg19.head(2)"
   ]
  },
  {
   "cell_type": "markdown",
   "metadata": {},
   "source": [
    "### SVC"
   ]
  },
  {
   "cell_type": "code",
   "execution_count": 24,
   "metadata": {},
   "outputs": [],
   "source": [
    "svc_vgg19 = SVC(random_state=42, probability=True)"
   ]
  },
  {
   "cell_type": "code",
   "execution_count": 25,
   "metadata": {},
   "outputs": [],
   "source": [
    "## handle missing values\n",
    "train_vgg19[train_vgg19.columns[2:]] = train_vgg19[train_vgg19.columns[2:]].fillna(0)\n",
    "test_vgg19[test_vgg19.columns[2:]] = test_vgg19[test_vgg19.columns[2:]].fillna(0)"
   ]
  },
  {
   "cell_type": "code",
   "execution_count": 26,
   "metadata": {},
   "outputs": [
    {
     "name": "stdout",
     "output_type": "stream",
     "text": [
      "CPU times: user 48.5 s, sys: 77 ms, total: 48.6 s\n",
      "Wall time: 48.9 s\n"
     ]
    },
    {
     "data": {
      "text/plain": [
       "SVC(probability=True, random_state=42)"
      ]
     },
     "execution_count": 26,
     "metadata": {},
     "output_type": "execute_result"
    }
   ],
   "source": [
    "%%time\n",
    "svc_vgg19.fit(train_vgg19[train_vgg19.columns[2:]], train_vgg19['target'])"
   ]
  },
  {
   "cell_type": "markdown",
   "metadata": {},
   "source": [
    "### Dense Net"
   ]
  },
  {
   "cell_type": "code",
   "execution_count": 27,
   "metadata": {},
   "outputs": [],
   "source": [
    "model_raw_vgg19 = Sequential()\n",
    "model_raw_vgg19.add(Dense(12, input_dim=len(train_vgg19.columns[2:]), activation='relu'))\n",
    "model_raw_vgg19.add(Dense(8, activation='relu'))\n",
    "model_raw_vgg19.add(Dense(1, activation='sigmoid'))"
   ]
  },
  {
   "cell_type": "code",
   "execution_count": 28,
   "metadata": {},
   "outputs": [
    {
     "name": "stdout",
     "output_type": "stream",
     "text": [
      "Model: \"sequential_1\"\n",
      "_________________________________________________________________\n",
      "Layer (type)                 Output Shape              Param #   \n",
      "=================================================================\n",
      "dense_3 (Dense)              (None, 12)                98316     \n",
      "_________________________________________________________________\n",
      "dense_4 (Dense)              (None, 8)                 104       \n",
      "_________________________________________________________________\n",
      "dense_5 (Dense)              (None, 1)                 9         \n",
      "=================================================================\n",
      "Total params: 98,429\n",
      "Trainable params: 98,429\n",
      "Non-trainable params: 0\n",
      "_________________________________________________________________\n"
     ]
    }
   ],
   "source": [
    "model_raw_vgg19.summary()"
   ]
  },
  {
   "cell_type": "code",
   "execution_count": 29,
   "metadata": {},
   "outputs": [],
   "source": [
    "model_raw_vgg19.compile(loss='binary_crossentropy', optimizer='adam',\n",
    "                        metrics=['accuracy', 'AUC'])"
   ]
  },
  {
   "cell_type": "code",
   "execution_count": 30,
   "metadata": {},
   "outputs": [
    {
     "name": "stdout",
     "output_type": "stream",
     "text": [
      "Epoch 1/150\n",
      "97/97 [==============================] - 0s 3ms/step - loss: 0.9589 - accuracy: 0.7394 - auc: 0.3980\n",
      "Epoch 2/150\n",
      "97/97 [==============================] - 0s 3ms/step - loss: 0.5946 - accuracy: 0.7921 - auc: 0.5143\n",
      "Epoch 3/150\n",
      "97/97 [==============================] - 0s 3ms/step - loss: 0.5114 - accuracy: 0.8159 - auc: 0.6246\n",
      "Epoch 4/150\n",
      "97/97 [==============================] - 0s 3ms/step - loss: 0.4302 - accuracy: 0.8459 - auc: 0.7773\n",
      "Epoch 5/150\n",
      "97/97 [==============================] - 0s 2ms/step - loss: 0.3679 - accuracy: 0.8645 - auc: 0.8546\n",
      "Epoch 6/150\n",
      "97/97 [==============================] - 0s 2ms/step - loss: 0.3197 - accuracy: 0.8666 - auc: 0.9092\n",
      "Epoch 7/150\n",
      "97/97 [==============================] - 0s 2ms/step - loss: 0.2803 - accuracy: 0.8800 - auc: 0.9347\n",
      "Epoch 8/150\n",
      "97/97 [==============================] - 0s 2ms/step - loss: 0.2562 - accuracy: 0.8893 - auc: 0.9643\n",
      "Epoch 9/150\n",
      "97/97 [==============================] - 0s 3ms/step - loss: 0.2309 - accuracy: 0.8956 - auc: 0.9705\n",
      "Epoch 10/150\n",
      "97/97 [==============================] - 0s 2ms/step - loss: 0.2183 - accuracy: 0.8945 - auc: 0.9747\n",
      "Epoch 11/150\n",
      "97/97 [==============================] - 0s 2ms/step - loss: 0.2024 - accuracy: 0.9007 - auc: 0.9816\n",
      "Epoch 12/150\n",
      "97/97 [==============================] - 0s 2ms/step - loss: 0.1659 - accuracy: 0.9152 - auc: 0.9869\n",
      "Epoch 13/150\n",
      "97/97 [==============================] - 0s 3ms/step - loss: 0.1375 - accuracy: 0.9224 - auc: 0.9955\n",
      "Epoch 14/150\n",
      "97/97 [==============================] - 0s 2ms/step - loss: 0.1346 - accuracy: 0.9266 - auc: 0.9883\n",
      "Epoch 15/150\n",
      "97/97 [==============================] - 0s 2ms/step - loss: 0.1185 - accuracy: 0.9338 - auc: 0.9926\n",
      "Epoch 16/150\n",
      "97/97 [==============================] - 0s 2ms/step - loss: 0.1027 - accuracy: 0.9390 - auc: 0.9971\n",
      "Epoch 17/150\n",
      "97/97 [==============================] - 0s 3ms/step - loss: 0.0910 - accuracy: 0.9400 - auc: 0.9974\n",
      "Epoch 18/150\n",
      "97/97 [==============================] - 0s 2ms/step - loss: 0.0917 - accuracy: 0.9411 - auc: 0.9955\n",
      "Epoch 19/150\n",
      "97/97 [==============================] - 0s 2ms/step - loss: 0.1944 - accuracy: 0.9121 - auc: 0.9628\n",
      "Epoch 20/150\n",
      "97/97 [==============================] - 0s 2ms/step - loss: 0.1132 - accuracy: 0.9286 - auc: 0.9885\n",
      "Epoch 21/150\n",
      "97/97 [==============================] - 0s 2ms/step - loss: 0.1010 - accuracy: 0.9338 - auc: 0.9940\n",
      "Epoch 22/150\n",
      "97/97 [==============================] - 0s 2ms/step - loss: 0.0841 - accuracy: 0.9411 - auc: 0.9955\n",
      "Epoch 23/150\n",
      "97/97 [==============================] - 0s 2ms/step - loss: 0.0748 - accuracy: 0.9452 - auc: 0.9962\n",
      "Epoch 24/150\n",
      "97/97 [==============================] - 0s 3ms/step - loss: 0.0691 - accuracy: 0.9462 - auc: 0.9967\n",
      "Epoch 25/150\n",
      "97/97 [==============================] - 0s 2ms/step - loss: 0.0588 - accuracy: 0.9514 - auc: 0.9974\n",
      "Epoch 26/150\n",
      "97/97 [==============================] - 0s 2ms/step - loss: 0.0551 - accuracy: 0.9597 - auc: 0.9975\n",
      "Epoch 27/150\n",
      "97/97 [==============================] - 0s 2ms/step - loss: 0.0513 - accuracy: 0.9638 - auc: 0.9974\n",
      "Epoch 28/150\n",
      "97/97 [==============================] - 0s 2ms/step - loss: 0.0471 - accuracy: 0.9659 - auc: 0.9975\n",
      "Epoch 29/150\n",
      "97/97 [==============================] - 0s 3ms/step - loss: 0.0475 - accuracy: 0.9679 - auc: 0.9979\n",
      "Epoch 30/150\n",
      "97/97 [==============================] - 0s 2ms/step - loss: 0.0429 - accuracy: 0.9690 - auc: 0.9979\n",
      "Epoch 31/150\n",
      "97/97 [==============================] - 0s 2ms/step - loss: 0.0595 - accuracy: 0.9628 - auc: 0.9962\n",
      "Epoch 32/150\n",
      "97/97 [==============================] - 0s 2ms/step - loss: 0.0470 - accuracy: 0.9669 - auc: 0.9974\n",
      "Epoch 33/150\n",
      "97/97 [==============================] - 0s 3ms/step - loss: 0.0356 - accuracy: 0.9700 - auc: 0.9982\n",
      "Epoch 34/150\n",
      "97/97 [==============================] - 0s 3ms/step - loss: 0.0345 - accuracy: 0.9721 - auc: 0.9983\n",
      "Epoch 35/150\n",
      "97/97 [==============================] - 0s 3ms/step - loss: 0.0324 - accuracy: 0.9721 - auc: 0.9984\n",
      "Epoch 36/150\n",
      "97/97 [==============================] - 0s 3ms/step - loss: 0.0429 - accuracy: 0.9700 - auc: 0.9979\n",
      "Epoch 37/150\n",
      "97/97 [==============================] - 0s 3ms/step - loss: 0.0326 - accuracy: 0.9835 - auc: 0.9984\n",
      "Epoch 38/150\n",
      "97/97 [==============================] - 0s 3ms/step - loss: 0.0581 - accuracy: 0.9772 - auc: 0.9942\n",
      "Epoch 39/150\n",
      "97/97 [==============================] - 0s 3ms/step - loss: 0.0582 - accuracy: 0.9793 - auc: 0.9938\n",
      "Epoch 40/150\n",
      "97/97 [==============================] - 0s 3ms/step - loss: 0.0421 - accuracy: 0.9783 - auc: 0.9978\n",
      "Epoch 41/150\n",
      "97/97 [==============================] - 0s 3ms/step - loss: 0.0320 - accuracy: 0.9876 - auc: 0.9983\n",
      "Epoch 42/150\n",
      "97/97 [==============================] - 0s 3ms/step - loss: 0.0299 - accuracy: 0.9876 - auc: 0.9990\n",
      "Epoch 43/150\n",
      "97/97 [==============================] - 0s 2ms/step - loss: 0.0295 - accuracy: 0.9876 - auc: 0.9989\n",
      "Epoch 44/150\n",
      "97/97 [==============================] - 0s 3ms/step - loss: 0.0293 - accuracy: 0.9876 - auc: 0.9990\n",
      "Epoch 45/150\n",
      "97/97 [==============================] - 0s 3ms/step - loss: 0.0291 - accuracy: 0.9876 - auc: 0.9986\n",
      "Epoch 46/150\n",
      "97/97 [==============================] - 0s 3ms/step - loss: 0.0285 - accuracy: 0.9876 - auc: 0.9985\n",
      "Epoch 47/150\n",
      "97/97 [==============================] - 0s 3ms/step - loss: 0.0255 - accuracy: 0.9876 - auc: 0.9989\n",
      "Epoch 48/150\n",
      "97/97 [==============================] - 0s 3ms/step - loss: 0.0257 - accuracy: 0.9866 - auc: 0.9991\n",
      "Epoch 49/150\n",
      "97/97 [==============================] - 0s 3ms/step - loss: 0.0251 - accuracy: 0.9876 - auc: 0.9991\n",
      "Epoch 50/150\n",
      "97/97 [==============================] - 0s 3ms/step - loss: 0.0250 - accuracy: 0.9876 - auc: 0.9992\n",
      "Epoch 51/150\n",
      "97/97 [==============================] - 0s 2ms/step - loss: 0.0249 - accuracy: 0.9876 - auc: 0.9991\n",
      "Epoch 52/150\n",
      "97/97 [==============================] - 0s 2ms/step - loss: 0.0248 - accuracy: 0.9876 - auc: 0.9991\n",
      "Epoch 53/150\n",
      "97/97 [==============================] - 0s 2ms/step - loss: 0.0248 - accuracy: 0.9876 - auc: 0.9989\n",
      "Epoch 54/150\n",
      "97/97 [==============================] - 0s 3ms/step - loss: 0.0247 - accuracy: 0.9876 - auc: 0.9991\n",
      "Epoch 55/150\n",
      "97/97 [==============================] - 0s 3ms/step - loss: 0.0246 - accuracy: 0.9876 - auc: 0.9990\n",
      "Epoch 56/150\n",
      "97/97 [==============================] - 0s 3ms/step - loss: 0.0246 - accuracy: 0.9876 - auc: 0.9991\n",
      "Epoch 57/150\n",
      "97/97 [==============================] - 0s 3ms/step - loss: 0.0245 - accuracy: 0.9876 - auc: 0.9991\n",
      "Epoch 58/150\n",
      "97/97 [==============================] - 0s 3ms/step - loss: 0.0245 - accuracy: 0.9876 - auc: 0.9990\n",
      "Epoch 59/150\n",
      "97/97 [==============================] - 0s 3ms/step - loss: 0.0244 - accuracy: 0.9876 - auc: 0.9991\n",
      "Epoch 60/150\n",
      "97/97 [==============================] - 0s 3ms/step - loss: 0.0244 - accuracy: 0.9876 - auc: 0.9990\n",
      "Epoch 61/150\n",
      "97/97 [==============================] - 0s 3ms/step - loss: 0.0244 - accuracy: 0.9876 - auc: 0.9991\n",
      "Epoch 62/150\n",
      "97/97 [==============================] - 0s 3ms/step - loss: 0.0243 - accuracy: 0.9876 - auc: 0.9989\n",
      "Epoch 63/150\n",
      "97/97 [==============================] - 0s 3ms/step - loss: 0.0243 - accuracy: 0.9876 - auc: 0.9990\n",
      "Epoch 64/150\n",
      "97/97 [==============================] - 0s 3ms/step - loss: 0.0243 - accuracy: 0.9876 - auc: 0.9991\n",
      "Epoch 65/150\n",
      "97/97 [==============================] - 0s 3ms/step - loss: 0.0242 - accuracy: 0.9876 - auc: 0.9991\n",
      "Epoch 66/150\n",
      "97/97 [==============================] - 0s 3ms/step - loss: 0.0242 - accuracy: 0.9876 - auc: 0.9992\n",
      "Epoch 67/150\n",
      "97/97 [==============================] - 0s 3ms/step - loss: 0.0242 - accuracy: 0.9876 - auc: 0.9991\n",
      "Epoch 68/150\n",
      "97/97 [==============================] - 0s 3ms/step - loss: 0.0241 - accuracy: 0.9876 - auc: 0.9991\n",
      "Epoch 69/150\n",
      "97/97 [==============================] - 0s 3ms/step - loss: 0.0241 - accuracy: 0.9876 - auc: 0.9989\n",
      "Epoch 70/150\n",
      "97/97 [==============================] - 0s 3ms/step - loss: 0.0241 - accuracy: 0.9876 - auc: 0.9991\n",
      "Epoch 71/150\n",
      "97/97 [==============================] - 0s 3ms/step - loss: 0.0241 - accuracy: 0.9876 - auc: 0.9991\n",
      "Epoch 72/150\n",
      "97/97 [==============================] - 0s 3ms/step - loss: 0.0240 - accuracy: 0.9876 - auc: 0.9989\n",
      "Epoch 73/150\n",
      "97/97 [==============================] - 0s 3ms/step - loss: 0.0240 - accuracy: 0.9876 - auc: 0.9991\n",
      "Epoch 74/150\n",
      "97/97 [==============================] - 0s 3ms/step - loss: 0.0240 - accuracy: 0.9876 - auc: 0.9991\n",
      "Epoch 75/150\n",
      "97/97 [==============================] - 0s 2ms/step - loss: 0.0240 - accuracy: 0.9876 - auc: 0.9991\n",
      "Epoch 76/150\n",
      "97/97 [==============================] - 0s 2ms/step - loss: 0.0240 - accuracy: 0.9876 - auc: 0.9990\n",
      "Epoch 77/150\n",
      "97/97 [==============================] - 0s 3ms/step - loss: 0.0240 - accuracy: 0.9876 - auc: 0.9991\n",
      "Epoch 78/150\n",
      "97/97 [==============================] - 0s 3ms/step - loss: 0.0240 - accuracy: 0.9876 - auc: 0.9991\n",
      "Epoch 79/150\n",
      "97/97 [==============================] - 0s 3ms/step - loss: 0.0239 - accuracy: 0.9876 - auc: 0.9991\n",
      "Epoch 80/150\n",
      "97/97 [==============================] - 0s 3ms/step - loss: 0.0239 - accuracy: 0.9876 - auc: 0.9989\n",
      "Epoch 81/150\n",
      "97/97 [==============================] - 0s 3ms/step - loss: 0.0239 - accuracy: 0.9876 - auc: 0.9989\n",
      "Epoch 82/150\n",
      "97/97 [==============================] - 0s 3ms/step - loss: 0.0239 - accuracy: 0.9876 - auc: 0.9991\n",
      "Epoch 83/150\n",
      "97/97 [==============================] - 0s 3ms/step - loss: 0.2984 - accuracy: 0.9421 - auc: 0.9648\n",
      "Epoch 84/150\n",
      "97/97 [==============================] - 0s 3ms/step - loss: 0.1445 - accuracy: 0.9555 - auc: 0.9842\n",
      "Epoch 85/150\n",
      "97/97 [==============================] - 0s 3ms/step - loss: 0.0849 - accuracy: 0.9772 - auc: 0.9944\n",
      "Epoch 86/150\n",
      "97/97 [==============================] - 0s 3ms/step - loss: 0.0347 - accuracy: 0.9824 - auc: 0.9990\n",
      "Epoch 87/150\n",
      "97/97 [==============================] - 0s 2ms/step - loss: 0.0292 - accuracy: 0.9866 - auc: 0.9995\n",
      "Epoch 88/150\n",
      "97/97 [==============================] - 0s 2ms/step - loss: 0.0279 - accuracy: 0.9855 - auc: 0.9993\n",
      "Epoch 89/150\n",
      "97/97 [==============================] - 0s 2ms/step - loss: 0.0267 - accuracy: 0.9866 - auc: 0.9994\n",
      "Epoch 90/150\n",
      "97/97 [==============================] - 0s 2ms/step - loss: 0.0264 - accuracy: 0.9866 - auc: 0.9994\n",
      "Epoch 91/150\n",
      "97/97 [==============================] - 0s 2ms/step - loss: 0.0261 - accuracy: 0.9866 - auc: 0.9995\n",
      "Epoch 92/150\n",
      "97/97 [==============================] - 0s 3ms/step - loss: 0.0249 - accuracy: 0.9866 - auc: 0.9995\n",
      "Epoch 93/150\n",
      "97/97 [==============================] - 0s 3ms/step - loss: 0.0242 - accuracy: 0.9866 - auc: 0.9996\n",
      "Epoch 94/150\n",
      "97/97 [==============================] - 0s 3ms/step - loss: 0.0238 - accuracy: 0.9866 - auc: 0.9996\n",
      "Epoch 95/150\n",
      "97/97 [==============================] - 0s 3ms/step - loss: 0.0235 - accuracy: 0.9866 - auc: 0.9996\n",
      "Epoch 96/150\n",
      "97/97 [==============================] - 0s 3ms/step - loss: 0.0232 - accuracy: 0.9866 - auc: 0.9996\n",
      "Epoch 97/150\n",
      "97/97 [==============================] - 0s 3ms/step - loss: 0.0229 - accuracy: 0.9866 - auc: 0.9996\n",
      "Epoch 98/150\n",
      "97/97 [==============================] - 0s 2ms/step - loss: 0.0227 - accuracy: 0.9866 - auc: 0.9996\n",
      "Epoch 99/150\n",
      "97/97 [==============================] - 0s 2ms/step - loss: 0.0224 - accuracy: 0.9866 - auc: 0.9994\n",
      "Epoch 100/150\n",
      "97/97 [==============================] - 0s 2ms/step - loss: 0.0221 - accuracy: 0.9866 - auc: 0.9996\n",
      "Epoch 101/150\n",
      "97/97 [==============================] - 0s 2ms/step - loss: 0.0219 - accuracy: 0.9866 - auc: 0.9996\n",
      "Epoch 102/150\n",
      "97/97 [==============================] - 0s 3ms/step - loss: 0.0216 - accuracy: 0.9866 - auc: 0.9996\n",
      "Epoch 103/150\n",
      "97/97 [==============================] - 0s 2ms/step - loss: 0.0214 - accuracy: 0.9866 - auc: 0.9994\n",
      "Epoch 104/150\n",
      "97/97 [==============================] - 0s 2ms/step - loss: 0.0212 - accuracy: 0.9866 - auc: 0.9996\n",
      "Epoch 105/150\n",
      "97/97 [==============================] - 0s 2ms/step - loss: 0.0210 - accuracy: 0.9866 - auc: 0.9996\n",
      "Epoch 106/150\n",
      "97/97 [==============================] - 0s 2ms/step - loss: 0.0208 - accuracy: 0.9866 - auc: 0.9995\n",
      "Epoch 107/150\n",
      "97/97 [==============================] - 0s 2ms/step - loss: 0.0223 - accuracy: 0.9866 - auc: 0.9995\n",
      "Epoch 108/150\n",
      "97/97 [==============================] - 0s 2ms/step - loss: 0.0206 - accuracy: 0.9866 - auc: 0.9996\n",
      "Epoch 109/150\n",
      "97/97 [==============================] - 0s 2ms/step - loss: 0.0204 - accuracy: 0.9866 - auc: 0.9994\n",
      "Epoch 110/150\n",
      "97/97 [==============================] - 0s 3ms/step - loss: 0.0202 - accuracy: 0.9866 - auc: 0.9994\n",
      "Epoch 111/150\n",
      "97/97 [==============================] - 0s 3ms/step - loss: 0.0200 - accuracy: 0.9866 - auc: 0.9996\n",
      "Epoch 112/150\n",
      "97/97 [==============================] - 0s 2ms/step - loss: 0.0199 - accuracy: 0.9866 - auc: 0.9994\n",
      "Epoch 113/150\n",
      "97/97 [==============================] - 0s 2ms/step - loss: 0.0198 - accuracy: 0.9866 - auc: 0.9996\n",
      "Epoch 114/150\n",
      "97/97 [==============================] - 0s 2ms/step - loss: 0.0196 - accuracy: 0.9866 - auc: 0.9996\n",
      "Epoch 115/150\n",
      "97/97 [==============================] - 0s 2ms/step - loss: 0.0195 - accuracy: 0.9866 - auc: 0.9995\n",
      "Epoch 116/150\n",
      "97/97 [==============================] - 0s 2ms/step - loss: 0.0194 - accuracy: 0.9866 - auc: 0.9996\n",
      "Epoch 117/150\n",
      "97/97 [==============================] - 0s 2ms/step - loss: 0.0198 - accuracy: 0.9866 - auc: 0.9995\n",
      "Epoch 118/150\n",
      "97/97 [==============================] - 0s 2ms/step - loss: 0.0200 - accuracy: 0.9855 - auc: 0.9996\n",
      "Epoch 119/150\n",
      "97/97 [==============================] - 0s 2ms/step - loss: 0.0203 - accuracy: 0.9855 - auc: 0.9995\n",
      "Epoch 120/150\n",
      "97/97 [==============================] - 0s 2ms/step - loss: 0.0363 - accuracy: 0.9824 - auc: 0.9945\n",
      "Epoch 121/150\n",
      "97/97 [==============================] - 0s 2ms/step - loss: 0.1196 - accuracy: 0.9617 - auc: 0.9890\n",
      "Epoch 122/150\n",
      "97/97 [==============================] - 0s 2ms/step - loss: 0.1110 - accuracy: 0.9628 - auc: 0.9884\n",
      "Epoch 123/150\n",
      "97/97 [==============================] - 0s 2ms/step - loss: 0.0682 - accuracy: 0.9710 - auc: 0.9915\n",
      "Epoch 124/150\n",
      "97/97 [==============================] - 0s 2ms/step - loss: 0.0238 - accuracy: 0.9845 - auc: 0.9994\n",
      "Epoch 125/150\n",
      "97/97 [==============================] - 0s 2ms/step - loss: 0.0192 - accuracy: 0.9855 - auc: 0.9997\n",
      "Epoch 126/150\n",
      "97/97 [==============================] - 0s 2ms/step - loss: 0.0212 - accuracy: 0.9866 - auc: 0.9994\n",
      "Epoch 127/150\n",
      "97/97 [==============================] - 0s 2ms/step - loss: 0.0167 - accuracy: 0.9866 - auc: 0.9997\n",
      "Epoch 128/150\n",
      "97/97 [==============================] - 0s 2ms/step - loss: 0.0174 - accuracy: 0.9866 - auc: 0.9997\n",
      "Epoch 129/150\n",
      "97/97 [==============================] - 0s 3ms/step - loss: 0.0200 - accuracy: 0.9866 - auc: 0.9994\n",
      "Epoch 130/150\n",
      "97/97 [==============================] - 0s 3ms/step - loss: 0.0192 - accuracy: 0.9855 - auc: 0.9997\n",
      "Epoch 131/150\n",
      "97/97 [==============================] - 0s 2ms/step - loss: 0.0159 - accuracy: 0.9866 - auc: 0.9997\n",
      "Epoch 132/150\n",
      "97/97 [==============================] - 0s 2ms/step - loss: 0.0176 - accuracy: 0.9855 - auc: 0.9997\n",
      "Epoch 133/150\n",
      "97/97 [==============================] - 0s 2ms/step - loss: 0.0160 - accuracy: 0.9866 - auc: 0.9998\n",
      "Epoch 134/150\n",
      "97/97 [==============================] - 0s 2ms/step - loss: 0.0168 - accuracy: 0.9866 - auc: 0.9996\n",
      "Epoch 135/150\n",
      "97/97 [==============================] - 0s 2ms/step - loss: 0.0151 - accuracy: 0.9866 - auc: 0.9998\n",
      "Epoch 136/150\n",
      "97/97 [==============================] - 0s 2ms/step - loss: 0.0141 - accuracy: 0.9866 - auc: 0.9999\n",
      "Epoch 137/150\n",
      "97/97 [==============================] - 0s 2ms/step - loss: 0.0140 - accuracy: 0.9866 - auc: 0.9998\n",
      "Epoch 138/150\n",
      "97/97 [==============================] - 0s 2ms/step - loss: 0.0139 - accuracy: 0.9866 - auc: 0.9998\n",
      "Epoch 139/150\n",
      "97/97 [==============================] - 0s 3ms/step - loss: 0.0138 - accuracy: 0.9866 - auc: 0.9998\n",
      "Epoch 140/150\n",
      "97/97 [==============================] - 0s 2ms/step - loss: 0.0136 - accuracy: 0.9866 - auc: 0.9998\n",
      "Epoch 141/150\n",
      "97/97 [==============================] - 0s 3ms/step - loss: 0.0135 - accuracy: 0.9866 - auc: 0.9998\n",
      "Epoch 142/150\n",
      "97/97 [==============================] - 0s 3ms/step - loss: 0.0134 - accuracy: 0.9866 - auc: 0.9998\n",
      "Epoch 143/150\n"
     ]
    },
    {
     "name": "stdout",
     "output_type": "stream",
     "text": [
      "97/97 [==============================] - 0s 3ms/step - loss: 0.0133 - accuracy: 0.9866 - auc: 0.9998\n",
      "Epoch 144/150\n",
      "97/97 [==============================] - 0s 3ms/step - loss: 0.0132 - accuracy: 0.9866 - auc: 0.9998\n",
      "Epoch 145/150\n",
      "97/97 [==============================] - 0s 3ms/step - loss: 0.0131 - accuracy: 0.9866 - auc: 0.9998\n",
      "Epoch 146/150\n",
      "97/97 [==============================] - 0s 3ms/step - loss: 0.0130 - accuracy: 0.9866 - auc: 0.9999\n",
      "Epoch 147/150\n",
      "97/97 [==============================] - 0s 3ms/step - loss: 0.0129 - accuracy: 0.9866 - auc: 0.9998\n",
      "Epoch 148/150\n",
      "97/97 [==============================] - 0s 3ms/step - loss: 0.0128 - accuracy: 0.9866 - auc: 0.9998\n",
      "Epoch 149/150\n",
      "97/97 [==============================] - 0s 2ms/step - loss: 0.0127 - accuracy: 0.9897 - auc: 0.9998\n",
      "Epoch 150/150\n",
      "97/97 [==============================] - 0s 2ms/step - loss: 0.0126 - accuracy: 0.9959 - auc: 0.9998\n",
      "CPU times: user 1min 7s, sys: 8.95 s, total: 1min 16s\n",
      "Wall time: 39.7 s\n"
     ]
    },
    {
     "data": {
      "text/plain": [
       "<tensorflow.python.keras.callbacks.History at 0x7fddfc18f910>"
      ]
     },
     "execution_count": 30,
     "metadata": {},
     "output_type": "execute_result"
    }
   ],
   "source": [
    "%%time\n",
    "model_raw_vgg19.fit(train_vgg19[train_vgg19.columns[2:]], train_vgg19['target'],\n",
    "                    epochs=150, batch_size=10)"
   ]
  },
  {
   "cell_type": "markdown",
   "metadata": {},
   "source": [
    "#### Metrics per iteration for Dense Net"
   ]
  },
  {
   "cell_type": "code",
   "execution_count": 31,
   "metadata": {},
   "outputs": [
    {
     "data": {
      "image/png": "[encoded data removed]",
      "text/plain": [
       "<Figure size 432x288 with 1 Axes>"
      ]
     },
     "metadata": {
      "needs_background": "light"
     },
     "output_type": "display_data"
    }
   ],
   "source": [
    "plt.plot(model_raw_vgg19.history.history['auc']);\n",
    "plt.title('ROC-AUC per number of iterations');\n",
    "plt.xlabel('N iterations');\n",
    "plt.ylabel('ROC AUC');"
   ]
  },
  {
   "cell_type": "code",
   "execution_count": 32,
   "metadata": {},
   "outputs": [
    {
     "data": {
      "image/png": "[encoded data removed]",
      "text/plain": [
       "<Figure size 432x288 with 1 Axes>"
      ]
     },
     "metadata": {
      "needs_background": "light"
     },
     "output_type": "display_data"
    }
   ],
   "source": [
    "plt.plot(model_raw_vgg19.history.history['accuracy']);\n",
    "plt.title('ROC-AUC per number of iterations');\n",
    "plt.xlabel('N iterations');\n",
    "plt.ylabel('ROC AUC');"
   ]
  },
  {
   "cell_type": "markdown",
   "metadata": {},
   "source": [
    "### Logistic Regression"
   ]
  },
  {
   "cell_type": "code",
   "execution_count": 33,
   "metadata": {},
   "outputs": [],
   "source": [
    "log_reg_vgg19 = LogisticRegression(random_state=42)"
   ]
  },
  {
   "cell_type": "code",
   "execution_count": 34,
   "metadata": {},
   "outputs": [
    {
     "name": "stdout",
     "output_type": "stream",
     "text": [
      "CPU times: user 3.81 s, sys: 55.3 ms, total: 3.86 s\n",
      "Wall time: 2.05 s\n"
     ]
    },
    {
     "name": "stderr",
     "output_type": "stream",
     "text": [
      "/opt/conda/lib/python3.7/site-packages/sklearn/linear_model/_logistic.py:764: ConvergenceWarning: lbfgs failed to converge (status=1):\n",
      "STOP: TOTAL NO. of ITERATIONS REACHED LIMIT.\n",
      "\n",
      "Increase the number of iterations (max_iter) or scale the data as shown in:\n",
      "    https://scikit-learn.org/stable/modules/preprocessing.html\n",
      "Please also refer to the documentation for alternative solver options:\n",
      "    https://scikit-learn.org/stable/modules/linear_model.html#logistic-regression\n",
      "  extra_warning_msg=_LOGISTIC_SOLVER_CONVERGENCE_MSG)\n"
     ]
    },
    {
     "data": {
      "text/plain": [
       "LogisticRegression(random_state=42)"
      ]
     },
     "execution_count": 34,
     "metadata": {},
     "output_type": "execute_result"
    }
   ],
   "source": [
    "%%time\n",
    "log_reg_vgg19.fit(train_vgg19[train_vgg19.columns[2:]], train_vgg19['target'])"
   ]
  },
  {
   "cell_type": "markdown",
   "metadata": {},
   "source": [
    "### GradientBoositng"
   ]
  },
  {
   "cell_type": "code",
   "execution_count": 35,
   "metadata": {},
   "outputs": [],
   "source": [
    "gbr_vgg19 = GradientBoostingClassifier(random_state=42)"
   ]
  },
  {
   "cell_type": "code",
   "execution_count": 36,
   "metadata": {},
   "outputs": [
    {
     "name": "stdout",
     "output_type": "stream",
     "text": [
      "CPU times: user 23.6 s, sys: 22.9 ms, total: 23.7 s\n",
      "Wall time: 23.8 s\n"
     ]
    },
    {
     "data": {
      "text/plain": [
       "GradientBoostingClassifier(random_state=42)"
      ]
     },
     "execution_count": 36,
     "metadata": {},
     "output_type": "execute_result"
    }
   ],
   "source": [
    "%%time\n",
    "gbr_vgg19.fit(train_vgg19[train_vgg19.columns[2:]], train_vgg19['target'])"
   ]
  },
  {
   "cell_type": "markdown",
   "metadata": {},
   "source": [
    "### RandomForest"
   ]
  },
  {
   "cell_type": "code",
   "execution_count": 37,
   "metadata": {},
   "outputs": [],
   "source": [
    "rf_vgg19 = RandomForestClassifier(random_state=42)"
   ]
  },
  {
   "cell_type": "code",
   "execution_count": 184,
   "metadata": {},
   "outputs": [
    {
     "name": "stdout",
     "output_type": "stream",
     "text": [
      "CPU times: user 1.32 s, sys: 2.24 ms, total: 1.32 s\n",
      "Wall time: 1.33 s\n"
     ]
    },
    {
     "data": {
      "text/plain": [
       "RandomForestClassifier(random_state=42)"
      ]
     },
     "execution_count": 184,
     "metadata": {},
     "output_type": "execute_result"
    }
   ],
   "source": [
    "%%time\n",
    "rf_vgg19.fit(train_vgg19[train_vgg19.columns[2:]], train_vgg19['target'])"
   ]
  },
  {
   "cell_type": "markdown",
   "metadata": {},
   "source": [
    "## Resnet50"
   ]
  },
  {
   "cell_type": "code",
   "execution_count": 38,
   "metadata": {
    "_cell_guid": "79c7e3d0-c299-4dcb-8224-4455121ee9b0",
    "_uuid": "d629ff2d2480ee46fbb7e2d37f6b5fab8052498a"
   },
   "outputs": [],
   "source": [
    "train_resnet50 = pd.read_csv('/kaggle/input/lab3-resnet50/train_images_resnet50.csv')\n",
    "test_resnet50 = pd.read_csv('/kaggle/input/lab3-resnet50/test_images_resnet50.csv')"
   ]
  },
  {
   "cell_type": "code",
   "execution_count": 39,
   "metadata": {},
   "outputs": [
    {
     "data": {
      "text/html": [
       "<div>\n",
       "<style scoped>\n",
       "    .dataframe tbody tr th:only-of-type {\n",
       "        vertical-align: middle;\n",
       "    }\n",
       "\n",
       "    .dataframe tbody tr th {\n",
       "        vertical-align: top;\n",
       "    }\n",
       "\n",
       "    .dataframe thead th {\n",
       "        text-align: right;\n",
       "    }\n",
       "</style>\n",
       "<table border=\"1\" class=\"dataframe\">\n",
       "  <thead>\n",
       "    <tr style=\"text-align: right;\">\n",
       "      <th></th>\n",
       "      <th>image_name</th>\n",
       "      <th>target</th>\n",
       "      <th>0</th>\n",
       "      <th>1</th>\n",
       "      <th>2</th>\n",
       "      <th>3</th>\n",
       "      <th>4</th>\n",
       "      <th>5</th>\n",
       "      <th>6</th>\n",
       "      <th>7</th>\n",
       "      <th>...</th>\n",
       "      <th>32758</th>\n",
       "      <th>32759</th>\n",
       "      <th>32760</th>\n",
       "      <th>32761</th>\n",
       "      <th>32762</th>\n",
       "      <th>32763</th>\n",
       "      <th>32764</th>\n",
       "      <th>32765</th>\n",
       "      <th>32766</th>\n",
       "      <th>32767</th>\n",
       "    </tr>\n",
       "  </thead>\n",
       "  <tbody>\n",
       "    <tr>\n",
       "      <th>0</th>\n",
       "      <td>/kaggle/input/real-and-fake-face-detection/rea...</td>\n",
       "      <td>0</td>\n",
       "      <td>0.0</td>\n",
       "      <td>0.0</td>\n",
       "      <td>0.000000</td>\n",
       "      <td>0.000000</td>\n",
       "      <td>0.0</td>\n",
       "      <td>0.0</td>\n",
       "      <td>0.0</td>\n",
       "      <td>0.000000</td>\n",
       "      <td>...</td>\n",
       "      <td>3.044163</td>\n",
       "      <td>0.0</td>\n",
       "      <td>0.0</td>\n",
       "      <td>25.067244</td>\n",
       "      <td>0.543142</td>\n",
       "      <td>0.377945</td>\n",
       "      <td>0.000000</td>\n",
       "      <td>0.0</td>\n",
       "      <td>0.000000</td>\n",
       "      <td>1.006015</td>\n",
       "    </tr>\n",
       "    <tr>\n",
       "      <th>1</th>\n",
       "      <td>/kaggle/input/lab3-datasets/russel_crowe_image...</td>\n",
       "      <td>1</td>\n",
       "      <td>0.0</td>\n",
       "      <td>0.0</td>\n",
       "      <td>0.288248</td>\n",
       "      <td>1.581888</td>\n",
       "      <td>0.0</td>\n",
       "      <td>0.0</td>\n",
       "      <td>0.0</td>\n",
       "      <td>0.657782</td>\n",
       "      <td>...</td>\n",
       "      <td>0.000000</td>\n",
       "      <td>0.0</td>\n",
       "      <td>0.0</td>\n",
       "      <td>0.030099</td>\n",
       "      <td>0.000000</td>\n",
       "      <td>0.000000</td>\n",
       "      <td>1.821778</td>\n",
       "      <td>0.0</td>\n",
       "      <td>0.744289</td>\n",
       "      <td>0.519091</td>\n",
       "    </tr>\n",
       "  </tbody>\n",
       "</table>\n",
       "<p>2 rows × 32770 columns</p>\n",
       "</div>"
      ],
      "text/plain": [
       "                                          image_name  target    0    1  \\\n",
       "0  /kaggle/input/real-and-fake-face-detection/rea...       0  0.0  0.0   \n",
       "1  /kaggle/input/lab3-datasets/russel_crowe_image...       1  0.0  0.0   \n",
       "\n",
       "          2         3    4    5    6         7  ...     32758  32759  32760  \\\n",
       "0  0.000000  0.000000  0.0  0.0  0.0  0.000000  ...  3.044163    0.0    0.0   \n",
       "1  0.288248  1.581888  0.0  0.0  0.0  0.657782  ...  0.000000    0.0    0.0   \n",
       "\n",
       "       32761     32762     32763     32764  32765     32766     32767  \n",
       "0  25.067244  0.543142  0.377945  0.000000    0.0  0.000000  1.006015  \n",
       "1   0.030099  0.000000  0.000000  1.821778    0.0  0.744289  0.519091  \n",
       "\n",
       "[2 rows x 32770 columns]"
      ]
     },
     "execution_count": 39,
     "metadata": {},
     "output_type": "execute_result"
    }
   ],
   "source": [
    "train_resnet50.head(2)"
   ]
  },
  {
   "cell_type": "markdown",
   "metadata": {},
   "source": [
    "### SVC"
   ]
  },
  {
   "cell_type": "code",
   "execution_count": 40,
   "metadata": {},
   "outputs": [],
   "source": [
    "svc_resnet50 = SVC(random_state=42, probability=True)"
   ]
  },
  {
   "cell_type": "code",
   "execution_count": 41,
   "metadata": {},
   "outputs": [],
   "source": [
    "## handle missing values\n",
    "train_resnet50[train_resnet50.columns[2:]] = train_resnet50[train_resnet50.columns[2:]].fillna(0)\n",
    "test_resnet50[test_resnet50.columns[2:]] = test_resnet50[test_resnet50.columns[2:]].fillna(0)"
   ]
  },
  {
   "cell_type": "code",
   "execution_count": 42,
   "metadata": {},
   "outputs": [
    {
     "name": "stdout",
     "output_type": "stream",
     "text": [
      "CPU times: user 3min 11s, sys: 263 ms, total: 3min 12s\n",
      "Wall time: 3min 13s\n"
     ]
    },
    {
     "data": {
      "text/plain": [
       "SVC(probability=True, random_state=42)"
      ]
     },
     "execution_count": 42,
     "metadata": {},
     "output_type": "execute_result"
    }
   ],
   "source": [
    "%%time\n",
    "svc_resnet50.fit(train_resnet50[train_resnet50.columns[2:]], train_resnet50['target'])"
   ]
  },
  {
   "cell_type": "markdown",
   "metadata": {},
   "source": [
    "### Dense Net"
   ]
  },
  {
   "cell_type": "code",
   "execution_count": 43,
   "metadata": {},
   "outputs": [],
   "source": [
    "model_raw_resnet50 = Sequential()\n",
    "model_raw_resnet50.add(Dense(12, input_dim=len(train_resnet50.columns[2:]), activation='relu'))\n",
    "model_raw_resnet50.add(Dense(8, activation='relu'))\n",
    "model_raw_resnet50.add(Dense(1, activation='sigmoid'))"
   ]
  },
  {
   "cell_type": "code",
   "execution_count": 44,
   "metadata": {},
   "outputs": [
    {
     "name": "stdout",
     "output_type": "stream",
     "text": [
      "Model: \"sequential_2\"\n",
      "_________________________________________________________________\n",
      "Layer (type)                 Output Shape              Param #   \n",
      "=================================================================\n",
      "dense_6 (Dense)              (None, 12)                393228    \n",
      "_________________________________________________________________\n",
      "dense_7 (Dense)              (None, 8)                 104       \n",
      "_________________________________________________________________\n",
      "dense_8 (Dense)              (None, 1)                 9         \n",
      "=================================================================\n",
      "Total params: 393,341\n",
      "Trainable params: 393,341\n",
      "Non-trainable params: 0\n",
      "_________________________________________________________________\n"
     ]
    }
   ],
   "source": [
    "model_raw_resnet50.summary()"
   ]
  },
  {
   "cell_type": "code",
   "execution_count": 45,
   "metadata": {},
   "outputs": [],
   "source": [
    "model_raw_resnet50.compile(loss='binary_crossentropy', optimizer='adam',\n",
    "                        metrics=['accuracy', 'AUC'])"
   ]
  },
  {
   "cell_type": "code",
   "execution_count": 46,
   "metadata": {},
   "outputs": [
    {
     "name": "stdout",
     "output_type": "stream",
     "text": [
      "Epoch 1/150\n",
      "97/97 [==============================] - 0s 5ms/step - loss: 0.8113 - accuracy: 0.7642 - auc: 0.3714\n",
      "Epoch 2/150\n",
      "97/97 [==============================] - 0s 5ms/step - loss: 0.5221 - accuracy: 0.7849 - auc: 0.6608\n",
      "Epoch 3/150\n",
      "97/97 [==============================] - 1s 5ms/step - loss: 0.4490 - accuracy: 0.7849 - auc: 0.8239\n",
      "Epoch 4/150\n",
      "97/97 [==============================] - 0s 5ms/step - loss: 0.3678 - accuracy: 0.7828 - auc: 0.9247\n",
      "Epoch 5/150\n",
      "97/97 [==============================] - 0s 5ms/step - loss: 0.3265 - accuracy: 0.7828 - auc: 0.9318\n",
      "Epoch 6/150\n",
      "97/97 [==============================] - 1s 5ms/step - loss: 0.2733 - accuracy: 0.7828 - auc: 0.9650\n",
      "Epoch 7/150\n",
      "97/97 [==============================] - 0s 5ms/step - loss: 0.2410 - accuracy: 0.7828 - auc: 0.9679\n",
      "Epoch 8/150\n",
      "97/97 [==============================] - 1s 5ms/step - loss: 0.2249 - accuracy: 0.9214 - auc: 0.9628\n",
      "Epoch 9/150\n",
      "97/97 [==============================] - 0s 5ms/step - loss: 0.2189 - accuracy: 0.9504 - auc: 0.9672\n",
      "Epoch 10/150\n",
      "97/97 [==============================] - 0s 5ms/step - loss: 0.1771 - accuracy: 0.9721 - auc: 0.9847\n",
      "Epoch 11/150\n",
      "97/97 [==============================] - 0s 5ms/step - loss: 0.1690 - accuracy: 0.9721 - auc: 0.9828\n",
      "Epoch 12/150\n",
      "97/97 [==============================] - 0s 5ms/step - loss: 0.1593 - accuracy: 0.9721 - auc: 0.9907\n",
      "Epoch 13/150\n",
      "97/97 [==============================] - 0s 4ms/step - loss: 0.1675 - accuracy: 0.9659 - auc: 0.9791\n",
      "Epoch 14/150\n",
      "97/97 [==============================] - 0s 5ms/step - loss: 0.1405 - accuracy: 0.9793 - auc: 0.9912\n",
      "Epoch 15/150\n",
      "97/97 [==============================] - 0s 4ms/step - loss: 0.1331 - accuracy: 0.9824 - auc: 0.9933\n",
      "Epoch 16/150\n",
      "97/97 [==============================] - 0s 4ms/step - loss: 0.1547 - accuracy: 0.9690 - auc: 0.9787\n",
      "Epoch 17/150\n",
      "97/97 [==============================] - 0s 4ms/step - loss: 0.1221 - accuracy: 0.9845 - auc: 0.9927\n",
      "Epoch 18/150\n",
      "97/97 [==============================] - 0s 4ms/step - loss: 0.1185 - accuracy: 0.9804 - auc: 0.9931\n",
      "Epoch 19/150\n",
      "97/97 [==============================] - 0s 4ms/step - loss: 0.1083 - accuracy: 0.9866 - auc: 0.9943\n",
      "Epoch 20/150\n",
      "97/97 [==============================] - 0s 4ms/step - loss: 0.0974 - accuracy: 0.9917 - auc: 0.9951\n",
      "Epoch 21/150\n",
      "97/97 [==============================] - 0s 4ms/step - loss: 0.0921 - accuracy: 0.9928 - auc: 0.9950\n",
      "Epoch 22/150\n",
      "97/97 [==============================] - 0s 4ms/step - loss: 0.0887 - accuracy: 0.9928 - auc: 0.9956\n",
      "Epoch 23/150\n",
      "97/97 [==============================] - 1s 6ms/step - loss: 0.0843 - accuracy: 0.9928 - auc: 0.9935\n",
      "Epoch 24/150\n",
      "97/97 [==============================] - 0s 5ms/step - loss: 0.0803 - accuracy: 0.9938 - auc: 0.9951\n",
      "Epoch 25/150\n",
      "97/97 [==============================] - 0s 4ms/step - loss: 0.0763 - accuracy: 0.9938 - auc: 0.9959\n",
      "Epoch 26/150\n",
      "97/97 [==============================] - 0s 3ms/step - loss: 0.0736 - accuracy: 0.9938 - auc: 0.9957\n",
      "Epoch 27/150\n",
      "97/97 [==============================] - 0s 4ms/step - loss: 0.0763 - accuracy: 0.9907 - auc: 0.9949\n",
      "Epoch 28/150\n",
      "97/97 [==============================] - 0s 4ms/step - loss: 0.0996 - accuracy: 0.9762 - auc: 0.9894\n",
      "Epoch 29/150\n",
      "97/97 [==============================] - 0s 4ms/step - loss: 0.1656 - accuracy: 0.9349 - auc: 0.9616\n",
      "Epoch 30/150\n",
      "97/97 [==============================] - 0s 4ms/step - loss: 0.1955 - accuracy: 0.9173 - auc: 0.9309\n",
      "Epoch 31/150\n",
      "97/97 [==============================] - 0s 4ms/step - loss: 0.0734 - accuracy: 0.9907 - auc: 0.9949\n",
      "Epoch 32/150\n",
      "97/97 [==============================] - 0s 4ms/step - loss: 0.0661 - accuracy: 0.9928 - auc: 0.9985\n",
      "Epoch 33/150\n",
      "97/97 [==============================] - 1s 5ms/step - loss: 0.0589 - accuracy: 0.9959 - auc: 0.9971\n",
      "Epoch 34/150\n",
      "97/97 [==============================] - 0s 4ms/step - loss: 0.0566 - accuracy: 0.9948 - auc: 0.9983\n",
      "Epoch 35/150\n",
      "97/97 [==============================] - 0s 4ms/step - loss: 0.0528 - accuracy: 0.9969 - auc: 0.9983\n",
      "Epoch 36/150\n",
      "97/97 [==============================] - 0s 5ms/step - loss: 0.0511 - accuracy: 0.9969 - auc: 0.9979\n",
      "Epoch 37/150\n",
      "97/97 [==============================] - 0s 5ms/step - loss: 0.0490 - accuracy: 0.9969 - auc: 0.9988\n",
      "Epoch 38/150\n",
      "97/97 [==============================] - 0s 4ms/step - loss: 0.0473 - accuracy: 0.9969 - auc: 0.9974\n",
      "Epoch 39/150\n",
      "97/97 [==============================] - 0s 4ms/step - loss: 0.0456 - accuracy: 0.9969 - auc: 0.9982\n",
      "Epoch 40/150\n",
      "97/97 [==============================] - 0s 4ms/step - loss: 0.0441 - accuracy: 0.9969 - auc: 0.9975\n",
      "Epoch 41/150\n",
      "97/97 [==============================] - 0s 4ms/step - loss: 0.0426 - accuracy: 0.9969 - auc: 0.9978\n",
      "Epoch 42/150\n",
      "97/97 [==============================] - 0s 4ms/step - loss: 0.0412 - accuracy: 0.9969 - auc: 0.9988\n",
      "Epoch 43/150\n",
      "97/97 [==============================] - 0s 4ms/step - loss: 0.0399 - accuracy: 0.9969 - auc: 0.9977\n",
      "Epoch 44/150\n",
      "97/97 [==============================] - 0s 5ms/step - loss: 0.0387 - accuracy: 0.9969 - auc: 0.9978\n",
      "Epoch 45/150\n",
      "97/97 [==============================] - 0s 5ms/step - loss: 0.0375 - accuracy: 0.9969 - auc: 0.9979\n",
      "Epoch 46/150\n",
      "97/97 [==============================] - 1s 5ms/step - loss: 0.0364 - accuracy: 0.9969 - auc: 0.9985\n",
      "Epoch 47/150\n",
      "97/97 [==============================] - 0s 5ms/step - loss: 0.0353 - accuracy: 0.9969 - auc: 0.9978\n",
      "Epoch 48/150\n",
      "97/97 [==============================] - 0s 4ms/step - loss: 0.0344 - accuracy: 0.9969 - auc: 0.9982\n",
      "Epoch 49/150\n",
      "97/97 [==============================] - 0s 4ms/step - loss: 0.0334 - accuracy: 0.9969 - auc: 0.9980\n",
      "Epoch 50/150\n",
      "97/97 [==============================] - 0s 4ms/step - loss: 0.0324 - accuracy: 0.9969 - auc: 0.9981\n",
      "Epoch 51/150\n",
      "97/97 [==============================] - 0s 4ms/step - loss: 0.0316 - accuracy: 0.9969 - auc: 0.9983\n",
      "Epoch 52/150\n",
      "97/97 [==============================] - 0s 4ms/step - loss: 0.0308 - accuracy: 0.9969 - auc: 0.9980\n",
      "Epoch 53/150\n",
      "97/97 [==============================] - 0s 4ms/step - loss: 0.0300 - accuracy: 0.9969 - auc: 0.9977\n",
      "Epoch 54/150\n",
      "97/97 [==============================] - 1s 5ms/step - loss: 0.0292 - accuracy: 0.9969 - auc: 0.9981\n",
      "Epoch 55/150\n",
      "97/97 [==============================] - 1s 6ms/step - loss: 0.0285 - accuracy: 0.9969 - auc: 0.9980\n",
      "Epoch 56/150\n",
      "97/97 [==============================] - 1s 6ms/step - loss: 0.0279 - accuracy: 0.9969 - auc: 0.9983\n",
      "Epoch 57/150\n",
      "97/97 [==============================] - 0s 4ms/step - loss: 0.0272 - accuracy: 0.9969 - auc: 0.9979\n",
      "Epoch 58/150\n",
      "97/97 [==============================] - 0s 4ms/step - loss: 0.0266 - accuracy: 0.9969 - auc: 0.9980\n",
      "Epoch 59/150\n",
      "97/97 [==============================] - 0s 5ms/step - loss: 0.0261 - accuracy: 0.9969 - auc: 0.9977\n",
      "Epoch 60/150\n",
      "97/97 [==============================] - 0s 5ms/step - loss: 0.0256 - accuracy: 0.9969 - auc: 0.9980\n",
      "Epoch 61/150\n",
      "97/97 [==============================] - 0s 5ms/step - loss: 0.0251 - accuracy: 0.9969 - auc: 0.9990\n",
      "Epoch 62/150\n",
      "97/97 [==============================] - 0s 5ms/step - loss: 0.0246 - accuracy: 0.9969 - auc: 0.9980\n",
      "Epoch 63/150\n",
      "97/97 [==============================] - 0s 5ms/step - loss: 0.0241 - accuracy: 0.9969 - auc: 0.9988\n",
      "Epoch 64/150\n",
      "97/97 [==============================] - 0s 4ms/step - loss: 0.0237 - accuracy: 0.9969 - auc: 0.9980\n",
      "Epoch 65/150\n",
      "97/97 [==============================] - 0s 4ms/step - loss: 0.0233 - accuracy: 0.9969 - auc: 0.9973\n",
      "Epoch 66/150\n",
      "97/97 [==============================] - 0s 4ms/step - loss: 0.0229 - accuracy: 0.9969 - auc: 0.9980\n",
      "Epoch 67/150\n",
      "97/97 [==============================] - 0s 4ms/step - loss: 0.0225 - accuracy: 0.9969 - auc: 0.9980\n",
      "Epoch 68/150\n",
      "97/97 [==============================] - 0s 4ms/step - loss: 0.0222 - accuracy: 0.9969 - auc: 0.9975\n",
      "Epoch 69/150\n",
      "97/97 [==============================] - 0s 4ms/step - loss: 0.0219 - accuracy: 0.9969 - auc: 0.9980\n",
      "Epoch 70/150\n",
      "97/97 [==============================] - 0s 4ms/step - loss: 0.0216 - accuracy: 0.9969 - auc: 0.9980\n",
      "Epoch 71/150\n",
      "97/97 [==============================] - 0s 4ms/step - loss: 0.0213 - accuracy: 0.9969 - auc: 0.9983\n",
      "Epoch 72/150\n",
      "97/97 [==============================] - 0s 4ms/step - loss: 0.0210 - accuracy: 0.9969 - auc: 0.9980\n",
      "Epoch 73/150\n",
      "97/97 [==============================] - 0s 4ms/step - loss: 0.0207 - accuracy: 0.9969 - auc: 0.9980\n",
      "Epoch 74/150\n",
      "97/97 [==============================] - 0s 4ms/step - loss: 0.0205 - accuracy: 0.9969 - auc: 0.9979\n",
      "Epoch 75/150\n",
      "97/97 [==============================] - 0s 4ms/step - loss: 0.0203 - accuracy: 0.9969 - auc: 0.9980\n",
      "Epoch 76/150\n",
      "97/97 [==============================] - 0s 5ms/step - loss: 0.0200 - accuracy: 0.9969 - auc: 0.9980\n",
      "Epoch 77/150\n",
      "97/97 [==============================] - 1s 5ms/step - loss: 0.0198 - accuracy: 0.9969 - auc: 0.9980\n",
      "Epoch 78/150\n",
      "97/97 [==============================] - 0s 5ms/step - loss: 0.0196 - accuracy: 0.9969 - auc: 0.9980\n",
      "Epoch 79/150\n",
      "97/97 [==============================] - 1s 6ms/step - loss: 0.0194 - accuracy: 0.9969 - auc: 0.9980\n",
      "Epoch 80/150\n",
      "97/97 [==============================] - 1s 6ms/step - loss: 0.0193 - accuracy: 0.9969 - auc: 0.9980\n",
      "Epoch 81/150\n",
      "97/97 [==============================] - 1s 5ms/step - loss: 0.0191 - accuracy: 0.9969 - auc: 0.9980\n",
      "Epoch 82/150\n",
      "97/97 [==============================] - 0s 5ms/step - loss: 0.0190 - accuracy: 0.9969 - auc: 0.9976\n",
      "Epoch 83/150\n",
      "97/97 [==============================] - 0s 5ms/step - loss: 0.0188 - accuracy: 0.9969 - auc: 0.9980\n",
      "Epoch 84/150\n",
      "97/97 [==============================] - 1s 5ms/step - loss: 0.0187 - accuracy: 0.9969 - auc: 0.9980\n",
      "Epoch 85/150\n",
      "97/97 [==============================] - 1s 5ms/step - loss: 0.0185 - accuracy: 0.9969 - auc: 0.9980\n",
      "Epoch 86/150\n",
      "97/97 [==============================] - 0s 4ms/step - loss: 0.0184 - accuracy: 0.9969 - auc: 0.9980\n",
      "Epoch 87/150\n",
      "97/97 [==============================] - 0s 4ms/step - loss: 0.0183 - accuracy: 0.9969 - auc: 0.9980\n",
      "Epoch 88/150\n",
      "97/97 [==============================] - 0s 4ms/step - loss: 0.0182 - accuracy: 0.9969 - auc: 0.9982\n",
      "Epoch 89/150\n",
      "97/97 [==============================] - 0s 5ms/step - loss: 0.0181 - accuracy: 0.9969 - auc: 0.9980\n",
      "Epoch 90/150\n",
      "97/97 [==============================] - 0s 4ms/step - loss: 0.0180 - accuracy: 0.9969 - auc: 0.9980\n",
      "Epoch 91/150\n",
      "97/97 [==============================] - 0s 4ms/step - loss: 0.0179 - accuracy: 0.9969 - auc: 0.9980\n",
      "Epoch 92/150\n",
      "97/97 [==============================] - 0s 4ms/step - loss: 0.0178 - accuracy: 0.9969 - auc: 0.9980\n",
      "Epoch 93/150\n",
      "97/97 [==============================] - 0s 4ms/step - loss: 0.0178 - accuracy: 0.9969 - auc: 0.9980\n",
      "Epoch 94/150\n",
      "97/97 [==============================] - 0s 4ms/step - loss: 0.0177 - accuracy: 0.9969 - auc: 0.9980\n",
      "Epoch 95/150\n",
      "97/97 [==============================] - 0s 4ms/step - loss: 0.0176 - accuracy: 0.9969 - auc: 0.9980\n",
      "Epoch 96/150\n",
      "97/97 [==============================] - 0s 4ms/step - loss: 0.0176 - accuracy: 0.9969 - auc: 0.9973\n",
      "Epoch 97/150\n",
      "97/97 [==============================] - 0s 4ms/step - loss: 0.0175 - accuracy: 0.9969 - auc: 0.9980\n",
      "Epoch 98/150\n",
      "97/97 [==============================] - 0s 4ms/step - loss: 0.0174 - accuracy: 0.9969 - auc: 0.9980\n",
      "Epoch 99/150\n",
      "97/97 [==============================] - 0s 4ms/step - loss: 0.0174 - accuracy: 0.9969 - auc: 0.9980\n",
      "Epoch 100/150\n",
      "97/97 [==============================] - 0s 4ms/step - loss: 0.0173 - accuracy: 0.9969 - auc: 0.9980\n",
      "Epoch 101/150\n",
      "97/97 [==============================] - 0s 4ms/step - loss: 0.0173 - accuracy: 0.9969 - auc: 0.9980\n",
      "Epoch 102/150\n",
      "97/97 [==============================] - 0s 4ms/step - loss: 0.0172 - accuracy: 0.9969 - auc: 0.9980\n",
      "Epoch 103/150\n",
      "97/97 [==============================] - 0s 4ms/step - loss: 0.0172 - accuracy: 0.9969 - auc: 0.9980\n",
      "Epoch 104/150\n",
      "97/97 [==============================] - 0s 4ms/step - loss: 0.0171 - accuracy: 0.9969 - auc: 0.9980\n",
      "Epoch 105/150\n",
      "97/97 [==============================] - 0s 4ms/step - loss: 0.0171 - accuracy: 0.9969 - auc: 0.9980\n",
      "Epoch 106/150\n",
      "97/97 [==============================] - 0s 5ms/step - loss: 0.0171 - accuracy: 0.9969 - auc: 0.9980\n",
      "Epoch 107/150\n",
      "97/97 [==============================] - 1s 5ms/step - loss: 0.0170 - accuracy: 0.9969 - auc: 0.9980\n",
      "Epoch 108/150\n",
      "97/97 [==============================] - 0s 4ms/step - loss: 0.0170 - accuracy: 0.9969 - auc: 0.9970\n",
      "Epoch 109/150\n",
      "97/97 [==============================] - 0s 4ms/step - loss: 0.0170 - accuracy: 0.9969 - auc: 0.9978\n",
      "Epoch 110/150\n",
      "97/97 [==============================] - 0s 4ms/step - loss: 0.0169 - accuracy: 0.9969 - auc: 0.9980\n",
      "Epoch 111/150\n",
      "97/97 [==============================] - 0s 4ms/step - loss: 0.0215 - accuracy: 0.9938 - auc: 0.9980\n",
      "Epoch 112/150\n",
      "97/97 [==============================] - 0s 4ms/step - loss: 0.1801 - accuracy: 0.9452 - auc: 0.9705\n",
      "Epoch 113/150\n",
      "97/97 [==============================] - 0s 4ms/step - loss: 0.0403 - accuracy: 0.9886 - auc: 0.9950\n",
      "Epoch 114/150\n",
      "97/97 [==============================] - 0s 4ms/step - loss: 0.0151 - accuracy: 0.9979 - auc: 0.9986\n",
      "Epoch 115/150\n",
      "97/97 [==============================] - 0s 4ms/step - loss: 0.0142 - accuracy: 0.9979 - auc: 0.9999\n",
      "Epoch 116/150\n",
      "97/97 [==============================] - 0s 4ms/step - loss: 0.0205 - accuracy: 0.9969 - auc: 0.9974\n",
      "Epoch 117/150\n",
      "97/97 [==============================] - 0s 3ms/step - loss: 0.0115 - accuracy: 0.9979 - auc: 0.9993\n",
      "Epoch 118/150\n",
      "97/97 [==============================] - 0s 4ms/step - loss: 0.0092 - accuracy: 0.9990 - auc: 0.9993\n",
      "Epoch 119/150\n",
      "97/97 [==============================] - 0s 5ms/step - loss: 0.0091 - accuracy: 0.9990 - auc: 0.9993\n",
      "Epoch 120/150\n",
      "97/97 [==============================] - 1s 6ms/step - loss: 0.0090 - accuracy: 0.9990 - auc: 0.9993\n",
      "Epoch 121/150\n",
      "97/97 [==============================] - 1s 5ms/step - loss: 0.0089 - accuracy: 0.9990 - auc: 0.9993\n",
      "Epoch 122/150\n",
      "97/97 [==============================] - 0s 5ms/step - loss: 0.0089 - accuracy: 0.9990 - auc: 0.9993\n",
      "Epoch 123/150\n",
      "97/97 [==============================] - 0s 5ms/step - loss: 0.0088 - accuracy: 0.9990 - auc: 0.9993\n",
      "Epoch 124/150\n",
      "97/97 [==============================] - 0s 4ms/step - loss: 0.0087 - accuracy: 0.9990 - auc: 0.9993\n",
      "Epoch 125/150\n",
      "97/97 [==============================] - 0s 5ms/step - loss: 0.0087 - accuracy: 0.9990 - auc: 0.9993\n",
      "Epoch 126/150\n",
      "97/97 [==============================] - 0s 4ms/step - loss: 0.0086 - accuracy: 0.9990 - auc: 0.9993\n",
      "Epoch 127/150\n",
      "97/97 [==============================] - 0s 5ms/step - loss: 0.0086 - accuracy: 0.9990 - auc: 0.9993\n",
      "Epoch 128/150\n",
      "97/97 [==============================] - 1s 6ms/step - loss: 0.0085 - accuracy: 0.9990 - auc: 0.9994\n",
      "Epoch 129/150\n",
      "97/97 [==============================] - 0s 5ms/step - loss: 0.0084 - accuracy: 0.9990 - auc: 0.9993\n",
      "Epoch 130/150\n",
      "97/97 [==============================] - 0s 4ms/step - loss: 0.0084 - accuracy: 0.9990 - auc: 0.9993\n",
      "Epoch 131/150\n",
      "97/97 [==============================] - 1s 5ms/step - loss: 0.0083 - accuracy: 0.9990 - auc: 0.9993\n",
      "Epoch 132/150\n",
      "97/97 [==============================] - 0s 5ms/step - loss: 0.0083 - accuracy: 0.9990 - auc: 0.9993\n",
      "Epoch 133/150\n",
      "97/97 [==============================] - 0s 4ms/step - loss: 0.0082 - accuracy: 0.9990 - auc: 0.9993\n",
      "Epoch 134/150\n",
      "97/97 [==============================] - 0s 5ms/step - loss: 0.0082 - accuracy: 0.9990 - auc: 0.9993\n",
      "Epoch 135/150\n",
      "97/97 [==============================] - 0s 5ms/step - loss: 0.0081 - accuracy: 0.9990 - auc: 0.9993\n",
      "Epoch 136/150\n",
      "97/97 [==============================] - 0s 4ms/step - loss: 0.0080 - accuracy: 0.9990 - auc: 0.9993\n",
      "Epoch 137/150\n",
      "97/97 [==============================] - 0s 4ms/step - loss: 0.0080 - accuracy: 0.9990 - auc: 0.9993\n",
      "Epoch 138/150\n",
      "97/97 [==============================] - 0s 4ms/step - loss: 0.0079 - accuracy: 0.9990 - auc: 0.9993\n",
      "Epoch 139/150\n",
      "97/97 [==============================] - 0s 4ms/step - loss: 0.0079 - accuracy: 0.9990 - auc: 0.9993\n",
      "Epoch 140/150\n",
      "97/97 [==============================] - 1s 6ms/step - loss: 0.0079 - accuracy: 0.9990 - auc: 0.9993\n",
      "Epoch 141/150\n",
      "97/97 [==============================] - 1s 7ms/step - loss: 0.0078 - accuracy: 0.9990 - auc: 0.9993\n",
      "Epoch 142/150\n",
      "97/97 [==============================] - 1s 8ms/step - loss: 0.0078 - accuracy: 0.9990 - auc: 0.9993\n",
      "Epoch 143/150\n"
     ]
    },
    {
     "name": "stdout",
     "output_type": "stream",
     "text": [
      "97/97 [==============================] - 1s 7ms/step - loss: 0.0077 - accuracy: 0.9990 - auc: 0.9993\n",
      "Epoch 144/150\n",
      "97/97 [==============================] - 1s 7ms/step - loss: 0.0077 - accuracy: 0.9990 - auc: 0.9993\n",
      "Epoch 145/150\n",
      "97/97 [==============================] - 1s 6ms/step - loss: 0.0076 - accuracy: 0.9990 - auc: 0.9991\n",
      "Epoch 146/150\n",
      "97/97 [==============================] - 1s 5ms/step - loss: 0.0076 - accuracy: 0.9990 - auc: 0.9993\n",
      "Epoch 147/150\n",
      "97/97 [==============================] - 1s 6ms/step - loss: 0.0076 - accuracy: 0.9990 - auc: 0.9993\n",
      "Epoch 148/150\n",
      "97/97 [==============================] - 1s 6ms/step - loss: 0.0075 - accuracy: 0.9990 - auc: 0.9993\n",
      "Epoch 149/150\n",
      "97/97 [==============================] - 0s 5ms/step - loss: 0.0075 - accuracy: 0.9990 - auc: 0.9993\n",
      "Epoch 150/150\n",
      "97/97 [==============================] - 1s 6ms/step - loss: 0.0075 - accuracy: 0.9990 - auc: 0.9993\n",
      "CPU times: user 2min 34s, sys: 12.3 s, total: 2min 46s\n",
      "Wall time: 1min 9s\n"
     ]
    },
    {
     "data": {
      "text/plain": [
       "<tensorflow.python.keras.callbacks.History at 0x7fdda2caad50>"
      ]
     },
     "execution_count": 46,
     "metadata": {},
     "output_type": "execute_result"
    }
   ],
   "source": [
    "%%time\n",
    "model_raw_resnet50.fit(train_resnet50[train_resnet50.columns[2:]], train_resnet50['target'],\n",
    "                    epochs=150, batch_size=10)"
   ]
  },
  {
   "cell_type": "markdown",
   "metadata": {},
   "source": [
    "#### Metrics per iteration for Dense Net"
   ]
  },
  {
   "cell_type": "code",
   "execution_count": 47,
   "metadata": {},
   "outputs": [
    {
     "data": {
      "image/png": "[encoded data removed]",
      "text/plain": [
       "<Figure size 432x288 with 1 Axes>"
      ]
     },
     "metadata": {
      "needs_background": "light"
     },
     "output_type": "display_data"
    }
   ],
   "source": [
    "plt.plot(model_raw_resnet50.history.history['auc']);\n",
    "plt.title('ROC-AUC per number of iterations');\n",
    "plt.xlabel('N iterations');\n",
    "plt.ylabel('ROC AUC');"
   ]
  },
  {
   "cell_type": "code",
   "execution_count": 48,
   "metadata": {},
   "outputs": [
    {
     "data": {
      "image/png": "[encoded data removed]",
      "text/plain": [
       "<Figure size 432x288 with 1 Axes>"
      ]
     },
     "metadata": {
      "needs_background": "light"
     },
     "output_type": "display_data"
    }
   ],
   "source": [
    "plt.plot(model_raw_resnet50.history.history['accuracy']);\n",
    "plt.title('ROC-AUC per number of iterations');\n",
    "plt.xlabel('N iterations');\n",
    "plt.ylabel('ROC AUC');"
   ]
  },
  {
   "cell_type": "markdown",
   "metadata": {},
   "source": [
    "### Logistic Regression"
   ]
  },
  {
   "cell_type": "code",
   "execution_count": 49,
   "metadata": {},
   "outputs": [],
   "source": [
    "log_reg_resnet50 = LogisticRegression(random_state=42)"
   ]
  },
  {
   "cell_type": "code",
   "execution_count": 50,
   "metadata": {},
   "outputs": [
    {
     "name": "stdout",
     "output_type": "stream",
     "text": [
      "CPU times: user 10 s, sys: 181 ms, total: 10.2 s\n",
      "Wall time: 5.58 s\n"
     ]
    },
    {
     "name": "stderr",
     "output_type": "stream",
     "text": [
      "/opt/conda/lib/python3.7/site-packages/sklearn/linear_model/_logistic.py:764: ConvergenceWarning: lbfgs failed to converge (status=1):\n",
      "STOP: TOTAL NO. of ITERATIONS REACHED LIMIT.\n",
      "\n",
      "Increase the number of iterations (max_iter) or scale the data as shown in:\n",
      "    https://scikit-learn.org/stable/modules/preprocessing.html\n",
      "Please also refer to the documentation for alternative solver options:\n",
      "    https://scikit-learn.org/stable/modules/linear_model.html#logistic-regression\n",
      "  extra_warning_msg=_LOGISTIC_SOLVER_CONVERGENCE_MSG)\n"
     ]
    },
    {
     "data": {
      "text/plain": [
       "LogisticRegression(random_state=42)"
      ]
     },
     "execution_count": 50,
     "metadata": {},
     "output_type": "execute_result"
    }
   ],
   "source": [
    "%%time\n",
    "log_reg_resnet50.fit(train_resnet50[train_resnet50.columns[2:]], train_resnet50['target'])"
   ]
  },
  {
   "cell_type": "markdown",
   "metadata": {},
   "source": [
    "### GradientBoositng"
   ]
  },
  {
   "cell_type": "code",
   "execution_count": 51,
   "metadata": {},
   "outputs": [],
   "source": [
    "gbr_resnet50 = GradientBoostingClassifier(random_state=42)"
   ]
  },
  {
   "cell_type": "code",
   "execution_count": 52,
   "metadata": {},
   "outputs": [
    {
     "name": "stdout",
     "output_type": "stream",
     "text": [
      "CPU times: user 2min 59s, sys: 239 ms, total: 2min 59s\n",
      "Wall time: 3min\n"
     ]
    },
    {
     "data": {
      "text/plain": [
       "GradientBoostingClassifier(random_state=42)"
      ]
     },
     "execution_count": 52,
     "metadata": {},
     "output_type": "execute_result"
    }
   ],
   "source": [
    "%%time\n",
    "gbr_resnet50.fit(train_resnet50[train_resnet50.columns[2:]], train_resnet50['target'])"
   ]
  },
  {
   "cell_type": "markdown",
   "metadata": {},
   "source": [
    "### RandomForest"
   ]
  },
  {
   "cell_type": "code",
   "execution_count": 53,
   "metadata": {},
   "outputs": [],
   "source": [
    "rf_resnet50 = RandomForestClassifier(random_state=42)"
   ]
  },
  {
   "cell_type": "code",
   "execution_count": 54,
   "metadata": {},
   "outputs": [
    {
     "name": "stdout",
     "output_type": "stream",
     "text": [
      "CPU times: user 3.86 s, sys: 0 ns, total: 3.86 s\n",
      "Wall time: 3.88 s\n"
     ]
    },
    {
     "data": {
      "text/plain": [
       "RandomForestClassifier(random_state=42)"
      ]
     },
     "execution_count": 54,
     "metadata": {},
     "output_type": "execute_result"
    }
   ],
   "source": [
    "%%time\n",
    "rf_resnet50.fit(train_resnet50[train_resnet50.columns[2:]], train_resnet50['target'])"
   ]
  },
  {
   "cell_type": "markdown",
   "metadata": {},
   "source": [
    "## EfficientNet"
   ]
  },
  {
   "cell_type": "code",
   "execution_count": 55,
   "metadata": {
    "_cell_guid": "79c7e3d0-c299-4dcb-8224-4455121ee9b0",
    "_uuid": "d629ff2d2480ee46fbb7e2d37f6b5fab8052498a"
   },
   "outputs": [],
   "source": [
    "train_efficient_net = pd.read_csv('/kaggle/input/lab3-efficientnet/train_images_efficent_net.csv')\n",
    "test_efficient_net = pd.read_csv('/kaggle/input/lab3-efficientnet/test_images_efficient_net.csv')"
   ]
  },
  {
   "cell_type": "code",
   "execution_count": 56,
   "metadata": {},
   "outputs": [
    {
     "data": {
      "text/html": [
       "<div>\n",
       "<style scoped>\n",
       "    .dataframe tbody tr th:only-of-type {\n",
       "        vertical-align: middle;\n",
       "    }\n",
       "\n",
       "    .dataframe tbody tr th {\n",
       "        vertical-align: top;\n",
       "    }\n",
       "\n",
       "    .dataframe thead th {\n",
       "        text-align: right;\n",
       "    }\n",
       "</style>\n",
       "<table border=\"1\" class=\"dataframe\">\n",
       "  <thead>\n",
       "    <tr style=\"text-align: right;\">\n",
       "      <th></th>\n",
       "      <th>image_name</th>\n",
       "      <th>target</th>\n",
       "      <th>0</th>\n",
       "      <th>1</th>\n",
       "      <th>2</th>\n",
       "      <th>3</th>\n",
       "      <th>4</th>\n",
       "      <th>5</th>\n",
       "      <th>6</th>\n",
       "      <th>7</th>\n",
       "      <th>...</th>\n",
       "      <th>20470</th>\n",
       "      <th>20471</th>\n",
       "      <th>20472</th>\n",
       "      <th>20473</th>\n",
       "      <th>20474</th>\n",
       "      <th>20475</th>\n",
       "      <th>20476</th>\n",
       "      <th>20477</th>\n",
       "      <th>20478</th>\n",
       "      <th>20479</th>\n",
       "    </tr>\n",
       "  </thead>\n",
       "  <tbody>\n",
       "    <tr>\n",
       "      <th>0</th>\n",
       "      <td>/kaggle/input/real-and-fake-face-detection/rea...</td>\n",
       "      <td>0</td>\n",
       "      <td>-0.108807</td>\n",
       "      <td>-0.063203</td>\n",
       "      <td>-0.151446</td>\n",
       "      <td>-0.258653</td>\n",
       "      <td>-0.14321</td>\n",
       "      <td>0.520563</td>\n",
       "      <td>-0.157612</td>\n",
       "      <td>-0.166628</td>\n",
       "      <td>...</td>\n",
       "      <td>-0.247935</td>\n",
       "      <td>-0.238898</td>\n",
       "      <td>-0.220627</td>\n",
       "      <td>-0.215591</td>\n",
       "      <td>-0.273874</td>\n",
       "      <td>-0.122365</td>\n",
       "      <td>-0.14342</td>\n",
       "      <td>-0.003733</td>\n",
       "      <td>-0.045659</td>\n",
       "      <td>0.423481</td>\n",
       "    </tr>\n",
       "    <tr>\n",
       "      <th>1</th>\n",
       "      <td>/kaggle/input/lab3-datasets/russel_crowe_image...</td>\n",
       "      <td>1</td>\n",
       "      <td>-0.224324</td>\n",
       "      <td>-0.275059</td>\n",
       "      <td>-0.275332</td>\n",
       "      <td>-0.273451</td>\n",
       "      <td>-0.18134</td>\n",
       "      <td>-0.120140</td>\n",
       "      <td>-0.275968</td>\n",
       "      <td>-0.053298</td>\n",
       "      <td>...</td>\n",
       "      <td>0.857371</td>\n",
       "      <td>-0.248763</td>\n",
       "      <td>3.022597</td>\n",
       "      <td>0.175123</td>\n",
       "      <td>-0.212562</td>\n",
       "      <td>-0.276527</td>\n",
       "      <td>-0.21443</td>\n",
       "      <td>-0.125209</td>\n",
       "      <td>-0.057769</td>\n",
       "      <td>-0.126134</td>\n",
       "    </tr>\n",
       "  </tbody>\n",
       "</table>\n",
       "<p>2 rows × 20482 columns</p>\n",
       "</div>"
      ],
      "text/plain": [
       "                                          image_name  target         0  \\\n",
       "0  /kaggle/input/real-and-fake-face-detection/rea...       0 -0.108807   \n",
       "1  /kaggle/input/lab3-datasets/russel_crowe_image...       1 -0.224324   \n",
       "\n",
       "          1         2         3        4         5         6         7  ...  \\\n",
       "0 -0.063203 -0.151446 -0.258653 -0.14321  0.520563 -0.157612 -0.166628  ...   \n",
       "1 -0.275059 -0.275332 -0.273451 -0.18134 -0.120140 -0.275968 -0.053298  ...   \n",
       "\n",
       "      20470     20471     20472     20473     20474     20475    20476  \\\n",
       "0 -0.247935 -0.238898 -0.220627 -0.215591 -0.273874 -0.122365 -0.14342   \n",
       "1  0.857371 -0.248763  3.022597  0.175123 -0.212562 -0.276527 -0.21443   \n",
       "\n",
       "      20477     20478     20479  \n",
       "0 -0.003733 -0.045659  0.423481  \n",
       "1 -0.125209 -0.057769 -0.126134  \n",
       "\n",
       "[2 rows x 20482 columns]"
      ]
     },
     "execution_count": 56,
     "metadata": {},
     "output_type": "execute_result"
    }
   ],
   "source": [
    "train_efficient_net.head(2)"
   ]
  },
  {
   "cell_type": "markdown",
   "metadata": {},
   "source": [
    "### SVC"
   ]
  },
  {
   "cell_type": "code",
   "execution_count": 57,
   "metadata": {},
   "outputs": [],
   "source": [
    "svc_efficient_net = SVC(random_state=42, probability=True)"
   ]
  },
  {
   "cell_type": "code",
   "execution_count": 58,
   "metadata": {},
   "outputs": [],
   "source": [
    "## handle missing values\n",
    "train_efficient_net[train_efficient_net.columns[2:]] = train_efficient_net[train_efficient_net.columns[2:]].fillna(0)\n",
    "test_efficient_net[test_efficient_net.columns[2:]] = test_efficient_net[test_efficient_net.columns[2:]].fillna(0)"
   ]
  },
  {
   "cell_type": "code",
   "execution_count": 59,
   "metadata": {},
   "outputs": [
    {
     "name": "stdout",
     "output_type": "stream",
     "text": [
      "CPU times: user 1min 19s, sys: 276 ms, total: 1min 20s\n",
      "Wall time: 1min 20s\n"
     ]
    },
    {
     "data": {
      "text/plain": [
       "SVC(probability=True, random_state=42)"
      ]
     },
     "execution_count": 59,
     "metadata": {},
     "output_type": "execute_result"
    }
   ],
   "source": [
    "%%time\n",
    "svc_efficient_net.fit(train_efficient_net[train_efficient_net.columns[2:]], \n",
    "                      train_efficient_net['target'])"
   ]
  },
  {
   "cell_type": "markdown",
   "metadata": {},
   "source": [
    "### Dense Net"
   ]
  },
  {
   "cell_type": "code",
   "execution_count": 60,
   "metadata": {},
   "outputs": [],
   "source": [
    "model_raw_efficient_net = Sequential()\n",
    "model_raw_efficient_net.add(Dense(12, input_dim=len(train_efficient_net.columns[2:]),\n",
    "                                  activation='relu'))\n",
    "model_raw_efficient_net.add(Dense(8, activation='relu'))\n",
    "model_raw_efficient_net.add(Dense(1, activation='sigmoid'))"
   ]
  },
  {
   "cell_type": "code",
   "execution_count": 61,
   "metadata": {},
   "outputs": [
    {
     "name": "stdout",
     "output_type": "stream",
     "text": [
      "Model: \"sequential_3\"\n",
      "_________________________________________________________________\n",
      "Layer (type)                 Output Shape              Param #   \n",
      "=================================================================\n",
      "dense_9 (Dense)              (None, 12)                245772    \n",
      "_________________________________________________________________\n",
      "dense_10 (Dense)             (None, 8)                 104       \n",
      "_________________________________________________________________\n",
      "dense_11 (Dense)             (None, 1)                 9         \n",
      "=================================================================\n",
      "Total params: 245,885\n",
      "Trainable params: 245,885\n",
      "Non-trainable params: 0\n",
      "_________________________________________________________________\n"
     ]
    }
   ],
   "source": [
    "model_raw_efficient_net.summary()"
   ]
  },
  {
   "cell_type": "code",
   "execution_count": 62,
   "metadata": {},
   "outputs": [],
   "source": [
    "model_raw_efficient_net.compile(loss='binary_crossentropy', optimizer='adam',\n",
    "                        metrics=['accuracy', 'AUC'])"
   ]
  },
  {
   "cell_type": "code",
   "execution_count": 63,
   "metadata": {},
   "outputs": [
    {
     "name": "stdout",
     "output_type": "stream",
     "text": [
      "Epoch 1/150\n",
      "97/97 [==============================] - 0s 3ms/step - loss: 0.1610 - accuracy: 0.9390 - auc: 0.9743\n",
      "Epoch 2/150\n",
      "97/97 [==============================] - 0s 3ms/step - loss: 0.0310 - accuracy: 0.9897 - auc: 0.9990\n",
      "Epoch 3/150\n",
      "97/97 [==============================] - 0s 4ms/step - loss: 0.0158 - accuracy: 0.9959 - auc: 0.9998\n",
      "Epoch 4/150\n",
      "97/97 [==============================] - 0s 4ms/step - loss: 6.7411e-04 - accuracy: 1.0000 - auc: 1.0000\n",
      "Epoch 5/150\n",
      "97/97 [==============================] - 0s 4ms/step - loss: 3.0488e-04 - accuracy: 1.0000 - auc: 1.0000\n",
      "Epoch 6/150\n",
      "97/97 [==============================] - 0s 4ms/step - loss: 2.2958e-04 - accuracy: 1.0000 - auc: 1.0000\n",
      "Epoch 7/150\n",
      "97/97 [==============================] - 0s 4ms/step - loss: 1.8532e-04 - accuracy: 1.0000 - auc: 1.0000\n",
      "Epoch 8/150\n",
      "97/97 [==============================] - 0s 4ms/step - loss: 1.5359e-04 - accuracy: 1.0000 - auc: 1.0000\n",
      "Epoch 9/150\n",
      "97/97 [==============================] - 0s 4ms/step - loss: 1.2541e-04 - accuracy: 1.0000 - auc: 1.0000\n",
      "Epoch 10/150\n",
      "97/97 [==============================] - 0s 4ms/step - loss: 1.0997e-04 - accuracy: 1.0000 - auc: 1.0000\n",
      "Epoch 11/150\n",
      "97/97 [==============================] - 0s 4ms/step - loss: 9.3456e-05 - accuracy: 1.0000 - auc: 1.0000\n",
      "Epoch 12/150\n",
      "97/97 [==============================] - 0s 5ms/step - loss: 8.0601e-05 - accuracy: 1.0000 - auc: 1.0000\n",
      "Epoch 13/150\n",
      "97/97 [==============================] - 0s 4ms/step - loss: 7.3393e-05 - accuracy: 1.0000 - auc: 1.0000\n",
      "Epoch 14/150\n",
      "97/97 [==============================] - 0s 4ms/step - loss: 6.1288e-05 - accuracy: 1.0000 - auc: 1.0000\n",
      "Epoch 15/150\n",
      "97/97 [==============================] - 0s 4ms/step - loss: 5.0585e-05 - accuracy: 1.0000 - auc: 1.0000\n",
      "Epoch 16/150\n",
      "97/97 [==============================] - 0s 4ms/step - loss: 4.3572e-05 - accuracy: 1.0000 - auc: 1.0000\n",
      "Epoch 17/150\n",
      "97/97 [==============================] - 0s 4ms/step - loss: 3.8427e-05 - accuracy: 1.0000 - auc: 1.0000\n",
      "Epoch 18/150\n",
      "97/97 [==============================] - 0s 3ms/step - loss: 3.4310e-05 - accuracy: 1.0000 - auc: 1.0000\n",
      "Epoch 19/150\n",
      "97/97 [==============================] - 0s 3ms/step - loss: 3.1027e-05 - accuracy: 1.0000 - auc: 1.0000\n",
      "Epoch 20/150\n",
      "97/97 [==============================] - 0s 4ms/step - loss: 2.7999e-05 - accuracy: 1.0000 - auc: 1.0000\n",
      "Epoch 21/150\n",
      "97/97 [==============================] - 0s 4ms/step - loss: 2.5438e-05 - accuracy: 1.0000 - auc: 1.0000\n",
      "Epoch 22/150\n",
      "97/97 [==============================] - 0s 3ms/step - loss: 2.3348e-05 - accuracy: 1.0000 - auc: 1.0000\n",
      "Epoch 23/150\n",
      "97/97 [==============================] - 0s 3ms/step - loss: 2.1580e-05 - accuracy: 1.0000 - auc: 1.0000\n",
      "Epoch 24/150\n",
      "97/97 [==============================] - 0s 3ms/step - loss: 1.9894e-05 - accuracy: 1.0000 - auc: 1.0000\n",
      "Epoch 25/150\n",
      "97/97 [==============================] - 0s 4ms/step - loss: 1.8371e-05 - accuracy: 1.0000 - auc: 1.0000\n",
      "Epoch 26/150\n",
      "97/97 [==============================] - 0s 3ms/step - loss: 1.7134e-05 - accuracy: 1.0000 - auc: 1.0000\n",
      "Epoch 27/150\n",
      "97/97 [==============================] - 0s 3ms/step - loss: 1.5844e-05 - accuracy: 1.0000 - auc: 1.0000\n",
      "Epoch 28/150\n",
      "97/97 [==============================] - 0s 3ms/step - loss: 1.4726e-05 - accuracy: 1.0000 - auc: 1.0000\n",
      "Epoch 29/150\n",
      "97/97 [==============================] - 0s 3ms/step - loss: 1.3790e-05 - accuracy: 1.0000 - auc: 1.0000\n",
      "Epoch 30/150\n",
      "97/97 [==============================] - 0s 3ms/step - loss: 1.2853e-05 - accuracy: 1.0000 - auc: 1.0000\n",
      "Epoch 31/150\n",
      "97/97 [==============================] - 0s 4ms/step - loss: 1.1995e-05 - accuracy: 1.0000 - auc: 1.0000\n",
      "Epoch 32/150\n",
      "97/97 [==============================] - 0s 4ms/step - loss: 1.1188e-05 - accuracy: 1.0000 - auc: 1.0000\n",
      "Epoch 33/150\n",
      "97/97 [==============================] - 0s 4ms/step - loss: 1.0478e-05 - accuracy: 1.0000 - auc: 1.0000\n",
      "Epoch 34/150\n",
      "97/97 [==============================] - 0s 3ms/step - loss: 9.8311e-06 - accuracy: 1.0000 - auc: 1.0000\n",
      "Epoch 35/150\n",
      "97/97 [==============================] - 0s 3ms/step - loss: 9.2167e-06 - accuracy: 1.0000 - auc: 1.0000\n",
      "Epoch 36/150\n",
      "97/97 [==============================] - 0s 3ms/step - loss: 8.6551e-06 - accuracy: 1.0000 - auc: 1.0000\n",
      "Epoch 37/150\n",
      "97/97 [==============================] - 0s 3ms/step - loss: 8.1620e-06 - accuracy: 1.0000 - auc: 1.0000\n",
      "Epoch 38/150\n",
      "97/97 [==============================] - 0s 3ms/step - loss: 7.6742e-06 - accuracy: 1.0000 - auc: 1.0000\n",
      "Epoch 39/150\n",
      "97/97 [==============================] - 0s 3ms/step - loss: 7.2598e-06 - accuracy: 1.0000 - auc: 1.0000\n",
      "Epoch 40/150\n",
      "97/97 [==============================] - 0s 3ms/step - loss: 6.8006e-06 - accuracy: 1.0000 - auc: 1.0000\n",
      "Epoch 41/150\n",
      "97/97 [==============================] - 0s 3ms/step - loss: 6.4164e-06 - accuracy: 1.0000 - auc: 1.0000\n",
      "Epoch 42/150\n",
      "97/97 [==============================] - 0s 3ms/step - loss: 6.0349e-06 - accuracy: 1.0000 - auc: 1.0000\n",
      "Epoch 43/150\n",
      "97/97 [==============================] - 0s 3ms/step - loss: 5.6848e-06 - accuracy: 1.0000 - auc: 1.0000\n",
      "Epoch 44/150\n",
      "97/97 [==============================] - 0s 4ms/step - loss: 5.3635e-06 - accuracy: 1.0000 - auc: 1.0000\n",
      "Epoch 45/150\n",
      "97/97 [==============================] - 0s 4ms/step - loss: 5.0538e-06 - accuracy: 1.0000 - auc: 1.0000\n",
      "Epoch 46/150\n",
      "97/97 [==============================] - 0s 3ms/step - loss: 4.7345e-06 - accuracy: 1.0000 - auc: 1.0000\n",
      "Epoch 47/150\n",
      "97/97 [==============================] - 0s 3ms/step - loss: 4.4984e-06 - accuracy: 1.0000 - auc: 1.0000\n",
      "Epoch 48/150\n",
      "97/97 [==============================] - 0s 3ms/step - loss: 4.2266e-06 - accuracy: 1.0000 - auc: 1.0000\n",
      "Epoch 49/150\n",
      "97/97 [==============================] - 0s 3ms/step - loss: 3.9941e-06 - accuracy: 1.0000 - auc: 1.0000\n",
      "Epoch 50/150\n",
      "97/97 [==============================] - 0s 3ms/step - loss: 3.7607e-06 - accuracy: 1.0000 - auc: 1.0000\n",
      "Epoch 51/150\n",
      "97/97 [==============================] - 0s 3ms/step - loss: 3.5447e-06 - accuracy: 1.0000 - auc: 1.0000\n",
      "Epoch 52/150\n",
      "97/97 [==============================] - 0s 3ms/step - loss: 3.3557e-06 - accuracy: 1.0000 - auc: 1.0000\n",
      "Epoch 53/150\n",
      "97/97 [==============================] - 0s 3ms/step - loss: 3.1699e-06 - accuracy: 1.0000 - auc: 1.0000\n",
      "Epoch 54/150\n",
      "97/97 [==============================] - 0s 3ms/step - loss: 3.0113e-06 - accuracy: 1.0000 - auc: 1.0000\n",
      "Epoch 55/150\n",
      "97/97 [==============================] - 0s 3ms/step - loss: 2.8425e-06 - accuracy: 1.0000 - auc: 1.0000\n",
      "Epoch 56/150\n",
      "97/97 [==============================] - 0s 3ms/step - loss: 2.7020e-06 - accuracy: 1.0000 - auc: 1.0000\n",
      "Epoch 57/150\n",
      "97/97 [==============================] - 0s 3ms/step - loss: 2.5589e-06 - accuracy: 1.0000 - auc: 1.0000\n",
      "Epoch 58/150\n",
      "97/97 [==============================] - 0s 3ms/step - loss: 2.4210e-06 - accuracy: 1.0000 - auc: 1.0000\n",
      "Epoch 59/150\n",
      "97/97 [==============================] - 0s 3ms/step - loss: 2.2891e-06 - accuracy: 1.0000 - auc: 1.0000\n",
      "Epoch 60/150\n",
      "97/97 [==============================] - 0s 3ms/step - loss: 2.1695e-06 - accuracy: 1.0000 - auc: 1.0000\n",
      "Epoch 61/150\n",
      "97/97 [==============================] - 0s 3ms/step - loss: 2.0573e-06 - accuracy: 1.0000 - auc: 1.0000\n",
      "Epoch 62/150\n",
      "97/97 [==============================] - 0s 3ms/step - loss: 1.9435e-06 - accuracy: 1.0000 - auc: 1.0000\n",
      "Epoch 63/150\n",
      "97/97 [==============================] - 0s 3ms/step - loss: 1.8397e-06 - accuracy: 1.0000 - auc: 1.0000\n",
      "Epoch 64/150\n",
      "97/97 [==============================] - 0s 3ms/step - loss: 1.7495e-06 - accuracy: 1.0000 - auc: 1.0000\n",
      "Epoch 65/150\n",
      "97/97 [==============================] - 0s 4ms/step - loss: 1.6562e-06 - accuracy: 1.0000 - auc: 1.0000\n",
      "Epoch 66/150\n",
      "97/97 [==============================] - 0s 4ms/step - loss: 1.5665e-06 - accuracy: 1.0000 - auc: 1.0000\n",
      "Epoch 67/150\n",
      "97/97 [==============================] - 0s 4ms/step - loss: 1.4804e-06 - accuracy: 1.0000 - auc: 1.0000\n",
      "Epoch 68/150\n",
      "97/97 [==============================] - 0s 3ms/step - loss: 1.4001e-06 - accuracy: 1.0000 - auc: 1.0000\n",
      "Epoch 69/150\n",
      "97/97 [==============================] - 0s 3ms/step - loss: 1.3271e-06 - accuracy: 1.0000 - auc: 1.0000\n",
      "Epoch 70/150\n",
      "97/97 [==============================] - 0s 3ms/step - loss: 1.2563e-06 - accuracy: 1.0000 - auc: 1.0000\n",
      "Epoch 71/150\n",
      "97/97 [==============================] - 0s 3ms/step - loss: 1.1844e-06 - accuracy: 1.0000 - auc: 1.0000\n",
      "Epoch 72/150\n",
      "97/97 [==============================] - 0s 3ms/step - loss: 1.1161e-06 - accuracy: 1.0000 - auc: 1.0000\n",
      "Epoch 73/150\n",
      "97/97 [==============================] - 0s 3ms/step - loss: 1.0532e-06 - accuracy: 1.0000 - auc: 1.0000\n",
      "Epoch 74/150\n",
      "97/97 [==============================] - 0s 3ms/step - loss: 1.0046e-06 - accuracy: 1.0000 - auc: 1.0000\n",
      "Epoch 75/150\n",
      "97/97 [==============================] - 0s 3ms/step - loss: 9.4680e-07 - accuracy: 1.0000 - auc: 1.0000\n",
      "Epoch 76/150\n",
      "97/97 [==============================] - 0s 3ms/step - loss: 8.9563e-07 - accuracy: 1.0000 - auc: 1.0000\n",
      "Epoch 77/150\n",
      "97/97 [==============================] - 0s 3ms/step - loss: 8.4862e-07 - accuracy: 1.0000 - auc: 1.0000\n",
      "Epoch 78/150\n",
      "97/97 [==============================] - 0s 3ms/step - loss: 8.0370e-07 - accuracy: 1.0000 - auc: 1.0000\n",
      "Epoch 79/150\n",
      "97/97 [==============================] - 0s 4ms/step - loss: 7.6217e-07 - accuracy: 1.0000 - auc: 1.0000\n",
      "Epoch 80/150\n",
      "97/97 [==============================] - 0s 4ms/step - loss: 7.2573e-07 - accuracy: 1.0000 - auc: 1.0000\n",
      "Epoch 81/150\n",
      "97/97 [==============================] - 0s 4ms/step - loss: 6.8575e-07 - accuracy: 1.0000 - auc: 1.0000\n",
      "Epoch 82/150\n",
      "97/97 [==============================] - 0s 4ms/step - loss: 6.5120e-07 - accuracy: 1.0000 - auc: 1.0000\n",
      "Epoch 83/150\n",
      "97/97 [==============================] - 0s 3ms/step - loss: 6.1937e-07 - accuracy: 1.0000 - auc: 1.0000\n",
      "Epoch 84/150\n",
      "97/97 [==============================] - 0s 3ms/step - loss: 5.8840e-07 - accuracy: 1.0000 - auc: 1.0000\n",
      "Epoch 85/150\n",
      "97/97 [==============================] - 0s 3ms/step - loss: 5.5949e-07 - accuracy: 1.0000 - auc: 1.0000\n",
      "Epoch 86/150\n",
      "97/97 [==============================] - 0s 3ms/step - loss: 5.3028e-07 - accuracy: 1.0000 - auc: 1.0000\n",
      "Epoch 87/150\n",
      "97/97 [==============================] - 0s 3ms/step - loss: 5.0475e-07 - accuracy: 1.0000 - auc: 1.0000\n",
      "Epoch 88/150\n",
      "97/97 [==============================] - 0s 3ms/step - loss: 4.7911e-07 - accuracy: 1.0000 - auc: 1.0000\n",
      "Epoch 89/150\n",
      "97/97 [==============================] - 0s 3ms/step - loss: 4.5552e-07 - accuracy: 1.0000 - auc: 1.0000\n",
      "Epoch 90/150\n",
      "97/97 [==============================] - 0s 3ms/step - loss: 4.3295e-07 - accuracy: 1.0000 - auc: 1.0000\n",
      "Epoch 91/150\n",
      "97/97 [==============================] - 0s 3ms/step - loss: 4.1106e-07 - accuracy: 1.0000 - auc: 1.0000\n",
      "Epoch 92/150\n",
      "97/97 [==============================] - 0s 3ms/step - loss: 3.8960e-07 - accuracy: 1.0000 - auc: 1.0000\n",
      "Epoch 93/150\n",
      "97/97 [==============================] - 0s 4ms/step - loss: 3.7065e-07 - accuracy: 1.0000 - auc: 1.0000\n",
      "Epoch 94/150\n",
      "97/97 [==============================] - 1s 5ms/step - loss: 3.4898e-07 - accuracy: 1.0000 - auc: 1.0000\n",
      "Epoch 95/150\n",
      "97/97 [==============================] - 0s 4ms/step - loss: 3.2958e-07 - accuracy: 1.0000 - auc: 1.0000\n",
      "Epoch 96/150\n",
      "97/97 [==============================] - 0s 4ms/step - loss: 3.1172e-07 - accuracy: 1.0000 - auc: 1.0000\n",
      "Epoch 97/150\n",
      "97/97 [==============================] - 0s 4ms/step - loss: 2.9479e-07 - accuracy: 1.0000 - auc: 1.0000\n",
      "Epoch 98/150\n",
      "97/97 [==============================] - 0s 4ms/step - loss: 2.7925e-07 - accuracy: 1.0000 - auc: 1.0000\n",
      "Epoch 99/150\n",
      "97/97 [==============================] - 0s 4ms/step - loss: 2.6461e-07 - accuracy: 1.0000 - auc: 1.0000\n",
      "Epoch 100/150\n",
      "97/97 [==============================] - 0s 4ms/step - loss: 2.5082e-07 - accuracy: 1.0000 - auc: 1.0000\n",
      "Epoch 101/150\n",
      "97/97 [==============================] - 0s 4ms/step - loss: 2.3803e-07 - accuracy: 1.0000 - auc: 1.0000\n",
      "Epoch 102/150\n",
      "97/97 [==============================] - 0s 4ms/step - loss: 2.2637e-07 - accuracy: 1.0000 - auc: 1.0000\n",
      "Epoch 103/150\n",
      "97/97 [==============================] - 0s 4ms/step - loss: 2.1530e-07 - accuracy: 1.0000 - auc: 1.0000\n",
      "Epoch 104/150\n",
      "97/97 [==============================] - 0s 5ms/step - loss: 2.0517e-07 - accuracy: 1.0000 - auc: 1.0000\n",
      "Epoch 105/150\n",
      "97/97 [==============================] - 0s 4ms/step - loss: 1.9481e-07 - accuracy: 1.0000 - auc: 1.0000\n",
      "Epoch 106/150\n",
      "97/97 [==============================] - 0s 3ms/step - loss: 1.8477e-07 - accuracy: 1.0000 - auc: 1.0000\n",
      "Epoch 107/150\n",
      "97/97 [==============================] - 0s 3ms/step - loss: 1.7582e-07 - accuracy: 1.0000 - auc: 1.0000\n",
      "Epoch 108/150\n",
      "97/97 [==============================] - 0s 3ms/step - loss: 1.6727e-07 - accuracy: 1.0000 - auc: 1.0000\n",
      "Epoch 109/150\n",
      "97/97 [==============================] - 0s 3ms/step - loss: 1.5970e-07 - accuracy: 1.0000 - auc: 1.0000\n",
      "Epoch 110/150\n",
      "97/97 [==============================] - 0s 4ms/step - loss: 1.5132e-07 - accuracy: 1.0000 - auc: 1.0000\n",
      "Epoch 111/150\n",
      "97/97 [==============================] - 0s 4ms/step - loss: 1.4435e-07 - accuracy: 1.0000 - auc: 1.0000\n",
      "Epoch 112/150\n",
      "97/97 [==============================] - 0s 4ms/step - loss: 1.3737e-07 - accuracy: 1.0000 - auc: 1.0000\n",
      "Epoch 113/150\n",
      "97/97 [==============================] - 0s 4ms/step - loss: 1.3078e-07 - accuracy: 1.0000 - auc: 1.0000\n",
      "Epoch 114/150\n",
      "97/97 [==============================] - 0s 4ms/step - loss: 1.2454e-07 - accuracy: 1.0000 - auc: 1.0000\n",
      "Epoch 115/150\n",
      "97/97 [==============================] - 0s 4ms/step - loss: 1.1854e-07 - accuracy: 1.0000 - auc: 1.0000\n",
      "Epoch 116/150\n",
      "97/97 [==============================] - 0s 4ms/step - loss: 1.1271e-07 - accuracy: 1.0000 - auc: 1.0000\n",
      "Epoch 117/150\n",
      "97/97 [==============================] - 0s 4ms/step - loss: 1.0731e-07 - accuracy: 1.0000 - auc: 1.0000\n",
      "Epoch 118/150\n",
      "97/97 [==============================] - 0s 4ms/step - loss: 1.0203e-07 - accuracy: 1.0000 - auc: 1.0000\n",
      "Epoch 119/150\n",
      "97/97 [==============================] - 0s 4ms/step - loss: 9.7332e-08 - accuracy: 1.0000 - auc: 1.0000\n",
      "Epoch 120/150\n",
      "97/97 [==============================] - 0s 4ms/step - loss: 9.2452e-08 - accuracy: 1.0000 - auc: 1.0000\n",
      "Epoch 121/150\n",
      "97/97 [==============================] - 0s 4ms/step - loss: 8.8255e-08 - accuracy: 1.0000 - auc: 1.0000\n",
      "Epoch 122/150\n",
      "97/97 [==============================] - 0s 4ms/step - loss: 8.3830e-08 - accuracy: 1.0000 - auc: 1.0000\n",
      "Epoch 123/150\n",
      "97/97 [==============================] - 0s 4ms/step - loss: 7.9815e-08 - accuracy: 1.0000 - auc: 1.0000\n",
      "Epoch 124/150\n",
      "97/97 [==============================] - 0s 4ms/step - loss: 7.6142e-08 - accuracy: 1.0000 - auc: 1.0000\n",
      "Epoch 125/150\n",
      "97/97 [==============================] - 0s 4ms/step - loss: 7.2383e-08 - accuracy: 1.0000 - auc: 1.0000\n",
      "Epoch 126/150\n",
      "97/97 [==============================] - 0s 5ms/step - loss: 6.8592e-08 - accuracy: 1.0000 - auc: 1.0000\n",
      "Epoch 127/150\n",
      "97/97 [==============================] - 0s 4ms/step - loss: 6.5235e-08 - accuracy: 1.0000 - auc: 1.0000\n",
      "Epoch 128/150\n",
      "97/97 [==============================] - 0s 4ms/step - loss: 6.2185e-08 - accuracy: 1.0000 - auc: 1.0000\n",
      "Epoch 129/150\n",
      "97/97 [==============================] - 0s 5ms/step - loss: 5.8987e-08 - accuracy: 1.0000 - auc: 1.0000\n",
      "Epoch 130/150\n",
      "97/97 [==============================] - 0s 4ms/step - loss: 5.6122e-08 - accuracy: 1.0000 - auc: 1.0000\n",
      "Epoch 131/150\n",
      "97/97 [==============================] - 0s 5ms/step - loss: 5.3351e-08 - accuracy: 1.0000 - auc: 1.0000\n",
      "Epoch 132/150\n",
      "97/97 [==============================] - 0s 5ms/step - loss: 5.0630e-08 - accuracy: 1.0000 - auc: 1.0000\n",
      "Epoch 133/150\n",
      "97/97 [==============================] - 0s 5ms/step - loss: 4.8173e-08 - accuracy: 1.0000 - auc: 1.0000\n",
      "Epoch 134/150\n",
      "97/97 [==============================] - 0s 4ms/step - loss: 4.6005e-08 - accuracy: 1.0000 - auc: 1.0000\n",
      "Epoch 135/150\n",
      "97/97 [==============================] - 0s 4ms/step - loss: 4.3706e-08 - accuracy: 1.0000 - auc: 1.0000\n",
      "Epoch 136/150\n",
      "97/97 [==============================] - 0s 4ms/step - loss: 4.1646e-08 - accuracy: 1.0000 - auc: 1.0000\n",
      "Epoch 137/150\n",
      "97/97 [==============================] - 0s 3ms/step - loss: 3.9740e-08 - accuracy: 1.0000 - auc: 1.0000\n",
      "Epoch 138/150\n",
      "97/97 [==============================] - 0s 3ms/step - loss: 3.7765e-08 - accuracy: 1.0000 - auc: 1.0000\n",
      "Epoch 139/150\n"
     ]
    },
    {
     "name": "stdout",
     "output_type": "stream",
     "text": [
      "97/97 [==============================] - 0s 4ms/step - loss: 3.5848e-08 - accuracy: 1.0000 - auc: 1.0000\n",
      "Epoch 140/150\n",
      "97/97 [==============================] - 0s 4ms/step - loss: 3.4280e-08 - accuracy: 1.0000 - auc: 1.0000\n",
      "Epoch 141/150\n",
      "97/97 [==============================] - 0s 4ms/step - loss: 3.2617e-08 - accuracy: 1.0000 - auc: 1.0000\n",
      "Epoch 142/150\n",
      "97/97 [==============================] - 0s 4ms/step - loss: 3.0963e-08 - accuracy: 1.0000 - auc: 1.0000\n",
      "Epoch 143/150\n",
      "97/97 [==============================] - 0s 5ms/step - loss: 2.9399e-08 - accuracy: 1.0000 - auc: 1.0000\n",
      "Epoch 144/150\n",
      "97/97 [==============================] - 0s 5ms/step - loss: 2.7873e-08 - accuracy: 1.0000 - auc: 1.0000\n",
      "Epoch 145/150\n",
      "97/97 [==============================] - 0s 3ms/step - loss: 2.6606e-08 - accuracy: 1.0000 - auc: 1.0000\n",
      "Epoch 146/150\n",
      "97/97 [==============================] - 0s 4ms/step - loss: 2.5193e-08 - accuracy: 1.0000 - auc: 1.0000\n",
      "Epoch 147/150\n",
      "97/97 [==============================] - 0s 4ms/step - loss: 2.4004e-08 - accuracy: 1.0000 - auc: 1.0000\n",
      "Epoch 148/150\n",
      "97/97 [==============================] - 0s 4ms/step - loss: 2.2799e-08 - accuracy: 1.0000 - auc: 1.0000\n",
      "Epoch 149/150\n",
      "97/97 [==============================] - 0s 3ms/step - loss: 2.1739e-08 - accuracy: 1.0000 - auc: 1.0000\n",
      "Epoch 150/150\n",
      "97/97 [==============================] - 0s 3ms/step - loss: 2.0642e-08 - accuracy: 1.0000 - auc: 1.0000\n",
      "CPU times: user 1min 52s, sys: 10.9 s, total: 2min 3s\n",
      "Wall time: 55.5 s\n"
     ]
    },
    {
     "data": {
      "text/plain": [
       "<tensorflow.python.keras.callbacks.History at 0x7fddbe548bd0>"
      ]
     },
     "execution_count": 63,
     "metadata": {},
     "output_type": "execute_result"
    }
   ],
   "source": [
    "%%time\n",
    "model_raw_efficient_net.fit(train_efficient_net[train_efficient_net.columns[2:]],\n",
    "                            train_efficient_net['target'],\n",
    "                            epochs=150, batch_size=10)"
   ]
  },
  {
   "cell_type": "markdown",
   "metadata": {},
   "source": [
    "#### Metrics per iteration for Dense Net"
   ]
  },
  {
   "cell_type": "code",
   "execution_count": 64,
   "metadata": {},
   "outputs": [
    {
     "data": {
      "image/png": "[encoded data removed]",
      "text/plain": [
       "<Figure size 432x288 with 1 Axes>"
      ]
     },
     "metadata": {
      "needs_background": "light"
     },
     "output_type": "display_data"
    }
   ],
   "source": [
    "plt.plot(model_raw_efficient_net.history.history['auc']);\n",
    "plt.title('ROC-AUC per number of iterations');\n",
    "plt.xlabel('N iterations');\n",
    "plt.ylabel('ROC AUC');"
   ]
  },
  {
   "cell_type": "code",
   "execution_count": 65,
   "metadata": {},
   "outputs": [
    {
     "data": {
      "image/png": "[encoded data removed]",
      "text/plain": [
       "<Figure size 432x288 with 1 Axes>"
      ]
     },
     "metadata": {
      "needs_background": "light"
     },
     "output_type": "display_data"
    }
   ],
   "source": [
    "plt.plot(model_raw_efficient_net.history.history['accuracy']);\n",
    "plt.title('ROC-AUC per number of iterations');\n",
    "plt.xlabel('N iterations');\n",
    "plt.ylabel('ROC AUC');"
   ]
  },
  {
   "cell_type": "markdown",
   "metadata": {},
   "source": [
    "### Logistic Regression"
   ]
  },
  {
   "cell_type": "code",
   "execution_count": 66,
   "metadata": {},
   "outputs": [],
   "source": [
    "log_reg_efficient_net = LogisticRegression(random_state=42)"
   ]
  },
  {
   "cell_type": "code",
   "execution_count": 67,
   "metadata": {},
   "outputs": [
    {
     "name": "stdout",
     "output_type": "stream",
     "text": [
      "CPU times: user 4.36 s, sys: 326 ms, total: 4.69 s\n",
      "Wall time: 2.74 s\n"
     ]
    },
    {
     "data": {
      "text/plain": [
       "LogisticRegression(random_state=42)"
      ]
     },
     "execution_count": 67,
     "metadata": {},
     "output_type": "execute_result"
    }
   ],
   "source": [
    "%%time\n",
    "log_reg_efficient_net.fit(train_efficient_net[train_efficient_net.columns[2:]], \n",
    "                          train_efficient_net['target'])"
   ]
  },
  {
   "cell_type": "markdown",
   "metadata": {},
   "source": [
    "### GradientBoositng"
   ]
  },
  {
   "cell_type": "code",
   "execution_count": 68,
   "metadata": {},
   "outputs": [],
   "source": [
    "gbr_efficient_net = GradientBoostingClassifier(random_state=42)"
   ]
  },
  {
   "cell_type": "code",
   "execution_count": 69,
   "metadata": {},
   "outputs": [
    {
     "name": "stdout",
     "output_type": "stream",
     "text": [
      "CPU times: user 9min 9s, sys: 60.7 ms, total: 9min 9s\n",
      "Wall time: 9min 12s\n"
     ]
    },
    {
     "data": {
      "text/plain": [
       "GradientBoostingClassifier(random_state=42)"
      ]
     },
     "execution_count": 69,
     "metadata": {},
     "output_type": "execute_result"
    }
   ],
   "source": [
    "%%time\n",
    "gbr_efficient_net.fit(train_efficient_net[train_efficient_net.columns[2:]],\n",
    "                      train_efficient_net['target'])"
   ]
  },
  {
   "cell_type": "markdown",
   "metadata": {},
   "source": [
    "### RandomForest"
   ]
  },
  {
   "cell_type": "code",
   "execution_count": 70,
   "metadata": {},
   "outputs": [],
   "source": [
    "rf_efficient_net = RandomForestClassifier(random_state=42)"
   ]
  },
  {
   "cell_type": "code",
   "execution_count": 71,
   "metadata": {},
   "outputs": [
    {
     "name": "stdout",
     "output_type": "stream",
     "text": [
      "CPU times: user 8.85 s, sys: 0 ns, total: 8.85 s\n",
      "Wall time: 8.93 s\n"
     ]
    },
    {
     "data": {
      "text/plain": [
       "RandomForestClassifier(random_state=42)"
      ]
     },
     "execution_count": 71,
     "metadata": {},
     "output_type": "execute_result"
    }
   ],
   "source": [
    "%%time\n",
    "rf_efficient_net.fit(train_efficient_net[train_efficient_net.columns[2:]],\n",
    "                     train_efficient_net['target'])"
   ]
  },
  {
   "cell_type": "markdown",
   "metadata": {},
   "source": [
    "## InceptionV3"
   ]
  },
  {
   "cell_type": "code",
   "execution_count": 72,
   "metadata": {
    "_cell_guid": "79c7e3d0-c299-4dcb-8224-4455121ee9b0",
    "_uuid": "d629ff2d2480ee46fbb7e2d37f6b5fab8052498a"
   },
   "outputs": [],
   "source": [
    "train_inceptionv3 = pd.read_csv('/kaggle/input/lab3-inceptionv3/train_images_inceptionv3.csv')\n",
    "test_inceptionv3 = pd.read_csv('/kaggle/input/lab3-inceptionv3/test_images_inceptionv3.csv')"
   ]
  },
  {
   "cell_type": "code",
   "execution_count": 73,
   "metadata": {},
   "outputs": [
    {
     "data": {
      "text/html": [
       "<div>\n",
       "<style scoped>\n",
       "    .dataframe tbody tr th:only-of-type {\n",
       "        vertical-align: middle;\n",
       "    }\n",
       "\n",
       "    .dataframe tbody tr th {\n",
       "        vertical-align: top;\n",
       "    }\n",
       "\n",
       "    .dataframe thead th {\n",
       "        text-align: right;\n",
       "    }\n",
       "</style>\n",
       "<table border=\"1\" class=\"dataframe\">\n",
       "  <thead>\n",
       "    <tr style=\"text-align: right;\">\n",
       "      <th></th>\n",
       "      <th>image_name</th>\n",
       "      <th>target</th>\n",
       "      <th>0</th>\n",
       "      <th>1</th>\n",
       "      <th>2</th>\n",
       "      <th>3</th>\n",
       "      <th>4</th>\n",
       "      <th>5</th>\n",
       "      <th>6</th>\n",
       "      <th>7</th>\n",
       "      <th>...</th>\n",
       "      <th>8182</th>\n",
       "      <th>8183</th>\n",
       "      <th>8184</th>\n",
       "      <th>8185</th>\n",
       "      <th>8186</th>\n",
       "      <th>8187</th>\n",
       "      <th>8188</th>\n",
       "      <th>8189</th>\n",
       "      <th>8190</th>\n",
       "      <th>8191</th>\n",
       "    </tr>\n",
       "  </thead>\n",
       "  <tbody>\n",
       "    <tr>\n",
       "      <th>0</th>\n",
       "      <td>/kaggle/input/real-and-fake-face-detection/rea...</td>\n",
       "      <td>0</td>\n",
       "      <td>0.000000</td>\n",
       "      <td>0.171707</td>\n",
       "      <td>0.908664</td>\n",
       "      <td>0.216517</td>\n",
       "      <td>0.000000</td>\n",
       "      <td>0.587665</td>\n",
       "      <td>0.000000</td>\n",
       "      <td>0.930312</td>\n",
       "      <td>...</td>\n",
       "      <td>0.371986</td>\n",
       "      <td>0.0</td>\n",
       "      <td>0.000000</td>\n",
       "      <td>3.292775</td>\n",
       "      <td>0.0</td>\n",
       "      <td>1.843987</td>\n",
       "      <td>0.0</td>\n",
       "      <td>0.447838</td>\n",
       "      <td>3.567119</td>\n",
       "      <td>0.235087</td>\n",
       "    </tr>\n",
       "    <tr>\n",
       "      <th>1</th>\n",
       "      <td>/kaggle/input/lab3-datasets/russel_crowe_image...</td>\n",
       "      <td>1</td>\n",
       "      <td>0.826839</td>\n",
       "      <td>1.426643</td>\n",
       "      <td>3.316109</td>\n",
       "      <td>0.000000</td>\n",
       "      <td>1.662804</td>\n",
       "      <td>0.319995</td>\n",
       "      <td>0.603856</td>\n",
       "      <td>6.109331</td>\n",
       "      <td>...</td>\n",
       "      <td>0.729552</td>\n",
       "      <td>0.0</td>\n",
       "      <td>3.778265</td>\n",
       "      <td>1.857516</td>\n",
       "      <td>0.0</td>\n",
       "      <td>1.443561</td>\n",
       "      <td>0.0</td>\n",
       "      <td>0.000000</td>\n",
       "      <td>1.693114</td>\n",
       "      <td>1.821976</td>\n",
       "    </tr>\n",
       "  </tbody>\n",
       "</table>\n",
       "<p>2 rows × 8194 columns</p>\n",
       "</div>"
      ],
      "text/plain": [
       "                                          image_name  target         0  \\\n",
       "0  /kaggle/input/real-and-fake-face-detection/rea...       0  0.000000   \n",
       "1  /kaggle/input/lab3-datasets/russel_crowe_image...       1  0.826839   \n",
       "\n",
       "          1         2         3         4         5         6         7  ...  \\\n",
       "0  0.171707  0.908664  0.216517  0.000000  0.587665  0.000000  0.930312  ...   \n",
       "1  1.426643  3.316109  0.000000  1.662804  0.319995  0.603856  6.109331  ...   \n",
       "\n",
       "       8182  8183      8184      8185  8186      8187  8188      8189  \\\n",
       "0  0.371986   0.0  0.000000  3.292775   0.0  1.843987   0.0  0.447838   \n",
       "1  0.729552   0.0  3.778265  1.857516   0.0  1.443561   0.0  0.000000   \n",
       "\n",
       "       8190      8191  \n",
       "0  3.567119  0.235087  \n",
       "1  1.693114  1.821976  \n",
       "\n",
       "[2 rows x 8194 columns]"
      ]
     },
     "execution_count": 73,
     "metadata": {},
     "output_type": "execute_result"
    }
   ],
   "source": [
    "train_inceptionv3.head(2)"
   ]
  },
  {
   "cell_type": "markdown",
   "metadata": {},
   "source": [
    "### SVC"
   ]
  },
  {
   "cell_type": "code",
   "execution_count": 74,
   "metadata": {},
   "outputs": [],
   "source": [
    "svc_inceptionv3 = SVC(random_state=42, probability=True)"
   ]
  },
  {
   "cell_type": "code",
   "execution_count": 75,
   "metadata": {},
   "outputs": [],
   "source": [
    "## handle missing values\n",
    "train_inceptionv3[train_inceptionv3.columns[2:]] = train_inceptionv3[train_inceptionv3.columns[2:]].fillna(0)\n",
    "test_inceptionv3[test_inceptionv3.columns[2:]] = test_inceptionv3[test_inceptionv3.columns[2:]].fillna(0)"
   ]
  },
  {
   "cell_type": "code",
   "execution_count": 195,
   "metadata": {},
   "outputs": [
    {
     "name": "stdout",
     "output_type": "stream",
     "text": [
      "CPU times: user 37 s, sys: 50.1 ms, total: 37 s\n",
      "Wall time: 37.5 s\n"
     ]
    },
    {
     "data": {
      "text/plain": [
       "SVC(probability=True, random_state=42)"
      ]
     },
     "execution_count": 195,
     "metadata": {},
     "output_type": "execute_result"
    }
   ],
   "source": [
    "%%time\n",
    "svc_inceptionv3.fit(train_inceptionv3[train_inceptionv3.columns[2:]], \n",
    "                      train_inceptionv3['target'])"
   ]
  },
  {
   "cell_type": "markdown",
   "metadata": {},
   "source": [
    "### Dense Net"
   ]
  },
  {
   "cell_type": "code",
   "execution_count": 77,
   "metadata": {},
   "outputs": [],
   "source": [
    "model_raw_inceptionv3 = Sequential()\n",
    "model_raw_inceptionv3.add(Dense(12, input_dim=len(train_inceptionv3.columns[2:]),\n",
    "                                  activation='relu'))\n",
    "model_raw_inceptionv3.add(Dense(8, activation='relu'))\n",
    "model_raw_inceptionv3.add(Dense(1, activation='sigmoid'))"
   ]
  },
  {
   "cell_type": "code",
   "execution_count": 78,
   "metadata": {},
   "outputs": [
    {
     "name": "stdout",
     "output_type": "stream",
     "text": [
      "Model: \"sequential_4\"\n",
      "_________________________________________________________________\n",
      "Layer (type)                 Output Shape              Param #   \n",
      "=================================================================\n",
      "dense_12 (Dense)             (None, 12)                98316     \n",
      "_________________________________________________________________\n",
      "dense_13 (Dense)             (None, 8)                 104       \n",
      "_________________________________________________________________\n",
      "dense_14 (Dense)             (None, 1)                 9         \n",
      "=================================================================\n",
      "Total params: 98,429\n",
      "Trainable params: 98,429\n",
      "Non-trainable params: 0\n",
      "_________________________________________________________________\n"
     ]
    }
   ],
   "source": [
    "model_raw_inceptionv3.summary()"
   ]
  },
  {
   "cell_type": "code",
   "execution_count": 79,
   "metadata": {},
   "outputs": [],
   "source": [
    "model_raw_inceptionv3.compile(loss='binary_crossentropy', optimizer='adam',\n",
    "                        metrics=['accuracy', 'AUC'])"
   ]
  },
  {
   "cell_type": "code",
   "execution_count": 80,
   "metadata": {},
   "outputs": [
    {
     "name": "stdout",
     "output_type": "stream",
     "text": [
      "Epoch 1/150\n",
      "97/97 [==============================] - 0s 3ms/step - loss: 0.2751 - accuracy: 0.8966 - auc: 0.9119\n",
      "Epoch 2/150\n",
      "97/97 [==============================] - 0s 3ms/step - loss: 0.0968 - accuracy: 0.9669 - auc: 0.9912\n",
      "Epoch 3/150\n",
      "97/97 [==============================] - 0s 3ms/step - loss: 0.0664 - accuracy: 0.9772 - auc: 0.9962\n",
      "Epoch 4/150\n",
      "97/97 [==============================] - 0s 3ms/step - loss: 0.0348 - accuracy: 0.9897 - auc: 0.9993\n",
      "Epoch 5/150\n",
      "97/97 [==============================] - 0s 2ms/step - loss: 0.0157 - accuracy: 0.9969 - auc: 1.0000\n",
      "Epoch 6/150\n",
      "97/97 [==============================] - 0s 2ms/step - loss: 0.0162 - accuracy: 0.9938 - auc: 0.9999\n",
      "Epoch 7/150\n",
      "97/97 [==============================] - 0s 3ms/step - loss: 0.0033 - accuracy: 1.0000 - auc: 1.0000\n",
      "Epoch 8/150\n",
      "97/97 [==============================] - 0s 2ms/step - loss: 0.0019 - accuracy: 1.0000 - auc: 1.0000\n",
      "Epoch 9/150\n",
      "97/97 [==============================] - 0s 2ms/step - loss: 0.0014 - accuracy: 1.0000 - auc: 1.0000\n",
      "Epoch 10/150\n",
      "97/97 [==============================] - 0s 3ms/step - loss: 0.0010 - accuracy: 1.0000 - auc: 1.0000\n",
      "Epoch 11/150\n",
      "97/97 [==============================] - 0s 3ms/step - loss: 8.4311e-04 - accuracy: 1.0000 - auc: 1.0000\n",
      "Epoch 12/150\n",
      "97/97 [==============================] - 0s 3ms/step - loss: 7.2694e-04 - accuracy: 1.0000 - auc: 1.0000\n",
      "Epoch 13/150\n",
      "97/97 [==============================] - 0s 3ms/step - loss: 6.4639e-04 - accuracy: 1.0000 - auc: 1.0000\n",
      "Epoch 14/150\n",
      "97/97 [==============================] - 0s 3ms/step - loss: 5.5906e-04 - accuracy: 1.0000 - auc: 1.0000\n",
      "Epoch 15/150\n",
      "97/97 [==============================] - 0s 3ms/step - loss: 4.8813e-04 - accuracy: 1.0000 - auc: 1.0000\n",
      "Epoch 16/150\n",
      "97/97 [==============================] - 0s 3ms/step - loss: 4.4160e-04 - accuracy: 1.0000 - auc: 1.0000\n",
      "Epoch 17/150\n",
      "97/97 [==============================] - 0s 3ms/step - loss: 3.9948e-04 - accuracy: 1.0000 - auc: 1.0000\n",
      "Epoch 18/150\n",
      "97/97 [==============================] - 0s 2ms/step - loss: 3.5856e-04 - accuracy: 1.0000 - auc: 1.0000\n",
      "Epoch 19/150\n",
      "97/97 [==============================] - 0s 3ms/step - loss: 3.2635e-04 - accuracy: 1.0000 - auc: 1.0000\n",
      "Epoch 20/150\n",
      "97/97 [==============================] - 0s 2ms/step - loss: 2.9402e-04 - accuracy: 1.0000 - auc: 1.0000\n",
      "Epoch 21/150\n",
      "97/97 [==============================] - 0s 2ms/step - loss: 2.7361e-04 - accuracy: 1.0000 - auc: 1.0000\n",
      "Epoch 22/150\n",
      "97/97 [==============================] - 0s 2ms/step - loss: 2.4586e-04 - accuracy: 1.0000 - auc: 1.0000\n",
      "Epoch 23/150\n",
      "97/97 [==============================] - 0s 2ms/step - loss: 2.2705e-04 - accuracy: 1.0000 - auc: 1.0000\n",
      "Epoch 24/150\n",
      "97/97 [==============================] - 0s 2ms/step - loss: 2.1723e-04 - accuracy: 1.0000 - auc: 1.0000\n",
      "Epoch 25/150\n",
      "97/97 [==============================] - 0s 3ms/step - loss: 1.9726e-04 - accuracy: 1.0000 - auc: 1.0000\n",
      "Epoch 26/150\n",
      "97/97 [==============================] - 0s 3ms/step - loss: 1.8089e-04 - accuracy: 1.0000 - auc: 1.0000\n",
      "Epoch 27/150\n",
      "97/97 [==============================] - 0s 3ms/step - loss: 1.6791e-04 - accuracy: 1.0000 - auc: 1.0000\n",
      "Epoch 28/150\n",
      "97/97 [==============================] - 0s 3ms/step - loss: 1.5368e-04 - accuracy: 1.0000 - auc: 1.0000\n",
      "Epoch 29/150\n",
      "97/97 [==============================] - 0s 3ms/step - loss: 1.4546e-04 - accuracy: 1.0000 - auc: 1.0000\n",
      "Epoch 30/150\n",
      "97/97 [==============================] - 0s 4ms/step - loss: 1.3422e-04 - accuracy: 1.0000 - auc: 1.0000\n",
      "Epoch 31/150\n",
      "97/97 [==============================] - 0s 3ms/step - loss: 1.2550e-04 - accuracy: 1.0000 - auc: 1.0000\n",
      "Epoch 32/150\n",
      "97/97 [==============================] - 0s 3ms/step - loss: 1.1802e-04 - accuracy: 1.0000 - auc: 1.0000\n",
      "Epoch 33/150\n",
      "97/97 [==============================] - 0s 4ms/step - loss: 1.0965e-04 - accuracy: 1.0000 - auc: 1.0000\n",
      "Epoch 34/150\n",
      "97/97 [==============================] - 0s 3ms/step - loss: 1.0251e-04 - accuracy: 1.0000 - auc: 1.0000\n",
      "Epoch 35/150\n",
      "97/97 [==============================] - 0s 3ms/step - loss: 9.5641e-05 - accuracy: 1.0000 - auc: 1.0000\n",
      "Epoch 36/150\n",
      "97/97 [==============================] - 0s 3ms/step - loss: 8.9507e-05 - accuracy: 1.0000 - auc: 1.0000\n",
      "Epoch 37/150\n",
      "97/97 [==============================] - 0s 3ms/step - loss: 8.2113e-05 - accuracy: 1.0000 - auc: 1.0000\n",
      "Epoch 38/150\n",
      "97/97 [==============================] - 0s 3ms/step - loss: 7.8075e-05 - accuracy: 1.0000 - auc: 1.0000\n",
      "Epoch 39/150\n",
      "97/97 [==============================] - 0s 3ms/step - loss: 7.3486e-05 - accuracy: 1.0000 - auc: 1.0000\n",
      "Epoch 40/150\n",
      "97/97 [==============================] - 0s 3ms/step - loss: 6.9237e-05 - accuracy: 1.0000 - auc: 1.0000\n",
      "Epoch 41/150\n",
      "97/97 [==============================] - 0s 2ms/step - loss: 6.4477e-05 - accuracy: 1.0000 - auc: 1.0000\n",
      "Epoch 42/150\n",
      "97/97 [==============================] - 0s 3ms/step - loss: 6.0882e-05 - accuracy: 1.0000 - auc: 1.0000\n",
      "Epoch 43/150\n",
      "97/97 [==============================] - 0s 3ms/step - loss: 5.6244e-05 - accuracy: 1.0000 - auc: 1.0000\n",
      "Epoch 44/150\n",
      "97/97 [==============================] - 0s 3ms/step - loss: 5.3170e-05 - accuracy: 1.0000 - auc: 1.0000\n",
      "Epoch 45/150\n",
      "97/97 [==============================] - 0s 3ms/step - loss: 4.9142e-05 - accuracy: 1.0000 - auc: 1.0000\n",
      "Epoch 46/150\n",
      "97/97 [==============================] - 0s 3ms/step - loss: 4.7752e-05 - accuracy: 1.0000 - auc: 1.0000\n",
      "Epoch 47/150\n",
      "97/97 [==============================] - 0s 2ms/step - loss: 4.4079e-05 - accuracy: 1.0000 - auc: 1.0000\n",
      "Epoch 48/150\n",
      "97/97 [==============================] - 0s 2ms/step - loss: 4.3087e-05 - accuracy: 1.0000 - auc: 1.0000\n",
      "Epoch 49/150\n",
      "97/97 [==============================] - 0s 2ms/step - loss: 3.9383e-05 - accuracy: 1.0000 - auc: 1.0000\n",
      "Epoch 50/150\n",
      "97/97 [==============================] - 0s 2ms/step - loss: 3.7272e-05 - accuracy: 1.0000 - auc: 1.0000\n",
      "Epoch 51/150\n",
      "97/97 [==============================] - 0s 3ms/step - loss: 3.5240e-05 - accuracy: 1.0000 - auc: 1.0000\n",
      "Epoch 52/150\n",
      "97/97 [==============================] - 0s 3ms/step - loss: 3.3022e-05 - accuracy: 1.0000 - auc: 1.0000\n",
      "Epoch 53/150\n",
      "97/97 [==============================] - 0s 3ms/step - loss: 3.1449e-05 - accuracy: 1.0000 - auc: 1.0000\n",
      "Epoch 54/150\n",
      "97/97 [==============================] - 0s 3ms/step - loss: 2.9080e-05 - accuracy: 1.0000 - auc: 1.0000\n",
      "Epoch 55/150\n",
      "97/97 [==============================] - 0s 3ms/step - loss: 2.7396e-05 - accuracy: 1.0000 - auc: 1.0000\n",
      "Epoch 56/150\n",
      "97/97 [==============================] - 0s 3ms/step - loss: 2.6475e-05 - accuracy: 1.0000 - auc: 1.0000\n",
      "Epoch 57/150\n",
      "97/97 [==============================] - 0s 3ms/step - loss: 2.4923e-05 - accuracy: 1.0000 - auc: 1.0000\n",
      "Epoch 58/150\n",
      "97/97 [==============================] - 0s 3ms/step - loss: 2.3448e-05 - accuracy: 1.0000 - auc: 1.0000\n",
      "Epoch 59/150\n",
      "97/97 [==============================] - 0s 3ms/step - loss: 2.1754e-05 - accuracy: 1.0000 - auc: 1.0000\n",
      "Epoch 60/150\n",
      "97/97 [==============================] - 0s 3ms/step - loss: 2.0924e-05 - accuracy: 1.0000 - auc: 1.0000\n",
      "Epoch 61/150\n",
      "97/97 [==============================] - 0s 2ms/step - loss: 1.9558e-05 - accuracy: 1.0000 - auc: 1.0000\n",
      "Epoch 62/150\n",
      "97/97 [==============================] - 0s 2ms/step - loss: 1.8730e-05 - accuracy: 1.0000 - auc: 1.0000\n",
      "Epoch 63/150\n",
      "97/97 [==============================] - 0s 3ms/step - loss: 1.7428e-05 - accuracy: 1.0000 - auc: 1.0000\n",
      "Epoch 64/150\n",
      "97/97 [==============================] - 0s 2ms/step - loss: 1.6670e-05 - accuracy: 1.0000 - auc: 1.0000\n",
      "Epoch 65/150\n",
      "97/97 [==============================] - 0s 2ms/step - loss: 1.5475e-05 - accuracy: 1.0000 - auc: 1.0000\n",
      "Epoch 66/150\n",
      "97/97 [==============================] - 0s 2ms/step - loss: 1.4704e-05 - accuracy: 1.0000 - auc: 1.0000\n",
      "Epoch 67/150\n",
      "97/97 [==============================] - 0s 2ms/step - loss: 1.3973e-05 - accuracy: 1.0000 - auc: 1.0000\n",
      "Epoch 68/150\n",
      "97/97 [==============================] - 0s 3ms/step - loss: 1.3256e-05 - accuracy: 1.0000 - auc: 1.0000\n",
      "Epoch 69/150\n",
      "97/97 [==============================] - 0s 3ms/step - loss: 1.2331e-05 - accuracy: 1.0000 - auc: 1.0000\n",
      "Epoch 70/150\n",
      "97/97 [==============================] - 0s 4ms/step - loss: 1.1901e-05 - accuracy: 1.0000 - auc: 1.0000\n",
      "Epoch 71/150\n",
      "97/97 [==============================] - 0s 3ms/step - loss: 1.1189e-05 - accuracy: 1.0000 - auc: 1.0000\n",
      "Epoch 72/150\n",
      "97/97 [==============================] - 0s 3ms/step - loss: 1.0572e-05 - accuracy: 1.0000 - auc: 1.0000\n",
      "Epoch 73/150\n",
      "97/97 [==============================] - 0s 3ms/step - loss: 9.9803e-06 - accuracy: 1.0000 - auc: 1.0000\n",
      "Epoch 74/150\n",
      "97/97 [==============================] - 0s 3ms/step - loss: 9.4268e-06 - accuracy: 1.0000 - auc: 1.0000\n",
      "Epoch 75/150\n",
      "97/97 [==============================] - 0s 2ms/step - loss: 8.8758e-06 - accuracy: 1.0000 - auc: 1.0000\n",
      "Epoch 76/150\n",
      "97/97 [==============================] - 0s 2ms/step - loss: 8.3475e-06 - accuracy: 1.0000 - auc: 1.0000\n",
      "Epoch 77/150\n",
      "97/97 [==============================] - 0s 2ms/step - loss: 8.0296e-06 - accuracy: 1.0000 - auc: 1.0000\n",
      "Epoch 78/150\n",
      "97/97 [==============================] - 0s 3ms/step - loss: 7.5992e-06 - accuracy: 1.0000 - auc: 1.0000\n",
      "Epoch 79/150\n",
      "97/97 [==============================] - 0s 2ms/step - loss: 7.1808e-06 - accuracy: 1.0000 - auc: 1.0000\n",
      "Epoch 80/150\n",
      "97/97 [==============================] - 0s 2ms/step - loss: 6.7711e-06 - accuracy: 1.0000 - auc: 1.0000\n",
      "Epoch 81/150\n",
      "97/97 [==============================] - 0s 2ms/step - loss: 6.4974e-06 - accuracy: 1.0000 - auc: 1.0000\n",
      "Epoch 82/150\n",
      "97/97 [==============================] - 0s 3ms/step - loss: 6.1053e-06 - accuracy: 1.0000 - auc: 1.0000\n",
      "Epoch 83/150\n",
      "97/97 [==============================] - 0s 3ms/step - loss: 5.7484e-06 - accuracy: 1.0000 - auc: 1.0000\n",
      "Epoch 84/150\n",
      "97/97 [==============================] - 0s 3ms/step - loss: 5.4625e-06 - accuracy: 1.0000 - auc: 1.0000\n",
      "Epoch 85/150\n",
      "97/97 [==============================] - 0s 3ms/step - loss: 5.1195e-06 - accuracy: 1.0000 - auc: 1.0000\n",
      "Epoch 86/150\n",
      "97/97 [==============================] - 0s 2ms/step - loss: 4.8379e-06 - accuracy: 1.0000 - auc: 1.0000\n",
      "Epoch 87/150\n",
      "97/97 [==============================] - 0s 2ms/step - loss: 4.5883e-06 - accuracy: 1.0000 - auc: 1.0000\n",
      "Epoch 88/150\n",
      "97/97 [==============================] - 0s 2ms/step - loss: 4.3364e-06 - accuracy: 1.0000 - auc: 1.0000\n",
      "Epoch 89/150\n",
      "97/97 [==============================] - 0s 3ms/step - loss: 4.1639e-06 - accuracy: 1.0000 - auc: 1.0000\n",
      "Epoch 90/150\n",
      "97/97 [==============================] - 0s 3ms/step - loss: 3.9006e-06 - accuracy: 1.0000 - auc: 1.0000\n",
      "Epoch 91/150\n",
      "97/97 [==============================] - 0s 3ms/step - loss: 3.6796e-06 - accuracy: 1.0000 - auc: 1.0000\n",
      "Epoch 92/150\n",
      "97/97 [==============================] - 0s 2ms/step - loss: 3.5054e-06 - accuracy: 1.0000 - auc: 1.0000\n",
      "Epoch 93/150\n",
      "97/97 [==============================] - 0s 2ms/step - loss: 3.3831e-06 - accuracy: 1.0000 - auc: 1.0000\n",
      "Epoch 94/150\n",
      "97/97 [==============================] - 0s 2ms/step - loss: 3.1440e-06 - accuracy: 1.0000 - auc: 1.0000\n",
      "Epoch 95/150\n",
      "97/97 [==============================] - 0s 3ms/step - loss: 2.9873e-06 - accuracy: 1.0000 - auc: 1.0000\n",
      "Epoch 96/150\n",
      "97/97 [==============================] - 0s 3ms/step - loss: 2.8356e-06 - accuracy: 1.0000 - auc: 1.0000\n",
      "Epoch 97/150\n",
      "97/97 [==============================] - 0s 3ms/step - loss: 2.6461e-06 - accuracy: 1.0000 - auc: 1.0000\n",
      "Epoch 98/150\n",
      "97/97 [==============================] - 0s 3ms/step - loss: 2.5369e-06 - accuracy: 1.0000 - auc: 1.0000\n",
      "Epoch 99/150\n",
      "97/97 [==============================] - 0s 3ms/step - loss: 2.3931e-06 - accuracy: 1.0000 - auc: 1.0000\n",
      "Epoch 100/150\n",
      "97/97 [==============================] - 0s 2ms/step - loss: 2.2627e-06 - accuracy: 1.0000 - auc: 1.0000\n",
      "Epoch 101/150\n",
      "97/97 [==============================] - 0s 3ms/step - loss: 2.1264e-06 - accuracy: 1.0000 - auc: 1.0000\n",
      "Epoch 102/150\n",
      "97/97 [==============================] - 0s 3ms/step - loss: 2.0307e-06 - accuracy: 1.0000 - auc: 1.0000\n",
      "Epoch 103/150\n",
      "97/97 [==============================] - 0s 3ms/step - loss: 1.9198e-06 - accuracy: 1.0000 - auc: 1.0000\n",
      "Epoch 104/150\n",
      "97/97 [==============================] - 0s 3ms/step - loss: 1.8437e-06 - accuracy: 1.0000 - auc: 1.0000\n",
      "Epoch 105/150\n",
      "97/97 [==============================] - 0s 3ms/step - loss: 1.7334e-06 - accuracy: 1.0000 - auc: 1.0000\n",
      "Epoch 106/150\n",
      "97/97 [==============================] - 0s 3ms/step - loss: 1.6404e-06 - accuracy: 1.0000 - auc: 1.0000\n",
      "Epoch 107/150\n",
      "97/97 [==============================] - 0s 2ms/step - loss: 1.5837e-06 - accuracy: 1.0000 - auc: 1.0000\n",
      "Epoch 108/150\n",
      "97/97 [==============================] - 0s 3ms/step - loss: 1.4654e-06 - accuracy: 1.0000 - auc: 1.0000\n",
      "Epoch 109/150\n",
      "97/97 [==============================] - 0s 3ms/step - loss: 1.4006e-06 - accuracy: 1.0000 - auc: 1.0000\n",
      "Epoch 110/150\n",
      "97/97 [==============================] - 0s 3ms/step - loss: 1.3058e-06 - accuracy: 1.0000 - auc: 1.0000\n",
      "Epoch 111/150\n",
      "97/97 [==============================] - 0s 3ms/step - loss: 1.2511e-06 - accuracy: 1.0000 - auc: 1.0000\n",
      "Epoch 112/150\n",
      "97/97 [==============================] - 0s 2ms/step - loss: 1.1714e-06 - accuracy: 1.0000 - auc: 1.0000\n",
      "Epoch 113/150\n",
      "97/97 [==============================] - 0s 2ms/step - loss: 1.1156e-06 - accuracy: 1.0000 - auc: 1.0000\n",
      "Epoch 114/150\n",
      "97/97 [==============================] - 0s 3ms/step - loss: 1.0620e-06 - accuracy: 1.0000 - auc: 1.0000\n",
      "Epoch 115/150\n",
      "97/97 [==============================] - 0s 3ms/step - loss: 1.0071e-06 - accuracy: 1.0000 - auc: 1.0000\n",
      "Epoch 116/150\n",
      "97/97 [==============================] - 0s 3ms/step - loss: 9.5896e-07 - accuracy: 1.0000 - auc: 1.0000\n",
      "Epoch 117/150\n",
      "97/97 [==============================] - 0s 3ms/step - loss: 8.9690e-07 - accuracy: 1.0000 - auc: 1.0000\n",
      "Epoch 118/150\n",
      "97/97 [==============================] - 0s 3ms/step - loss: 8.5680e-07 - accuracy: 1.0000 - auc: 1.0000\n",
      "Epoch 119/150\n",
      "97/97 [==============================] - 0s 2ms/step - loss: 8.1085e-07 - accuracy: 1.0000 - auc: 1.0000\n",
      "Epoch 120/150\n",
      "97/97 [==============================] - 0s 2ms/step - loss: 7.5875e-07 - accuracy: 1.0000 - auc: 1.0000\n",
      "Epoch 121/150\n",
      "97/97 [==============================] - 0s 2ms/step - loss: 7.2436e-07 - accuracy: 1.0000 - auc: 1.0000\n",
      "Epoch 122/150\n",
      "97/97 [==============================] - 0s 3ms/step - loss: 6.9453e-07 - accuracy: 1.0000 - auc: 1.0000\n",
      "Epoch 123/150\n",
      "97/97 [==============================] - 0s 2ms/step - loss: 6.5516e-07 - accuracy: 1.0000 - auc: 1.0000\n",
      "Epoch 124/150\n",
      "97/97 [==============================] - 0s 3ms/step - loss: 6.2073e-07 - accuracy: 1.0000 - auc: 1.0000\n",
      "Epoch 125/150\n",
      "97/97 [==============================] - 0s 2ms/step - loss: 5.8245e-07 - accuracy: 1.0000 - auc: 1.0000\n",
      "Epoch 126/150\n",
      "97/97 [==============================] - 0s 2ms/step - loss: 5.5223e-07 - accuracy: 1.0000 - auc: 1.0000\n",
      "Epoch 127/150\n",
      "97/97 [==============================] - 0s 2ms/step - loss: 5.2279e-07 - accuracy: 1.0000 - auc: 1.0000\n",
      "Epoch 128/150\n",
      "97/97 [==============================] - 0s 2ms/step - loss: 4.9320e-07 - accuracy: 1.0000 - auc: 1.0000\n",
      "Epoch 129/150\n",
      "97/97 [==============================] - 0s 2ms/step - loss: 4.7499e-07 - accuracy: 1.0000 - auc: 1.0000\n",
      "Epoch 130/150\n",
      "97/97 [==============================] - 0s 3ms/step - loss: 4.4446e-07 - accuracy: 1.0000 - auc: 1.0000\n",
      "Epoch 131/150\n",
      "97/97 [==============================] - 0s 2ms/step - loss: 4.2667e-07 - accuracy: 1.0000 - auc: 1.0000\n",
      "Epoch 132/150\n",
      "97/97 [==============================] - 0s 2ms/step - loss: 4.0059e-07 - accuracy: 1.0000 - auc: 1.0000\n",
      "Epoch 133/150\n",
      "97/97 [==============================] - 0s 2ms/step - loss: 3.8141e-07 - accuracy: 1.0000 - auc: 1.0000\n",
      "Epoch 134/150\n",
      "97/97 [==============================] - 0s 3ms/step - loss: 3.6657e-07 - accuracy: 1.0000 - auc: 1.0000\n",
      "Epoch 135/150\n",
      "97/97 [==============================] - 0s 3ms/step - loss: 3.4208e-07 - accuracy: 1.0000 - auc: 1.0000\n",
      "Epoch 136/150\n",
      "97/97 [==============================] - 0s 3ms/step - loss: 3.2297e-07 - accuracy: 1.0000 - auc: 1.0000\n",
      "Epoch 137/150\n",
      "97/97 [==============================] - 0s 2ms/step - loss: 3.0634e-07 - accuracy: 1.0000 - auc: 1.0000\n",
      "Epoch 138/150\n",
      "97/97 [==============================] - 0s 3ms/step - loss: 2.8605e-07 - accuracy: 1.0000 - auc: 1.0000\n",
      "Epoch 139/150\n"
     ]
    },
    {
     "name": "stdout",
     "output_type": "stream",
     "text": [
      "97/97 [==============================] - 0s 3ms/step - loss: 2.7518e-07 - accuracy: 1.0000 - auc: 1.0000\n",
      "Epoch 140/150\n",
      "97/97 [==============================] - 0s 2ms/step - loss: 2.5961e-07 - accuracy: 1.0000 - auc: 1.0000\n",
      "Epoch 141/150\n",
      "97/97 [==============================] - 0s 3ms/step - loss: 2.4651e-07 - accuracy: 1.0000 - auc: 1.0000\n",
      "Epoch 142/150\n",
      "97/97 [==============================] - 0s 3ms/step - loss: 2.3322e-07 - accuracy: 1.0000 - auc: 1.0000\n",
      "Epoch 143/150\n",
      "97/97 [==============================] - 0s 2ms/step - loss: 2.2035e-07 - accuracy: 1.0000 - auc: 1.0000\n",
      "Epoch 144/150\n",
      "97/97 [==============================] - 0s 2ms/step - loss: 2.1246e-07 - accuracy: 1.0000 - auc: 1.0000\n",
      "Epoch 145/150\n",
      "97/97 [==============================] - 0s 2ms/step - loss: 1.9726e-07 - accuracy: 1.0000 - auc: 1.0000\n",
      "Epoch 146/150\n",
      "97/97 [==============================] - 0s 2ms/step - loss: 1.9228e-07 - accuracy: 1.0000 - auc: 1.0000\n",
      "Epoch 147/150\n",
      "97/97 [==============================] - 0s 2ms/step - loss: 1.7960e-07 - accuracy: 1.0000 - auc: 1.0000\n",
      "Epoch 148/150\n",
      "97/97 [==============================] - 0s 2ms/step - loss: 1.7155e-07 - accuracy: 1.0000 - auc: 1.0000\n",
      "Epoch 149/150\n",
      "97/97 [==============================] - 0s 2ms/step - loss: 1.6289e-07 - accuracy: 1.0000 - auc: 1.0000\n",
      "Epoch 150/150\n",
      "97/97 [==============================] - 0s 2ms/step - loss: 1.5552e-07 - accuracy: 1.0000 - auc: 1.0000\n",
      "CPU times: user 1min 9s, sys: 8.35 s, total: 1min 17s\n",
      "Wall time: 40.3 s\n"
     ]
    },
    {
     "data": {
      "text/plain": [
       "<tensorflow.python.keras.callbacks.History at 0x7fdda28d5290>"
      ]
     },
     "execution_count": 80,
     "metadata": {},
     "output_type": "execute_result"
    }
   ],
   "source": [
    "%%time\n",
    "model_raw_inceptionv3.fit(train_inceptionv3[train_inceptionv3.columns[2:]],\n",
    "                            train_inceptionv3['target'],\n",
    "                            epochs=150, batch_size=10)"
   ]
  },
  {
   "cell_type": "markdown",
   "metadata": {},
   "source": [
    "#### Metrics per iteration for Dense Net"
   ]
  },
  {
   "cell_type": "code",
   "execution_count": 81,
   "metadata": {},
   "outputs": [
    {
     "data": {
      "image/png": "[encoded data removed]",
      "text/plain": [
       "<Figure size 432x288 with 1 Axes>"
      ]
     },
     "metadata": {
      "needs_background": "light"
     },
     "output_type": "display_data"
    }
   ],
   "source": [
    "plt.plot(model_raw_inceptionv3.history.history['auc']);\n",
    "plt.title('ROC-AUC per number of iterations');\n",
    "plt.xlabel('N iterations');\n",
    "plt.ylabel('ROC AUC');"
   ]
  },
  {
   "cell_type": "code",
   "execution_count": 82,
   "metadata": {},
   "outputs": [
    {
     "data": {
      "image/png": "[encoded data removed]",
      "text/plain": [
       "<Figure size 432x288 with 1 Axes>"
      ]
     },
     "metadata": {
      "needs_background": "light"
     },
     "output_type": "display_data"
    }
   ],
   "source": [
    "plt.plot(model_raw_inceptionv3.history.history['accuracy']);\n",
    "plt.title('ROC-AUC per number of iterations');\n",
    "plt.xlabel('N iterations');\n",
    "plt.ylabel('ROC AUC');"
   ]
  },
  {
   "cell_type": "markdown",
   "metadata": {},
   "source": [
    "### Logistic Regression"
   ]
  },
  {
   "cell_type": "code",
   "execution_count": 83,
   "metadata": {},
   "outputs": [],
   "source": [
    "log_reg_inceptionv3 = LogisticRegression(random_state=42)"
   ]
  },
  {
   "cell_type": "code",
   "execution_count": 84,
   "metadata": {},
   "outputs": [
    {
     "name": "stdout",
     "output_type": "stream",
     "text": [
      "CPU times: user 1.89 s, sys: 54.6 ms, total: 1.94 s\n",
      "Wall time: 1.08 s\n"
     ]
    },
    {
     "name": "stderr",
     "output_type": "stream",
     "text": [
      "/opt/conda/lib/python3.7/site-packages/sklearn/linear_model/_logistic.py:764: ConvergenceWarning: lbfgs failed to converge (status=1):\n",
      "STOP: TOTAL NO. of ITERATIONS REACHED LIMIT.\n",
      "\n",
      "Increase the number of iterations (max_iter) or scale the data as shown in:\n",
      "    https://scikit-learn.org/stable/modules/preprocessing.html\n",
      "Please also refer to the documentation for alternative solver options:\n",
      "    https://scikit-learn.org/stable/modules/linear_model.html#logistic-regression\n",
      "  extra_warning_msg=_LOGISTIC_SOLVER_CONVERGENCE_MSG)\n"
     ]
    },
    {
     "data": {
      "text/plain": [
       "LogisticRegression(random_state=42)"
      ]
     },
     "execution_count": 84,
     "metadata": {},
     "output_type": "execute_result"
    }
   ],
   "source": [
    "%%time\n",
    "log_reg_inceptionv3.fit(train_inceptionv3[train_inceptionv3.columns[2:]], \n",
    "                          train_inceptionv3['target'])"
   ]
  },
  {
   "cell_type": "markdown",
   "metadata": {},
   "source": [
    "### GradientBoositng"
   ]
  },
  {
   "cell_type": "code",
   "execution_count": 85,
   "metadata": {},
   "outputs": [],
   "source": [
    "gbr_inceptionv3 = GradientBoostingClassifier(random_state=42)"
   ]
  },
  {
   "cell_type": "code",
   "execution_count": 86,
   "metadata": {},
   "outputs": [
    {
     "name": "stdout",
     "output_type": "stream",
     "text": [
      "CPU times: user 2min 22s, sys: 7.66 ms, total: 2min 22s\n",
      "Wall time: 2min 23s\n"
     ]
    },
    {
     "data": {
      "text/plain": [
       "GradientBoostingClassifier(random_state=42)"
      ]
     },
     "execution_count": 86,
     "metadata": {},
     "output_type": "execute_result"
    }
   ],
   "source": [
    "%%time\n",
    "gbr_inceptionv3.fit(train_inceptionv3[train_inceptionv3.columns[2:]],\n",
    "                      train_inceptionv3['target'])"
   ]
  },
  {
   "cell_type": "markdown",
   "metadata": {},
   "source": [
    "### RandomForest"
   ]
  },
  {
   "cell_type": "code",
   "execution_count": 87,
   "metadata": {},
   "outputs": [],
   "source": [
    "rf_inceptionv3 = RandomForestClassifier(random_state=42)"
   ]
  },
  {
   "cell_type": "code",
   "execution_count": 88,
   "metadata": {},
   "outputs": [
    {
     "name": "stdout",
     "output_type": "stream",
     "text": [
      "CPU times: user 3.83 s, sys: 0 ns, total: 3.83 s\n",
      "Wall time: 3.87 s\n"
     ]
    },
    {
     "data": {
      "text/plain": [
       "RandomForestClassifier(random_state=42)"
      ]
     },
     "execution_count": 88,
     "metadata": {},
     "output_type": "execute_result"
    }
   ],
   "source": [
    "%%time\n",
    "rf_inceptionv3.fit(train_inceptionv3[train_inceptionv3.columns[2:]],\n",
    "                     train_inceptionv3['target'])"
   ]
  },
  {
   "cell_type": "markdown",
   "metadata": {},
   "source": [
    "# Embeddings + PCA"
   ]
  },
  {
   "cell_type": "code",
   "execution_count": 89,
   "metadata": {},
   "outputs": [],
   "source": [
    "pca_vgg16 = PCA(n_components=500, random_state=42)\n",
    "pca_vgg19 = PCA(n_components=500, random_state=42)\n",
    "pca_resnet50 = PCA(n_components=500, random_state=42)\n",
    "pca_efficient_net = PCA(n_components=500, random_state=42)\n",
    "pca_inceptionv3 = PCA(n_components=500, random_state=42)"
   ]
  },
  {
   "cell_type": "code",
   "execution_count": 90,
   "metadata": {},
   "outputs": [],
   "source": [
    "train_vgg16_transformed = pca_vgg16.fit_transform(train_vgg16[train_vgg16.columns[2:]])\n",
    "test_vgg16_transformed = pca_vgg16.transform(test_vgg16[test_vgg16.columns[2:]])"
   ]
  },
  {
   "cell_type": "code",
   "execution_count": 91,
   "metadata": {},
   "outputs": [],
   "source": [
    "train_vgg19_transformed = pca_vgg19.fit_transform(train_vgg19[train_vgg19.columns[2:]])\n",
    "test_vgg19_transformed = pca_vgg19.transform(test_vgg19[test_vgg19.columns[2:]])"
   ]
  },
  {
   "cell_type": "code",
   "execution_count": 92,
   "metadata": {},
   "outputs": [],
   "source": [
    "train_resnet50_transformed = pca_resnet50.fit_transform(train_resnet50[train_resnet50.columns[2:]])\n",
    "test_resnet50_transformed = pca_resnet50.transform(test_resnet50[test_resnet50.columns[2:]])"
   ]
  },
  {
   "cell_type": "code",
   "execution_count": 93,
   "metadata": {},
   "outputs": [],
   "source": [
    "train_efficient_net_transformed = pca_efficient_net.fit_transform(train_efficient_net[train_efficient_net.columns[2:]])\n",
    "test_efficient_net_transformed = pca_efficient_net.transform(test_efficient_net[test_efficient_net.columns[2:]])"
   ]
  },
  {
   "cell_type": "code",
   "execution_count": 94,
   "metadata": {},
   "outputs": [],
   "source": [
    "train_inceptionv3_transformed = pca_inceptionv3.fit_transform(train_inceptionv3[train_inceptionv3.columns[2:]])\n",
    "test_inceptionv3_transformed = pca_inceptionv3.transform(test_inceptionv3[test_inceptionv3.columns[2:]])"
   ]
  },
  {
   "cell_type": "markdown",
   "metadata": {},
   "source": [
    "## VGG16 + PCA"
   ]
  },
  {
   "cell_type": "markdown",
   "metadata": {},
   "source": [
    "### SVC"
   ]
  },
  {
   "cell_type": "code",
   "execution_count": 96,
   "metadata": {},
   "outputs": [],
   "source": [
    "svc_vgg16_transformed = SVC(random_state=42, probability=True)"
   ]
  },
  {
   "cell_type": "code",
   "execution_count": 98,
   "metadata": {},
   "outputs": [
    {
     "name": "stdout",
     "output_type": "stream",
     "text": [
      "CPU times: user 2.64 s, sys: 3.89 ms, total: 2.64 s\n",
      "Wall time: 2.66 s\n"
     ]
    },
    {
     "data": {
      "text/plain": [
       "SVC(probability=True, random_state=42)"
      ]
     },
     "execution_count": 98,
     "metadata": {},
     "output_type": "execute_result"
    }
   ],
   "source": [
    "%%time\n",
    "svc_vgg16_transformed.fit(train_vgg16_transformed, train_vgg16['target'])"
   ]
  },
  {
   "cell_type": "markdown",
   "metadata": {},
   "source": [
    "### Dense Net"
   ]
  },
  {
   "cell_type": "code",
   "execution_count": 99,
   "metadata": {},
   "outputs": [],
   "source": [
    "model_raw_vgg16_transformed = Sequential()\n",
    "model_raw_vgg16_transformed.add(Dense(12, input_dim=500,\n",
    "                                  activation='relu'))\n",
    "model_raw_vgg16_transformed.add(Dense(8, activation='relu'))\n",
    "model_raw_vgg16_transformed.add(Dense(1, activation='sigmoid'))"
   ]
  },
  {
   "cell_type": "code",
   "execution_count": 100,
   "metadata": {},
   "outputs": [
    {
     "name": "stdout",
     "output_type": "stream",
     "text": [
      "Model: \"sequential_5\"\n",
      "_________________________________________________________________\n",
      "Layer (type)                 Output Shape              Param #   \n",
      "=================================================================\n",
      "dense_15 (Dense)             (None, 12)                6012      \n",
      "_________________________________________________________________\n",
      "dense_16 (Dense)             (None, 8)                 104       \n",
      "_________________________________________________________________\n",
      "dense_17 (Dense)             (None, 1)                 9         \n",
      "=================================================================\n",
      "Total params: 6,125\n",
      "Trainable params: 6,125\n",
      "Non-trainable params: 0\n",
      "_________________________________________________________________\n"
     ]
    }
   ],
   "source": [
    "model_raw_vgg16_transformed.summary()"
   ]
  },
  {
   "cell_type": "code",
   "execution_count": 101,
   "metadata": {},
   "outputs": [],
   "source": [
    "model_raw_vgg16_transformed.compile(loss='binary_crossentropy', optimizer='adam',\n",
    "                        metrics=['accuracy', 'AUC'])"
   ]
  },
  {
   "cell_type": "code",
   "execution_count": 102,
   "metadata": {},
   "outputs": [
    {
     "name": "stdout",
     "output_type": "stream",
     "text": [
      "Epoch 1/150\n",
      "97/97 [==============================] - 0s 2ms/step - loss: 4.2428 - accuracy: 0.6949 - auc: 0.4917\n",
      "Epoch 2/150\n",
      "97/97 [==============================] - 0s 2ms/step - loss: 1.2176 - accuracy: 0.8170 - auc: 0.7798\n",
      "Epoch 3/150\n",
      "97/97 [==============================] - 0s 2ms/step - loss: 0.4869 - accuracy: 0.8728 - auc: 0.8921\n",
      "Epoch 4/150\n",
      "97/97 [==============================] - 0s 1ms/step - loss: 0.2671 - accuracy: 0.9131 - auc: 0.9464\n",
      "Epoch 5/150\n",
      "97/97 [==============================] - 0s 1ms/step - loss: 0.1866 - accuracy: 0.9235 - auc: 0.9678\n",
      "Epoch 6/150\n",
      "97/97 [==============================] - 0s 1ms/step - loss: 0.1460 - accuracy: 0.9380 - auc: 0.9800\n",
      "Epoch 7/150\n",
      "97/97 [==============================] - 0s 2ms/step - loss: 0.1272 - accuracy: 0.9473 - auc: 0.9864\n",
      "Epoch 8/150\n",
      "97/97 [==============================] - 0s 2ms/step - loss: 0.1135 - accuracy: 0.9535 - auc: 0.9878\n",
      "Epoch 9/150\n",
      "97/97 [==============================] - 0s 2ms/step - loss: 0.1029 - accuracy: 0.9617 - auc: 0.9922\n",
      "Epoch 10/150\n",
      "97/97 [==============================] - 0s 2ms/step - loss: 0.0933 - accuracy: 0.9659 - auc: 0.9936\n",
      "Epoch 11/150\n",
      "97/97 [==============================] - 0s 2ms/step - loss: 0.0878 - accuracy: 0.9679 - auc: 0.9945\n",
      "Epoch 12/150\n",
      "97/97 [==============================] - 0s 2ms/step - loss: 0.0914 - accuracy: 0.9690 - auc: 0.9918\n",
      "Epoch 13/150\n",
      "97/97 [==============================] - 0s 2ms/step - loss: 0.0884 - accuracy: 0.9710 - auc: 0.9950\n",
      "Epoch 14/150\n",
      "97/97 [==============================] - 0s 2ms/step - loss: 0.0800 - accuracy: 0.9721 - auc: 0.9930\n",
      "Epoch 15/150\n",
      "97/97 [==============================] - 0s 2ms/step - loss: 0.0766 - accuracy: 0.9721 - auc: 0.9945\n",
      "Epoch 16/150\n",
      "97/97 [==============================] - 0s 1ms/step - loss: 0.0717 - accuracy: 0.9752 - auc: 0.9958\n",
      "Epoch 17/150\n",
      "97/97 [==============================] - 0s 2ms/step - loss: 0.0666 - accuracy: 0.9783 - auc: 0.9960\n",
      "Epoch 18/150\n",
      "97/97 [==============================] - 0s 2ms/step - loss: 0.0668 - accuracy: 0.9793 - auc: 0.9954\n",
      "Epoch 19/150\n",
      "97/97 [==============================] - 0s 2ms/step - loss: 0.0609 - accuracy: 0.9793 - auc: 0.9966\n",
      "Epoch 20/150\n",
      "97/97 [==============================] - 0s 2ms/step - loss: 0.0609 - accuracy: 0.9804 - auc: 0.9963\n",
      "Epoch 21/150\n",
      "97/97 [==============================] - 0s 1ms/step - loss: 0.0595 - accuracy: 0.9793 - auc: 0.9971\n",
      "Epoch 22/150\n",
      "97/97 [==============================] - 0s 1ms/step - loss: 0.0514 - accuracy: 0.9835 - auc: 0.9976\n",
      "Epoch 23/150\n",
      "97/97 [==============================] - 0s 1ms/step - loss: 0.0492 - accuracy: 0.9835 - auc: 0.9975\n",
      "Epoch 24/150\n",
      "97/97 [==============================] - 0s 1ms/step - loss: 0.0450 - accuracy: 0.9855 - auc: 0.9981\n",
      "Epoch 25/150\n",
      "97/97 [==============================] - 0s 1ms/step - loss: 0.0458 - accuracy: 0.9845 - auc: 0.9977\n",
      "Epoch 26/150\n",
      "97/97 [==============================] - 0s 1ms/step - loss: 0.0474 - accuracy: 0.9876 - auc: 0.9976\n",
      "Epoch 27/150\n",
      "97/97 [==============================] - 0s 2ms/step - loss: 0.0450 - accuracy: 0.9866 - auc: 0.9975\n",
      "Epoch 28/150\n",
      "97/97 [==============================] - 0s 2ms/step - loss: 0.0383 - accuracy: 0.9897 - auc: 0.9987\n",
      "Epoch 29/150\n",
      "97/97 [==============================] - 0s 1ms/step - loss: 0.0354 - accuracy: 0.9907 - auc: 0.9986\n",
      "Epoch 30/150\n",
      "97/97 [==============================] - 0s 2ms/step - loss: 0.0334 - accuracy: 0.9897 - auc: 0.9989\n",
      "Epoch 31/150\n",
      "97/97 [==============================] - 0s 2ms/step - loss: 0.0304 - accuracy: 0.9917 - auc: 0.9990\n",
      "Epoch 32/150\n",
      "97/97 [==============================] - 0s 2ms/step - loss: 0.0296 - accuracy: 0.9928 - auc: 0.9991\n",
      "Epoch 33/150\n",
      "97/97 [==============================] - 0s 2ms/step - loss: 0.0289 - accuracy: 0.9928 - auc: 0.9993\n",
      "Epoch 34/150\n",
      "97/97 [==============================] - 0s 3ms/step - loss: 0.0288 - accuracy: 0.9917 - auc: 0.9990\n",
      "Epoch 35/150\n",
      "97/97 [==============================] - 0s 2ms/step - loss: 0.0284 - accuracy: 0.9917 - auc: 0.9991\n",
      "Epoch 36/150\n",
      "97/97 [==============================] - 0s 2ms/step - loss: 0.0283 - accuracy: 0.9907 - auc: 0.9990\n",
      "Epoch 37/150\n",
      "97/97 [==============================] - 0s 2ms/step - loss: 0.0241 - accuracy: 0.9948 - auc: 0.9996\n",
      "Epoch 38/150\n",
      "97/97 [==============================] - 0s 2ms/step - loss: 0.0222 - accuracy: 0.9959 - auc: 0.9996\n",
      "Epoch 39/150\n",
      "97/97 [==============================] - 0s 2ms/step - loss: 0.0210 - accuracy: 0.9948 - auc: 0.9997\n",
      "Epoch 40/150\n",
      "97/97 [==============================] - 0s 2ms/step - loss: 0.0200 - accuracy: 0.9969 - auc: 0.9997\n",
      "Epoch 41/150\n",
      "97/97 [==============================] - 0s 2ms/step - loss: 0.0195 - accuracy: 0.9969 - auc: 0.9996\n",
      "Epoch 42/150\n",
      "97/97 [==============================] - 0s 2ms/step - loss: 0.0187 - accuracy: 0.9969 - auc: 0.9996\n",
      "Epoch 43/150\n",
      "97/97 [==============================] - 0s 2ms/step - loss: 0.0183 - accuracy: 0.9969 - auc: 0.9997\n",
      "Epoch 44/150\n",
      "97/97 [==============================] - 0s 2ms/step - loss: 0.0175 - accuracy: 0.9969 - auc: 0.9997\n",
      "Epoch 45/150\n",
      "97/97 [==============================] - 0s 1ms/step - loss: 0.0170 - accuracy: 0.9969 - auc: 0.9996\n",
      "Epoch 46/150\n",
      "97/97 [==============================] - 0s 1ms/step - loss: 0.0163 - accuracy: 0.9969 - auc: 0.9997\n",
      "Epoch 47/150\n",
      "97/97 [==============================] - 0s 1ms/step - loss: 0.0189 - accuracy: 0.9938 - auc: 0.9997\n",
      "Epoch 48/150\n",
      "97/97 [==============================] - 0s 1ms/step - loss: 0.0226 - accuracy: 0.9948 - auc: 0.9996\n",
      "Epoch 49/150\n",
      "97/97 [==============================] - 0s 1ms/step - loss: 0.0187 - accuracy: 0.9959 - auc: 0.9998\n",
      "Epoch 50/150\n",
      "97/97 [==============================] - 0s 2ms/step - loss: 0.1349 - accuracy: 0.9721 - auc: 0.9854\n",
      "Epoch 51/150\n",
      "97/97 [==============================] - 0s 2ms/step - loss: 0.2967 - accuracy: 0.9235 - auc: 0.9496\n",
      "Epoch 52/150\n",
      "97/97 [==============================] - 0s 1ms/step - loss: 0.1857 - accuracy: 0.9524 - auc: 0.9665\n",
      "Epoch 53/150\n",
      "97/97 [==============================] - 0s 2ms/step - loss: 0.0865 - accuracy: 0.9783 - auc: 0.9901\n",
      "Epoch 54/150\n",
      "97/97 [==============================] - 0s 2ms/step - loss: 0.0340 - accuracy: 0.9917 - auc: 0.9985\n",
      "Epoch 55/150\n",
      "97/97 [==============================] - 0s 2ms/step - loss: 0.0139 - accuracy: 0.9990 - auc: 0.9999\n",
      "Epoch 56/150\n",
      "97/97 [==============================] - 0s 2ms/step - loss: 0.0118 - accuracy: 0.9990 - auc: 0.9999\n",
      "Epoch 57/150\n",
      "97/97 [==============================] - 0s 2ms/step - loss: 0.0111 - accuracy: 0.9990 - auc: 0.9999\n",
      "Epoch 58/150\n",
      "97/97 [==============================] - 0s 2ms/step - loss: 0.0110 - accuracy: 0.9990 - auc: 1.0000\n",
      "Epoch 59/150\n",
      "97/97 [==============================] - 0s 2ms/step - loss: 0.0105 - accuracy: 0.9990 - auc: 0.9999\n",
      "Epoch 60/150\n",
      "97/97 [==============================] - 0s 2ms/step - loss: 0.0099 - accuracy: 0.9990 - auc: 0.9999\n",
      "Epoch 61/150\n",
      "97/97 [==============================] - 0s 1ms/step - loss: 0.0100 - accuracy: 0.9979 - auc: 0.9999\n",
      "Epoch 62/150\n",
      "97/97 [==============================] - 0s 1ms/step - loss: 0.0090 - accuracy: 0.9990 - auc: 0.9999\n",
      "Epoch 63/150\n",
      "97/97 [==============================] - 0s 2ms/step - loss: 0.0094 - accuracy: 0.9990 - auc: 0.9999\n",
      "Epoch 64/150\n",
      "97/97 [==============================] - 0s 1ms/step - loss: 0.0086 - accuracy: 0.9990 - auc: 0.9999\n",
      "Epoch 65/150\n",
      "97/97 [==============================] - 0s 2ms/step - loss: 0.0084 - accuracy: 0.9990 - auc: 0.9999\n",
      "Epoch 66/150\n",
      "97/97 [==============================] - 0s 2ms/step - loss: 0.0084 - accuracy: 0.9990 - auc: 0.9999\n",
      "Epoch 67/150\n",
      "97/97 [==============================] - 0s 1ms/step - loss: 0.0086 - accuracy: 0.9990 - auc: 0.9999\n",
      "Epoch 68/150\n",
      "97/97 [==============================] - 0s 2ms/step - loss: 0.0085 - accuracy: 0.9979 - auc: 0.9999\n",
      "Epoch 69/150\n",
      "97/97 [==============================] - 0s 2ms/step - loss: 0.0072 - accuracy: 1.0000 - auc: 1.0000\n",
      "Epoch 70/150\n",
      "97/97 [==============================] - 0s 2ms/step - loss: 0.0066 - accuracy: 1.0000 - auc: 1.0000\n",
      "Epoch 71/150\n",
      "97/97 [==============================] - 0s 2ms/step - loss: 0.0061 - accuracy: 1.0000 - auc: 1.0000\n",
      "Epoch 72/150\n",
      "97/97 [==============================] - 0s 2ms/step - loss: 0.0061 - accuracy: 1.0000 - auc: 1.0000\n",
      "Epoch 73/150\n",
      "97/97 [==============================] - 0s 1ms/step - loss: 0.0059 - accuracy: 1.0000 - auc: 1.0000\n",
      "Epoch 74/150\n",
      "97/97 [==============================] - 0s 2ms/step - loss: 0.0057 - accuracy: 1.0000 - auc: 1.0000\n",
      "Epoch 75/150\n",
      "97/97 [==============================] - 0s 1ms/step - loss: 0.0057 - accuracy: 1.0000 - auc: 1.0000\n",
      "Epoch 76/150\n",
      "97/97 [==============================] - 0s 1ms/step - loss: 0.0058 - accuracy: 1.0000 - auc: 1.0000\n",
      "Epoch 77/150\n",
      "97/97 [==============================] - 0s 2ms/step - loss: 0.0053 - accuracy: 1.0000 - auc: 1.0000\n",
      "Epoch 78/150\n",
      "97/97 [==============================] - 0s 2ms/step - loss: 0.0052 - accuracy: 1.0000 - auc: 1.0000\n",
      "Epoch 79/150\n",
      "97/97 [==============================] - 0s 1ms/step - loss: 0.0060 - accuracy: 0.9990 - auc: 1.0000\n",
      "Epoch 80/150\n",
      "97/97 [==============================] - 0s 2ms/step - loss: 0.0079 - accuracy: 0.9990 - auc: 1.0000\n",
      "Epoch 81/150\n",
      "97/97 [==============================] - 0s 2ms/step - loss: 0.0049 - accuracy: 1.0000 - auc: 1.0000\n",
      "Epoch 82/150\n",
      "97/97 [==============================] - 0s 2ms/step - loss: 0.0048 - accuracy: 1.0000 - auc: 1.0000\n",
      "Epoch 83/150\n",
      "97/97 [==============================] - 0s 1ms/step - loss: 0.0047 - accuracy: 1.0000 - auc: 1.0000\n",
      "Epoch 84/150\n",
      "97/97 [==============================] - 0s 1ms/step - loss: 0.0045 - accuracy: 1.0000 - auc: 1.0000\n",
      "Epoch 85/150\n",
      "97/97 [==============================] - 0s 1ms/step - loss: 0.0043 - accuracy: 1.0000 - auc: 1.0000\n",
      "Epoch 86/150\n",
      "97/97 [==============================] - 0s 1ms/step - loss: 0.0041 - accuracy: 1.0000 - auc: 1.0000\n",
      "Epoch 87/150\n",
      "97/97 [==============================] - 0s 1ms/step - loss: 0.0040 - accuracy: 1.0000 - auc: 1.0000\n",
      "Epoch 88/150\n",
      "97/97 [==============================] - 0s 1ms/step - loss: 0.0038 - accuracy: 1.0000 - auc: 1.0000\n",
      "Epoch 89/150\n",
      "97/97 [==============================] - 0s 2ms/step - loss: 0.0038 - accuracy: 1.0000 - auc: 1.0000\n",
      "Epoch 90/150\n",
      "97/97 [==============================] - 0s 2ms/step - loss: 0.0041 - accuracy: 1.0000 - auc: 1.0000\n",
      "Epoch 91/150\n",
      "97/97 [==============================] - 0s 1ms/step - loss: 0.0035 - accuracy: 1.0000 - auc: 1.0000\n",
      "Epoch 92/150\n",
      "97/97 [==============================] - 0s 2ms/step - loss: 0.0033 - accuracy: 1.0000 - auc: 1.0000\n",
      "Epoch 93/150\n",
      "97/97 [==============================] - 0s 2ms/step - loss: 0.0031 - accuracy: 1.0000 - auc: 1.0000\n",
      "Epoch 94/150\n",
      "97/97 [==============================] - 0s 2ms/step - loss: 0.0030 - accuracy: 1.0000 - auc: 1.0000\n",
      "Epoch 95/150\n",
      "97/97 [==============================] - 0s 2ms/step - loss: 0.0029 - accuracy: 1.0000 - auc: 1.0000\n",
      "Epoch 96/150\n",
      "97/97 [==============================] - 0s 2ms/step - loss: 0.0028 - accuracy: 1.0000 - auc: 1.0000\n",
      "Epoch 97/150\n",
      "97/97 [==============================] - 0s 2ms/step - loss: 0.0028 - accuracy: 1.0000 - auc: 1.0000\n",
      "Epoch 98/150\n",
      "97/97 [==============================] - 0s 1ms/step - loss: 0.0027 - accuracy: 1.0000 - auc: 1.0000\n",
      "Epoch 99/150\n",
      "97/97 [==============================] - 0s 1ms/step - loss: 0.0026 - accuracy: 1.0000 - auc: 1.0000\n",
      "Epoch 100/150\n",
      "97/97 [==============================] - 0s 1ms/step - loss: 0.0026 - accuracy: 1.0000 - auc: 1.0000\n",
      "Epoch 101/150\n",
      "97/97 [==============================] - 0s 1ms/step - loss: 0.0025 - accuracy: 1.0000 - auc: 1.0000\n",
      "Epoch 102/150\n",
      "97/97 [==============================] - 0s 1ms/step - loss: 0.0025 - accuracy: 1.0000 - auc: 1.0000\n",
      "Epoch 103/150\n",
      "97/97 [==============================] - 0s 1ms/step - loss: 0.0024 - accuracy: 1.0000 - auc: 1.0000\n",
      "Epoch 104/150\n",
      "97/97 [==============================] - 0s 1ms/step - loss: 0.0023 - accuracy: 1.0000 - auc: 1.0000\n",
      "Epoch 105/150\n",
      "97/97 [==============================] - 0s 1ms/step - loss: 0.0023 - accuracy: 1.0000 - auc: 1.0000\n",
      "Epoch 106/150\n",
      "97/97 [==============================] - 0s 1ms/step - loss: 0.0022 - accuracy: 1.0000 - auc: 1.0000\n",
      "Epoch 107/150\n",
      "97/97 [==============================] - 0s 1ms/step - loss: 0.0022 - accuracy: 1.0000 - auc: 1.0000\n",
      "Epoch 108/150\n",
      "97/97 [==============================] - 0s 2ms/step - loss: 0.0022 - accuracy: 1.0000 - auc: 1.0000\n",
      "Epoch 109/150\n",
      "97/97 [==============================] - 0s 2ms/step - loss: 0.0021 - accuracy: 1.0000 - auc: 1.0000\n",
      "Epoch 110/150\n",
      "97/97 [==============================] - 0s 2ms/step - loss: 0.0020 - accuracy: 1.0000 - auc: 1.0000\n",
      "Epoch 111/150\n",
      "97/97 [==============================] - 0s 1ms/step - loss: 0.0020 - accuracy: 1.0000 - auc: 1.0000\n",
      "Epoch 112/150\n",
      "97/97 [==============================] - 0s 2ms/step - loss: 0.0019 - accuracy: 1.0000 - auc: 1.0000\n",
      "Epoch 113/150\n",
      "97/97 [==============================] - 0s 1ms/step - loss: 0.0019 - accuracy: 1.0000 - auc: 1.0000\n",
      "Epoch 114/150\n",
      "97/97 [==============================] - 0s 1ms/step - loss: 0.0018 - accuracy: 1.0000 - auc: 1.0000\n",
      "Epoch 115/150\n",
      "97/97 [==============================] - 0s 1ms/step - loss: 0.0020 - accuracy: 1.0000 - auc: 1.0000\n",
      "Epoch 116/150\n",
      "97/97 [==============================] - 0s 2ms/step - loss: 0.1230 - accuracy: 0.9804 - auc: 0.9860\n",
      "Epoch 117/150\n",
      "97/97 [==============================] - 0s 2ms/step - loss: 0.2974 - accuracy: 0.9390 - auc: 0.9623\n",
      "Epoch 118/150\n",
      "97/97 [==============================] - 0s 2ms/step - loss: 0.1664 - accuracy: 0.9690 - auc: 0.9805\n",
      "Epoch 119/150\n",
      "97/97 [==============================] - 0s 2ms/step - loss: 0.0348 - accuracy: 0.9907 - auc: 0.9965\n",
      "Epoch 120/150\n",
      "97/97 [==============================] - 0s 1ms/step - loss: 0.0077 - accuracy: 0.9990 - auc: 1.0000\n",
      "Epoch 121/150\n",
      "97/97 [==============================] - 0s 2ms/step - loss: 0.0042 - accuracy: 1.0000 - auc: 1.0000\n",
      "Epoch 122/150\n",
      "97/97 [==============================] - 0s 1ms/step - loss: 0.0037 - accuracy: 1.0000 - auc: 1.0000\n",
      "Epoch 123/150\n",
      "97/97 [==============================] - 0s 1ms/step - loss: 0.0035 - accuracy: 1.0000 - auc: 1.0000\n",
      "Epoch 124/150\n",
      "97/97 [==============================] - 0s 2ms/step - loss: 0.0031 - accuracy: 1.0000 - auc: 1.0000\n",
      "Epoch 125/150\n",
      "97/97 [==============================] - 0s 2ms/step - loss: 0.0029 - accuracy: 1.0000 - auc: 1.0000\n",
      "Epoch 126/150\n",
      "97/97 [==============================] - 0s 2ms/step - loss: 0.0028 - accuracy: 1.0000 - auc: 1.0000\n",
      "Epoch 127/150\n",
      "97/97 [==============================] - 0s 2ms/step - loss: 0.0026 - accuracy: 1.0000 - auc: 1.0000\n",
      "Epoch 128/150\n",
      "97/97 [==============================] - 0s 2ms/step - loss: 0.0025 - accuracy: 1.0000 - auc: 1.0000\n",
      "Epoch 129/150\n",
      "97/97 [==============================] - 0s 2ms/step - loss: 0.0025 - accuracy: 1.0000 - auc: 1.0000\n",
      "Epoch 130/150\n",
      "97/97 [==============================] - 0s 2ms/step - loss: 0.0024 - accuracy: 1.0000 - auc: 1.0000\n",
      "Epoch 131/150\n",
      "97/97 [==============================] - 0s 2ms/step - loss: 0.0023 - accuracy: 1.0000 - auc: 1.0000\n",
      "Epoch 132/150\n",
      "97/97 [==============================] - 0s 2ms/step - loss: 0.0023 - accuracy: 1.0000 - auc: 1.0000\n",
      "Epoch 133/150\n",
      "97/97 [==============================] - 0s 2ms/step - loss: 0.0022 - accuracy: 1.0000 - auc: 1.0000\n",
      "Epoch 134/150\n",
      "97/97 [==============================] - 0s 2ms/step - loss: 0.0021 - accuracy: 1.0000 - auc: 1.0000\n",
      "Epoch 135/150\n",
      "97/97 [==============================] - 0s 2ms/step - loss: 0.0020 - accuracy: 1.0000 - auc: 1.0000\n",
      "Epoch 136/150\n",
      "97/97 [==============================] - 0s 2ms/step - loss: 0.0020 - accuracy: 1.0000 - auc: 1.0000\n",
      "Epoch 137/150\n",
      "97/97 [==============================] - 0s 2ms/step - loss: 0.0020 - accuracy: 1.0000 - auc: 1.0000\n",
      "Epoch 138/150\n",
      "97/97 [==============================] - 0s 2ms/step - loss: 0.0020 - accuracy: 1.0000 - auc: 1.0000\n",
      "Epoch 139/150\n",
      "97/97 [==============================] - 0s 2ms/step - loss: 0.0019 - accuracy: 1.0000 - auc: 1.0000\n",
      "Epoch 140/150\n",
      "97/97 [==============================] - 0s 2ms/step - loss: 0.0019 - accuracy: 1.0000 - auc: 1.0000\n",
      "Epoch 141/150\n",
      "97/97 [==============================] - 0s 2ms/step - loss: 0.0018 - accuracy: 1.0000 - auc: 1.0000\n",
      "Epoch 142/150\n",
      "97/97 [==============================] - 0s 2ms/step - loss: 0.0018 - accuracy: 1.0000 - auc: 1.0000\n",
      "Epoch 143/150\n"
     ]
    },
    {
     "name": "stdout",
     "output_type": "stream",
     "text": [
      "97/97 [==============================] - 0s 1ms/step - loss: 0.0018 - accuracy: 1.0000 - auc: 1.0000\n",
      "Epoch 144/150\n",
      "97/97 [==============================] - 0s 1ms/step - loss: 0.0018 - accuracy: 1.0000 - auc: 1.0000\n",
      "Epoch 145/150\n",
      "97/97 [==============================] - 0s 1ms/step - loss: 0.0017 - accuracy: 1.0000 - auc: 1.0000\n",
      "Epoch 146/150\n",
      "97/97 [==============================] - 0s 1ms/step - loss: 0.0017 - accuracy: 1.0000 - auc: 1.0000\n",
      "Epoch 147/150\n",
      "97/97 [==============================] - 0s 1ms/step - loss: 0.0016 - accuracy: 1.0000 - auc: 1.0000\n",
      "Epoch 148/150\n",
      "97/97 [==============================] - 0s 1ms/step - loss: 0.0016 - accuracy: 1.0000 - auc: 1.0000\n",
      "Epoch 149/150\n",
      "97/97 [==============================] - 0s 1ms/step - loss: 0.0015 - accuracy: 1.0000 - auc: 1.0000\n",
      "Epoch 150/150\n",
      "97/97 [==============================] - 0s 1ms/step - loss: 0.0015 - accuracy: 1.0000 - auc: 1.0000\n",
      "CPU times: user 41.2 s, sys: 5.8 s, total: 47 s\n",
      "Wall time: 25.5 s\n"
     ]
    },
    {
     "data": {
      "text/plain": [
       "<tensorflow.python.keras.callbacks.History at 0x7fddbd387dd0>"
      ]
     },
     "execution_count": 102,
     "metadata": {},
     "output_type": "execute_result"
    }
   ],
   "source": [
    "%%time\n",
    "model_raw_vgg16_transformed.fit(train_vgg16_transformed,\n",
    "                            train_vgg16['target'],\n",
    "                            epochs=150, batch_size=10)"
   ]
  },
  {
   "cell_type": "markdown",
   "metadata": {},
   "source": [
    "#### Metrics per iteration for Dense Net"
   ]
  },
  {
   "cell_type": "code",
   "execution_count": 103,
   "metadata": {},
   "outputs": [
    {
     "data": {
      "image/png": "[encoded data removed]",
      "text/plain": [
       "<Figure size 432x288 with 1 Axes>"
      ]
     },
     "metadata": {
      "needs_background": "light"
     },
     "output_type": "display_data"
    }
   ],
   "source": [
    "plt.plot(model_raw_vgg16_transformed.history.history['auc']);\n",
    "plt.title('ROC-AUC per number of iterations');\n",
    "plt.xlabel('N iterations');\n",
    "plt.ylabel('ROC AUC');"
   ]
  },
  {
   "cell_type": "code",
   "execution_count": 104,
   "metadata": {},
   "outputs": [
    {
     "data": {
      "image/png": "[encoded data removed]",
      "text/plain": [
       "<Figure size 432x288 with 1 Axes>"
      ]
     },
     "metadata": {
      "needs_background": "light"
     },
     "output_type": "display_data"
    }
   ],
   "source": [
    "plt.plot(model_raw_vgg16_transformed.history.history['accuracy']);\n",
    "plt.title('ROC-AUC per number of iterations');\n",
    "plt.xlabel('N iterations');\n",
    "plt.ylabel('ROC AUC');"
   ]
  },
  {
   "cell_type": "markdown",
   "metadata": {},
   "source": [
    "### Logistic Regression"
   ]
  },
  {
   "cell_type": "code",
   "execution_count": 105,
   "metadata": {},
   "outputs": [],
   "source": [
    "log_reg_vgg16_transformed = LogisticRegression(random_state=42)"
   ]
  },
  {
   "cell_type": "code",
   "execution_count": 106,
   "metadata": {},
   "outputs": [
    {
     "name": "stdout",
     "output_type": "stream",
     "text": [
      "CPU times: user 178 ms, sys: 3.8 ms, total: 182 ms\n",
      "Wall time: 93.5 ms\n"
     ]
    },
    {
     "name": "stderr",
     "output_type": "stream",
     "text": [
      "/opt/conda/lib/python3.7/site-packages/sklearn/linear_model/_logistic.py:764: ConvergenceWarning: lbfgs failed to converge (status=1):\n",
      "STOP: TOTAL NO. of ITERATIONS REACHED LIMIT.\n",
      "\n",
      "Increase the number of iterations (max_iter) or scale the data as shown in:\n",
      "    https://scikit-learn.org/stable/modules/preprocessing.html\n",
      "Please also refer to the documentation for alternative solver options:\n",
      "    https://scikit-learn.org/stable/modules/linear_model.html#logistic-regression\n",
      "  extra_warning_msg=_LOGISTIC_SOLVER_CONVERGENCE_MSG)\n"
     ]
    },
    {
     "data": {
      "text/plain": [
       "LogisticRegression(random_state=42)"
      ]
     },
     "execution_count": 106,
     "metadata": {},
     "output_type": "execute_result"
    }
   ],
   "source": [
    "%%time\n",
    "log_reg_vgg16_transformed.fit(train_vgg16_transformed, \n",
    "                          train_vgg16['target'])"
   ]
  },
  {
   "cell_type": "markdown",
   "metadata": {},
   "source": [
    "### GradientBoositng"
   ]
  },
  {
   "cell_type": "code",
   "execution_count": 107,
   "metadata": {},
   "outputs": [],
   "source": [
    "gbr_vgg16_transformed = GradientBoostingClassifier(random_state=42)"
   ]
  },
  {
   "cell_type": "code",
   "execution_count": 108,
   "metadata": {},
   "outputs": [
    {
     "name": "stdout",
     "output_type": "stream",
     "text": [
      "CPU times: user 10.2 s, sys: 0 ns, total: 10.2 s\n",
      "Wall time: 10.3 s\n"
     ]
    },
    {
     "data": {
      "text/plain": [
       "GradientBoostingClassifier(random_state=42)"
      ]
     },
     "execution_count": 108,
     "metadata": {},
     "output_type": "execute_result"
    }
   ],
   "source": [
    "%%time\n",
    "gbr_vgg16_transformed.fit(train_vgg16_transformed,\n",
    "                      train_vgg16['target'])"
   ]
  },
  {
   "cell_type": "markdown",
   "metadata": {},
   "source": [
    "### RandomForest"
   ]
  },
  {
   "cell_type": "code",
   "execution_count": 109,
   "metadata": {},
   "outputs": [],
   "source": [
    "rf_vgg16_transformed = RandomForestClassifier(random_state=42)"
   ]
  },
  {
   "cell_type": "code",
   "execution_count": 110,
   "metadata": {},
   "outputs": [
    {
     "name": "stdout",
     "output_type": "stream",
     "text": [
      "CPU times: user 943 ms, sys: 9.38 ms, total: 952 ms\n",
      "Wall time: 957 ms\n"
     ]
    },
    {
     "data": {
      "text/plain": [
       "RandomForestClassifier(random_state=42)"
      ]
     },
     "execution_count": 110,
     "metadata": {},
     "output_type": "execute_result"
    }
   ],
   "source": [
    "%%time\n",
    "rf_vgg16_transformed.fit(train_vgg16_transformed, train_vgg16['target'])"
   ]
  },
  {
   "cell_type": "markdown",
   "metadata": {},
   "source": [
    "## VGG19 + PCA"
   ]
  },
  {
   "cell_type": "markdown",
   "metadata": {},
   "source": [
    "### SVC"
   ]
  },
  {
   "cell_type": "code",
   "execution_count": 111,
   "metadata": {},
   "outputs": [],
   "source": [
    "svc_vgg19_transformed = SVC(random_state=42, probability=True)"
   ]
  },
  {
   "cell_type": "code",
   "execution_count": 206,
   "metadata": {},
   "outputs": [
    {
     "name": "stdout",
     "output_type": "stream",
     "text": [
      "CPU times: user 2.71 s, sys: 0 ns, total: 2.71 s\n",
      "Wall time: 2.73 s\n"
     ]
    },
    {
     "data": {
      "text/plain": [
       "SVC(probability=True, random_state=42)"
      ]
     },
     "execution_count": 206,
     "metadata": {},
     "output_type": "execute_result"
    }
   ],
   "source": [
    "%%time\n",
    "svc_vgg19_transformed.fit(train_vgg19_transformed, train_vgg19['target'])"
   ]
  },
  {
   "cell_type": "markdown",
   "metadata": {},
   "source": [
    "### Dense Net"
   ]
  },
  {
   "cell_type": "code",
   "execution_count": 113,
   "metadata": {},
   "outputs": [],
   "source": [
    "model_raw_vgg19_transformed = Sequential()\n",
    "model_raw_vgg19_transformed.add(Dense(12, input_dim=500,\n",
    "                                  activation='relu'))\n",
    "model_raw_vgg19_transformed.add(Dense(8, activation='relu'))\n",
    "model_raw_vgg19_transformed.add(Dense(1, activation='sigmoid'))"
   ]
  },
  {
   "cell_type": "code",
   "execution_count": 114,
   "metadata": {},
   "outputs": [
    {
     "name": "stdout",
     "output_type": "stream",
     "text": [
      "Model: \"sequential_6\"\n",
      "_________________________________________________________________\n",
      "Layer (type)                 Output Shape              Param #   \n",
      "=================================================================\n",
      "dense_18 (Dense)             (None, 12)                6012      \n",
      "_________________________________________________________________\n",
      "dense_19 (Dense)             (None, 8)                 104       \n",
      "_________________________________________________________________\n",
      "dense_20 (Dense)             (None, 1)                 9         \n",
      "=================================================================\n",
      "Total params: 6,125\n",
      "Trainable params: 6,125\n",
      "Non-trainable params: 0\n",
      "_________________________________________________________________\n"
     ]
    }
   ],
   "source": [
    "model_raw_vgg19_transformed.summary()"
   ]
  },
  {
   "cell_type": "code",
   "execution_count": 115,
   "metadata": {},
   "outputs": [],
   "source": [
    "model_raw_vgg19_transformed.compile(loss='binary_crossentropy', optimizer='adam',\n",
    "                        metrics=['accuracy', 'AUC'])"
   ]
  },
  {
   "cell_type": "code",
   "execution_count": 116,
   "metadata": {},
   "outputs": [
    {
     "name": "stdout",
     "output_type": "stream",
     "text": [
      "Epoch 1/150\n",
      "97/97 [==============================] - 0s 1ms/step - loss: 2.8348 - accuracy: 0.7053 - auc: 0.5745\n",
      "Epoch 2/150\n",
      "97/97 [==============================] - 0s 1ms/step - loss: 0.8273 - accuracy: 0.8428 - auc: 0.8156\n",
      "Epoch 3/150\n",
      "97/97 [==============================] - 0s 1ms/step - loss: 0.2960 - accuracy: 0.9131 - auc: 0.9371\n",
      "Epoch 4/150\n",
      "97/97 [==============================] - 0s 1ms/step - loss: 0.1528 - accuracy: 0.9535 - auc: 0.9719\n",
      "Epoch 5/150\n",
      "97/97 [==============================] - 0s 2ms/step - loss: 0.0938 - accuracy: 0.9721 - auc: 0.9880\n",
      "Epoch 6/150\n",
      "97/97 [==============================] - 0s 1ms/step - loss: 0.0610 - accuracy: 0.9804 - auc: 0.9939\n",
      "Epoch 7/150\n",
      "97/97 [==============================] - 0s 1ms/step - loss: 0.0485 - accuracy: 0.9866 - auc: 0.9975\n",
      "Epoch 8/150\n",
      "97/97 [==============================] - 0s 1ms/step - loss: 0.0463 - accuracy: 0.9886 - auc: 0.9935\n",
      "Epoch 9/150\n",
      "97/97 [==============================] - 0s 1ms/step - loss: 0.0274 - accuracy: 0.9917 - auc: 0.9997\n",
      "Epoch 10/150\n",
      "97/97 [==============================] - 0s 1ms/step - loss: 0.0225 - accuracy: 0.9948 - auc: 0.9999\n",
      "Epoch 11/150\n",
      "97/97 [==============================] - 0s 1ms/step - loss: 0.0187 - accuracy: 0.9969 - auc: 1.0000\n",
      "Epoch 12/150\n",
      "97/97 [==============================] - 0s 1ms/step - loss: 0.0159 - accuracy: 0.9979 - auc: 1.0000\n",
      "Epoch 13/150\n",
      "97/97 [==============================] - 0s 1ms/step - loss: 0.0177 - accuracy: 0.9959 - auc: 0.9997\n",
      "Epoch 14/150\n",
      "97/97 [==============================] - 0s 1ms/step - loss: 0.0150 - accuracy: 0.9979 - auc: 0.9999\n",
      "Epoch 15/150\n",
      "97/97 [==============================] - 0s 2ms/step - loss: 0.0130 - accuracy: 0.9979 - auc: 1.0000\n",
      "Epoch 16/150\n",
      "97/97 [==============================] - 0s 2ms/step - loss: 0.0110 - accuracy: 0.9979 - auc: 1.0000\n",
      "Epoch 17/150\n",
      "97/97 [==============================] - 0s 1ms/step - loss: 0.0106 - accuracy: 0.9979 - auc: 1.0000\n",
      "Epoch 18/150\n",
      "97/97 [==============================] - 0s 2ms/step - loss: 0.0104 - accuracy: 0.9979 - auc: 1.0000\n",
      "Epoch 19/150\n",
      "97/97 [==============================] - 0s 2ms/step - loss: 0.0237 - accuracy: 0.9979 - auc: 0.9973\n",
      "Epoch 20/150\n",
      "97/97 [==============================] - 0s 1ms/step - loss: 0.0110 - accuracy: 0.9979 - auc: 0.9999\n",
      "Epoch 21/150\n",
      "97/97 [==============================] - 0s 1ms/step - loss: 0.0092 - accuracy: 0.9979 - auc: 1.0000\n",
      "Epoch 22/150\n",
      "97/97 [==============================] - 0s 1ms/step - loss: 0.0082 - accuracy: 0.9979 - auc: 1.0000\n",
      "Epoch 23/150\n",
      "97/97 [==============================] - 0s 1ms/step - loss: 0.0077 - accuracy: 0.9979 - auc: 1.0000\n",
      "Epoch 24/150\n",
      "97/97 [==============================] - 0s 1ms/step - loss: 0.0073 - accuracy: 0.9979 - auc: 1.0000\n",
      "Epoch 25/150\n",
      "97/97 [==============================] - 0s 1ms/step - loss: 0.0069 - accuracy: 0.9990 - auc: 1.0000\n",
      "Epoch 26/150\n",
      "97/97 [==============================] - 0s 1ms/step - loss: 0.0065 - accuracy: 0.9990 - auc: 1.0000\n",
      "Epoch 27/150\n",
      "97/97 [==============================] - 0s 1ms/step - loss: 0.0062 - accuracy: 0.9990 - auc: 1.0000\n",
      "Epoch 28/150\n",
      "97/97 [==============================] - 0s 2ms/step - loss: 0.0059 - accuracy: 0.9990 - auc: 1.0000\n",
      "Epoch 29/150\n",
      "97/97 [==============================] - 0s 2ms/step - loss: 0.0057 - accuracy: 0.9990 - auc: 1.0000\n",
      "Epoch 30/150\n",
      "97/97 [==============================] - 0s 1ms/step - loss: 0.0055 - accuracy: 0.9990 - auc: 1.0000\n",
      "Epoch 31/150\n",
      "97/97 [==============================] - 0s 1ms/step - loss: 0.0051 - accuracy: 0.9990 - auc: 1.0000\n",
      "Epoch 32/150\n",
      "97/97 [==============================] - 0s 1ms/step - loss: 0.0050 - accuracy: 0.9990 - auc: 1.0000\n",
      "Epoch 33/150\n",
      "97/97 [==============================] - 0s 1ms/step - loss: 0.0049 - accuracy: 0.9990 - auc: 1.0000\n",
      "Epoch 34/150\n",
      "97/97 [==============================] - 0s 1ms/step - loss: 0.0048 - accuracy: 0.9990 - auc: 1.0000\n",
      "Epoch 35/150\n",
      "97/97 [==============================] - 0s 1ms/step - loss: 0.0047 - accuracy: 0.9990 - auc: 1.0000\n",
      "Epoch 36/150\n",
      "97/97 [==============================] - 0s 1ms/step - loss: 0.0049 - accuracy: 0.9990 - auc: 1.0000\n",
      "Epoch 37/150\n",
      "97/97 [==============================] - 0s 1ms/step - loss: 0.0236 - accuracy: 0.9959 - auc: 0.9974\n",
      "Epoch 38/150\n",
      "97/97 [==============================] - 0s 2ms/step - loss: 0.0285 - accuracy: 0.9948 - auc: 0.9972\n",
      "Epoch 39/150\n",
      "97/97 [==============================] - 0s 1ms/step - loss: 0.1853 - accuracy: 0.9576 - auc: 0.9715\n",
      "Epoch 40/150\n",
      "97/97 [==============================] - 0s 1ms/step - loss: 0.4420 - accuracy: 0.9183 - auc: 0.9396\n",
      "Epoch 41/150\n",
      "97/97 [==============================] - 0s 1ms/step - loss: 0.1156 - accuracy: 0.9700 - auc: 0.9851\n",
      "Epoch 42/150\n",
      "97/97 [==============================] - 0s 1ms/step - loss: 0.0328 - accuracy: 0.9917 - auc: 0.9989\n",
      "Epoch 43/150\n",
      "97/97 [==============================] - 0s 2ms/step - loss: 0.0156 - accuracy: 0.9979 - auc: 0.9998\n",
      "Epoch 44/150\n",
      "97/97 [==============================] - 0s 1ms/step - loss: 0.0112 - accuracy: 0.9979 - auc: 0.9999\n",
      "Epoch 45/150\n",
      "97/97 [==============================] - 0s 1ms/step - loss: 0.0102 - accuracy: 0.9979 - auc: 0.9999\n",
      "Epoch 46/150\n",
      "97/97 [==============================] - 0s 1ms/step - loss: 0.0100 - accuracy: 0.9979 - auc: 0.9999\n",
      "Epoch 47/150\n",
      "97/97 [==============================] - 0s 1ms/step - loss: 0.0087 - accuracy: 0.9979 - auc: 0.9999\n",
      "Epoch 48/150\n",
      "97/97 [==============================] - 0s 1ms/step - loss: 0.0080 - accuracy: 0.9979 - auc: 1.0000\n",
      "Epoch 49/150\n",
      "97/97 [==============================] - 0s 2ms/step - loss: 0.0075 - accuracy: 0.9979 - auc: 0.9999\n",
      "Epoch 50/150\n",
      "97/97 [==============================] - 0s 2ms/step - loss: 0.0074 - accuracy: 0.9969 - auc: 1.0000\n",
      "Epoch 51/150\n",
      "97/97 [==============================] - 0s 1ms/step - loss: 0.0073 - accuracy: 0.9979 - auc: 1.0000\n",
      "Epoch 52/150\n",
      "97/97 [==============================] - 0s 1ms/step - loss: 0.0067 - accuracy: 0.9979 - auc: 1.0000\n",
      "Epoch 53/150\n",
      "97/97 [==============================] - 0s 1ms/step - loss: 0.0067 - accuracy: 0.9979 - auc: 1.0000\n",
      "Epoch 54/150\n",
      "97/97 [==============================] - 0s 2ms/step - loss: 0.0062 - accuracy: 0.9979 - auc: 1.0000\n",
      "Epoch 55/150\n",
      "97/97 [==============================] - 0s 1ms/step - loss: 0.0063 - accuracy: 0.9979 - auc: 1.0000\n",
      "Epoch 56/150\n",
      "97/97 [==============================] - 0s 1ms/step - loss: 0.0058 - accuracy: 0.9979 - auc: 1.0000\n",
      "Epoch 57/150\n",
      "97/97 [==============================] - 0s 1ms/step - loss: 0.0058 - accuracy: 0.9979 - auc: 1.0000\n",
      "Epoch 58/150\n",
      "97/97 [==============================] - 0s 1ms/step - loss: 0.0052 - accuracy: 0.9979 - auc: 1.0000\n",
      "Epoch 59/150\n",
      "97/97 [==============================] - 0s 1ms/step - loss: 0.0055 - accuracy: 0.9969 - auc: 1.0000\n",
      "Epoch 60/150\n",
      "97/97 [==============================] - 0s 1ms/step - loss: 0.0056 - accuracy: 0.9969 - auc: 1.0000\n",
      "Epoch 61/150\n",
      "97/97 [==============================] - 0s 1ms/step - loss: 0.0054 - accuracy: 0.9979 - auc: 1.0000\n",
      "Epoch 62/150\n",
      "97/97 [==============================] - 0s 1ms/step - loss: 0.0047 - accuracy: 0.9979 - auc: 1.0000\n",
      "Epoch 63/150\n",
      "97/97 [==============================] - 0s 1ms/step - loss: 0.0050 - accuracy: 0.9979 - auc: 1.0000\n",
      "Epoch 64/150\n",
      "97/97 [==============================] - 0s 1ms/step - loss: 0.0047 - accuracy: 0.9979 - auc: 1.0000\n",
      "Epoch 65/150\n",
      "97/97 [==============================] - 0s 1ms/step - loss: 0.0042 - accuracy: 0.9979 - auc: 1.0000\n",
      "Epoch 66/150\n",
      "97/97 [==============================] - 0s 1ms/step - loss: 0.0074 - accuracy: 0.9979 - auc: 0.9999\n",
      "Epoch 67/150\n",
      "97/97 [==============================] - 0s 1ms/step - loss: 0.0061 - accuracy: 0.9979 - auc: 1.0000\n",
      "Epoch 68/150\n",
      "97/97 [==============================] - 0s 1ms/step - loss: 0.0054 - accuracy: 0.9979 - auc: 1.0000\n",
      "Epoch 69/150\n",
      "97/97 [==============================] - 0s 1ms/step - loss: 0.0053 - accuracy: 0.9979 - auc: 1.0000\n",
      "Epoch 70/150\n",
      "97/97 [==============================] - 0s 1ms/step - loss: 0.0049 - accuracy: 0.9979 - auc: 1.0000\n",
      "Epoch 71/150\n",
      "97/97 [==============================] - 0s 1ms/step - loss: 0.0050 - accuracy: 0.9979 - auc: 1.0000\n",
      "Epoch 72/150\n",
      "97/97 [==============================] - 0s 1ms/step - loss: 0.0049 - accuracy: 0.9979 - auc: 1.0000\n",
      "Epoch 73/150\n",
      "97/97 [==============================] - 0s 1ms/step - loss: 0.0045 - accuracy: 0.9979 - auc: 1.0000\n",
      "Epoch 74/150\n",
      "97/97 [==============================] - 0s 1ms/step - loss: 0.0044 - accuracy: 0.9979 - auc: 1.0000\n",
      "Epoch 75/150\n",
      "97/97 [==============================] - 0s 1ms/step - loss: 0.0041 - accuracy: 0.9979 - auc: 1.0000\n",
      "Epoch 76/150\n",
      "97/97 [==============================] - 0s 1ms/step - loss: 0.0040 - accuracy: 0.9979 - auc: 1.0000\n",
      "Epoch 77/150\n",
      "97/97 [==============================] - 0s 1ms/step - loss: 0.0039 - accuracy: 0.9979 - auc: 1.0000\n",
      "Epoch 78/150\n",
      "97/97 [==============================] - 0s 1ms/step - loss: 0.0037 - accuracy: 0.9990 - auc: 1.0000\n",
      "Epoch 79/150\n",
      "97/97 [==============================] - 0s 1ms/step - loss: 0.0036 - accuracy: 0.9990 - auc: 1.0000\n",
      "Epoch 80/150\n",
      "97/97 [==============================] - 0s 1ms/step - loss: 0.0034 - accuracy: 0.9990 - auc: 1.0000\n",
      "Epoch 81/150\n",
      "97/97 [==============================] - 0s 1ms/step - loss: 0.0036 - accuracy: 0.9979 - auc: 1.0000\n",
      "Epoch 82/150\n",
      "97/97 [==============================] - 0s 1ms/step - loss: 0.0034 - accuracy: 0.9990 - auc: 1.0000\n",
      "Epoch 83/150\n",
      "97/97 [==============================] - 0s 1ms/step - loss: 0.0042 - accuracy: 0.9979 - auc: 1.0000\n",
      "Epoch 84/150\n",
      "97/97 [==============================] - 0s 2ms/step - loss: 0.0041 - accuracy: 0.9979 - auc: 1.0000\n",
      "Epoch 85/150\n",
      "97/97 [==============================] - 0s 1ms/step - loss: 0.0041 - accuracy: 0.9979 - auc: 1.0000\n",
      "Epoch 86/150\n",
      "97/97 [==============================] - 0s 1ms/step - loss: 0.0041 - accuracy: 0.9979 - auc: 1.0000\n",
      "Epoch 87/150\n",
      "97/97 [==============================] - 0s 2ms/step - loss: 0.0041 - accuracy: 0.9979 - auc: 1.0000\n",
      "Epoch 88/150\n",
      "97/97 [==============================] - 0s 2ms/step - loss: 0.0041 - accuracy: 0.9979 - auc: 1.0000\n",
      "Epoch 89/150\n",
      "97/97 [==============================] - 0s 1ms/step - loss: 0.0041 - accuracy: 0.9979 - auc: 1.0000\n",
      "Epoch 90/150\n",
      "97/97 [==============================] - 0s 1ms/step - loss: 0.0041 - accuracy: 0.9979 - auc: 1.0000\n",
      "Epoch 91/150\n",
      "97/97 [==============================] - 0s 1ms/step - loss: 0.0041 - accuracy: 0.9979 - auc: 1.0000\n",
      "Epoch 92/150\n",
      "97/97 [==============================] - 0s 1ms/step - loss: 0.0040 - accuracy: 0.9979 - auc: 1.0000\n",
      "Epoch 93/150\n",
      "97/97 [==============================] - 0s 1ms/step - loss: 0.0040 - accuracy: 0.9979 - auc: 1.0000\n",
      "Epoch 94/150\n",
      "97/97 [==============================] - 0s 1ms/step - loss: 0.0040 - accuracy: 0.9979 - auc: 1.0000\n",
      "Epoch 95/150\n",
      "97/97 [==============================] - 0s 1ms/step - loss: 0.0040 - accuracy: 0.9979 - auc: 1.0000\n",
      "Epoch 96/150\n",
      "97/97 [==============================] - 0s 2ms/step - loss: 0.0040 - accuracy: 0.9979 - auc: 1.0000\n",
      "Epoch 97/150\n",
      "97/97 [==============================] - 0s 1ms/step - loss: 0.0040 - accuracy: 0.9979 - auc: 1.0000\n",
      "Epoch 98/150\n",
      "97/97 [==============================] - 0s 2ms/step - loss: 0.0040 - accuracy: 0.9979 - auc: 1.0000\n",
      "Epoch 99/150\n",
      "97/97 [==============================] - 0s 2ms/step - loss: 0.0040 - accuracy: 0.9979 - auc: 1.0000\n",
      "Epoch 100/150\n",
      "97/97 [==============================] - 0s 1ms/step - loss: 0.0040 - accuracy: 0.9979 - auc: 1.0000\n",
      "Epoch 101/150\n",
      "97/97 [==============================] - 0s 2ms/step - loss: 0.0040 - accuracy: 0.9979 - auc: 0.9999\n",
      "Epoch 102/150\n",
      "97/97 [==============================] - 0s 1ms/step - loss: 0.0040 - accuracy: 0.9979 - auc: 1.0000\n",
      "Epoch 103/150\n",
      "97/97 [==============================] - 0s 2ms/step - loss: 0.0040 - accuracy: 0.9979 - auc: 1.0000\n",
      "Epoch 104/150\n",
      "97/97 [==============================] - 0s 2ms/step - loss: 0.0040 - accuracy: 0.9979 - auc: 1.0000\n",
      "Epoch 105/150\n",
      "97/97 [==============================] - 0s 2ms/step - loss: 0.0040 - accuracy: 0.9979 - auc: 1.0000\n",
      "Epoch 106/150\n",
      "97/97 [==============================] - 0s 2ms/step - loss: 0.0040 - accuracy: 0.9979 - auc: 1.0000\n",
      "Epoch 107/150\n",
      "97/97 [==============================] - 0s 1ms/step - loss: 0.0040 - accuracy: 0.9979 - auc: 1.0000\n",
      "Epoch 108/150\n",
      "97/97 [==============================] - 0s 2ms/step - loss: 0.0040 - accuracy: 0.9979 - auc: 1.0000\n",
      "Epoch 109/150\n",
      "97/97 [==============================] - 0s 2ms/step - loss: 0.0040 - accuracy: 0.9979 - auc: 1.0000\n",
      "Epoch 110/150\n",
      "97/97 [==============================] - 0s 2ms/step - loss: 0.0040 - accuracy: 0.9979 - auc: 1.0000\n",
      "Epoch 111/150\n",
      "97/97 [==============================] - 0s 2ms/step - loss: 0.0040 - accuracy: 0.9979 - auc: 1.0000\n",
      "Epoch 112/150\n",
      "97/97 [==============================] - 0s 2ms/step - loss: 0.0040 - accuracy: 0.9979 - auc: 1.0000\n",
      "Epoch 113/150\n",
      "97/97 [==============================] - 0s 1ms/step - loss: 0.0040 - accuracy: 0.9979 - auc: 1.0000\n",
      "Epoch 114/150\n",
      "97/97 [==============================] - 0s 2ms/step - loss: 0.0040 - accuracy: 0.9979 - auc: 1.0000\n",
      "Epoch 115/150\n",
      "97/97 [==============================] - 0s 1ms/step - loss: 0.0040 - accuracy: 0.9979 - auc: 1.0000\n",
      "Epoch 116/150\n",
      "97/97 [==============================] - 0s 1ms/step - loss: 0.0040 - accuracy: 0.9979 - auc: 1.0000\n",
      "Epoch 117/150\n",
      "97/97 [==============================] - 0s 1ms/step - loss: 0.0040 - accuracy: 0.9979 - auc: 1.0000\n",
      "Epoch 118/150\n",
      "97/97 [==============================] - 0s 2ms/step - loss: 0.0040 - accuracy: 0.9979 - auc: 1.0000\n",
      "Epoch 119/150\n",
      "97/97 [==============================] - 0s 1ms/step - loss: 0.0040 - accuracy: 0.9979 - auc: 1.0000\n",
      "Epoch 120/150\n",
      "97/97 [==============================] - 0s 2ms/step - loss: 0.0040 - accuracy: 0.9979 - auc: 1.0000\n",
      "Epoch 121/150\n",
      "97/97 [==============================] - 0s 2ms/step - loss: 0.0040 - accuracy: 0.9979 - auc: 1.0000\n",
      "Epoch 122/150\n",
      "97/97 [==============================] - 0s 2ms/step - loss: 0.0040 - accuracy: 0.9979 - auc: 1.0000\n",
      "Epoch 123/150\n",
      "97/97 [==============================] - 0s 1ms/step - loss: 0.0040 - accuracy: 0.9979 - auc: 1.0000\n",
      "Epoch 124/150\n",
      "97/97 [==============================] - 0s 1ms/step - loss: 0.0040 - accuracy: 0.9979 - auc: 1.0000\n",
      "Epoch 125/150\n",
      "97/97 [==============================] - 0s 1ms/step - loss: 0.0040 - accuracy: 0.9979 - auc: 1.0000\n",
      "Epoch 126/150\n",
      "97/97 [==============================] - 0s 2ms/step - loss: 0.0040 - accuracy: 0.9979 - auc: 1.0000\n",
      "Epoch 127/150\n",
      "97/97 [==============================] - 0s 2ms/step - loss: 0.0040 - accuracy: 0.9979 - auc: 1.0000\n",
      "Epoch 128/150\n",
      "97/97 [==============================] - 0s 2ms/step - loss: 0.0040 - accuracy: 0.9979 - auc: 1.0000\n",
      "Epoch 129/150\n",
      "97/97 [==============================] - 0s 2ms/step - loss: 0.0040 - accuracy: 0.9979 - auc: 1.0000\n",
      "Epoch 130/150\n",
      "97/97 [==============================] - 0s 2ms/step - loss: 0.0040 - accuracy: 0.9979 - auc: 1.0000\n",
      "Epoch 131/150\n",
      "97/97 [==============================] - 0s 2ms/step - loss: 0.0040 - accuracy: 0.9979 - auc: 0.9999\n",
      "Epoch 132/150\n",
      "97/97 [==============================] - 0s 2ms/step - loss: 0.0040 - accuracy: 0.9979 - auc: 1.0000\n",
      "Epoch 133/150\n",
      "97/97 [==============================] - 0s 2ms/step - loss: 0.0040 - accuracy: 0.9979 - auc: 1.0000\n",
      "Epoch 134/150\n",
      "97/97 [==============================] - 0s 2ms/step - loss: 0.0040 - accuracy: 0.9979 - auc: 1.0000\n",
      "Epoch 135/150\n",
      "97/97 [==============================] - 0s 2ms/step - loss: 0.0040 - accuracy: 0.9979 - auc: 0.9999\n",
      "Epoch 136/150\n",
      "97/97 [==============================] - 0s 2ms/step - loss: 0.0040 - accuracy: 0.9979 - auc: 1.0000\n",
      "Epoch 137/150\n",
      "97/97 [==============================] - 0s 1ms/step - loss: 0.0040 - accuracy: 0.9979 - auc: 1.0000\n",
      "Epoch 138/150\n",
      "97/97 [==============================] - 0s 2ms/step - loss: 0.0040 - accuracy: 0.9979 - auc: 1.0000\n",
      "Epoch 139/150\n",
      "97/97 [==============================] - 0s 2ms/step - loss: 0.0040 - accuracy: 0.9979 - auc: 1.0000\n",
      "Epoch 140/150\n",
      "97/97 [==============================] - 0s 2ms/step - loss: 0.0040 - accuracy: 0.9979 - auc: 1.0000\n",
      "Epoch 141/150\n",
      "97/97 [==============================] - 0s 2ms/step - loss: 0.0040 - accuracy: 0.9979 - auc: 1.0000\n",
      "Epoch 142/150\n",
      "97/97 [==============================] - 0s 2ms/step - loss: 0.0040 - accuracy: 0.9979 - auc: 1.0000\n",
      "Epoch 143/150\n"
     ]
    },
    {
     "name": "stdout",
     "output_type": "stream",
     "text": [
      "97/97 [==============================] - 0s 2ms/step - loss: 0.0040 - accuracy: 0.9979 - auc: 1.0000\n",
      "Epoch 144/150\n",
      "97/97 [==============================] - 0s 2ms/step - loss: 0.0040 - accuracy: 0.9979 - auc: 1.0000\n",
      "Epoch 145/150\n",
      "97/97 [==============================] - 0s 2ms/step - loss: 0.0040 - accuracy: 0.9979 - auc: 1.0000\n",
      "Epoch 146/150\n",
      "97/97 [==============================] - 0s 2ms/step - loss: 0.0040 - accuracy: 0.9979 - auc: 1.0000\n",
      "Epoch 147/150\n",
      "97/97 [==============================] - 0s 2ms/step - loss: 0.0040 - accuracy: 0.9979 - auc: 1.0000\n",
      "Epoch 148/150\n",
      "97/97 [==============================] - 0s 2ms/step - loss: 0.0040 - accuracy: 0.9979 - auc: 1.0000\n",
      "Epoch 149/150\n",
      "97/97 [==============================] - 0s 2ms/step - loss: 0.0040 - accuracy: 0.9979 - auc: 1.0000\n",
      "Epoch 150/150\n",
      "97/97 [==============================] - 0s 2ms/step - loss: 0.0040 - accuracy: 0.9979 - auc: 1.0000\n",
      "CPU times: user 37.9 s, sys: 5.38 s, total: 43.3 s\n",
      "Wall time: 23.7 s\n"
     ]
    },
    {
     "data": {
      "text/plain": [
       "<tensorflow.python.keras.callbacks.History at 0x7fdd9a2b3910>"
      ]
     },
     "execution_count": 116,
     "metadata": {},
     "output_type": "execute_result"
    }
   ],
   "source": [
    "%%time\n",
    "model_raw_vgg19_transformed.fit(train_vgg19_transformed,\n",
    "                            train_vgg19['target'],\n",
    "                            epochs=150, batch_size=10)"
   ]
  },
  {
   "cell_type": "markdown",
   "metadata": {},
   "source": [
    "#### Metrics per iteration for Dense Net"
   ]
  },
  {
   "cell_type": "code",
   "execution_count": 117,
   "metadata": {},
   "outputs": [
    {
     "data": {
      "image/png": "[encoded data removed]",
      "text/plain": [
       "<Figure size 432x288 with 1 Axes>"
      ]
     },
     "metadata": {
      "needs_background": "light"
     },
     "output_type": "display_data"
    }
   ],
   "source": [
    "plt.plot(model_raw_vgg19_transformed.history.history['auc']);\n",
    "plt.title('ROC-AUC per number of iterations');\n",
    "plt.xlabel('N iterations');\n",
    "plt.ylabel('ROC AUC');"
   ]
  },
  {
   "cell_type": "code",
   "execution_count": 118,
   "metadata": {},
   "outputs": [
    {
     "data": {
      "image/png": "[encoded data removed]",
      "text/plain": [
       "<Figure size 432x288 with 1 Axes>"
      ]
     },
     "metadata": {
      "needs_background": "light"
     },
     "output_type": "display_data"
    }
   ],
   "source": [
    "plt.plot(model_raw_vgg19_transformed.history.history['accuracy']);\n",
    "plt.title('ROC-AUC per number of iterations');\n",
    "plt.xlabel('N iterations');\n",
    "plt.ylabel('ROC AUC');"
   ]
  },
  {
   "cell_type": "markdown",
   "metadata": {},
   "source": [
    "### Logistic Regression"
   ]
  },
  {
   "cell_type": "code",
   "execution_count": 119,
   "metadata": {},
   "outputs": [],
   "source": [
    "log_reg_vgg19_transformed = LogisticRegression(random_state=42)"
   ]
  },
  {
   "cell_type": "code",
   "execution_count": 120,
   "metadata": {},
   "outputs": [
    {
     "name": "stdout",
     "output_type": "stream",
     "text": [
      "CPU times: user 191 ms, sys: 5.98 ms, total: 197 ms\n",
      "Wall time: 102 ms\n"
     ]
    },
    {
     "name": "stderr",
     "output_type": "stream",
     "text": [
      "/opt/conda/lib/python3.7/site-packages/sklearn/linear_model/_logistic.py:764: ConvergenceWarning: lbfgs failed to converge (status=1):\n",
      "STOP: TOTAL NO. of ITERATIONS REACHED LIMIT.\n",
      "\n",
      "Increase the number of iterations (max_iter) or scale the data as shown in:\n",
      "    https://scikit-learn.org/stable/modules/preprocessing.html\n",
      "Please also refer to the documentation for alternative solver options:\n",
      "    https://scikit-learn.org/stable/modules/linear_model.html#logistic-regression\n",
      "  extra_warning_msg=_LOGISTIC_SOLVER_CONVERGENCE_MSG)\n"
     ]
    },
    {
     "data": {
      "text/plain": [
       "LogisticRegression(random_state=42)"
      ]
     },
     "execution_count": 120,
     "metadata": {},
     "output_type": "execute_result"
    }
   ],
   "source": [
    "%%time\n",
    "log_reg_vgg19_transformed.fit(train_vgg19_transformed, \n",
    "                          train_vgg19['target'])"
   ]
  },
  {
   "cell_type": "markdown",
   "metadata": {},
   "source": [
    "### GradientBoositng"
   ]
  },
  {
   "cell_type": "code",
   "execution_count": 121,
   "metadata": {},
   "outputs": [],
   "source": [
    "gbr_vgg19_transformed = GradientBoostingClassifier(random_state=42)"
   ]
  },
  {
   "cell_type": "code",
   "execution_count": 122,
   "metadata": {},
   "outputs": [
    {
     "name": "stdout",
     "output_type": "stream",
     "text": [
      "CPU times: user 10.1 s, sys: 0 ns, total: 10.1 s\n",
      "Wall time: 10.2 s\n"
     ]
    },
    {
     "data": {
      "text/plain": [
       "GradientBoostingClassifier(random_state=42)"
      ]
     },
     "execution_count": 122,
     "metadata": {},
     "output_type": "execute_result"
    }
   ],
   "source": [
    "%%time\n",
    "gbr_vgg19_transformed.fit(train_vgg19_transformed, train_vgg19['target'])"
   ]
  },
  {
   "cell_type": "markdown",
   "metadata": {},
   "source": [
    "### RandomForest"
   ]
  },
  {
   "cell_type": "code",
   "execution_count": 123,
   "metadata": {},
   "outputs": [],
   "source": [
    "rf_vgg19_transformed = RandomForestClassifier(random_state=42)"
   ]
  },
  {
   "cell_type": "code",
   "execution_count": 124,
   "metadata": {},
   "outputs": [
    {
     "name": "stdout",
     "output_type": "stream",
     "text": [
      "CPU times: user 981 ms, sys: 5.19 ms, total: 986 ms\n",
      "Wall time: 992 ms\n"
     ]
    },
    {
     "data": {
      "text/plain": [
       "RandomForestClassifier(random_state=42)"
      ]
     },
     "execution_count": 124,
     "metadata": {},
     "output_type": "execute_result"
    }
   ],
   "source": [
    "%%time\n",
    "rf_vgg19_transformed.fit(train_vgg19_transformed, train_vgg19['target'])"
   ]
  },
  {
   "cell_type": "markdown",
   "metadata": {},
   "source": [
    "## Resnet50 + PCA"
   ]
  },
  {
   "cell_type": "markdown",
   "metadata": {},
   "source": [
    "### SVC"
   ]
  },
  {
   "cell_type": "code",
   "execution_count": 126,
   "metadata": {},
   "outputs": [],
   "source": [
    "svc_resnet50_transformed = SVC(random_state=42, probability=True)"
   ]
  },
  {
   "cell_type": "code",
   "execution_count": 210,
   "metadata": {},
   "outputs": [
    {
     "name": "stdout",
     "output_type": "stream",
     "text": [
      "CPU times: user 2.61 s, sys: 0 ns, total: 2.61 s\n",
      "Wall time: 2.63 s\n"
     ]
    },
    {
     "data": {
      "text/plain": [
       "SVC(probability=True, random_state=42)"
      ]
     },
     "execution_count": 210,
     "metadata": {},
     "output_type": "execute_result"
    }
   ],
   "source": [
    "%%time\n",
    "svc_resnet50_transformed.fit(train_resnet50_transformed, train_resnet50['target'])"
   ]
  },
  {
   "cell_type": "markdown",
   "metadata": {},
   "source": [
    "### Dense Net"
   ]
  },
  {
   "cell_type": "code",
   "execution_count": 128,
   "metadata": {},
   "outputs": [],
   "source": [
    "model_raw_resnet50_transformed = Sequential()\n",
    "model_raw_resnet50_transformed.add(Dense(12, input_dim=500,\n",
    "                                  activation='relu'))\n",
    "model_raw_resnet50_transformed.add(Dense(8, activation='relu'))\n",
    "model_raw_resnet50_transformed.add(Dense(1, activation='sigmoid'))"
   ]
  },
  {
   "cell_type": "code",
   "execution_count": 129,
   "metadata": {},
   "outputs": [
    {
     "name": "stdout",
     "output_type": "stream",
     "text": [
      "Model: \"sequential_7\"\n",
      "_________________________________________________________________\n",
      "Layer (type)                 Output Shape              Param #   \n",
      "=================================================================\n",
      "dense_21 (Dense)             (None, 12)                6012      \n",
      "_________________________________________________________________\n",
      "dense_22 (Dense)             (None, 8)                 104       \n",
      "_________________________________________________________________\n",
      "dense_23 (Dense)             (None, 1)                 9         \n",
      "=================================================================\n",
      "Total params: 6,125\n",
      "Trainable params: 6,125\n",
      "Non-trainable params: 0\n",
      "_________________________________________________________________\n"
     ]
    }
   ],
   "source": [
    "model_raw_resnet50_transformed.summary()"
   ]
  },
  {
   "cell_type": "code",
   "execution_count": 130,
   "metadata": {},
   "outputs": [],
   "source": [
    "model_raw_resnet50_transformed.compile(loss='binary_crossentropy', optimizer='adam',\n",
    "                        metrics=['accuracy', 'AUC'])"
   ]
  },
  {
   "cell_type": "code",
   "execution_count": 131,
   "metadata": {},
   "outputs": [
    {
     "name": "stdout",
     "output_type": "stream",
     "text": [
      "Epoch 1/150\n",
      "97/97 [==============================] - 0s 2ms/step - loss: 1.6069 - accuracy: 0.7415 - auc: 0.4765\n",
      "Epoch 2/150\n",
      "97/97 [==============================] - 0s 2ms/step - loss: 0.5188 - accuracy: 0.8335 - auc: 0.8205\n",
      "Epoch 3/150\n",
      "97/97 [==============================] - 0s 2ms/step - loss: 0.2660 - accuracy: 0.9152 - auc: 0.9310\n",
      "Epoch 4/150\n",
      "97/97 [==============================] - 0s 1ms/step - loss: 0.1663 - accuracy: 0.9452 - auc: 0.9655\n",
      "Epoch 5/150\n",
      "97/97 [==============================] - 0s 1ms/step - loss: 0.1183 - accuracy: 0.9607 - auc: 0.9850\n",
      "Epoch 6/150\n",
      "97/97 [==============================] - 0s 1ms/step - loss: 0.0921 - accuracy: 0.9710 - auc: 0.9935\n",
      "Epoch 7/150\n",
      "97/97 [==============================] - 0s 1ms/step - loss: 0.0712 - accuracy: 0.9772 - auc: 0.9966\n",
      "Epoch 8/150\n",
      "97/97 [==============================] - 0s 2ms/step - loss: 0.0592 - accuracy: 0.9793 - auc: 0.9987\n",
      "Epoch 9/150\n",
      "97/97 [==============================] - 0s 1ms/step - loss: 0.0499 - accuracy: 0.9866 - auc: 0.9989\n",
      "Epoch 10/150\n",
      "97/97 [==============================] - 0s 2ms/step - loss: 0.0430 - accuracy: 0.9866 - auc: 0.9995\n",
      "Epoch 11/150\n",
      "97/97 [==============================] - 0s 2ms/step - loss: 0.0362 - accuracy: 0.9897 - auc: 0.9998\n",
      "Epoch 12/150\n",
      "97/97 [==============================] - 0s 2ms/step - loss: 0.0372 - accuracy: 0.9938 - auc: 0.9982\n",
      "Epoch 13/150\n",
      "97/97 [==============================] - 0s 1ms/step - loss: 0.0275 - accuracy: 0.9969 - auc: 0.9999\n",
      "Epoch 14/150\n",
      "97/97 [==============================] - 0s 1ms/step - loss: 0.0262 - accuracy: 0.9969 - auc: 0.9999\n",
      "Epoch 15/150\n",
      "97/97 [==============================] - 0s 1ms/step - loss: 0.0252 - accuracy: 0.9979 - auc: 0.9989\n",
      "Epoch 16/150\n",
      "97/97 [==============================] - 0s 1ms/step - loss: 0.0202 - accuracy: 0.9979 - auc: 0.9998\n",
      "Epoch 17/150\n",
      "97/97 [==============================] - 0s 2ms/step - loss: 0.0181 - accuracy: 0.9959 - auc: 1.0000\n",
      "Epoch 18/150\n",
      "97/97 [==============================] - 0s 1ms/step - loss: 0.0143 - accuracy: 0.9979 - auc: 0.9999\n",
      "Epoch 19/150\n",
      "97/97 [==============================] - 0s 1ms/step - loss: 0.0129 - accuracy: 0.9990 - auc: 0.9999\n",
      "Epoch 20/150\n",
      "97/97 [==============================] - 0s 1ms/step - loss: 0.0122 - accuracy: 0.9979 - auc: 0.9999\n",
      "Epoch 21/150\n",
      "97/97 [==============================] - 0s 1ms/step - loss: 0.0112 - accuracy: 0.9979 - auc: 0.9999\n",
      "Epoch 22/150\n",
      "97/97 [==============================] - 0s 1ms/step - loss: 0.0105 - accuracy: 0.9979 - auc: 1.0000\n",
      "Epoch 23/150\n",
      "97/97 [==============================] - 0s 2ms/step - loss: 0.0095 - accuracy: 0.9990 - auc: 1.0000: 0s - loss: 0.0116 - accuracy: 0.9983 - auc: 1.\n",
      "Epoch 24/150\n",
      "97/97 [==============================] - 0s 2ms/step - loss: 0.0086 - accuracy: 0.9979 - auc: 1.0000\n",
      "Epoch 25/150\n",
      "97/97 [==============================] - 0s 2ms/step - loss: 0.0084 - accuracy: 0.9990 - auc: 1.0000\n",
      "Epoch 26/150\n",
      "97/97 [==============================] - 0s 1ms/step - loss: 0.0085 - accuracy: 0.9990 - auc: 0.9999\n",
      "Epoch 27/150\n",
      "97/97 [==============================] - 0s 1ms/step - loss: 0.0071 - accuracy: 0.9979 - auc: 1.0000\n",
      "Epoch 28/150\n",
      "97/97 [==============================] - 0s 1ms/step - loss: 0.0065 - accuracy: 0.9990 - auc: 1.0000\n",
      "Epoch 29/150\n",
      "97/97 [==============================] - 0s 1ms/step - loss: 0.0060 - accuracy: 0.9990 - auc: 1.0000\n",
      "Epoch 30/150\n",
      "97/97 [==============================] - 0s 1ms/step - loss: 0.0055 - accuracy: 0.9990 - auc: 1.0000\n",
      "Epoch 31/150\n",
      "97/97 [==============================] - 0s 2ms/step - loss: 0.0052 - accuracy: 0.9979 - auc: 1.0000\n",
      "Epoch 32/150\n",
      "97/97 [==============================] - 0s 2ms/step - loss: 0.0050 - accuracy: 0.9990 - auc: 1.0000\n",
      "Epoch 33/150\n",
      "97/97 [==============================] - 0s 2ms/step - loss: 0.0044 - accuracy: 0.9990 - auc: 1.0000\n",
      "Epoch 34/150\n",
      "97/97 [==============================] - 0s 2ms/step - loss: 0.0043 - accuracy: 0.9990 - auc: 1.0000\n",
      "Epoch 35/150\n",
      "97/97 [==============================] - 0s 2ms/step - loss: 0.0041 - accuracy: 0.9990 - auc: 1.0000\n",
      "Epoch 36/150\n",
      "97/97 [==============================] - 0s 2ms/step - loss: 0.0043 - accuracy: 0.9990 - auc: 1.0000\n",
      "Epoch 37/150\n",
      "97/97 [==============================] - 0s 2ms/step - loss: 0.0042 - accuracy: 0.9979 - auc: 1.0000\n",
      "Epoch 38/150\n",
      "97/97 [==============================] - 0s 2ms/step - loss: 0.0040 - accuracy: 0.9979 - auc: 1.0000\n",
      "Epoch 39/150\n",
      "97/97 [==============================] - 0s 2ms/step - loss: 0.0037 - accuracy: 0.9990 - auc: 1.0000\n",
      "Epoch 40/150\n",
      "97/97 [==============================] - 0s 2ms/step - loss: 0.0038 - accuracy: 0.9990 - auc: 1.0000\n",
      "Epoch 41/150\n",
      "97/97 [==============================] - 0s 2ms/step - loss: 0.0046 - accuracy: 0.9990 - auc: 1.0000\n",
      "Epoch 42/150\n",
      "97/97 [==============================] - 0s 2ms/step - loss: 0.0122 - accuracy: 0.9979 - auc: 0.9976\n",
      "Epoch 43/150\n",
      "97/97 [==============================] - 0s 2ms/step - loss: 0.0061 - accuracy: 0.9979 - auc: 1.0000\n",
      "Epoch 44/150\n",
      "97/97 [==============================] - 0s 1ms/step - loss: 0.0045 - accuracy: 0.9990 - auc: 1.0000\n",
      "Epoch 45/150\n",
      "97/97 [==============================] - 0s 2ms/step - loss: 0.0039 - accuracy: 0.9990 - auc: 1.0000\n",
      "Epoch 46/150\n",
      "97/97 [==============================] - 0s 2ms/step - loss: 0.0038 - accuracy: 0.9979 - auc: 1.0000\n",
      "Epoch 47/150\n",
      "97/97 [==============================] - 0s 2ms/step - loss: 0.0033 - accuracy: 0.9990 - auc: 1.0000\n",
      "Epoch 48/150\n",
      "97/97 [==============================] - 0s 2ms/step - loss: 0.0037 - accuracy: 0.9979 - auc: 1.0000\n",
      "Epoch 49/150\n",
      "97/97 [==============================] - 0s 2ms/step - loss: 0.0033 - accuracy: 0.9990 - auc: 1.0000\n",
      "Epoch 50/150\n",
      "97/97 [==============================] - 0s 2ms/step - loss: 0.0032 - accuracy: 0.9990 - auc: 1.0000\n",
      "Epoch 51/150\n",
      "97/97 [==============================] - 0s 2ms/step - loss: 0.0033 - accuracy: 0.9979 - auc: 1.0000\n",
      "Epoch 52/150\n",
      "97/97 [==============================] - 0s 1ms/step - loss: 0.0029 - accuracy: 0.9990 - auc: 1.0000\n",
      "Epoch 53/150\n",
      "97/97 [==============================] - 0s 2ms/step - loss: 0.0032 - accuracy: 0.9990 - auc: 1.0000\n",
      "Epoch 54/150\n",
      "97/97 [==============================] - 0s 2ms/step - loss: 0.0034 - accuracy: 0.9979 - auc: 1.0000\n",
      "Epoch 55/150\n",
      "97/97 [==============================] - 0s 3ms/step - loss: 0.0261 - accuracy: 0.9990 - auc: 0.9993\n",
      "Epoch 56/150\n",
      "97/97 [==============================] - 0s 2ms/step - loss: 0.0107 - accuracy: 0.9990 - auc: 0.9993\n",
      "Epoch 57/150\n",
      "97/97 [==============================] - 0s 1ms/step - loss: 0.0048 - accuracy: 0.9990 - auc: 1.0000\n",
      "Epoch 58/150\n",
      "97/97 [==============================] - 0s 1ms/step - loss: 0.0037 - accuracy: 0.9990 - auc: 1.0000\n",
      "Epoch 59/150\n",
      "97/97 [==============================] - 0s 1ms/step - loss: 0.0032 - accuracy: 0.9990 - auc: 1.0000\n",
      "Epoch 60/150\n",
      "97/97 [==============================] - 0s 2ms/step - loss: 0.0031 - accuracy: 0.9990 - auc: 1.0000\n",
      "Epoch 61/150\n",
      "97/97 [==============================] - 0s 2ms/step - loss: 0.0031 - accuracy: 0.9990 - auc: 1.0000\n",
      "Epoch 62/150\n",
      "97/97 [==============================] - 0s 2ms/step - loss: 0.0031 - accuracy: 0.9990 - auc: 1.0000\n",
      "Epoch 63/150\n",
      "97/97 [==============================] - 0s 3ms/step - loss: 0.0031 - accuracy: 0.9990 - auc: 1.0000\n",
      "Epoch 64/150\n",
      "97/97 [==============================] - 0s 2ms/step - loss: 0.0030 - accuracy: 0.9990 - auc: 1.0000\n",
      "Epoch 65/150\n",
      "97/97 [==============================] - 0s 2ms/step - loss: 0.0030 - accuracy: 0.9990 - auc: 1.0000\n",
      "Epoch 66/150\n",
      "97/97 [==============================] - 0s 2ms/step - loss: 0.0030 - accuracy: 0.9990 - auc: 1.0000\n",
      "Epoch 67/150\n",
      "97/97 [==============================] - 0s 2ms/step - loss: 0.0030 - accuracy: 0.9990 - auc: 1.0000\n",
      "Epoch 68/150\n",
      "97/97 [==============================] - 0s 2ms/step - loss: 0.0030 - accuracy: 0.9990 - auc: 1.0000\n",
      "Epoch 69/150\n",
      "97/97 [==============================] - 0s 2ms/step - loss: 0.0030 - accuracy: 0.9990 - auc: 1.0000\n",
      "Epoch 70/150\n",
      "97/97 [==============================] - 0s 2ms/step - loss: 0.0030 - accuracy: 0.9990 - auc: 1.0000\n",
      "Epoch 71/150\n",
      "97/97 [==============================] - 0s 2ms/step - loss: 0.0030 - accuracy: 0.9990 - auc: 1.0000\n",
      "Epoch 72/150\n",
      "97/97 [==============================] - 0s 2ms/step - loss: 0.0029 - accuracy: 0.9990 - auc: 1.0000\n",
      "Epoch 73/150\n",
      "97/97 [==============================] - 0s 2ms/step - loss: 0.0079 - accuracy: 0.9990 - auc: 0.9976\n",
      "Epoch 74/150\n",
      "97/97 [==============================] - 0s 2ms/step - loss: 0.0031 - accuracy: 0.9990 - auc: 1.0000\n",
      "Epoch 75/150\n",
      "97/97 [==============================] - 0s 1ms/step - loss: 0.0030 - accuracy: 0.9990 - auc: 1.0000\n",
      "Epoch 76/150\n",
      "97/97 [==============================] - 0s 2ms/step - loss: 0.0029 - accuracy: 0.9990 - auc: 1.0000\n",
      "Epoch 77/150\n",
      "97/97 [==============================] - 0s 2ms/step - loss: 0.0029 - accuracy: 0.9990 - auc: 1.0000\n",
      "Epoch 78/150\n",
      "97/97 [==============================] - 0s 2ms/step - loss: 0.0029 - accuracy: 0.9990 - auc: 1.0000\n",
      "Epoch 79/150\n",
      "97/97 [==============================] - 0s 2ms/step - loss: 0.0029 - accuracy: 0.9990 - auc: 1.0000\n",
      "Epoch 80/150\n",
      "97/97 [==============================] - 0s 2ms/step - loss: 0.0029 - accuracy: 0.9990 - auc: 1.0000\n",
      "Epoch 81/150\n",
      "97/97 [==============================] - 0s 2ms/step - loss: 0.0029 - accuracy: 0.9990 - auc: 1.0000\n",
      "Epoch 82/150\n",
      "97/97 [==============================] - 0s 2ms/step - loss: 0.0029 - accuracy: 0.9990 - auc: 1.0000\n",
      "Epoch 83/150\n",
      "97/97 [==============================] - 0s 2ms/step - loss: 0.0029 - accuracy: 0.9990 - auc: 1.0000\n",
      "Epoch 84/150\n",
      "97/97 [==============================] - 0s 2ms/step - loss: 0.0029 - accuracy: 0.9990 - auc: 1.0000\n",
      "Epoch 85/150\n",
      "97/97 [==============================] - 0s 2ms/step - loss: 0.0030 - accuracy: 0.9990 - auc: 1.0000\n",
      "Epoch 86/150\n",
      "97/97 [==============================] - 0s 2ms/step - loss: 0.0029 - accuracy: 0.9990 - auc: 1.0000\n",
      "Epoch 87/150\n",
      "97/97 [==============================] - 0s 2ms/step - loss: 0.0029 - accuracy: 0.9990 - auc: 1.0000\n",
      "Epoch 88/150\n",
      "97/97 [==============================] - 0s 2ms/step - loss: 0.0029 - accuracy: 0.9990 - auc: 1.0000\n",
      "Epoch 89/150\n",
      "97/97 [==============================] - 0s 2ms/step - loss: 0.0029 - accuracy: 0.9990 - auc: 1.0000\n",
      "Epoch 90/150\n",
      "97/97 [==============================] - 0s 2ms/step - loss: 0.0029 - accuracy: 0.9990 - auc: 1.0000\n",
      "Epoch 91/150\n",
      "97/97 [==============================] - 0s 2ms/step - loss: 0.0029 - accuracy: 0.9990 - auc: 1.0000\n",
      "Epoch 92/150\n",
      "97/97 [==============================] - 0s 2ms/step - loss: 0.0029 - accuracy: 0.9990 - auc: 1.0000\n",
      "Epoch 93/150\n",
      "97/97 [==============================] - 0s 2ms/step - loss: 0.0028 - accuracy: 0.9990 - auc: 1.0000\n",
      "Epoch 94/150\n",
      "97/97 [==============================] - 0s 1ms/step - loss: 0.0029 - accuracy: 0.9990 - auc: 1.0000\n",
      "Epoch 95/150\n",
      "97/97 [==============================] - 0s 2ms/step - loss: 0.0028 - accuracy: 0.9990 - auc: 1.0000\n",
      "Epoch 96/150\n",
      "97/97 [==============================] - 0s 2ms/step - loss: 0.0028 - accuracy: 0.9990 - auc: 1.0000\n",
      "Epoch 97/150\n",
      "97/97 [==============================] - 0s 2ms/step - loss: 0.0028 - accuracy: 0.9990 - auc: 1.0000\n",
      "Epoch 98/150\n",
      "97/97 [==============================] - 0s 2ms/step - loss: 0.0028 - accuracy: 0.9990 - auc: 1.0000\n",
      "Epoch 99/150\n",
      "97/97 [==============================] - 0s 2ms/step - loss: 0.0028 - accuracy: 0.9990 - auc: 1.0000\n",
      "Epoch 100/150\n",
      "97/97 [==============================] - 0s 2ms/step - loss: 0.0028 - accuracy: 0.9990 - auc: 1.0000\n",
      "Epoch 101/150\n",
      "97/97 [==============================] - 0s 2ms/step - loss: 0.0028 - accuracy: 0.9990 - auc: 1.0000\n",
      "Epoch 102/150\n",
      "97/97 [==============================] - 0s 2ms/step - loss: 0.0028 - accuracy: 0.9990 - auc: 1.0000\n",
      "Epoch 103/150\n",
      "97/97 [==============================] - 0s 2ms/step - loss: 0.0028 - accuracy: 0.9990 - auc: 1.0000\n",
      "Epoch 104/150\n",
      "97/97 [==============================] - 0s 2ms/step - loss: 0.0028 - accuracy: 0.9990 - auc: 1.0000\n",
      "Epoch 105/150\n",
      "97/97 [==============================] - 0s 2ms/step - loss: 0.0028 - accuracy: 0.9990 - auc: 1.0000\n",
      "Epoch 106/150\n",
      "97/97 [==============================] - 0s 2ms/step - loss: 0.0028 - accuracy: 0.9990 - auc: 1.0000\n",
      "Epoch 107/150\n",
      "97/97 [==============================] - 0s 2ms/step - loss: 0.0028 - accuracy: 0.9990 - auc: 1.0000\n",
      "Epoch 108/150\n",
      "97/97 [==============================] - 0s 2ms/step - loss: 0.0028 - accuracy: 0.9990 - auc: 1.0000\n",
      "Epoch 109/150\n",
      "97/97 [==============================] - 0s 2ms/step - loss: 0.0028 - accuracy: 0.9990 - auc: 1.0000\n",
      "Epoch 110/150\n",
      "97/97 [==============================] - 0s 2ms/step - loss: 0.0028 - accuracy: 0.9990 - auc: 1.0000\n",
      "Epoch 111/150\n",
      "97/97 [==============================] - 0s 2ms/step - loss: 0.0028 - accuracy: 0.9990 - auc: 1.0000\n",
      "Epoch 112/150\n",
      "97/97 [==============================] - 0s 2ms/step - loss: 0.0028 - accuracy: 0.9990 - auc: 1.0000\n",
      "Epoch 113/150\n",
      "97/97 [==============================] - 0s 2ms/step - loss: 0.0028 - accuracy: 0.9990 - auc: 1.0000\n",
      "Epoch 114/150\n",
      "97/97 [==============================] - 0s 2ms/step - loss: 0.0028 - accuracy: 0.9990 - auc: 1.0000\n",
      "Epoch 115/150\n",
      "97/97 [==============================] - 0s 2ms/step - loss: 0.0028 - accuracy: 0.9990 - auc: 1.0000\n",
      "Epoch 116/150\n",
      "97/97 [==============================] - 0s 2ms/step - loss: 0.0028 - accuracy: 0.9990 - auc: 1.0000\n",
      "Epoch 117/150\n",
      "97/97 [==============================] - 0s 1ms/step - loss: 0.0028 - accuracy: 0.9990 - auc: 1.0000\n",
      "Epoch 118/150\n",
      "97/97 [==============================] - 0s 2ms/step - loss: 0.0028 - accuracy: 0.9990 - auc: 1.0000\n",
      "Epoch 119/150\n",
      "97/97 [==============================] - 0s 2ms/step - loss: 0.0028 - accuracy: 0.9990 - auc: 1.0000\n",
      "Epoch 120/150\n",
      "97/97 [==============================] - 0s 2ms/step - loss: 0.0028 - accuracy: 0.9990 - auc: 1.0000\n",
      "Epoch 121/150\n",
      "97/97 [==============================] - 0s 2ms/step - loss: 0.0028 - accuracy: 0.9990 - auc: 1.0000\n",
      "Epoch 122/150\n",
      "97/97 [==============================] - 0s 2ms/step - loss: 0.0028 - accuracy: 0.9990 - auc: 1.0000\n",
      "Epoch 123/150\n",
      "97/97 [==============================] - 0s 2ms/step - loss: 0.0028 - accuracy: 0.9990 - auc: 1.0000\n",
      "Epoch 124/150\n",
      "97/97 [==============================] - 0s 2ms/step - loss: 0.0028 - accuracy: 0.9990 - auc: 1.0000\n",
      "Epoch 125/150\n",
      "97/97 [==============================] - 0s 2ms/step - loss: 0.0028 - accuracy: 0.9990 - auc: 1.0000\n",
      "Epoch 126/150\n",
      "97/97 [==============================] - 0s 2ms/step - loss: 0.0028 - accuracy: 0.9990 - auc: 1.0000\n",
      "Epoch 127/150\n",
      "97/97 [==============================] - 0s 2ms/step - loss: 0.0027 - accuracy: 0.9990 - auc: 1.0000\n",
      "Epoch 128/150\n",
      "97/97 [==============================] - 0s 3ms/step - loss: 0.0211 - accuracy: 0.9990 - auc: 0.9993\n",
      "Epoch 129/150\n",
      "97/97 [==============================] - 0s 2ms/step - loss: 0.0081 - accuracy: 0.9990 - auc: 0.9993\n",
      "Epoch 130/150\n",
      "97/97 [==============================] - 0s 2ms/step - loss: 0.0042 - accuracy: 0.9990 - auc: 1.0000\n",
      "Epoch 131/150\n",
      "97/97 [==============================] - 0s 3ms/step - loss: 0.0259 - accuracy: 0.9928 - auc: 0.9974\n",
      "Epoch 132/150\n",
      "97/97 [==============================] - 0s 3ms/step - loss: 0.2835 - accuracy: 0.9400 - auc: 0.9596\n",
      "Epoch 133/150\n",
      "97/97 [==============================] - 0s 3ms/step - loss: 0.0937 - accuracy: 0.9721 - auc: 0.9849\n",
      "Epoch 134/150\n",
      "97/97 [==============================] - 0s 2ms/step - loss: 0.0130 - accuracy: 0.9969 - auc: 0.9999\n",
      "Epoch 135/150\n",
      "97/97 [==============================] - 0s 2ms/step - loss: 0.0087 - accuracy: 0.9990 - auc: 0.9975\n",
      "Epoch 136/150\n",
      "97/97 [==============================] - 0s 2ms/step - loss: 0.0015 - accuracy: 1.0000 - auc: 1.0000\n",
      "Epoch 137/150\n",
      "97/97 [==============================] - 0s 2ms/step - loss: 0.0016 - accuracy: 1.0000 - auc: 1.0000\n",
      "Epoch 138/150\n",
      "97/97 [==============================] - 0s 2ms/step - loss: 0.0030 - accuracy: 0.9990 - auc: 1.0000\n",
      "Epoch 139/150\n",
      "97/97 [==============================] - 0s 2ms/step - loss: 0.0029 - accuracy: 0.9990 - auc: 1.0000\n",
      "Epoch 140/150\n",
      "97/97 [==============================] - 0s 2ms/step - loss: 0.0028 - accuracy: 0.9990 - auc: 1.0000\n",
      "Epoch 141/150\n",
      "97/97 [==============================] - 0s 2ms/step - loss: 0.0028 - accuracy: 0.9990 - auc: 1.0000\n",
      "Epoch 142/150\n",
      "97/97 [==============================] - 0s 2ms/step - loss: 0.0028 - accuracy: 0.9990 - auc: 1.0000\n",
      "Epoch 143/150\n"
     ]
    },
    {
     "name": "stdout",
     "output_type": "stream",
     "text": [
      "97/97 [==============================] - 0s 2ms/step - loss: 0.0027 - accuracy: 0.9990 - auc: 1.0000\n",
      "Epoch 144/150\n",
      "97/97 [==============================] - 0s 2ms/step - loss: 0.0027 - accuracy: 0.9990 - auc: 1.0000\n",
      "Epoch 145/150\n",
      "97/97 [==============================] - 0s 2ms/step - loss: 0.0027 - accuracy: 0.9990 - auc: 1.0000\n",
      "Epoch 146/150\n",
      "97/97 [==============================] - 0s 2ms/step - loss: 0.0027 - accuracy: 0.9990 - auc: 1.0000\n",
      "Epoch 147/150\n",
      "97/97 [==============================] - 0s 3ms/step - loss: 0.0027 - accuracy: 0.9990 - auc: 1.0000\n",
      "Epoch 148/150\n",
      "97/97 [==============================] - 0s 2ms/step - loss: 0.0026 - accuracy: 0.9990 - auc: 1.0000\n",
      "Epoch 149/150\n",
      "97/97 [==============================] - 0s 2ms/step - loss: 0.0026 - accuracy: 0.9990 - auc: 1.0000\n",
      "Epoch 150/150\n",
      "97/97 [==============================] - 0s 2ms/step - loss: 0.0026 - accuracy: 0.9990 - auc: 1.0000\n",
      "CPU times: user 44.9 s, sys: 6.25 s, total: 51.1 s\n",
      "Wall time: 28.3 s\n"
     ]
    },
    {
     "data": {
      "text/plain": [
       "<tensorflow.python.keras.callbacks.History at 0x7fdda0672910>"
      ]
     },
     "execution_count": 131,
     "metadata": {},
     "output_type": "execute_result"
    }
   ],
   "source": [
    "%%time\n",
    "model_raw_resnet50_transformed.fit(train_resnet50_transformed,\n",
    "                            train_resnet50['target'],\n",
    "                            epochs=150, batch_size=10)"
   ]
  },
  {
   "cell_type": "markdown",
   "metadata": {},
   "source": [
    "#### Metrics per iteration for Dense Net"
   ]
  },
  {
   "cell_type": "code",
   "execution_count": 132,
   "metadata": {},
   "outputs": [
    {
     "data": {
      "image/png": "[encoded data removed]",
      "text/plain": [
       "<Figure size 432x288 with 1 Axes>"
      ]
     },
     "metadata": {
      "needs_background": "light"
     },
     "output_type": "display_data"
    }
   ],
   "source": [
    "plt.plot(model_raw_resnet50_transformed.history.history['auc']);\n",
    "plt.title('ROC-AUC per number of iterations');\n",
    "plt.xlabel('N iterations');\n",
    "plt.ylabel('ROC AUC');"
   ]
  },
  {
   "cell_type": "code",
   "execution_count": 133,
   "metadata": {},
   "outputs": [
    {
     "data": {
      "image/png": "[encoded data removed]",
      "text/plain": [
       "<Figure size 432x288 with 1 Axes>"
      ]
     },
     "metadata": {
      "needs_background": "light"
     },
     "output_type": "display_data"
    }
   ],
   "source": [
    "plt.plot(model_raw_resnet50_transformed.history.history['accuracy']);\n",
    "plt.title('ROC-AUC per number of iterations');\n",
    "plt.xlabel('N iterations');\n",
    "plt.ylabel('ROC AUC');"
   ]
  },
  {
   "cell_type": "markdown",
   "metadata": {},
   "source": [
    "### Logistic Regression"
   ]
  },
  {
   "cell_type": "code",
   "execution_count": 134,
   "metadata": {},
   "outputs": [],
   "source": [
    "log_reg_resnet50_transformed = LogisticRegression(random_state=42)"
   ]
  },
  {
   "cell_type": "code",
   "execution_count": 135,
   "metadata": {},
   "outputs": [
    {
     "name": "stdout",
     "output_type": "stream",
     "text": [
      "CPU times: user 152 ms, sys: 2.97 ms, total: 155 ms\n",
      "Wall time: 79.8 ms\n"
     ]
    },
    {
     "name": "stderr",
     "output_type": "stream",
     "text": [
      "/opt/conda/lib/python3.7/site-packages/sklearn/linear_model/_logistic.py:764: ConvergenceWarning: lbfgs failed to converge (status=1):\n",
      "STOP: TOTAL NO. of ITERATIONS REACHED LIMIT.\n",
      "\n",
      "Increase the number of iterations (max_iter) or scale the data as shown in:\n",
      "    https://scikit-learn.org/stable/modules/preprocessing.html\n",
      "Please also refer to the documentation for alternative solver options:\n",
      "    https://scikit-learn.org/stable/modules/linear_model.html#logistic-regression\n",
      "  extra_warning_msg=_LOGISTIC_SOLVER_CONVERGENCE_MSG)\n"
     ]
    },
    {
     "data": {
      "text/plain": [
       "LogisticRegression(random_state=42)"
      ]
     },
     "execution_count": 135,
     "metadata": {},
     "output_type": "execute_result"
    }
   ],
   "source": [
    "%%time\n",
    "log_reg_resnet50_transformed.fit(train_resnet50_transformed, \n",
    "                          train_resnet50['target'])"
   ]
  },
  {
   "cell_type": "markdown",
   "metadata": {},
   "source": [
    "### GradientBoositng"
   ]
  },
  {
   "cell_type": "code",
   "execution_count": 136,
   "metadata": {},
   "outputs": [],
   "source": [
    "gbr_resnet50_transformed = GradientBoostingClassifier(random_state=42)"
   ]
  },
  {
   "cell_type": "code",
   "execution_count": 137,
   "metadata": {},
   "outputs": [
    {
     "name": "stdout",
     "output_type": "stream",
     "text": [
      "CPU times: user 10.1 s, sys: 0 ns, total: 10.1 s\n",
      "Wall time: 10.2 s\n"
     ]
    },
    {
     "data": {
      "text/plain": [
       "GradientBoostingClassifier(random_state=42)"
      ]
     },
     "execution_count": 137,
     "metadata": {},
     "output_type": "execute_result"
    }
   ],
   "source": [
    "%%time\n",
    "gbr_resnet50_transformed.fit(train_resnet50_transformed, train_resnet50['target'])"
   ]
  },
  {
   "cell_type": "markdown",
   "metadata": {},
   "source": [
    "### RandomForest"
   ]
  },
  {
   "cell_type": "code",
   "execution_count": 138,
   "metadata": {},
   "outputs": [],
   "source": [
    "rf_resnet50_transformed = RandomForestClassifier(random_state=42)"
   ]
  },
  {
   "cell_type": "code",
   "execution_count": 139,
   "metadata": {},
   "outputs": [
    {
     "name": "stdout",
     "output_type": "stream",
     "text": [
      "CPU times: user 1.03 s, sys: 351 µs, total: 1.03 s\n",
      "Wall time: 1.05 s\n"
     ]
    },
    {
     "data": {
      "text/plain": [
       "RandomForestClassifier(random_state=42)"
      ]
     },
     "execution_count": 139,
     "metadata": {},
     "output_type": "execute_result"
    }
   ],
   "source": [
    "%%time\n",
    "rf_resnet50_transformed.fit(train_resnet50_transformed, train_resnet50['target'])"
   ]
  },
  {
   "cell_type": "markdown",
   "metadata": {},
   "source": [
    "## EfficientNet + PCA"
   ]
  },
  {
   "cell_type": "markdown",
   "metadata": {},
   "source": [
    "### SVC"
   ]
  },
  {
   "cell_type": "code",
   "execution_count": 141,
   "metadata": {},
   "outputs": [],
   "source": [
    "svc_efficient_net_transformed = SVC(random_state=42, probability=True)"
   ]
  },
  {
   "cell_type": "code",
   "execution_count": 142,
   "metadata": {},
   "outputs": [
    {
     "name": "stdout",
     "output_type": "stream",
     "text": [
      "CPU times: user 1.8 s, sys: 1.63 ms, total: 1.8 s\n",
      "Wall time: 1.81 s\n"
     ]
    },
    {
     "data": {
      "text/plain": [
       "SVC(probability=True, random_state=42)"
      ]
     },
     "execution_count": 142,
     "metadata": {},
     "output_type": "execute_result"
    }
   ],
   "source": [
    "%%time\n",
    "svc_efficient_net_transformed.fit(train_efficient_net_transformed, train_efficient_net['target'])"
   ]
  },
  {
   "cell_type": "markdown",
   "metadata": {},
   "source": [
    "### Dense Net"
   ]
  },
  {
   "cell_type": "code",
   "execution_count": 143,
   "metadata": {},
   "outputs": [],
   "source": [
    "model_raw_efficient_net_transformed = Sequential()\n",
    "model_raw_efficient_net_transformed.add(Dense(12, input_dim=500,\n",
    "                                  activation='relu'))\n",
    "model_raw_efficient_net_transformed.add(Dense(8, activation='relu'))\n",
    "model_raw_efficient_net_transformed.add(Dense(1, activation='sigmoid'))"
   ]
  },
  {
   "cell_type": "code",
   "execution_count": 144,
   "metadata": {},
   "outputs": [
    {
     "name": "stdout",
     "output_type": "stream",
     "text": [
      "Model: \"sequential_8\"\n",
      "_________________________________________________________________\n",
      "Layer (type)                 Output Shape              Param #   \n",
      "=================================================================\n",
      "dense_24 (Dense)             (None, 12)                6012      \n",
      "_________________________________________________________________\n",
      "dense_25 (Dense)             (None, 8)                 104       \n",
      "_________________________________________________________________\n",
      "dense_26 (Dense)             (None, 1)                 9         \n",
      "=================================================================\n",
      "Total params: 6,125\n",
      "Trainable params: 6,125\n",
      "Non-trainable params: 0\n",
      "_________________________________________________________________\n"
     ]
    }
   ],
   "source": [
    "model_raw_efficient_net_transformed.summary()"
   ]
  },
  {
   "cell_type": "code",
   "execution_count": 145,
   "metadata": {},
   "outputs": [],
   "source": [
    "model_raw_efficient_net_transformed.compile(loss='binary_crossentropy', optimizer='adam',\n",
    "                        metrics=['accuracy', 'AUC'])"
   ]
  },
  {
   "cell_type": "code",
   "execution_count": 146,
   "metadata": {},
   "outputs": [
    {
     "name": "stdout",
     "output_type": "stream",
     "text": [
      "Epoch 1/150\n",
      "97/97 [==============================] - 0s 1ms/step - loss: 1.5287 - accuracy: 0.4592 - auc: 0.7200\n",
      "Epoch 2/150\n",
      "97/97 [==============================] - 0s 2ms/step - loss: 0.3302 - accuracy: 0.8625 - auc: 0.9428\n",
      "Epoch 3/150\n",
      "97/97 [==============================] - 0s 2ms/step - loss: 0.1477 - accuracy: 0.9576 - auc: 0.9899\n",
      "Epoch 4/150\n",
      "97/97 [==============================] - 0s 2ms/step - loss: 0.0863 - accuracy: 0.9814 - auc: 0.9976\n",
      "Epoch 5/150\n",
      "97/97 [==============================] - 0s 1ms/step - loss: 0.0508 - accuracy: 0.9917 - auc: 0.9997\n",
      "Epoch 6/150\n",
      "97/97 [==============================] - 0s 2ms/step - loss: 0.0335 - accuracy: 0.9948 - auc: 0.9999\n",
      "Epoch 7/150\n",
      "97/97 [==============================] - 0s 1ms/step - loss: 0.0236 - accuracy: 0.9969 - auc: 1.0000\n",
      "Epoch 8/150\n",
      "97/97 [==============================] - 0s 2ms/step - loss: 0.0174 - accuracy: 0.9969 - auc: 1.0000\n",
      "Epoch 9/150\n",
      "97/97 [==============================] - 0s 2ms/step - loss: 0.0133 - accuracy: 0.9979 - auc: 1.0000\n",
      "Epoch 10/150\n",
      "97/97 [==============================] - 0s 2ms/step - loss: 0.0106 - accuracy: 0.9990 - auc: 1.0000\n",
      "Epoch 11/150\n",
      "97/97 [==============================] - 0s 2ms/step - loss: 0.0084 - accuracy: 1.0000 - auc: 1.0000\n",
      "Epoch 12/150\n",
      "97/97 [==============================] - 0s 2ms/step - loss: 0.0069 - accuracy: 1.0000 - auc: 1.0000\n",
      "Epoch 13/150\n",
      "97/97 [==============================] - 0s 1ms/step - loss: 0.0059 - accuracy: 1.0000 - auc: 1.0000\n",
      "Epoch 14/150\n",
      "97/97 [==============================] - 0s 1ms/step - loss: 0.0051 - accuracy: 1.0000 - auc: 1.0000\n",
      "Epoch 15/150\n",
      "97/97 [==============================] - 0s 2ms/step - loss: 0.0044 - accuracy: 1.0000 - auc: 1.0000\n",
      "Epoch 16/150\n",
      "97/97 [==============================] - 0s 2ms/step - loss: 0.0038 - accuracy: 1.0000 - auc: 1.0000\n",
      "Epoch 17/150\n",
      "97/97 [==============================] - 0s 1ms/step - loss: 0.0035 - accuracy: 1.0000 - auc: 1.0000\n",
      "Epoch 18/150\n",
      "97/97 [==============================] - 0s 1ms/step - loss: 0.0031 - accuracy: 1.0000 - auc: 1.0000\n",
      "Epoch 19/150\n",
      "97/97 [==============================] - 0s 1ms/step - loss: 0.0029 - accuracy: 1.0000 - auc: 1.0000\n",
      "Epoch 20/150\n",
      "97/97 [==============================] - 0s 1ms/step - loss: 0.0027 - accuracy: 1.0000 - auc: 1.0000\n",
      "Epoch 21/150\n",
      "97/97 [==============================] - 0s 1ms/step - loss: 0.0025 - accuracy: 1.0000 - auc: 1.0000\n",
      "Epoch 22/150\n",
      "97/97 [==============================] - 0s 2ms/step - loss: 0.0023 - accuracy: 1.0000 - auc: 1.0000\n",
      "Epoch 23/150\n",
      "97/97 [==============================] - 0s 1ms/step - loss: 0.0022 - accuracy: 1.0000 - auc: 1.0000\n",
      "Epoch 24/150\n",
      "97/97 [==============================] - 0s 1ms/step - loss: 0.0021 - accuracy: 1.0000 - auc: 1.0000\n",
      "Epoch 25/150\n",
      "97/97 [==============================] - 0s 1ms/step - loss: 0.0020 - accuracy: 1.0000 - auc: 1.0000\n",
      "Epoch 26/150\n",
      "97/97 [==============================] - 0s 1ms/step - loss: 0.0019 - accuracy: 1.0000 - auc: 1.0000\n",
      "Epoch 27/150\n",
      "97/97 [==============================] - 0s 1ms/step - loss: 0.0018 - accuracy: 1.0000 - auc: 1.0000\n",
      "Epoch 28/150\n",
      "97/97 [==============================] - 0s 1ms/step - loss: 0.0017 - accuracy: 1.0000 - auc: 1.0000\n",
      "Epoch 29/150\n",
      "97/97 [==============================] - 0s 1ms/step - loss: 0.0016 - accuracy: 1.0000 - auc: 1.0000\n",
      "Epoch 30/150\n",
      "97/97 [==============================] - 0s 1ms/step - loss: 0.0016 - accuracy: 1.0000 - auc: 1.0000\n",
      "Epoch 31/150\n",
      "97/97 [==============================] - 0s 1ms/step - loss: 0.0015 - accuracy: 1.0000 - auc: 1.0000\n",
      "Epoch 32/150\n",
      "97/97 [==============================] - 0s 2ms/step - loss: 0.0014 - accuracy: 1.0000 - auc: 1.0000\n",
      "Epoch 33/150\n",
      "97/97 [==============================] - 0s 2ms/step - loss: 0.0014 - accuracy: 1.0000 - auc: 1.0000\n",
      "Epoch 34/150\n",
      "97/97 [==============================] - 0s 2ms/step - loss: 0.0013 - accuracy: 1.0000 - auc: 1.0000\n",
      "Epoch 35/150\n",
      "97/97 [==============================] - 0s 1ms/step - loss: 0.0013 - accuracy: 1.0000 - auc: 1.0000\n",
      "Epoch 36/150\n",
      "97/97 [==============================] - 0s 1ms/step - loss: 0.0013 - accuracy: 1.0000 - auc: 1.0000\n",
      "Epoch 37/150\n",
      "97/97 [==============================] - 0s 1ms/step - loss: 0.0012 - accuracy: 1.0000 - auc: 1.0000\n",
      "Epoch 38/150\n",
      "97/97 [==============================] - 0s 2ms/step - loss: 0.0012 - accuracy: 1.0000 - auc: 1.0000\n",
      "Epoch 39/150\n",
      "97/97 [==============================] - 0s 2ms/step - loss: 0.0011 - accuracy: 1.0000 - auc: 1.0000\n",
      "Epoch 40/150\n",
      "97/97 [==============================] - 0s 1ms/step - loss: 0.0011 - accuracy: 1.0000 - auc: 1.0000\n",
      "Epoch 41/150\n",
      "97/97 [==============================] - 0s 1ms/step - loss: 0.0011 - accuracy: 1.0000 - auc: 1.0000\n",
      "Epoch 42/150\n",
      "97/97 [==============================] - 0s 1ms/step - loss: 0.0010 - accuracy: 1.0000 - auc: 1.0000\n",
      "Epoch 43/150\n",
      "97/97 [==============================] - 0s 1ms/step - loss: 0.0010 - accuracy: 1.0000 - auc: 1.0000\n",
      "Epoch 44/150\n",
      "97/97 [==============================] - 0s 1ms/step - loss: 9.8988e-04 - accuracy: 1.0000 - auc: 1.0000\n",
      "Epoch 45/150\n",
      "97/97 [==============================] - 0s 2ms/step - loss: 9.6089e-04 - accuracy: 1.0000 - auc: 1.0000\n",
      "Epoch 46/150\n",
      "97/97 [==============================] - 0s 2ms/step - loss: 9.3304e-04 - accuracy: 1.0000 - auc: 1.0000\n",
      "Epoch 47/150\n",
      "97/97 [==============================] - 0s 2ms/step - loss: 9.0599e-04 - accuracy: 1.0000 - auc: 1.0000\n",
      "Epoch 48/150\n",
      "97/97 [==============================] - 0s 2ms/step - loss: 8.7940e-04 - accuracy: 1.0000 - auc: 1.0000\n",
      "Epoch 49/150\n",
      "97/97 [==============================] - 0s 2ms/step - loss: 8.5675e-04 - accuracy: 1.0000 - auc: 1.0000\n",
      "Epoch 50/150\n",
      "97/97 [==============================] - 0s 1ms/step - loss: 8.2772e-04 - accuracy: 1.0000 - auc: 1.0000\n",
      "Epoch 51/150\n",
      "97/97 [==============================] - 0s 2ms/step - loss: 8.0351e-04 - accuracy: 1.0000 - auc: 1.0000\n",
      "Epoch 52/150\n",
      "97/97 [==============================] - 0s 1ms/step - loss: 7.7861e-04 - accuracy: 1.0000 - auc: 1.0000\n",
      "Epoch 53/150\n",
      "97/97 [==============================] - 0s 1ms/step - loss: 7.5392e-04 - accuracy: 1.0000 - auc: 1.0000\n",
      "Epoch 54/150\n",
      "97/97 [==============================] - 0s 1ms/step - loss: 7.3028e-04 - accuracy: 1.0000 - auc: 1.0000\n",
      "Epoch 55/150\n",
      "97/97 [==============================] - 0s 1ms/step - loss: 7.0760e-04 - accuracy: 1.0000 - auc: 1.0000\n",
      "Epoch 56/150\n",
      "97/97 [==============================] - 0s 1ms/step - loss: 6.8588e-04 - accuracy: 1.0000 - auc: 1.0000\n",
      "Epoch 57/150\n",
      "97/97 [==============================] - 0s 1ms/step - loss: 6.6142e-04 - accuracy: 1.0000 - auc: 1.0000\n",
      "Epoch 58/150\n",
      "97/97 [==============================] - 0s 1ms/step - loss: 6.4090e-04 - accuracy: 1.0000 - auc: 1.0000\n",
      "Epoch 59/150\n",
      "97/97 [==============================] - 0s 2ms/step - loss: 6.1718e-04 - accuracy: 1.0000 - auc: 1.0000\n",
      "Epoch 60/150\n",
      "97/97 [==============================] - 0s 2ms/step - loss: 5.9735e-04 - accuracy: 1.0000 - auc: 1.0000\n",
      "Epoch 61/150\n",
      "97/97 [==============================] - 0s 2ms/step - loss: 5.7614e-04 - accuracy: 1.0000 - auc: 1.0000\n",
      "Epoch 62/150\n",
      "97/97 [==============================] - 0s 2ms/step - loss: 5.5583e-04 - accuracy: 1.0000 - auc: 1.0000\n",
      "Epoch 63/150\n",
      "97/97 [==============================] - 0s 2ms/step - loss: 5.3676e-04 - accuracy: 1.0000 - auc: 1.0000\n",
      "Epoch 64/150\n",
      "97/97 [==============================] - 0s 2ms/step - loss: 5.1595e-04 - accuracy: 1.0000 - auc: 1.0000\n",
      "Epoch 65/150\n",
      "97/97 [==============================] - 0s 2ms/step - loss: 4.9503e-04 - accuracy: 1.0000 - auc: 1.0000\n",
      "Epoch 66/150\n",
      "97/97 [==============================] - 0s 2ms/step - loss: 4.7830e-04 - accuracy: 1.0000 - auc: 1.0000\n",
      "Epoch 67/150\n",
      "97/97 [==============================] - 0s 2ms/step - loss: 4.5779e-04 - accuracy: 1.0000 - auc: 1.0000\n",
      "Epoch 68/150\n",
      "97/97 [==============================] - 0s 2ms/step - loss: 4.4005e-04 - accuracy: 1.0000 - auc: 1.0000\n",
      "Epoch 69/150\n",
      "97/97 [==============================] - 0s 2ms/step - loss: 4.2298e-04 - accuracy: 1.0000 - auc: 1.0000\n",
      "Epoch 70/150\n",
      "97/97 [==============================] - 0s 2ms/step - loss: 4.0684e-04 - accuracy: 1.0000 - auc: 1.0000\n",
      "Epoch 71/150\n",
      "97/97 [==============================] - 0s 2ms/step - loss: 3.9032e-04 - accuracy: 1.0000 - auc: 1.0000\n"
     ]
    },
    {
     "name": "stdout",
     "output_type": "stream",
     "text": [
      "Epoch 72/150\n",
      "97/97 [==============================] - 0s 1ms/step - loss: 3.7279e-04 - accuracy: 1.0000 - auc: 1.0000\n",
      "Epoch 73/150\n",
      "97/97 [==============================] - 0s 1ms/step - loss: 3.5859e-04 - accuracy: 1.0000 - auc: 1.0000\n",
      "Epoch 74/150\n",
      "97/97 [==============================] - 0s 1ms/step - loss: 3.4237e-04 - accuracy: 1.0000 - auc: 1.0000\n",
      "Epoch 75/150\n",
      "97/97 [==============================] - 0s 1ms/step - loss: 3.3066e-04 - accuracy: 1.0000 - auc: 1.0000\n",
      "Epoch 76/150\n",
      "97/97 [==============================] - 0s 1ms/step - loss: 3.1388e-04 - accuracy: 1.0000 - auc: 1.0000\n",
      "Epoch 77/150\n",
      "97/97 [==============================] - 0s 1ms/step - loss: 3.0114e-04 - accuracy: 1.0000 - auc: 1.0000\n",
      "Epoch 78/150\n",
      "97/97 [==============================] - 0s 1ms/step - loss: 2.8774e-04 - accuracy: 1.0000 - auc: 1.0000\n",
      "Epoch 79/150\n",
      "97/97 [==============================] - 0s 1ms/step - loss: 2.7452e-04 - accuracy: 1.0000 - auc: 1.0000\n",
      "Epoch 80/150\n",
      "97/97 [==============================] - 0s 1ms/step - loss: 2.6172e-04 - accuracy: 1.0000 - auc: 1.0000\n",
      "Epoch 81/150\n",
      "97/97 [==============================] - 0s 1ms/step - loss: 2.5125e-04 - accuracy: 1.0000 - auc: 1.0000\n",
      "Epoch 82/150\n",
      "97/97 [==============================] - 0s 1ms/step - loss: 2.3874e-04 - accuracy: 1.0000 - auc: 1.0000\n",
      "Epoch 83/150\n",
      "97/97 [==============================] - 0s 1ms/step - loss: 2.2769e-04 - accuracy: 1.0000 - auc: 1.0000\n",
      "Epoch 84/150\n",
      "97/97 [==============================] - 0s 2ms/step - loss: 2.1772e-04 - accuracy: 1.0000 - auc: 1.0000\n",
      "Epoch 85/150\n",
      "97/97 [==============================] - 0s 1ms/step - loss: 2.0778e-04 - accuracy: 1.0000 - auc: 1.0000\n",
      "Epoch 86/150\n",
      "97/97 [==============================] - 0s 1ms/step - loss: 1.9761e-04 - accuracy: 1.0000 - auc: 1.0000\n",
      "Epoch 87/150\n",
      "97/97 [==============================] - 0s 2ms/step - loss: 1.8859e-04 - accuracy: 1.0000 - auc: 1.0000\n",
      "Epoch 88/150\n",
      "97/97 [==============================] - 0s 1ms/step - loss: 1.8012e-04 - accuracy: 1.0000 - auc: 1.0000\n",
      "Epoch 89/150\n",
      "97/97 [==============================] - 0s 2ms/step - loss: 1.7131e-04 - accuracy: 1.0000 - auc: 1.0000\n",
      "Epoch 90/150\n",
      "97/97 [==============================] - 0s 3ms/step - loss: 1.6313e-04 - accuracy: 1.0000 - auc: 1.0000\n",
      "Epoch 91/150\n",
      "97/97 [==============================] - 0s 2ms/step - loss: 1.5555e-04 - accuracy: 1.0000 - auc: 1.0000\n",
      "Epoch 92/150\n",
      "97/97 [==============================] - 0s 3ms/step - loss: 1.4768e-04 - accuracy: 1.0000 - auc: 1.0000\n",
      "Epoch 93/150\n",
      "97/97 [==============================] - 0s 2ms/step - loss: 1.4071e-04 - accuracy: 1.0000 - auc: 1.0000\n",
      "Epoch 94/150\n",
      "97/97 [==============================] - 0s 2ms/step - loss: 1.3378e-04 - accuracy: 1.0000 - auc: 1.0000\n",
      "Epoch 95/150\n",
      "97/97 [==============================] - 0s 2ms/step - loss: 1.2762e-04 - accuracy: 1.0000 - auc: 1.0000\n",
      "Epoch 96/150\n",
      "97/97 [==============================] - 0s 2ms/step - loss: 1.2054e-04 - accuracy: 1.0000 - auc: 1.0000\n",
      "Epoch 97/150\n",
      "97/97 [==============================] - 0s 2ms/step - loss: 1.1504e-04 - accuracy: 1.0000 - auc: 1.0000\n",
      "Epoch 98/150\n",
      "97/97 [==============================] - 0s 1ms/step - loss: 1.0923e-04 - accuracy: 1.0000 - auc: 1.0000\n",
      "Epoch 99/150\n",
      "97/97 [==============================] - 0s 1ms/step - loss: 1.0383e-04 - accuracy: 1.0000 - auc: 1.0000\n",
      "Epoch 100/150\n",
      "97/97 [==============================] - 0s 1ms/step - loss: 9.8754e-05 - accuracy: 1.0000 - auc: 1.0000\n",
      "Epoch 101/150\n",
      "97/97 [==============================] - 0s 1ms/step - loss: 9.3785e-05 - accuracy: 1.0000 - auc: 1.0000\n",
      "Epoch 102/150\n",
      "97/97 [==============================] - 0s 1ms/step - loss: 8.9376e-05 - accuracy: 1.0000 - auc: 1.0000\n",
      "Epoch 103/150\n",
      "97/97 [==============================] - 0s 2ms/step - loss: 8.4982e-05 - accuracy: 1.0000 - auc: 1.0000\n",
      "Epoch 104/150\n",
      "97/97 [==============================] - 0s 2ms/step - loss: 8.0726e-05 - accuracy: 1.0000 - auc: 1.0000\n",
      "Epoch 105/150\n",
      "97/97 [==============================] - 0s 2ms/step - loss: 7.6279e-05 - accuracy: 1.0000 - auc: 1.0000\n",
      "Epoch 106/150\n",
      "97/97 [==============================] - 0s 2ms/step - loss: 7.2450e-05 - accuracy: 1.0000 - auc: 1.0000\n",
      "Epoch 107/150\n",
      "97/97 [==============================] - 0s 2ms/step - loss: 6.8956e-05 - accuracy: 1.0000 - auc: 1.0000\n",
      "Epoch 108/150\n",
      "97/97 [==============================] - 0s 2ms/step - loss: 6.5815e-05 - accuracy: 1.0000 - auc: 1.0000\n",
      "Epoch 109/150\n",
      "97/97 [==============================] - 0s 3ms/step - loss: 6.2503e-05 - accuracy: 1.0000 - auc: 1.0000\n",
      "Epoch 110/150\n",
      "97/97 [==============================] - 0s 3ms/step - loss: 5.9518e-05 - accuracy: 1.0000 - auc: 1.0000\n",
      "Epoch 111/150\n",
      "97/97 [==============================] - 0s 3ms/step - loss: 5.6433e-05 - accuracy: 1.0000 - auc: 1.0000\n",
      "Epoch 112/150\n",
      "97/97 [==============================] - 0s 3ms/step - loss: 5.3609e-05 - accuracy: 1.0000 - auc: 1.0000\n",
      "Epoch 113/150\n",
      "97/97 [==============================] - 0s 3ms/step - loss: 5.1034e-05 - accuracy: 1.0000 - auc: 1.0000\n",
      "Epoch 114/150\n",
      "97/97 [==============================] - 0s 2ms/step - loss: 4.8452e-05 - accuracy: 1.0000 - auc: 1.0000\n",
      "Epoch 115/150\n",
      "97/97 [==============================] - 0s 2ms/step - loss: 4.5762e-05 - accuracy: 1.0000 - auc: 1.0000\n",
      "Epoch 116/150\n",
      "97/97 [==============================] - 0s 2ms/step - loss: 4.3653e-05 - accuracy: 1.0000 - auc: 1.0000\n",
      "Epoch 117/150\n",
      "97/97 [==============================] - 0s 2ms/step - loss: 4.1660e-05 - accuracy: 1.0000 - auc: 1.0000\n",
      "Epoch 118/150\n",
      "97/97 [==============================] - 0s 2ms/step - loss: 3.9427e-05 - accuracy: 1.0000 - auc: 1.0000\n",
      "Epoch 119/150\n",
      "97/97 [==============================] - 0s 2ms/step - loss: 3.7552e-05 - accuracy: 1.0000 - auc: 1.0000\n",
      "Epoch 120/150\n",
      "97/97 [==============================] - 0s 2ms/step - loss: 3.5782e-05 - accuracy: 1.0000 - auc: 1.0000\n",
      "Epoch 121/150\n",
      "97/97 [==============================] - 0s 2ms/step - loss: 3.3903e-05 - accuracy: 1.0000 - auc: 1.0000\n",
      "Epoch 122/150\n",
      "97/97 [==============================] - 0s 2ms/step - loss: 3.2447e-05 - accuracy: 1.0000 - auc: 1.0000\n",
      "Epoch 123/150\n",
      "97/97 [==============================] - 0s 2ms/step - loss: 3.0804e-05 - accuracy: 1.0000 - auc: 1.0000\n",
      "Epoch 124/150\n",
      "97/97 [==============================] - 0s 2ms/step - loss: 2.9205e-05 - accuracy: 1.0000 - auc: 1.0000\n",
      "Epoch 125/150\n",
      "97/97 [==============================] - 0s 2ms/step - loss: 2.7986e-05 - accuracy: 1.0000 - auc: 1.0000\n",
      "Epoch 126/150\n",
      "97/97 [==============================] - 0s 2ms/step - loss: 2.6494e-05 - accuracy: 1.0000 - auc: 1.0000\n",
      "Epoch 127/150\n",
      "97/97 [==============================] - 0s 2ms/step - loss: 2.5224e-05 - accuracy: 1.0000 - auc: 1.0000\n",
      "Epoch 128/150\n",
      "97/97 [==============================] - 0s 2ms/step - loss: 2.3963e-05 - accuracy: 1.0000 - auc: 1.0000\n",
      "Epoch 129/150\n",
      "97/97 [==============================] - 0s 2ms/step - loss: 2.2806e-05 - accuracy: 1.0000 - auc: 1.0000\n",
      "Epoch 130/150\n",
      "97/97 [==============================] - 0s 2ms/step - loss: 2.1761e-05 - accuracy: 1.0000 - auc: 1.0000\n",
      "Epoch 131/150\n",
      "97/97 [==============================] - 0s 2ms/step - loss: 2.0626e-05 - accuracy: 1.0000 - auc: 1.0000\n",
      "Epoch 132/150\n",
      "97/97 [==============================] - 0s 2ms/step - loss: 1.9540e-05 - accuracy: 1.0000 - auc: 1.0000\n",
      "Epoch 133/150\n",
      "97/97 [==============================] - 0s 2ms/step - loss: 1.8588e-05 - accuracy: 1.0000 - auc: 1.0000\n",
      "Epoch 134/150\n",
      "97/97 [==============================] - 0s 2ms/step - loss: 1.7755e-05 - accuracy: 1.0000 - auc: 1.0000\n",
      "Epoch 135/150\n",
      "97/97 [==============================] - 0s 2ms/step - loss: 1.6803e-05 - accuracy: 1.0000 - auc: 1.0000\n",
      "Epoch 136/150\n",
      "97/97 [==============================] - 0s 2ms/step - loss: 1.6006e-05 - accuracy: 1.0000 - auc: 1.0000\n",
      "Epoch 137/150\n",
      "97/97 [==============================] - 0s 2ms/step - loss: 1.5184e-05 - accuracy: 1.0000 - auc: 1.0000\n",
      "Epoch 138/150\n",
      "97/97 [==============================] - 0s 2ms/step - loss: 1.4460e-05 - accuracy: 1.0000 - auc: 1.0000\n",
      "Epoch 139/150\n",
      "97/97 [==============================] - 0s 1ms/step - loss: 1.3840e-05 - accuracy: 1.0000 - auc: 1.0000\n",
      "Epoch 140/150\n",
      "97/97 [==============================] - 0s 2ms/step - loss: 1.3060e-05 - accuracy: 1.0000 - auc: 1.0000\n",
      "Epoch 141/150\n"
     ]
    },
    {
     "name": "stdout",
     "output_type": "stream",
     "text": [
      "97/97 [==============================] - 0s 2ms/step - loss: 1.2411e-05 - accuracy: 1.0000 - auc: 1.0000\n",
      "Epoch 142/150\n",
      "97/97 [==============================] - 0s 2ms/step - loss: 1.1814e-05 - accuracy: 1.0000 - auc: 1.0000\n",
      "Epoch 143/150\n",
      "97/97 [==============================] - 0s 2ms/step - loss: 1.1264e-05 - accuracy: 1.0000 - auc: 1.0000\n",
      "Epoch 144/150\n",
      "97/97 [==============================] - 0s 2ms/step - loss: 1.0683e-05 - accuracy: 1.0000 - auc: 1.0000\n",
      "Epoch 145/150\n",
      "97/97 [==============================] - 0s 2ms/step - loss: 1.0203e-05 - accuracy: 1.0000 - auc: 1.0000\n",
      "Epoch 146/150\n",
      "97/97 [==============================] - 0s 2ms/step - loss: 9.7464e-06 - accuracy: 1.0000 - auc: 1.0000\n",
      "Epoch 147/150\n",
      "97/97 [==============================] - 0s 1ms/step - loss: 9.2061e-06 - accuracy: 1.0000 - auc: 1.0000\n",
      "Epoch 148/150\n",
      "97/97 [==============================] - 0s 2ms/step - loss: 8.7351e-06 - accuracy: 1.0000 - auc: 1.0000\n",
      "Epoch 149/150\n",
      "97/97 [==============================] - 0s 2ms/step - loss: 8.3346e-06 - accuracy: 1.0000 - auc: 1.0000\n",
      "Epoch 150/150\n",
      "97/97 [==============================] - 0s 1ms/step - loss: 7.9114e-06 - accuracy: 1.0000 - auc: 1.0000\n",
      "CPU times: user 41 s, sys: 5.79 s, total: 46.8 s\n",
      "Wall time: 26.1 s\n"
     ]
    },
    {
     "data": {
      "text/plain": [
       "<tensorflow.python.keras.callbacks.History at 0x7fdda14bca50>"
      ]
     },
     "execution_count": 146,
     "metadata": {},
     "output_type": "execute_result"
    }
   ],
   "source": [
    "%%time\n",
    "model_raw_efficient_net_transformed.fit(train_efficient_net_transformed,\n",
    "                            train_efficient_net['target'],\n",
    "                            epochs=150, batch_size=10)"
   ]
  },
  {
   "cell_type": "markdown",
   "metadata": {},
   "source": [
    "#### Metrics per iteration for Dense Net"
   ]
  },
  {
   "cell_type": "code",
   "execution_count": 147,
   "metadata": {},
   "outputs": [
    {
     "data": {
      "image/png": "[encoded data removed]",
      "text/plain": [
       "<Figure size 432x288 with 1 Axes>"
      ]
     },
     "metadata": {
      "needs_background": "light"
     },
     "output_type": "display_data"
    }
   ],
   "source": [
    "plt.plot(model_raw_efficient_net_transformed.history.history['auc']);\n",
    "plt.title('ROC-AUC per number of iterations');\n",
    "plt.xlabel('N iterations');\n",
    "plt.ylabel('ROC AUC');"
   ]
  },
  {
   "cell_type": "code",
   "execution_count": 148,
   "metadata": {},
   "outputs": [
    {
     "data": {
      "image/png": "[encoded data removed]",
      "text/plain": [
       "<Figure size 432x288 with 1 Axes>"
      ]
     },
     "metadata": {
      "needs_background": "light"
     },
     "output_type": "display_data"
    }
   ],
   "source": [
    "plt.plot(model_raw_efficient_net_transformed.history.history['accuracy']);\n",
    "plt.title('ROC-AUC per number of iterations');\n",
    "plt.xlabel('N iterations');\n",
    "plt.ylabel('ROC AUC');"
   ]
  },
  {
   "cell_type": "markdown",
   "metadata": {},
   "source": [
    "### Logistic Regression"
   ]
  },
  {
   "cell_type": "code",
   "execution_count": 149,
   "metadata": {},
   "outputs": [],
   "source": [
    "log_reg_efficient_net_transformed = LogisticRegression(random_state=42)"
   ]
  },
  {
   "cell_type": "code",
   "execution_count": 150,
   "metadata": {},
   "outputs": [
    {
     "name": "stdout",
     "output_type": "stream",
     "text": [
      "CPU times: user 125 ms, sys: 4.83 ms, total: 130 ms\n",
      "Wall time: 66.8 ms\n"
     ]
    },
    {
     "name": "stderr",
     "output_type": "stream",
     "text": [
      "/opt/conda/lib/python3.7/site-packages/sklearn/linear_model/_logistic.py:764: ConvergenceWarning: lbfgs failed to converge (status=1):\n",
      "STOP: TOTAL NO. of ITERATIONS REACHED LIMIT.\n",
      "\n",
      "Increase the number of iterations (max_iter) or scale the data as shown in:\n",
      "    https://scikit-learn.org/stable/modules/preprocessing.html\n",
      "Please also refer to the documentation for alternative solver options:\n",
      "    https://scikit-learn.org/stable/modules/linear_model.html#logistic-regression\n",
      "  extra_warning_msg=_LOGISTIC_SOLVER_CONVERGENCE_MSG)\n"
     ]
    },
    {
     "data": {
      "text/plain": [
       "LogisticRegression(random_state=42)"
      ]
     },
     "execution_count": 150,
     "metadata": {},
     "output_type": "execute_result"
    }
   ],
   "source": [
    "%%time\n",
    "log_reg_efficient_net_transformed.fit(train_efficient_net_transformed, \n",
    "                          train_efficient_net['target'])"
   ]
  },
  {
   "cell_type": "markdown",
   "metadata": {},
   "source": [
    "### GradientBoositng"
   ]
  },
  {
   "cell_type": "code",
   "execution_count": 151,
   "metadata": {},
   "outputs": [],
   "source": [
    "gbr_efficient_net_transformed = GradientBoostingClassifier(random_state=42)"
   ]
  },
  {
   "cell_type": "code",
   "execution_count": 152,
   "metadata": {},
   "outputs": [
    {
     "name": "stdout",
     "output_type": "stream",
     "text": [
      "CPU times: user 14.1 s, sys: 660 µs, total: 14.1 s\n",
      "Wall time: 14.2 s\n"
     ]
    },
    {
     "data": {
      "text/plain": [
       "GradientBoostingClassifier(random_state=42)"
      ]
     },
     "execution_count": 152,
     "metadata": {},
     "output_type": "execute_result"
    }
   ],
   "source": [
    "%%time\n",
    "gbr_efficient_net_transformed.fit(train_efficient_net_transformed, train_efficient_net['target'])"
   ]
  },
  {
   "cell_type": "markdown",
   "metadata": {},
   "source": [
    "### RandomForest"
   ]
  },
  {
   "cell_type": "code",
   "execution_count": 153,
   "metadata": {},
   "outputs": [],
   "source": [
    "rf_efficient_net_transformed = RandomForestClassifier(random_state=42)"
   ]
  },
  {
   "cell_type": "code",
   "execution_count": 154,
   "metadata": {},
   "outputs": [
    {
     "name": "stdout",
     "output_type": "stream",
     "text": [
      "CPU times: user 1.83 s, sys: 0 ns, total: 1.83 s\n",
      "Wall time: 1.85 s\n"
     ]
    },
    {
     "data": {
      "text/plain": [
       "RandomForestClassifier(random_state=42)"
      ]
     },
     "execution_count": 154,
     "metadata": {},
     "output_type": "execute_result"
    }
   ],
   "source": [
    "%%time\n",
    "rf_efficient_net_transformed.fit(train_efficient_net_transformed, train_efficient_net['target'])"
   ]
  },
  {
   "cell_type": "markdown",
   "metadata": {},
   "source": [
    "## InceptionV3 + PCA"
   ]
  },
  {
   "cell_type": "markdown",
   "metadata": {},
   "source": [
    "### SVC"
   ]
  },
  {
   "cell_type": "code",
   "execution_count": 155,
   "metadata": {},
   "outputs": [],
   "source": [
    "svc_inceptionv3_transformed = SVC(random_state=42, probability=True)"
   ]
  },
  {
   "cell_type": "code",
   "execution_count": 156,
   "metadata": {},
   "outputs": [
    {
     "name": "stdout",
     "output_type": "stream",
     "text": [
      "CPU times: user 2 s, sys: 0 ns, total: 2 s\n",
      "Wall time: 2.02 s\n"
     ]
    },
    {
     "data": {
      "text/plain": [
       "SVC(probability=True, random_state=42)"
      ]
     },
     "execution_count": 156,
     "metadata": {},
     "output_type": "execute_result"
    }
   ],
   "source": [
    "%%time\n",
    "svc_inceptionv3_transformed.fit(train_inceptionv3_transformed, train_inceptionv3['target'])"
   ]
  },
  {
   "cell_type": "markdown",
   "metadata": {},
   "source": [
    "### Dense Net"
   ]
  },
  {
   "cell_type": "code",
   "execution_count": 157,
   "metadata": {},
   "outputs": [],
   "source": [
    "model_raw_inceptionv3_transformed = Sequential()\n",
    "model_raw_inceptionv3_transformed.add(Dense(12, input_dim=500,\n",
    "                                  activation='relu'))\n",
    "model_raw_inceptionv3_transformed.add(Dense(8, activation='relu'))\n",
    "model_raw_inceptionv3_transformed.add(Dense(1, activation='sigmoid'))"
   ]
  },
  {
   "cell_type": "code",
   "execution_count": 158,
   "metadata": {},
   "outputs": [
    {
     "name": "stdout",
     "output_type": "stream",
     "text": [
      "Model: \"sequential_9\"\n",
      "_________________________________________________________________\n",
      "Layer (type)                 Output Shape              Param #   \n",
      "=================================================================\n",
      "dense_27 (Dense)             (None, 12)                6012      \n",
      "_________________________________________________________________\n",
      "dense_28 (Dense)             (None, 8)                 104       \n",
      "_________________________________________________________________\n",
      "dense_29 (Dense)             (None, 1)                 9         \n",
      "=================================================================\n",
      "Total params: 6,125\n",
      "Trainable params: 6,125\n",
      "Non-trainable params: 0\n",
      "_________________________________________________________________\n"
     ]
    }
   ],
   "source": [
    "model_raw_inceptionv3_transformed.summary()"
   ]
  },
  {
   "cell_type": "code",
   "execution_count": 159,
   "metadata": {},
   "outputs": [],
   "source": [
    "model_raw_inceptionv3_transformed.compile(loss='binary_crossentropy', optimizer='adam',\n",
    "                        metrics=['accuracy', 'AUC'])"
   ]
  },
  {
   "cell_type": "code",
   "execution_count": 160,
   "metadata": {},
   "outputs": [
    {
     "name": "stdout",
     "output_type": "stream",
     "text": [
      "Epoch 1/150\n",
      "97/97 [==============================] - 0s 3ms/step - loss: 0.6611 - accuracy: 0.7446 - auc: 0.6927\n",
      "Epoch 2/150\n",
      "97/97 [==============================] - 0s 3ms/step - loss: 0.2744 - accuracy: 0.8811 - auc: 0.9309\n",
      "Epoch 3/150\n",
      "97/97 [==============================] - 0s 3ms/step - loss: 0.1720 - accuracy: 0.9245 - auc: 0.9803\n",
      "Epoch 4/150\n",
      "97/97 [==============================] - 0s 2ms/step - loss: 0.1224 - accuracy: 0.9555 - auc: 0.9914\n",
      "Epoch 5/150\n",
      "97/97 [==============================] - 0s 2ms/step - loss: 0.0856 - accuracy: 0.9721 - auc: 0.9964\n",
      "Epoch 6/150\n",
      "97/97 [==============================] - 0s 3ms/step - loss: 0.0543 - accuracy: 0.9845 - auc: 0.9989\n",
      "Epoch 7/150\n",
      "97/97 [==============================] - 0s 2ms/step - loss: 0.0356 - accuracy: 0.9928 - auc: 0.9997\n",
      "Epoch 8/150\n",
      "97/97 [==============================] - 0s 3ms/step - loss: 0.0247 - accuracy: 0.9969 - auc: 0.9999\n",
      "Epoch 9/150\n",
      "97/97 [==============================] - 0s 2ms/step - loss: 0.0190 - accuracy: 0.9969 - auc: 0.9999\n",
      "Epoch 10/150\n",
      "97/97 [==============================] - 0s 2ms/step - loss: 0.0145 - accuracy: 0.9979 - auc: 1.0000\n",
      "Epoch 11/150\n",
      "97/97 [==============================] - 0s 2ms/step - loss: 0.0118 - accuracy: 0.9979 - auc: 1.0000\n",
      "Epoch 12/150\n",
      "97/97 [==============================] - 0s 2ms/step - loss: 0.0100 - accuracy: 0.9979 - auc: 1.0000\n",
      "Epoch 13/150\n",
      "97/97 [==============================] - 0s 2ms/step - loss: 0.0088 - accuracy: 0.9979 - auc: 1.0000\n",
      "Epoch 14/150\n",
      "97/97 [==============================] - 0s 2ms/step - loss: 0.0070 - accuracy: 0.9990 - auc: 1.0000\n",
      "Epoch 15/150\n",
      "97/97 [==============================] - 0s 2ms/step - loss: 0.0058 - accuracy: 0.9990 - auc: 1.0000\n",
      "Epoch 16/150\n",
      "97/97 [==============================] - 0s 2ms/step - loss: 0.0051 - accuracy: 0.9990 - auc: 1.0000\n",
      "Epoch 17/150\n",
      "97/97 [==============================] - 0s 2ms/step - loss: 0.0045 - accuracy: 0.9990 - auc: 1.0000\n",
      "Epoch 18/150\n",
      "97/97 [==============================] - 0s 2ms/step - loss: 0.0039 - accuracy: 0.9990 - auc: 1.0000\n",
      "Epoch 19/150\n",
      "97/97 [==============================] - 0s 2ms/step - loss: 0.0034 - accuracy: 0.9990 - auc: 1.0000\n",
      "Epoch 20/150\n",
      "97/97 [==============================] - 0s 2ms/step - loss: 0.0029 - accuracy: 0.9990 - auc: 1.0000\n",
      "Epoch 21/150\n",
      "97/97 [==============================] - 0s 2ms/step - loss: 0.0025 - accuracy: 0.9990 - auc: 1.0000\n",
      "Epoch 22/150\n",
      "97/97 [==============================] - 0s 2ms/step - loss: 0.0022 - accuracy: 0.9990 - auc: 1.0000\n",
      "Epoch 23/150\n",
      "97/97 [==============================] - 0s 2ms/step - loss: 0.0020 - accuracy: 0.9990 - auc: 1.0000\n",
      "Epoch 24/150\n",
      "97/97 [==============================] - 0s 2ms/step - loss: 0.0018 - accuracy: 0.9990 - auc: 1.0000\n",
      "Epoch 25/150\n",
      "97/97 [==============================] - 0s 2ms/step - loss: 0.0016 - accuracy: 0.9990 - auc: 1.0000\n",
      "Epoch 26/150\n",
      "97/97 [==============================] - 0s 2ms/step - loss: 0.0015 - accuracy: 0.9990 - auc: 1.0000\n",
      "Epoch 27/150\n",
      "97/97 [==============================] - 0s 2ms/step - loss: 0.0014 - accuracy: 0.9990 - auc: 1.0000\n",
      "Epoch 28/150\n",
      "97/97 [==============================] - 0s 2ms/step - loss: 0.0013 - accuracy: 0.9990 - auc: 1.0000\n",
      "Epoch 29/150\n",
      "97/97 [==============================] - 0s 1ms/step - loss: 0.0012 - accuracy: 0.9990 - auc: 1.0000\n",
      "Epoch 30/150\n",
      "97/97 [==============================] - 0s 1ms/step - loss: 0.0012 - accuracy: 1.0000 - auc: 1.0000\n",
      "Epoch 31/150\n",
      "97/97 [==============================] - 0s 2ms/step - loss: 0.0011 - accuracy: 1.0000 - auc: 1.0000\n",
      "Epoch 32/150\n",
      "97/97 [==============================] - 0s 2ms/step - loss: 0.0010 - accuracy: 1.0000 - auc: 1.0000\n",
      "Epoch 33/150\n",
      "97/97 [==============================] - 0s 2ms/step - loss: 9.9562e-04 - accuracy: 1.0000 - auc: 1.0000\n",
      "Epoch 34/150\n",
      "97/97 [==============================] - 0s 2ms/step - loss: 9.5441e-04 - accuracy: 1.0000 - auc: 1.0000\n",
      "Epoch 35/150\n",
      "97/97 [==============================] - 0s 2ms/step - loss: 9.1613e-04 - accuracy: 1.0000 - auc: 1.0000\n",
      "Epoch 36/150\n",
      "97/97 [==============================] - 0s 2ms/step - loss: 8.8088e-04 - accuracy: 1.0000 - auc: 1.0000\n",
      "Epoch 37/150\n",
      "97/97 [==============================] - 0s 2ms/step - loss: 8.5228e-04 - accuracy: 1.0000 - auc: 1.0000\n",
      "Epoch 38/150\n",
      "97/97 [==============================] - 0s 2ms/step - loss: 8.2001e-04 - accuracy: 1.0000 - auc: 1.0000\n",
      "Epoch 39/150\n",
      "97/97 [==============================] - 0s 2ms/step - loss: 7.8813e-04 - accuracy: 1.0000 - auc: 1.0000\n",
      "Epoch 40/150\n",
      "97/97 [==============================] - 0s 2ms/step - loss: 7.6083e-04 - accuracy: 1.0000 - auc: 1.0000\n",
      "Epoch 41/150\n",
      "97/97 [==============================] - 0s 2ms/step - loss: 7.3553e-04 - accuracy: 1.0000 - auc: 1.0000\n",
      "Epoch 42/150\n",
      "97/97 [==============================] - 0s 2ms/step - loss: 7.0924e-04 - accuracy: 1.0000 - auc: 1.0000\n",
      "Epoch 43/150\n",
      "97/97 [==============================] - 0s 2ms/step - loss: 6.8514e-04 - accuracy: 1.0000 - auc: 1.0000\n",
      "Epoch 44/150\n",
      "97/97 [==============================] - 0s 2ms/step - loss: 6.6269e-04 - accuracy: 1.0000 - auc: 1.0000\n",
      "Epoch 45/150\n",
      "97/97 [==============================] - 0s 2ms/step - loss: 6.4085e-04 - accuracy: 1.0000 - auc: 1.0000\n",
      "Epoch 46/150\n",
      "97/97 [==============================] - 0s 2ms/step - loss: 6.2041e-04 - accuracy: 1.0000 - auc: 1.0000\n",
      "Epoch 47/150\n",
      "97/97 [==============================] - 0s 2ms/step - loss: 6.0092e-04 - accuracy: 1.0000 - auc: 1.0000\n",
      "Epoch 48/150\n",
      "97/97 [==============================] - 0s 2ms/step - loss: 5.8200e-04 - accuracy: 1.0000 - auc: 1.0000\n",
      "Epoch 49/150\n",
      "97/97 [==============================] - 0s 2ms/step - loss: 5.6431e-04 - accuracy: 1.0000 - auc: 1.0000\n",
      "Epoch 50/150\n",
      "97/97 [==============================] - 0s 2ms/step - loss: 5.4681e-04 - accuracy: 1.0000 - auc: 1.0000\n",
      "Epoch 51/150\n",
      "97/97 [==============================] - 0s 2ms/step - loss: 5.3011e-04 - accuracy: 1.0000 - auc: 1.0000\n",
      "Epoch 52/150\n",
      "97/97 [==============================] - 0s 2ms/step - loss: 5.1404e-04 - accuracy: 1.0000 - auc: 1.0000\n",
      "Epoch 53/150\n",
      "97/97 [==============================] - 0s 2ms/step - loss: 4.9853e-04 - accuracy: 1.0000 - auc: 1.0000\n",
      "Epoch 54/150\n",
      "97/97 [==============================] - 0s 2ms/step - loss: 4.8352e-04 - accuracy: 1.0000 - auc: 1.0000\n",
      "Epoch 55/150\n",
      "97/97 [==============================] - 0s 3ms/step - loss: 4.6908e-04 - accuracy: 1.0000 - auc: 1.0000\n",
      "Epoch 56/150\n",
      "97/97 [==============================] - 0s 3ms/step - loss: 4.5557e-04 - accuracy: 1.0000 - auc: 1.0000\n",
      "Epoch 57/150\n",
      "97/97 [==============================] - 0s 3ms/step - loss: 4.4234e-04 - accuracy: 1.0000 - auc: 1.0000\n",
      "Epoch 58/150\n",
      "97/97 [==============================] - 0s 3ms/step - loss: 4.2955e-04 - accuracy: 1.0000 - auc: 1.0000\n",
      "Epoch 59/150\n",
      "97/97 [==============================] - 0s 3ms/step - loss: 4.1719e-04 - accuracy: 1.0000 - auc: 1.0000\n",
      "Epoch 60/150\n",
      "97/97 [==============================] - 0s 2ms/step - loss: 4.0510e-04 - accuracy: 1.0000 - auc: 1.0000\n",
      "Epoch 61/150\n",
      "97/97 [==============================] - 0s 2ms/step - loss: 3.9327e-04 - accuracy: 1.0000 - auc: 1.0000\n",
      "Epoch 62/150\n",
      "97/97 [==============================] - 0s 2ms/step - loss: 3.8161e-04 - accuracy: 1.0000 - auc: 1.0000\n",
      "Epoch 63/150\n",
      "97/97 [==============================] - 0s 2ms/step - loss: 3.7044e-04 - accuracy: 1.0000 - auc: 1.0000\n",
      "Epoch 64/150\n",
      "97/97 [==============================] - 0s 2ms/step - loss: 3.5949e-04 - accuracy: 1.0000 - auc: 1.0000\n",
      "Epoch 65/150\n",
      "97/97 [==============================] - 0s 2ms/step - loss: 3.4877e-04 - accuracy: 1.0000 - auc: 1.0000\n",
      "Epoch 66/150\n",
      "97/97 [==============================] - 0s 2ms/step - loss: 3.3827e-04 - accuracy: 1.0000 - auc: 1.0000\n",
      "Epoch 67/150\n",
      "97/97 [==============================] - 0s 2ms/step - loss: 3.2817e-04 - accuracy: 1.0000 - auc: 1.0000\n",
      "Epoch 68/150\n",
      "97/97 [==============================] - 0s 2ms/step - loss: 3.1788e-04 - accuracy: 1.0000 - auc: 1.0000\n",
      "Epoch 69/150\n",
      "97/97 [==============================] - 0s 2ms/step - loss: 3.0799e-04 - accuracy: 1.0000 - auc: 1.0000\n",
      "Epoch 70/150\n",
      "97/97 [==============================] - 0s 2ms/step - loss: 2.9837e-04 - accuracy: 1.0000 - auc: 1.0000\n",
      "Epoch 71/150\n",
      "97/97 [==============================] - 0s 2ms/step - loss: 2.8905e-04 - accuracy: 1.0000 - auc: 1.0000\n",
      "Epoch 72/150\n",
      "97/97 [==============================] - 0s 2ms/step - loss: 2.8008e-04 - accuracy: 1.0000 - auc: 1.0000\n",
      "Epoch 73/150\n",
      "97/97 [==============================] - 0s 2ms/step - loss: 2.7126e-04 - accuracy: 1.0000 - auc: 1.0000\n",
      "Epoch 74/150\n",
      "97/97 [==============================] - 0s 2ms/step - loss: 2.6271e-04 - accuracy: 1.0000 - auc: 1.0000\n",
      "Epoch 75/150\n",
      "97/97 [==============================] - 0s 2ms/step - loss: 2.5431e-04 - accuracy: 1.0000 - auc: 1.0000\n",
      "Epoch 76/150\n",
      "97/97 [==============================] - 0s 2ms/step - loss: 2.4590e-04 - accuracy: 1.0000 - auc: 1.0000\n",
      "Epoch 77/150\n",
      "97/97 [==============================] - 0s 2ms/step - loss: 2.3762e-04 - accuracy: 1.0000 - auc: 1.0000\n",
      "Epoch 78/150\n",
      "97/97 [==============================] - 0s 2ms/step - loss: 2.2967e-04 - accuracy: 1.0000 - auc: 1.0000\n",
      "Epoch 79/150\n",
      "97/97 [==============================] - 0s 2ms/step - loss: 2.2195e-04 - accuracy: 1.0000 - auc: 1.0000\n",
      "Epoch 80/150\n",
      "97/97 [==============================] - 0s 2ms/step - loss: 2.1453e-04 - accuracy: 1.0000 - auc: 1.0000\n",
      "Epoch 81/150\n",
      "97/97 [==============================] - 0s 2ms/step - loss: 2.0730e-04 - accuracy: 1.0000 - auc: 1.0000\n",
      "Epoch 82/150\n",
      "97/97 [==============================] - 0s 2ms/step - loss: 2.0021e-04 - accuracy: 1.0000 - auc: 1.0000\n",
      "Epoch 83/150\n",
      "97/97 [==============================] - 0s 2ms/step - loss: 1.9332e-04 - accuracy: 1.0000 - auc: 1.0000\n",
      "Epoch 84/150\n",
      "97/97 [==============================] - 0s 2ms/step - loss: 1.8644e-04 - accuracy: 1.0000 - auc: 1.0000\n",
      "Epoch 85/150\n",
      "97/97 [==============================] - 0s 1ms/step - loss: 1.7978e-04 - accuracy: 1.0000 - auc: 1.0000\n",
      "Epoch 86/150\n",
      "97/97 [==============================] - 0s 2ms/step - loss: 1.7328e-04 - accuracy: 1.0000 - auc: 1.0000\n",
      "Epoch 87/150\n",
      "97/97 [==============================] - 0s 1ms/step - loss: 1.6748e-04 - accuracy: 1.0000 - auc: 1.0000\n",
      "Epoch 88/150\n",
      "97/97 [==============================] - 0s 2ms/step - loss: 1.6090e-04 - accuracy: 1.0000 - auc: 1.0000\n",
      "Epoch 89/150\n",
      "97/97 [==============================] - 0s 1ms/step - loss: 1.5488e-04 - accuracy: 1.0000 - auc: 1.0000\n",
      "Epoch 90/150\n",
      "97/97 [==============================] - 0s 1ms/step - loss: 1.4908e-04 - accuracy: 1.0000 - auc: 1.0000\n",
      "Epoch 91/150\n",
      "97/97 [==============================] - 0s 2ms/step - loss: 1.4341e-04 - accuracy: 1.0000 - auc: 1.0000\n",
      "Epoch 92/150\n",
      "97/97 [==============================] - 0s 1ms/step - loss: 1.3799e-04 - accuracy: 1.0000 - auc: 1.0000\n",
      "Epoch 93/150\n",
      "97/97 [==============================] - 0s 2ms/step - loss: 1.3267e-04 - accuracy: 1.0000 - auc: 1.0000\n",
      "Epoch 94/150\n",
      "97/97 [==============================] - 0s 2ms/step - loss: 1.2874e-04 - accuracy: 1.0000 - auc: 1.0000\n",
      "Epoch 95/150\n",
      "97/97 [==============================] - 0s 2ms/step - loss: 1.2265e-04 - accuracy: 1.0000 - auc: 1.0000\n",
      "Epoch 96/150\n",
      "97/97 [==============================] - 0s 2ms/step - loss: 1.1779e-04 - accuracy: 1.0000 - auc: 1.0000\n",
      "Epoch 97/150\n",
      "97/97 [==============================] - 0s 1ms/step - loss: 1.1316e-04 - accuracy: 1.0000 - auc: 1.0000\n",
      "Epoch 98/150\n",
      "97/97 [==============================] - 0s 1ms/step - loss: 1.0873e-04 - accuracy: 1.0000 - auc: 1.0000\n",
      "Epoch 99/150\n",
      "97/97 [==============================] - 0s 2ms/step - loss: 1.0262e-04 - accuracy: 1.0000 - auc: 1.0000\n",
      "Epoch 100/150\n",
      "97/97 [==============================] - 0s 2ms/step - loss: 9.8722e-05 - accuracy: 1.0000 - auc: 1.0000\n",
      "Epoch 101/150\n",
      "97/97 [==============================] - 0s 2ms/step - loss: 9.4709e-05 - accuracy: 1.0000 - auc: 1.0000\n",
      "Epoch 102/150\n",
      "97/97 [==============================] - 0s 2ms/step - loss: 9.1038e-05 - accuracy: 1.0000 - auc: 1.0000\n",
      "Epoch 103/150\n",
      "97/97 [==============================] - 0s 1ms/step - loss: 8.7401e-05 - accuracy: 1.0000 - auc: 1.0000\n",
      "Epoch 104/150\n",
      "97/97 [==============================] - 0s 2ms/step - loss: 8.3924e-05 - accuracy: 1.0000 - auc: 1.0000\n",
      "Epoch 105/150\n",
      "97/97 [==============================] - 0s 2ms/step - loss: 8.0554e-05 - accuracy: 1.0000 - auc: 1.0000\n",
      "Epoch 106/150\n",
      "97/97 [==============================] - 0s 2ms/step - loss: 7.7317e-05 - accuracy: 1.0000 - auc: 1.0000\n",
      "Epoch 107/150\n",
      "97/97 [==============================] - 0s 2ms/step - loss: 7.4090e-05 - accuracy: 1.0000 - auc: 1.0000\n",
      "Epoch 108/150\n",
      "97/97 [==============================] - 0s 2ms/step - loss: 7.1011e-05 - accuracy: 1.0000 - auc: 1.0000\n",
      "Epoch 109/150\n",
      "97/97 [==============================] - 0s 2ms/step - loss: 6.8115e-05 - accuracy: 1.0000 - auc: 1.0000\n",
      "Epoch 110/150\n",
      "97/97 [==============================] - 0s 2ms/step - loss: 6.5171e-05 - accuracy: 1.0000 - auc: 1.0000\n",
      "Epoch 111/150\n",
      "97/97 [==============================] - 0s 1ms/step - loss: 6.2395e-05 - accuracy: 1.0000 - auc: 1.0000\n",
      "Epoch 112/150\n",
      "97/97 [==============================] - 0s 1ms/step - loss: 5.9756e-05 - accuracy: 1.0000 - auc: 1.0000\n",
      "Epoch 113/150\n",
      "97/97 [==============================] - 0s 1ms/step - loss: 5.7248e-05 - accuracy: 1.0000 - auc: 1.0000\n",
      "Epoch 114/150\n",
      "97/97 [==============================] - 0s 2ms/step - loss: 5.4846e-05 - accuracy: 1.0000 - auc: 1.0000\n",
      "Epoch 115/150\n",
      "97/97 [==============================] - 0s 2ms/step - loss: 5.2488e-05 - accuracy: 1.0000 - auc: 1.0000\n",
      "Epoch 116/150\n",
      "97/97 [==============================] - 0s 1ms/step - loss: 5.0241e-05 - accuracy: 1.0000 - auc: 1.0000\n",
      "Epoch 117/150\n",
      "97/97 [==============================] - 0s 1ms/step - loss: 4.8100e-05 - accuracy: 1.0000 - auc: 1.0000\n",
      "Epoch 118/150\n",
      "97/97 [==============================] - 0s 1ms/step - loss: 4.6021e-05 - accuracy: 1.0000 - auc: 1.0000\n",
      "Epoch 119/150\n",
      "97/97 [==============================] - 0s 1ms/step - loss: 4.3983e-05 - accuracy: 1.0000 - auc: 1.0000\n",
      "Epoch 120/150\n",
      "97/97 [==============================] - 0s 2ms/step - loss: 4.2049e-05 - accuracy: 1.0000 - auc: 1.0000\n",
      "Epoch 121/150\n",
      "97/97 [==============================] - 0s 2ms/step - loss: 4.0191e-05 - accuracy: 1.0000 - auc: 1.0000\n",
      "Epoch 122/150\n",
      "97/97 [==============================] - 0s 2ms/step - loss: 3.8430e-05 - accuracy: 1.0000 - auc: 1.0000\n",
      "Epoch 123/150\n",
      "97/97 [==============================] - 0s 2ms/step - loss: 3.6735e-05 - accuracy: 1.0000 - auc: 1.0000\n",
      "Epoch 124/150\n",
      "97/97 [==============================] - 0s 2ms/step - loss: 3.5113e-05 - accuracy: 1.0000 - auc: 1.0000\n",
      "Epoch 125/150\n",
      "97/97 [==============================] - 0s 2ms/step - loss: 3.3580e-05 - accuracy: 1.0000 - auc: 1.0000\n",
      "Epoch 126/150\n",
      "97/97 [==============================] - 0s 2ms/step - loss: 3.2085e-05 - accuracy: 1.0000 - auc: 1.0000\n",
      "Epoch 127/150\n",
      "97/97 [==============================] - 0s 2ms/step - loss: 3.0637e-05 - accuracy: 1.0000 - auc: 1.0000\n",
      "Epoch 128/150\n",
      "97/97 [==============================] - 0s 2ms/step - loss: 2.9253e-05 - accuracy: 1.0000 - auc: 1.0000\n",
      "Epoch 129/150\n",
      "97/97 [==============================] - 0s 2ms/step - loss: 2.7929e-05 - accuracy: 1.0000 - auc: 1.0000\n",
      "Epoch 130/150\n",
      "97/97 [==============================] - 0s 2ms/step - loss: 2.6676e-05 - accuracy: 1.0000 - auc: 1.0000\n",
      "Epoch 131/150\n",
      "97/97 [==============================] - 0s 2ms/step - loss: 2.5469e-05 - accuracy: 1.0000 - auc: 1.0000\n",
      "Epoch 132/150\n",
      "97/97 [==============================] - 0s 2ms/step - loss: 2.4326e-05 - accuracy: 1.0000 - auc: 1.0000\n",
      "Epoch 133/150\n",
      "97/97 [==============================] - 0s 2ms/step - loss: 2.3246e-05 - accuracy: 1.0000 - auc: 1.0000\n",
      "Epoch 134/150\n",
      "97/97 [==============================] - 0s 1ms/step - loss: 2.2798e-05 - accuracy: 1.0000 - auc: 1.0000\n",
      "Epoch 135/150\n",
      "97/97 [==============================] - 0s 1ms/step - loss: 2.1183e-05 - accuracy: 1.0000 - auc: 1.0000\n",
      "Epoch 136/150\n",
      "97/97 [==============================] - 0s 1ms/step - loss: 2.0228e-05 - accuracy: 1.0000 - auc: 1.0000\n",
      "Epoch 137/150\n",
      "97/97 [==============================] - 0s 2ms/step - loss: 1.9325e-05 - accuracy: 1.0000 - auc: 1.0000\n",
      "Epoch 138/150\n",
      "97/97 [==============================] - 0s 2ms/step - loss: 1.8458e-05 - accuracy: 1.0000 - auc: 1.0000\n",
      "Epoch 139/150\n",
      "97/97 [==============================] - 0s 2ms/step - loss: 1.7617e-05 - accuracy: 1.0000 - auc: 1.0000\n",
      "Epoch 140/150\n"
     ]
    },
    {
     "name": "stdout",
     "output_type": "stream",
     "text": [
      "97/97 [==============================] - 0s 2ms/step - loss: 1.6824e-05 - accuracy: 1.0000 - auc: 1.0000\n",
      "Epoch 141/150\n",
      "97/97 [==============================] - 0s 2ms/step - loss: 1.6060e-05 - accuracy: 1.0000 - auc: 1.0000\n",
      "Epoch 142/150\n",
      "97/97 [==============================] - 0s 2ms/step - loss: 1.5320e-05 - accuracy: 1.0000 - auc: 1.0000\n",
      "Epoch 143/150\n",
      "97/97 [==============================] - 0s 2ms/step - loss: 1.4617e-05 - accuracy: 1.0000 - auc: 1.0000\n",
      "Epoch 144/150\n",
      "97/97 [==============================] - 0s 2ms/step - loss: 1.3944e-05 - accuracy: 1.0000 - auc: 1.0000\n",
      "Epoch 145/150\n",
      "97/97 [==============================] - 0s 2ms/step - loss: 1.3312e-05 - accuracy: 1.0000 - auc: 1.0000\n",
      "Epoch 146/150\n",
      "97/97 [==============================] - 0s 2ms/step - loss: 1.2706e-05 - accuracy: 1.0000 - auc: 1.0000\n",
      "Epoch 147/150\n",
      "97/97 [==============================] - 0s 2ms/step - loss: 1.2128e-05 - accuracy: 1.0000 - auc: 1.0000\n",
      "Epoch 148/150\n",
      "97/97 [==============================] - 0s 1ms/step - loss: 1.1574e-05 - accuracy: 1.0000 - auc: 1.0000\n",
      "Epoch 149/150\n",
      "97/97 [==============================] - 0s 2ms/step - loss: 1.1038e-05 - accuracy: 1.0000 - auc: 1.0000\n",
      "Epoch 150/150\n",
      "97/97 [==============================] - 0s 1ms/step - loss: 1.0523e-05 - accuracy: 1.0000 - auc: 1.0000\n",
      "CPU times: user 45.7 s, sys: 6.56 s, total: 52.3 s\n",
      "Wall time: 28.9 s\n"
     ]
    },
    {
     "data": {
      "text/plain": [
       "<tensorflow.python.keras.callbacks.History at 0x7fde0d6f0ad0>"
      ]
     },
     "execution_count": 160,
     "metadata": {},
     "output_type": "execute_result"
    }
   ],
   "source": [
    "%%time\n",
    "model_raw_inceptionv3_transformed.fit(train_inceptionv3_transformed,\n",
    "                            train_inceptionv3['target'],\n",
    "                            epochs=150, batch_size=10)"
   ]
  },
  {
   "cell_type": "markdown",
   "metadata": {},
   "source": [
    "#### Metrics per iteration for Dense Net"
   ]
  },
  {
   "cell_type": "code",
   "execution_count": 161,
   "metadata": {},
   "outputs": [
    {
     "data": {
      "image/png": "[encoded data removed]",
      "text/plain": [
       "<Figure size 432x288 with 1 Axes>"
      ]
     },
     "metadata": {
      "needs_background": "light"
     },
     "output_type": "display_data"
    }
   ],
   "source": [
    "plt.plot(model_raw_inceptionv3_transformed.history.history['auc']);\n",
    "plt.title('ROC-AUC per number of iterations');\n",
    "plt.xlabel('N iterations');\n",
    "plt.ylabel('ROC AUC');"
   ]
  },
  {
   "cell_type": "code",
   "execution_count": 162,
   "metadata": {},
   "outputs": [
    {
     "data": {
      "image/png": "[encoded data removed]",
      "text/plain": [
       "<Figure size 432x288 with 1 Axes>"
      ]
     },
     "metadata": {
      "needs_background": "light"
     },
     "output_type": "display_data"
    }
   ],
   "source": [
    "plt.plot(model_raw_inceptionv3_transformed.history.history['accuracy']);\n",
    "plt.title('ROC-AUC per number of iterations');\n",
    "plt.xlabel('N iterations');\n",
    "plt.ylabel('ROC AUC');"
   ]
  },
  {
   "cell_type": "markdown",
   "metadata": {},
   "source": [
    "### Logistic Regression"
   ]
  },
  {
   "cell_type": "code",
   "execution_count": 163,
   "metadata": {},
   "outputs": [],
   "source": [
    "log_reg_inceptionv3_transformed = LogisticRegression(random_state=42)"
   ]
  },
  {
   "cell_type": "code",
   "execution_count": 164,
   "metadata": {},
   "outputs": [
    {
     "name": "stdout",
     "output_type": "stream",
     "text": [
      "CPU times: user 121 ms, sys: 4.03 ms, total: 125 ms\n",
      "Wall time: 63.5 ms\n"
     ]
    },
    {
     "name": "stderr",
     "output_type": "stream",
     "text": [
      "/opt/conda/lib/python3.7/site-packages/sklearn/linear_model/_logistic.py:764: ConvergenceWarning: lbfgs failed to converge (status=1):\n",
      "STOP: TOTAL NO. of ITERATIONS REACHED LIMIT.\n",
      "\n",
      "Increase the number of iterations (max_iter) or scale the data as shown in:\n",
      "    https://scikit-learn.org/stable/modules/preprocessing.html\n",
      "Please also refer to the documentation for alternative solver options:\n",
      "    https://scikit-learn.org/stable/modules/linear_model.html#logistic-regression\n",
      "  extra_warning_msg=_LOGISTIC_SOLVER_CONVERGENCE_MSG)\n"
     ]
    },
    {
     "data": {
      "text/plain": [
       "LogisticRegression(random_state=42)"
      ]
     },
     "execution_count": 164,
     "metadata": {},
     "output_type": "execute_result"
    }
   ],
   "source": [
    "%%time\n",
    "log_reg_inceptionv3_transformed.fit(train_inceptionv3_transformed, \n",
    "                          train_inceptionv3['target'])"
   ]
  },
  {
   "cell_type": "markdown",
   "metadata": {},
   "source": [
    "### GradientBoositng"
   ]
  },
  {
   "cell_type": "code",
   "execution_count": 165,
   "metadata": {},
   "outputs": [],
   "source": [
    "gbr_inceptionv3_transformed = GradientBoostingClassifier(random_state=42)"
   ]
  },
  {
   "cell_type": "code",
   "execution_count": 166,
   "metadata": {},
   "outputs": [
    {
     "name": "stdout",
     "output_type": "stream",
     "text": [
      "CPU times: user 13.9 s, sys: 0 ns, total: 13.9 s\n",
      "Wall time: 14 s\n"
     ]
    },
    {
     "data": {
      "text/plain": [
       "GradientBoostingClassifier(random_state=42)"
      ]
     },
     "execution_count": 166,
     "metadata": {},
     "output_type": "execute_result"
    }
   ],
   "source": [
    "%%time\n",
    "gbr_inceptionv3_transformed.fit(train_inceptionv3_transformed, train_inceptionv3['target'])"
   ]
  },
  {
   "cell_type": "markdown",
   "metadata": {},
   "source": [
    "### RandomForest"
   ]
  },
  {
   "cell_type": "code",
   "execution_count": 167,
   "metadata": {},
   "outputs": [],
   "source": [
    "rf_inceptionv3_transformed = RandomForestClassifier(random_state=42)"
   ]
  },
  {
   "cell_type": "code",
   "execution_count": 168,
   "metadata": {},
   "outputs": [
    {
     "name": "stdout",
     "output_type": "stream",
     "text": [
      "CPU times: user 1.83 s, sys: 0 ns, total: 1.83 s\n",
      "Wall time: 1.85 s\n"
     ]
    },
    {
     "data": {
      "text/plain": [
       "RandomForestClassifier(random_state=42)"
      ]
     },
     "execution_count": 168,
     "metadata": {},
     "output_type": "execute_result"
    }
   ],
   "source": [
    "%%time\n",
    "rf_inceptionv3_transformed.fit(train_inceptionv3_transformed, train_inceptionv3['target'])"
   ]
  },
  {
   "cell_type": "markdown",
   "metadata": {},
   "source": [
    "# Calculate metrics"
   ]
  },
  {
   "cell_type": "code",
   "execution_count": 169,
   "metadata": {},
   "outputs": [],
   "source": [
    "train_datasets = (train_vgg16, train_vgg19, train_resnet50, train_efficient_net, \n",
    "                 train_inceptionv3)\n",
    "\n",
    "test_datasets = (test_vgg16, test_vgg19, test_resnet50, test_efficient_net, \n",
    "                 test_inceptionv3)\n",
    "\n",
    "\n",
    "train_datasets_transformed = (train_vgg16_transformed, train_vgg19_transformed, \n",
    "                             train_resnet50_transformed, train_efficient_net_transformed,\n",
    "                             train_inceptionv3_transformed)\n",
    "\n",
    "test_datasets_transformed = (test_vgg16_transformed, test_vgg19_transformed,\n",
    "                            test_resnet50_transformed, test_efficient_net_transformed,\n",
    "                            test_inceptionv3_transformed)"
   ]
  },
  {
   "cell_type": "code",
   "execution_count": 197,
   "metadata": {},
   "outputs": [],
   "source": [
    "models_vgg16 = (model_raw_vgg16, log_reg, svc, gbr, rf)\n",
    "models_vgg16_titles = ('Dense Net, VGG16', 'Logistic Regression, VGG16',\n",
    "                      'SVC, VGG16', 'Gradient Boosting, VGG16',\n",
    "                      'Random Forest, VGG16')\n",
    "\n",
    "models_vgg19 = (model_raw_vgg19, log_reg_vgg19, svc_vgg19, gbr_vgg19, rf_vgg19)\n",
    "models_vgg19_titles = ('Dense Net, VGG19', 'Logistic Regression, VGG19',\n",
    "                      'SVC, VGG19', 'Gradient Boosting, VGG19',\n",
    "                      'Random Forest, VGG19')\n",
    "\n",
    "models_resnet50 = (model_raw_resnet50, log_reg_resnet50, svc_resnet50, gbr_resnet50,\n",
    "                   rf_resnet50)\n",
    "models_resnet50_titles = ('Dense Net, Resnet50', 'Logistic Regression, Resnet50',\n",
    "                          'SVC, Resnet50', 'Gradient Boosting, Resnet50',\n",
    "                          'Random Forest, Resnet50')\n",
    "\n",
    "models_efficient_net = (model_raw_efficient_net, log_reg_efficient_net,\n",
    "                        svc_efficient_net, gbr_efficient_net, rf_efficient_net)\n",
    "models_efficient_net_titles = ('Dense Net, EfficientNet', 'Logistic Regression, EfficientNet',\n",
    "                               'SVC, EfficientNet', 'Gradient Boosting, EfficientNet',\n",
    "                               'Random Forest, EfficientNet')\n",
    "\n",
    "models_inceptionv3 = (model_raw_inceptionv3, log_reg_inceptionv3,\n",
    "                        svc_inceptionv3, gbr_inceptionv3, rf_inceptionv3)\n",
    "models_inceptionv3_titles = ('Dense Net, InceptionV3', 'Logistic Regression, InceptionV3',\n",
    "                             'SVC, InceptionV3', 'Gradient Boosting, InceptionV3',\n",
    "                             'Random Forest, InceptionV3')"
   ]
  },
  {
   "cell_type": "code",
   "execution_count": 171,
   "metadata": {},
   "outputs": [],
   "source": [
    "models_vgg16_transformed = (model_raw_vgg16_transformed, log_reg_vgg16_transformed,\n",
    "                            svc_vgg16_transformed, gbr_vgg16_transformed, rf_vgg16_transformed)\n",
    "models_vgg16_titles_transformed = ('Dense Net, VGG16 + PCA', 'Logistic Regression, VGG16 + PCA',\n",
    "                                   'SVC, VGG16 + PCA', 'Gradient Boosting, VGG16 + PCA',\n",
    "                                   'Random Forest, VGG16 + PCA')\n",
    "\n",
    "models_vgg19_transformed = (model_raw_vgg19_transformed, log_reg_vgg19_transformed,\n",
    "                            svc_vgg19_transformed, gbr_vgg19_transformed,\n",
    "                            rf_vgg19_transformed)\n",
    "models_vgg19_titles_transformed = ('Dense Net, VGG19 + PCA', 'Logistic Regression, VGG19 + PCA',\n",
    "                                   'SVC, VGG19 + PCA', 'Gradient Boosting, VGG19 + PCA',\n",
    "                                   'Random Forest, VGG19 + PCA')\n",
    "\n",
    "models_resnet50_transformed = (model_raw_resnet50_transformed, log_reg_resnet50_transformed,\n",
    "                               svc_resnet50_transformed, gbr_resnet50_transformed,\n",
    "                               rf_resnet50_transformed)\n",
    "\n",
    "models_resnet50_titles_transformed = ('Dense Net, Resnet50 + PCA',\n",
    "                                      'Logistic Regression, Resnet50 + PCA',\n",
    "                                      'SVC, Resnet50 + PCA', 'Gradient Boosting, Resnet50 + PCA',\n",
    "                                      'Random Forest, Resnet50 + PCA')\n",
    "\n",
    "models_efficient_net_transformed = (model_raw_efficient_net_transformed,\n",
    "                                    log_reg_efficient_net_transformed,\n",
    "                                    svc_efficient_net_transformed,\n",
    "                                    gbr_efficient_net_transformed,\n",
    "                                    rf_efficient_net_transformed)\n",
    "\n",
    "models_efficient_net_titles_transformed = ('Dense Net, EfficientNet + PCA',\n",
    "                                           'Logistic Regression, EfficientNet + PCA',\n",
    "                                           'SVC, EfficientNet + PCA',\n",
    "                                           'Gradient Boosting, EfficientNet + PCA',\n",
    "                                           'Random Forest, EfficientNet + PCA')\n",
    "\n",
    "models_inceptionv3_transformed = (model_raw_inceptionv3_transformed,\n",
    "                                  log_reg_inceptionv3_transformed,\n",
    "                                  svc_inceptionv3_transformed,\n",
    "                                  gbr_inceptionv3_transformed,\n",
    "                                  rf_inceptionv3_transformed)\n",
    "\n",
    "models_inceptionv3_titles_transformed = ('Dense Net, InceptionV3 + PCA',\n",
    "                                         'Logistic Regression, InceptionV3 + PCA',\n",
    "                                         'SVC, InceptionV3 + PCA',\n",
    "                                         'Gradient Boosting, InceptionV3 + PCA',\n",
    "                                         'Random Forest, InceptionV3 + PCA')"
   ]
  },
  {
   "cell_type": "code",
   "execution_count": 173,
   "metadata": {},
   "outputs": [],
   "source": [
    "all_models_titles = models_vgg16_titles+models_vgg19_titles+models_resnet50_titles+\\\n",
    "models_efficient_net_titles + models_inceptionv3_titles\n",
    "\n",
    "all_models_titles_transformed = models_vgg16_titles_transformed+\\\n",
    "models_vgg19_titles_transformed+models_resnet50_titles_transformed+\\\n",
    "models_efficient_net_titles_transformed + models_inceptionv3_titles_transformed\n",
    "\n",
    "all_models_titles_final = all_models_titles + all_models_titles_transformed"
   ]
  },
  {
   "cell_type": "code",
   "execution_count": 174,
   "metadata": {},
   "outputs": [
    {
     "data": {
      "text/plain": [
       "50"
      ]
     },
     "execution_count": 174,
     "metadata": {},
     "output_type": "execute_result"
    }
   ],
   "source": [
    "len(all_models_titles_final)"
   ]
  },
  {
   "cell_type": "code",
   "execution_count": 175,
   "metadata": {},
   "outputs": [],
   "source": [
    "index_metrics = pd.MultiIndex.from_product((all_models_titles_final, ('train', 'test')))\n",
    "columns_metrics = ['Accuracy', 'AUC', 'F1', 'Recall', 'Precision']"
   ]
  },
  {
   "cell_type": "code",
   "execution_count": 177,
   "metadata": {},
   "outputs": [],
   "source": [
    "metrics_functions = (accuracy_score, roc_auc_score, f1_score, recall_score, precision_score)"
   ]
  },
  {
   "cell_type": "code",
   "execution_count": 225,
   "metadata": {},
   "outputs": [],
   "source": [
    "metrics_df = pd.DataFrame(index=index_metrics, columns=columns_metrics)"
   ]
  },
  {
   "cell_type": "code",
   "execution_count": 202,
   "metadata": {},
   "outputs": [],
   "source": [
    "def calculate_models_metrics(metrics_df, train_data, test_data, models, models_titles,\n",
    "                            metrics=metrics_functions, metrics_titles=columns_metrics):\n",
    "    for model, title in zip(models, models_titles):\n",
    "        for metric, metric_title in zip(metrics, metrics_titles):\n",
    "            try:\n",
    "                metrics_df.loc[(title, 'train'), metric_title] = metric(\n",
    "                    train_data['target'], model.predict(train_data[train_data.columns[2:]]))\n",
    "\n",
    "                metrics_df.loc[(title, 'test'), metric_title] = metric(\n",
    "                    test_data['target'], model.predict(test_data[test_data.columns[2:]]))\n",
    "            except ValueError:\n",
    "                metrics_df.loc[(title, 'train'), metric_title] = metric(\n",
    "                    train_data['target'], \n",
    "                    model.predict(train_data[train_data.columns[2:]]).flatten() > 0.5)\n",
    "\n",
    "                metrics_df.loc[(title, 'test'), metric_title] = metric(\n",
    "                    test_data['target'], \n",
    "                    model.predict(test_data[test_data.columns[2:]]).flatten() > 0.5)\n",
    "                \n",
    "    return metrics_df\n",
    "\n",
    "\n",
    "def calculate_models_metrics_transformed(metrics_df, train_data, test_data, train_target,test_target,\n",
    "                                         models, models_titles,\n",
    "                                         metrics=metrics_functions,\n",
    "                                         metrics_titles=columns_metrics):\n",
    "    for model, title in zip(models, models_titles):\n",
    "        for metric, metric_title in zip(metrics, metrics_titles):\n",
    "            try:\n",
    "                metrics_df.loc[(title, 'train'), metric_title] = metric(\n",
    "                    train_target, model.predict(train_data))\n",
    "\n",
    "                metrics_df.loc[(title, 'test'), metric_title] = metric(\n",
    "                    test_target, model.predict(test_data))\n",
    "            except ValueError:\n",
    "                metrics_df.loc[(title, 'train'), metric_title] = metric(\n",
    "                    train_target, \n",
    "                    model.predict(train_data).flatten() > 0.5)\n",
    "\n",
    "                metrics_df.loc[(title, 'test'), metric_title] = metric(\n",
    "                    test_target, \n",
    "                    model.predict(test_data).flatten() > 0.5)\n",
    "                \n",
    "    return metrics_df"
   ]
  },
  {
   "cell_type": "code",
   "execution_count": 226,
   "metadata": {},
   "outputs": [],
   "source": [
    "metrics_df = calculate_models_metrics(metrics_df, train_vgg16, test_vgg16, models_vgg16,\n",
    "                                     models_vgg16_titles)"
   ]
  },
  {
   "cell_type": "code",
   "execution_count": 227,
   "metadata": {},
   "outputs": [
    {
     "name": "stderr",
     "output_type": "stream",
     "text": [
      "/opt/conda/lib/python3.7/site-packages/sklearn/metrics/_classification.py:1221: UndefinedMetricWarning: Precision is ill-defined and being set to 0.0 due to no predicted samples. Use `zero_division` parameter to control this behavior.\n",
      "  _warn_prf(average, modifier, msg_start, len(result))\n"
     ]
    }
   ],
   "source": [
    "metrics_df = calculate_models_metrics(metrics_df, train_vgg19, test_vgg19, models_vgg19,\n",
    "                                     models_vgg19_titles)"
   ]
  },
  {
   "cell_type": "code",
   "execution_count": 228,
   "metadata": {},
   "outputs": [
    {
     "name": "stderr",
     "output_type": "stream",
     "text": [
      "/opt/conda/lib/python3.7/site-packages/sklearn/metrics/_classification.py:1221: UndefinedMetricWarning: Precision is ill-defined and being set to 0.0 due to no predicted samples. Use `zero_division` parameter to control this behavior.\n",
      "  _warn_prf(average, modifier, msg_start, len(result))\n"
     ]
    }
   ],
   "source": [
    "metrics_df = calculate_models_metrics(metrics_df, train_resnet50, test_resnet50, models_resnet50,\n",
    "                                     models_resnet50_titles)"
   ]
  },
  {
   "cell_type": "code",
   "execution_count": 229,
   "metadata": {},
   "outputs": [],
   "source": [
    "metrics_df = calculate_models_metrics(metrics_df, train_efficient_net,\n",
    "                                      test_efficient_net, models_efficient_net,\n",
    "                                     models_efficient_net_titles)"
   ]
  },
  {
   "cell_type": "code",
   "execution_count": 230,
   "metadata": {},
   "outputs": [],
   "source": [
    "metrics_df = calculate_models_metrics(metrics_df, train_inceptionv3,\n",
    "                                      test_inceptionv3, models_inceptionv3,\n",
    "                                     models_inceptionv3_titles)"
   ]
  },
  {
   "cell_type": "code",
   "execution_count": 231,
   "metadata": {},
   "outputs": [
    {
     "name": "stderr",
     "output_type": "stream",
     "text": [
      "/opt/conda/lib/python3.7/site-packages/sklearn/metrics/_classification.py:1221: UndefinedMetricWarning: Precision is ill-defined and being set to 0.0 due to no predicted samples. Use `zero_division` parameter to control this behavior.\n",
      "  _warn_prf(average, modifier, msg_start, len(result))\n"
     ]
    }
   ],
   "source": [
    "metrics_df = calculate_models_metrics_transformed(metrics_df, train_vgg16_transformed,\n",
    "                                                  test_vgg16_transformed, train_vgg16['target'],\n",
    "                                                  test_vgg16['target'],\n",
    "                                                  models_vgg16_transformed,\n",
    "                                                  models_vgg16_titles_transformed)"
   ]
  },
  {
   "cell_type": "code",
   "execution_count": 232,
   "metadata": {},
   "outputs": [
    {
     "name": "stderr",
     "output_type": "stream",
     "text": [
      "/opt/conda/lib/python3.7/site-packages/sklearn/metrics/_classification.py:1221: UndefinedMetricWarning: Precision is ill-defined and being set to 0.0 due to no predicted samples. Use `zero_division` parameter to control this behavior.\n",
      "  _warn_prf(average, modifier, msg_start, len(result))\n",
      "/opt/conda/lib/python3.7/site-packages/sklearn/metrics/_classification.py:1221: UndefinedMetricWarning: Precision is ill-defined and being set to 0.0 due to no predicted samples. Use `zero_division` parameter to control this behavior.\n",
      "  _warn_prf(average, modifier, msg_start, len(result))\n"
     ]
    }
   ],
   "source": [
    "metrics_df = calculate_models_metrics_transformed(metrics_df, train_vgg19_transformed,\n",
    "                                      test_vgg19_transformed,train_vgg19['target'],\n",
    "                                     test_vgg19['target'], models_vgg19_transformed,\n",
    "                                     models_vgg19_titles_transformed)"
   ]
  },
  {
   "cell_type": "code",
   "execution_count": 233,
   "metadata": {},
   "outputs": [
    {
     "name": "stderr",
     "output_type": "stream",
     "text": [
      "/opt/conda/lib/python3.7/site-packages/sklearn/metrics/_classification.py:1221: UndefinedMetricWarning: Precision is ill-defined and being set to 0.0 due to no predicted samples. Use `zero_division` parameter to control this behavior.\n",
      "  _warn_prf(average, modifier, msg_start, len(result))\n"
     ]
    }
   ],
   "source": [
    "metrics_df = calculate_models_metrics_transformed(metrics_df, train_resnet50_transformed,\n",
    "                                      test_resnet50_transformed, train_resnet50['target'],\n",
    "                                      test_resnet50['target'], models_resnet50_transformed,\n",
    "                                     models_resnet50_titles_transformed)"
   ]
  },
  {
   "cell_type": "code",
   "execution_count": 234,
   "metadata": {},
   "outputs": [],
   "source": [
    "metrics_df = calculate_models_metrics_transformed(metrics_df, train_inceptionv3_transformed,\n",
    "                                      test_inceptionv3_transformed,\n",
    "                                      train_inceptionv3['target'],\n",
    "                                      test_inceptionv3['target'],\n",
    "                                      models_inceptionv3_transformed,\n",
    "                                     models_inceptionv3_titles_transformed)"
   ]
  },
  {
   "cell_type": "code",
   "execution_count": 235,
   "metadata": {},
   "outputs": [],
   "source": [
    "metrics_df = calculate_models_metrics_transformed(metrics_df, train_efficient_net_transformed,\n",
    "                                      test_efficient_net_transformed,\n",
    "                                      train_efficient_net['target'],\n",
    "                                      test_efficient_net['target'],\n",
    "                                      models_efficient_net_transformed,\n",
    "                                     models_efficient_net_titles_transformed)"
   ]
  },
  {
   "cell_type": "code",
   "execution_count": 236,
   "metadata": {},
   "outputs": [
    {
     "data": {
      "text/html": [
       "<div>\n",
       "<style scoped>\n",
       "    .dataframe tbody tr th:only-of-type {\n",
       "        vertical-align: middle;\n",
       "    }\n",
       "\n",
       "    .dataframe tbody tr th {\n",
       "        vertical-align: top;\n",
       "    }\n",
       "\n",
       "    .dataframe thead th {\n",
       "        text-align: right;\n",
       "    }\n",
       "</style>\n",
       "<table border=\"1\" class=\"dataframe\">\n",
       "  <thead>\n",
       "    <tr style=\"text-align: right;\">\n",
       "      <th></th>\n",
       "      <th></th>\n",
       "      <th>Accuracy</th>\n",
       "      <th>AUC</th>\n",
       "      <th>F1</th>\n",
       "      <th>Recall</th>\n",
       "      <th>Precision</th>\n",
       "    </tr>\n",
       "  </thead>\n",
       "  <tbody>\n",
       "    <tr>\n",
       "      <th rowspan=\"2\" valign=\"top\">Dense Net, VGG16</th>\n",
       "      <th>train</th>\n",
       "      <td>0.973113</td>\n",
       "      <td>0.986961</td>\n",
       "      <td>0.941964</td>\n",
       "      <td>1</td>\n",
       "      <td>0.890295</td>\n",
       "    </tr>\n",
       "    <tr>\n",
       "      <th>test</th>\n",
       "      <td>0.809639</td>\n",
       "      <td>0.655504</td>\n",
       "      <td>0.324786</td>\n",
       "      <td>0.211111</td>\n",
       "      <td>0.703704</td>\n",
       "    </tr>\n",
       "    <tr>\n",
       "      <th rowspan=\"2\" valign=\"top\">Logistic Regression, VGG16</th>\n",
       "      <th>train</th>\n",
       "      <td>1</td>\n",
       "      <td>1</td>\n",
       "      <td>1</td>\n",
       "      <td>1</td>\n",
       "      <td>1</td>\n",
       "    </tr>\n",
       "    <tr>\n",
       "      <th>test</th>\n",
       "      <td>0.816867</td>\n",
       "      <td>0.60188</td>\n",
       "      <td>0.344828</td>\n",
       "      <td>0.222222</td>\n",
       "      <td>0.769231</td>\n",
       "    </tr>\n",
       "    <tr>\n",
       "      <th>SVC, VGG16</th>\n",
       "      <th>train</th>\n",
       "      <td>0.892451</td>\n",
       "      <td>0.753555</td>\n",
       "      <td>0.672956</td>\n",
       "      <td>0.507109</td>\n",
       "      <td>1</td>\n",
       "    </tr>\n",
       "  </tbody>\n",
       "</table>\n",
       "</div>"
      ],
      "text/plain": [
       "                                  Accuracy       AUC        F1    Recall  \\\n",
       "Dense Net, VGG16           train  0.973113  0.986961  0.941964         1   \n",
       "                           test   0.809639  0.655504  0.324786  0.211111   \n",
       "Logistic Regression, VGG16 train         1         1         1         1   \n",
       "                           test   0.816867   0.60188  0.344828  0.222222   \n",
       "SVC, VGG16                 train  0.892451  0.753555  0.672956  0.507109   \n",
       "\n",
       "                                 Precision  \n",
       "Dense Net, VGG16           train  0.890295  \n",
       "                           test   0.703704  \n",
       "Logistic Regression, VGG16 train         1  \n",
       "                           test   0.769231  \n",
       "SVC, VGG16                 train         1  "
      ]
     },
     "execution_count": 236,
     "metadata": {},
     "output_type": "execute_result"
    }
   ],
   "source": [
    "metrics_df.head()"
   ]
  },
  {
   "cell_type": "code",
   "execution_count": 237,
   "metadata": {},
   "outputs": [],
   "source": [
    "pd.set_option('display.max.rows', None)"
   ]
  },
  {
   "cell_type": "code",
   "execution_count": 238,
   "metadata": {},
   "outputs": [
    {
     "data": {
      "text/html": [
       "<div>\n",
       "<style scoped>\n",
       "    .dataframe tbody tr th:only-of-type {\n",
       "        vertical-align: middle;\n",
       "    }\n",
       "\n",
       "    .dataframe tbody tr th {\n",
       "        vertical-align: top;\n",
       "    }\n",
       "\n",
       "    .dataframe thead th {\n",
       "        text-align: right;\n",
       "    }\n",
       "</style>\n",
       "<table border=\"1\" class=\"dataframe\">\n",
       "  <thead>\n",
       "    <tr style=\"text-align: right;\">\n",
       "      <th></th>\n",
       "      <th></th>\n",
       "      <th>Accuracy</th>\n",
       "      <th>AUC</th>\n",
       "      <th>F1</th>\n",
       "      <th>Recall</th>\n",
       "      <th>Precision</th>\n",
       "    </tr>\n",
       "  </thead>\n",
       "  <tbody>\n",
       "    <tr>\n",
       "      <th rowspan=\"2\" valign=\"top\">Dense Net, VGG16</th>\n",
       "      <th>train</th>\n",
       "      <td>0.973113</td>\n",
       "      <td>0.986961</td>\n",
       "      <td>0.941964</td>\n",
       "      <td>1</td>\n",
       "      <td>0.890295</td>\n",
       "    </tr>\n",
       "    <tr>\n",
       "      <th>test</th>\n",
       "      <td>0.809639</td>\n",
       "      <td>0.655504</td>\n",
       "      <td>0.324786</td>\n",
       "      <td>0.211111</td>\n",
       "      <td>0.703704</td>\n",
       "    </tr>\n",
       "    <tr>\n",
       "      <th rowspan=\"2\" valign=\"top\">Logistic Regression, VGG16</th>\n",
       "      <th>train</th>\n",
       "      <td>1</td>\n",
       "      <td>1</td>\n",
       "      <td>1</td>\n",
       "      <td>1</td>\n",
       "      <td>1</td>\n",
       "    </tr>\n",
       "    <tr>\n",
       "      <th>test</th>\n",
       "      <td>0.816867</td>\n",
       "      <td>0.60188</td>\n",
       "      <td>0.344828</td>\n",
       "      <td>0.222222</td>\n",
       "      <td>0.769231</td>\n",
       "    </tr>\n",
       "    <tr>\n",
       "      <th rowspan=\"2\" valign=\"top\">SVC, VGG16</th>\n",
       "      <th>train</th>\n",
       "      <td>0.892451</td>\n",
       "      <td>0.753555</td>\n",
       "      <td>0.672956</td>\n",
       "      <td>0.507109</td>\n",
       "      <td>1</td>\n",
       "    </tr>\n",
       "    <tr>\n",
       "      <th>test</th>\n",
       "      <td>0.785542</td>\n",
       "      <td>0.505556</td>\n",
       "      <td>0.021978</td>\n",
       "      <td>0.0111111</td>\n",
       "      <td>1</td>\n",
       "    </tr>\n",
       "    <tr>\n",
       "      <th rowspan=\"2\" valign=\"top\">Gradient Boosting, VGG16</th>\n",
       "      <th>train</th>\n",
       "      <td>0.980352</td>\n",
       "      <td>0.954976</td>\n",
       "      <td>0.952854</td>\n",
       "      <td>0.909953</td>\n",
       "      <td>1</td>\n",
       "    </tr>\n",
       "    <tr>\n",
       "      <th>test</th>\n",
       "      <td>0.812048</td>\n",
       "      <td>0.582735</td>\n",
       "      <td>0.290909</td>\n",
       "      <td>0.177778</td>\n",
       "      <td>0.8</td>\n",
       "    </tr>\n",
       "    <tr>\n",
       "      <th rowspan=\"2\" valign=\"top\">Random Forest, VGG16</th>\n",
       "      <th>train</th>\n",
       "      <td>1</td>\n",
       "      <td>1</td>\n",
       "      <td>1</td>\n",
       "      <td>1</td>\n",
       "      <td>1</td>\n",
       "    </tr>\n",
       "    <tr>\n",
       "      <th>test</th>\n",
       "      <td>0.792771</td>\n",
       "      <td>0.522222</td>\n",
       "      <td>0.0851064</td>\n",
       "      <td>0.0444444</td>\n",
       "      <td>1</td>\n",
       "    </tr>\n",
       "    <tr>\n",
       "      <th rowspan=\"2\" valign=\"top\">Dense Net, VGG19</th>\n",
       "      <th>train</th>\n",
       "      <td>0.995863</td>\n",
       "      <td>0.999837</td>\n",
       "      <td>0.990431</td>\n",
       "      <td>0.981043</td>\n",
       "      <td>1</td>\n",
       "    </tr>\n",
       "    <tr>\n",
       "      <th>test</th>\n",
       "      <td>0.795181</td>\n",
       "      <td>0.489641</td>\n",
       "      <td>0.205607</td>\n",
       "      <td>0.122222</td>\n",
       "      <td>0.647059</td>\n",
       "    </tr>\n",
       "    <tr>\n",
       "      <th rowspan=\"2\" valign=\"top\">Logistic Regression, VGG19</th>\n",
       "      <th>train</th>\n",
       "      <td>1</td>\n",
       "      <td>1</td>\n",
       "      <td>1</td>\n",
       "      <td>1</td>\n",
       "      <td>1</td>\n",
       "    </tr>\n",
       "    <tr>\n",
       "      <th>test</th>\n",
       "      <td>0.807229</td>\n",
       "      <td>0.603761</td>\n",
       "      <td>0.354839</td>\n",
       "      <td>0.244444</td>\n",
       "      <td>0.647059</td>\n",
       "    </tr>\n",
       "    <tr>\n",
       "      <th rowspan=\"2\" valign=\"top\">SVC, VGG19</th>\n",
       "      <th>train</th>\n",
       "      <td>0.885212</td>\n",
       "      <td>0.736967</td>\n",
       "      <td>0.643087</td>\n",
       "      <td>0.473934</td>\n",
       "      <td>1</td>\n",
       "    </tr>\n",
       "    <tr>\n",
       "      <th>test</th>\n",
       "      <td>0.783133</td>\n",
       "      <td>0.5</td>\n",
       "      <td>0</td>\n",
       "      <td>0</td>\n",
       "      <td>0</td>\n",
       "    </tr>\n",
       "    <tr>\n",
       "      <th rowspan=\"2\" valign=\"top\">Gradient Boosting, VGG19</th>\n",
       "      <th>train</th>\n",
       "      <td>0.988625</td>\n",
       "      <td>0.973934</td>\n",
       "      <td>0.973236</td>\n",
       "      <td>0.947867</td>\n",
       "      <td>1</td>\n",
       "    </tr>\n",
       "    <tr>\n",
       "      <th>test</th>\n",
       "      <td>0.783133</td>\n",
       "      <td>0.520085</td>\n",
       "      <td>0.1</td>\n",
       "      <td>0.0555556</td>\n",
       "      <td>0.5</td>\n",
       "    </tr>\n",
       "    <tr>\n",
       "      <th rowspan=\"2\" valign=\"top\">Random Forest, VGG19</th>\n",
       "      <th>train</th>\n",
       "      <td>1</td>\n",
       "      <td>1</td>\n",
       "      <td>1</td>\n",
       "      <td>1</td>\n",
       "      <td>1</td>\n",
       "    </tr>\n",
       "    <tr>\n",
       "      <th>test</th>\n",
       "      <td>0.787952</td>\n",
       "      <td>0.515128</td>\n",
       "      <td>0.0638298</td>\n",
       "      <td>0.0333333</td>\n",
       "      <td>0.75</td>\n",
       "    </tr>\n",
       "    <tr>\n",
       "      <th rowspan=\"2\" valign=\"top\">Dense Net, Resnet50</th>\n",
       "      <th>train</th>\n",
       "      <td>0.998966</td>\n",
       "      <td>0.999342</td>\n",
       "      <td>0.997636</td>\n",
       "      <td>1</td>\n",
       "      <td>0.995283</td>\n",
       "    </tr>\n",
       "    <tr>\n",
       "      <th>test</th>\n",
       "      <td>0.792771</td>\n",
       "      <td>0.684838</td>\n",
       "      <td>0.203704</td>\n",
       "      <td>0.122222</td>\n",
       "      <td>0.611111</td>\n",
       "    </tr>\n",
       "    <tr>\n",
       "      <th rowspan=\"2\" valign=\"top\">Logistic Regression, Resnet50</th>\n",
       "      <th>train</th>\n",
       "      <td>1</td>\n",
       "      <td>1</td>\n",
       "      <td>1</td>\n",
       "      <td>1</td>\n",
       "      <td>1</td>\n",
       "    </tr>\n",
       "    <tr>\n",
       "      <th>test</th>\n",
       "      <td>0.790361</td>\n",
       "      <td>0.556838</td>\n",
       "      <td>0.230088</td>\n",
       "      <td>0.144444</td>\n",
       "      <td>0.565217</td>\n",
       "    </tr>\n",
       "    <tr>\n",
       "      <th rowspan=\"2\" valign=\"top\">SVC, Resnet50</th>\n",
       "      <th>train</th>\n",
       "      <td>0.913133</td>\n",
       "      <td>0.800948</td>\n",
       "      <td>0.751479</td>\n",
       "      <td>0.601896</td>\n",
       "      <td>1</td>\n",
       "    </tr>\n",
       "    <tr>\n",
       "      <th>test</th>\n",
       "      <td>0.783133</td>\n",
       "      <td>0.5</td>\n",
       "      <td>0</td>\n",
       "      <td>0</td>\n",
       "      <td>0</td>\n",
       "    </tr>\n",
       "    <tr>\n",
       "      <th rowspan=\"2\" valign=\"top\">Gradient Boosting, Resnet50</th>\n",
       "      <th>train</th>\n",
       "      <td>1</td>\n",
       "      <td>1</td>\n",
       "      <td>1</td>\n",
       "      <td>1</td>\n",
       "      <td>1</td>\n",
       "    </tr>\n",
       "    <tr>\n",
       "      <th>test</th>\n",
       "      <td>0.790361</td>\n",
       "      <td>0.528718</td>\n",
       "      <td>0.121212</td>\n",
       "      <td>0.0666667</td>\n",
       "      <td>0.666667</td>\n",
       "    </tr>\n",
       "    <tr>\n",
       "      <th rowspan=\"2\" valign=\"top\">Random Forest, Resnet50</th>\n",
       "      <th>train</th>\n",
       "      <td>1</td>\n",
       "      <td>1</td>\n",
       "      <td>1</td>\n",
       "      <td>1</td>\n",
       "      <td>1</td>\n",
       "    </tr>\n",
       "    <tr>\n",
       "      <th>test</th>\n",
       "      <td>0.783133</td>\n",
       "      <td>0.508034</td>\n",
       "      <td>0.0425532</td>\n",
       "      <td>0.0222222</td>\n",
       "      <td>0.5</td>\n",
       "    </tr>\n",
       "    <tr>\n",
       "      <th rowspan=\"2\" valign=\"top\">Dense Net, EfficientNet</th>\n",
       "      <th>train</th>\n",
       "      <td>1</td>\n",
       "      <td>1</td>\n",
       "      <td>1</td>\n",
       "      <td>1</td>\n",
       "      <td>1</td>\n",
       "    </tr>\n",
       "    <tr>\n",
       "      <th>test</th>\n",
       "      <td>0.983133</td>\n",
       "      <td>0.998701</td>\n",
       "      <td>0.96</td>\n",
       "      <td>0.933333</td>\n",
       "      <td>0.988235</td>\n",
       "    </tr>\n",
       "    <tr>\n",
       "      <th rowspan=\"2\" valign=\"top\">Logistic Regression, EfficientNet</th>\n",
       "      <th>train</th>\n",
       "      <td>1</td>\n",
       "      <td>1</td>\n",
       "      <td>1</td>\n",
       "      <td>1</td>\n",
       "      <td>1</td>\n",
       "    </tr>\n",
       "    <tr>\n",
       "      <th>test</th>\n",
       "      <td>0.987952</td>\n",
       "      <td>0.976239</td>\n",
       "      <td>0.971751</td>\n",
       "      <td>0.955556</td>\n",
       "      <td>0.988506</td>\n",
       "    </tr>\n",
       "    <tr>\n",
       "      <th rowspan=\"2\" valign=\"top\">SVC, EfficientNet</th>\n",
       "      <th>train</th>\n",
       "      <td>0.997932</td>\n",
       "      <td>0.995261</td>\n",
       "      <td>0.995238</td>\n",
       "      <td>0.990521</td>\n",
       "      <td>1</td>\n",
       "    </tr>\n",
       "    <tr>\n",
       "      <th>test</th>\n",
       "      <td>0.971084</td>\n",
       "      <td>0.93735</td>\n",
       "      <td>0.929412</td>\n",
       "      <td>0.877778</td>\n",
       "      <td>0.9875</td>\n",
       "    </tr>\n",
       "    <tr>\n",
       "      <th rowspan=\"2\" valign=\"top\">Gradient Boosting, EfficientNet</th>\n",
       "      <th>train</th>\n",
       "      <td>1</td>\n",
       "      <td>1</td>\n",
       "      <td>1</td>\n",
       "      <td>1</td>\n",
       "      <td>1</td>\n",
       "    </tr>\n",
       "    <tr>\n",
       "      <th>test</th>\n",
       "      <td>0.973494</td>\n",
       "      <td>0.954957</td>\n",
       "      <td>0.937853</td>\n",
       "      <td>0.922222</td>\n",
       "      <td>0.954023</td>\n",
       "    </tr>\n",
       "    <tr>\n",
       "      <th rowspan=\"2\" valign=\"top\">Random Forest, EfficientNet</th>\n",
       "      <th>train</th>\n",
       "      <td>1</td>\n",
       "      <td>1</td>\n",
       "      <td>1</td>\n",
       "      <td>1</td>\n",
       "      <td>1</td>\n",
       "    </tr>\n",
       "    <tr>\n",
       "      <th>test</th>\n",
       "      <td>0.963855</td>\n",
       "      <td>0.916667</td>\n",
       "      <td>0.909091</td>\n",
       "      <td>0.833333</td>\n",
       "      <td>1</td>\n",
       "    </tr>\n",
       "    <tr>\n",
       "      <th rowspan=\"2\" valign=\"top\">Dense Net, InceptionV3</th>\n",
       "      <th>train</th>\n",
       "      <td>1</td>\n",
       "      <td>1</td>\n",
       "      <td>1</td>\n",
       "      <td>1</td>\n",
       "      <td>1</td>\n",
       "    </tr>\n",
       "    <tr>\n",
       "      <th>test</th>\n",
       "      <td>0.966265</td>\n",
       "      <td>0.989607</td>\n",
       "      <td>0.922222</td>\n",
       "      <td>0.922222</td>\n",
       "      <td>0.922222</td>\n",
       "    </tr>\n",
       "    <tr>\n",
       "      <th rowspan=\"2\" valign=\"top\">Logistic Regression, InceptionV3</th>\n",
       "      <th>train</th>\n",
       "      <td>1</td>\n",
       "      <td>1</td>\n",
       "      <td>1</td>\n",
       "      <td>1</td>\n",
       "      <td>1</td>\n",
       "    </tr>\n",
       "    <tr>\n",
       "      <th>test</th>\n",
       "      <td>0.966265</td>\n",
       "      <td>0.950342</td>\n",
       "      <td>0.922222</td>\n",
       "      <td>0.922222</td>\n",
       "      <td>0.922222</td>\n",
       "    </tr>\n",
       "    <tr>\n",
       "      <th rowspan=\"2\" valign=\"top\">SVC, InceptionV3</th>\n",
       "      <th>train</th>\n",
       "      <td>0.986556</td>\n",
       "      <td>0.969194</td>\n",
       "      <td>0.968215</td>\n",
       "      <td>0.938389</td>\n",
       "      <td>1</td>\n",
       "    </tr>\n",
       "    <tr>\n",
       "      <th>test</th>\n",
       "      <td>0.956627</td>\n",
       "      <td>0.904017</td>\n",
       "      <td>0.890244</td>\n",
       "      <td>0.811111</td>\n",
       "      <td>0.986486</td>\n",
       "    </tr>\n",
       "    <tr>\n",
       "      <th rowspan=\"2\" valign=\"top\">Gradient Boosting, InceptionV3</th>\n",
       "      <th>train</th>\n",
       "      <td>1</td>\n",
       "      <td>1</td>\n",
       "      <td>1</td>\n",
       "      <td>1</td>\n",
       "      <td>1</td>\n",
       "    </tr>\n",
       "    <tr>\n",
       "      <th>test</th>\n",
       "      <td>0.946988</td>\n",
       "      <td>0.897863</td>\n",
       "      <td>0.869048</td>\n",
       "      <td>0.811111</td>\n",
       "      <td>0.935897</td>\n",
       "    </tr>\n",
       "    <tr>\n",
       "      <th rowspan=\"2\" valign=\"top\">Random Forest, InceptionV3</th>\n",
       "      <th>train</th>\n",
       "      <td>1</td>\n",
       "      <td>1</td>\n",
       "      <td>1</td>\n",
       "      <td>1</td>\n",
       "      <td>1</td>\n",
       "    </tr>\n",
       "    <tr>\n",
       "      <th>test</th>\n",
       "      <td>0.925301</td>\n",
       "      <td>0.835812</td>\n",
       "      <td>0.797386</td>\n",
       "      <td>0.677778</td>\n",
       "      <td>0.968254</td>\n",
       "    </tr>\n",
       "    <tr>\n",
       "      <th rowspan=\"2\" valign=\"top\">Dense Net, VGG16 + PCA</th>\n",
       "      <th>train</th>\n",
       "      <td>1</td>\n",
       "      <td>1</td>\n",
       "      <td>1</td>\n",
       "      <td>1</td>\n",
       "      <td>1</td>\n",
       "    </tr>\n",
       "    <tr>\n",
       "      <th>test</th>\n",
       "      <td>0.816867</td>\n",
       "      <td>0.743744</td>\n",
       "      <td>0.40625</td>\n",
       "      <td>0.288889</td>\n",
       "      <td>0.684211</td>\n",
       "    </tr>\n",
       "    <tr>\n",
       "      <th rowspan=\"2\" valign=\"top\">Logistic Regression, VGG16 + PCA</th>\n",
       "      <th>train</th>\n",
       "      <td>1</td>\n",
       "      <td>1</td>\n",
       "      <td>1</td>\n",
       "      <td>1</td>\n",
       "      <td>1</td>\n",
       "    </tr>\n",
       "    <tr>\n",
       "      <th>test</th>\n",
       "      <td>0.860241</td>\n",
       "      <td>0.738034</td>\n",
       "      <td>0.618421</td>\n",
       "      <td>0.522222</td>\n",
       "      <td>0.758065</td>\n",
       "    </tr>\n",
       "    <tr>\n",
       "      <th rowspan=\"2\" valign=\"top\">SVC, VGG16 + PCA</th>\n",
       "      <th>train</th>\n",
       "      <td>0.907963</td>\n",
       "      <td>0.7891</td>\n",
       "      <td>0.732733</td>\n",
       "      <td>0.578199</td>\n",
       "      <td>1</td>\n",
       "    </tr>\n",
       "    <tr>\n",
       "      <th>test</th>\n",
       "      <td>0.785542</td>\n",
       "      <td>0.505556</td>\n",
       "      <td>0.021978</td>\n",
       "      <td>0.0111111</td>\n",
       "      <td>1</td>\n",
       "    </tr>\n",
       "    <tr>\n",
       "      <th rowspan=\"2\" valign=\"top\">Gradient Boosting, VGG16 + PCA</th>\n",
       "      <th>train</th>\n",
       "      <td>0.996898</td>\n",
       "      <td>0.992891</td>\n",
       "      <td>0.99284</td>\n",
       "      <td>0.985782</td>\n",
       "      <td>1</td>\n",
       "    </tr>\n",
       "    <tr>\n",
       "      <th>test</th>\n",
       "      <td>0.79759</td>\n",
       "      <td>0.533333</td>\n",
       "      <td>0.125</td>\n",
       "      <td>0.0666667</td>\n",
       "      <td>1</td>\n",
       "    </tr>\n",
       "    <tr>\n",
       "      <th rowspan=\"2\" valign=\"top\">Random Forest, VGG16 + PCA</th>\n",
       "      <th>train</th>\n",
       "      <td>1</td>\n",
       "      <td>1</td>\n",
       "      <td>1</td>\n",
       "      <td>1</td>\n",
       "      <td>1</td>\n",
       "    </tr>\n",
       "    <tr>\n",
       "      <th>test</th>\n",
       "      <td>0.783133</td>\n",
       "      <td>0.5</td>\n",
       "      <td>0</td>\n",
       "      <td>0</td>\n",
       "      <td>0</td>\n",
       "    </tr>\n",
       "    <tr>\n",
       "      <th rowspan=\"2\" valign=\"top\">Dense Net, VGG19 + PCA</th>\n",
       "      <th>train</th>\n",
       "      <td>0.997932</td>\n",
       "      <td>0.999975</td>\n",
       "      <td>0.995283</td>\n",
       "      <td>1</td>\n",
       "      <td>0.99061</td>\n",
       "    </tr>\n",
       "    <tr>\n",
       "      <th>test</th>\n",
       "      <td>0.836145</td>\n",
       "      <td>0.804154</td>\n",
       "      <td>0.507246</td>\n",
       "      <td>0.388889</td>\n",
       "      <td>0.729167</td>\n",
       "    </tr>\n",
       "    <tr>\n",
       "      <th rowspan=\"2\" valign=\"top\">Logistic Regression, VGG19 + PCA</th>\n",
       "      <th>train</th>\n",
       "      <td>1</td>\n",
       "      <td>1</td>\n",
       "      <td>1</td>\n",
       "      <td>1</td>\n",
       "      <td>1</td>\n",
       "    </tr>\n",
       "    <tr>\n",
       "      <th>test</th>\n",
       "      <td>0.836145</td>\n",
       "      <td>0.698547</td>\n",
       "      <td>0.546667</td>\n",
       "      <td>0.455556</td>\n",
       "      <td>0.683333</td>\n",
       "    </tr>\n",
       "    <tr>\n",
       "      <th rowspan=\"2\" valign=\"top\">SVC, VGG19 + PCA</th>\n",
       "      <th>train</th>\n",
       "      <td>0.903826</td>\n",
       "      <td>0.779621</td>\n",
       "      <td>0.717325</td>\n",
       "      <td>0.559242</td>\n",
       "      <td>1</td>\n",
       "    </tr>\n",
       "    <tr>\n",
       "      <th>test</th>\n",
       "      <td>0.783133</td>\n",
       "      <td>0.5</td>\n",
       "      <td>0</td>\n",
       "      <td>0</td>\n",
       "      <td>0</td>\n",
       "    </tr>\n",
       "    <tr>\n",
       "      <th rowspan=\"2\" valign=\"top\">Gradient Boosting, VGG19 + PCA</th>\n",
       "      <th>train</th>\n",
       "      <td>1</td>\n",
       "      <td>1</td>\n",
       "      <td>1</td>\n",
       "      <td>1</td>\n",
       "      <td>1</td>\n",
       "    </tr>\n",
       "    <tr>\n",
       "      <th>test</th>\n",
       "      <td>0.790361</td>\n",
       "      <td>0.520684</td>\n",
       "      <td>0.0842105</td>\n",
       "      <td>0.0444444</td>\n",
       "      <td>0.8</td>\n",
       "    </tr>\n",
       "    <tr>\n",
       "      <th rowspan=\"2\" valign=\"top\">Random Forest, VGG19 + PCA</th>\n",
       "      <th>train</th>\n",
       "      <td>1</td>\n",
       "      <td>1</td>\n",
       "      <td>1</td>\n",
       "      <td>1</td>\n",
       "      <td>1</td>\n",
       "    </tr>\n",
       "    <tr>\n",
       "      <th>test</th>\n",
       "      <td>0.783133</td>\n",
       "      <td>0.5</td>\n",
       "      <td>0</td>\n",
       "      <td>0</td>\n",
       "      <td>0</td>\n",
       "    </tr>\n",
       "    <tr>\n",
       "      <th rowspan=\"2\" valign=\"top\">Dense Net, Resnet50 + PCA</th>\n",
       "      <th>train</th>\n",
       "      <td>0.998966</td>\n",
       "      <td>0.999991</td>\n",
       "      <td>0.997636</td>\n",
       "      <td>1</td>\n",
       "      <td>0.995283</td>\n",
       "    </tr>\n",
       "    <tr>\n",
       "      <th>test</th>\n",
       "      <td>0.80241</td>\n",
       "      <td>0.762821</td>\n",
       "      <td>0.33871</td>\n",
       "      <td>0.233333</td>\n",
       "      <td>0.617647</td>\n",
       "    </tr>\n",
       "    <tr>\n",
       "      <th rowspan=\"2\" valign=\"top\">Logistic Regression, Resnet50 + PCA</th>\n",
       "      <th>train</th>\n",
       "      <td>1</td>\n",
       "      <td>1</td>\n",
       "      <td>1</td>\n",
       "      <td>1</td>\n",
       "      <td>1</td>\n",
       "    </tr>\n",
       "    <tr>\n",
       "      <th>test</th>\n",
       "      <td>0.828916</td>\n",
       "      <td>0.661795</td>\n",
       "      <td>0.481752</td>\n",
       "      <td>0.366667</td>\n",
       "      <td>0.702128</td>\n",
       "    </tr>\n",
       "    <tr>\n",
       "      <th rowspan=\"2\" valign=\"top\">SVC, Resnet50 + PCA</th>\n",
       "      <th>train</th>\n",
       "      <td>0.914168</td>\n",
       "      <td>0.803318</td>\n",
       "      <td>0.755162</td>\n",
       "      <td>0.606635</td>\n",
       "      <td>1</td>\n",
       "    </tr>\n",
       "    <tr>\n",
       "      <th>test</th>\n",
       "      <td>0.785542</td>\n",
       "      <td>0.505556</td>\n",
       "      <td>0.021978</td>\n",
       "      <td>0.0111111</td>\n",
       "      <td>1</td>\n",
       "    </tr>\n",
       "    <tr>\n",
       "      <th rowspan=\"2\" valign=\"top\">Gradient Boosting, Resnet50 + PCA</th>\n",
       "      <th>train</th>\n",
       "      <td>1</td>\n",
       "      <td>1</td>\n",
       "      <td>1</td>\n",
       "      <td>1</td>\n",
       "      <td>1</td>\n",
       "    </tr>\n",
       "    <tr>\n",
       "      <th>test</th>\n",
       "      <td>0.785542</td>\n",
       "      <td>0.505556</td>\n",
       "      <td>0.021978</td>\n",
       "      <td>0.0111111</td>\n",
       "      <td>1</td>\n",
       "    </tr>\n",
       "    <tr>\n",
       "      <th rowspan=\"2\" valign=\"top\">Random Forest, Resnet50 + PCA</th>\n",
       "      <th>train</th>\n",
       "      <td>1</td>\n",
       "      <td>1</td>\n",
       "      <td>1</td>\n",
       "      <td>1</td>\n",
       "      <td>1</td>\n",
       "    </tr>\n",
       "    <tr>\n",
       "      <th>test</th>\n",
       "      <td>0.783133</td>\n",
       "      <td>0.5</td>\n",
       "      <td>0</td>\n",
       "      <td>0</td>\n",
       "      <td>0</td>\n",
       "    </tr>\n",
       "    <tr>\n",
       "      <th rowspan=\"2\" valign=\"top\">Dense Net, EfficientNet + PCA</th>\n",
       "      <th>train</th>\n",
       "      <td>1</td>\n",
       "      <td>1</td>\n",
       "      <td>1</td>\n",
       "      <td>1</td>\n",
       "      <td>1</td>\n",
       "    </tr>\n",
       "    <tr>\n",
       "      <th>test</th>\n",
       "      <td>0.980723</td>\n",
       "      <td>0.997094</td>\n",
       "      <td>0.955056</td>\n",
       "      <td>0.944444</td>\n",
       "      <td>0.965909</td>\n",
       "    </tr>\n",
       "    <tr>\n",
       "      <th rowspan=\"2\" valign=\"top\">Logistic Regression, EfficientNet + PCA</th>\n",
       "      <th>train</th>\n",
       "      <td>1</td>\n",
       "      <td>1</td>\n",
       "      <td>1</td>\n",
       "      <td>1</td>\n",
       "      <td>1</td>\n",
       "    </tr>\n",
       "    <tr>\n",
       "      <th>test</th>\n",
       "      <td>0.980723</td>\n",
       "      <td>0.96359</td>\n",
       "      <td>0.954545</td>\n",
       "      <td>0.933333</td>\n",
       "      <td>0.976744</td>\n",
       "    </tr>\n",
       "    <tr>\n",
       "      <th rowspan=\"2\" valign=\"top\">SVC, EfficientNet + PCA</th>\n",
       "      <th>train</th>\n",
       "      <td>0.997932</td>\n",
       "      <td>0.995261</td>\n",
       "      <td>0.995238</td>\n",
       "      <td>0.990521</td>\n",
       "      <td>1</td>\n",
       "    </tr>\n",
       "    <tr>\n",
       "      <th>test</th>\n",
       "      <td>0.975904</td>\n",
       "      <td>0.952479</td>\n",
       "      <td>0.942529</td>\n",
       "      <td>0.911111</td>\n",
       "      <td>0.97619</td>\n",
       "    </tr>\n",
       "    <tr>\n",
       "      <th rowspan=\"2\" valign=\"top\">Gradient Boosting, EfficientNet + PCA</th>\n",
       "      <th>train</th>\n",
       "      <td>1</td>\n",
       "      <td>1</td>\n",
       "      <td>1</td>\n",
       "      <td>1</td>\n",
       "      <td>1</td>\n",
       "    </tr>\n",
       "    <tr>\n",
       "      <th>test</th>\n",
       "      <td>0.966265</td>\n",
       "      <td>0.934274</td>\n",
       "      <td>0.918605</td>\n",
       "      <td>0.877778</td>\n",
       "      <td>0.963415</td>\n",
       "    </tr>\n",
       "    <tr>\n",
       "      <th rowspan=\"2\" valign=\"top\">Random Forest, EfficientNet + PCA</th>\n",
       "      <th>train</th>\n",
       "      <td>1</td>\n",
       "      <td>1</td>\n",
       "      <td>1</td>\n",
       "      <td>1</td>\n",
       "      <td>1</td>\n",
       "    </tr>\n",
       "    <tr>\n",
       "      <th>test</th>\n",
       "      <td>0.922892</td>\n",
       "      <td>0.822222</td>\n",
       "      <td>0.783784</td>\n",
       "      <td>0.644444</td>\n",
       "      <td>1</td>\n",
       "    </tr>\n",
       "    <tr>\n",
       "      <th rowspan=\"2\" valign=\"top\">Dense Net, InceptionV3 + PCA</th>\n",
       "      <th>train</th>\n",
       "      <td>1</td>\n",
       "      <td>1</td>\n",
       "      <td>1</td>\n",
       "      <td>1</td>\n",
       "      <td>1</td>\n",
       "    </tr>\n",
       "    <tr>\n",
       "      <th>test</th>\n",
       "      <td>0.956627</td>\n",
       "      <td>0.984889</td>\n",
       "      <td>0.901099</td>\n",
       "      <td>0.911111</td>\n",
       "      <td>0.891304</td>\n",
       "    </tr>\n",
       "    <tr>\n",
       "      <th rowspan=\"2\" valign=\"top\">Logistic Regression, InceptionV3 + PCA</th>\n",
       "      <th>train</th>\n",
       "      <td>1</td>\n",
       "      <td>1</td>\n",
       "      <td>1</td>\n",
       "      <td>1</td>\n",
       "      <td>1</td>\n",
       "    </tr>\n",
       "    <tr>\n",
       "      <th>test</th>\n",
       "      <td>0.971084</td>\n",
       "      <td>0.961453</td>\n",
       "      <td>0.934066</td>\n",
       "      <td>0.944444</td>\n",
       "      <td>0.923913</td>\n",
       "    </tr>\n",
       "    <tr>\n",
       "      <th rowspan=\"2\" valign=\"top\">SVC, InceptionV3 + PCA</th>\n",
       "      <th>train</th>\n",
       "      <td>0.98759</td>\n",
       "      <td>0.971564</td>\n",
       "      <td>0.970732</td>\n",
       "      <td>0.943128</td>\n",
       "      <td>1</td>\n",
       "    </tr>\n",
       "    <tr>\n",
       "      <th>test</th>\n",
       "      <td>0.959036</td>\n",
       "      <td>0.909573</td>\n",
       "      <td>0.89697</td>\n",
       "      <td>0.822222</td>\n",
       "      <td>0.986667</td>\n",
       "    </tr>\n",
       "    <tr>\n",
       "      <th rowspan=\"2\" valign=\"top\">Gradient Boosting, InceptionV3 + PCA</th>\n",
       "      <th>train</th>\n",
       "      <td>1</td>\n",
       "      <td>1</td>\n",
       "      <td>1</td>\n",
       "      <td>1</td>\n",
       "      <td>1</td>\n",
       "    </tr>\n",
       "    <tr>\n",
       "      <th>test</th>\n",
       "      <td>0.910843</td>\n",
       "      <td>0.81453</td>\n",
       "      <td>0.75817</td>\n",
       "      <td>0.644444</td>\n",
       "      <td>0.920635</td>\n",
       "    </tr>\n",
       "    <tr>\n",
       "      <th rowspan=\"2\" valign=\"top\">Random Forest, InceptionV3 + PCA</th>\n",
       "      <th>train</th>\n",
       "      <td>1</td>\n",
       "      <td>1</td>\n",
       "      <td>1</td>\n",
       "      <td>1</td>\n",
       "      <td>1</td>\n",
       "    </tr>\n",
       "    <tr>\n",
       "      <th>test</th>\n",
       "      <td>0.819277</td>\n",
       "      <td>0.583333</td>\n",
       "      <td>0.285714</td>\n",
       "      <td>0.166667</td>\n",
       "      <td>1</td>\n",
       "    </tr>\n",
       "  </tbody>\n",
       "</table>\n",
       "</div>"
      ],
      "text/plain": [
       "                                               Accuracy       AUC         F1  \\\n",
       "Dense Net, VGG16                        train  0.973113  0.986961   0.941964   \n",
       "                                        test   0.809639  0.655504   0.324786   \n",
       "Logistic Regression, VGG16              train         1         1          1   \n",
       "                                        test   0.816867   0.60188   0.344828   \n",
       "SVC, VGG16                              train  0.892451  0.753555   0.672956   \n",
       "                                        test   0.785542  0.505556   0.021978   \n",
       "Gradient Boosting, VGG16                train  0.980352  0.954976   0.952854   \n",
       "                                        test   0.812048  0.582735   0.290909   \n",
       "Random Forest, VGG16                    train         1         1          1   \n",
       "                                        test   0.792771  0.522222  0.0851064   \n",
       "Dense Net, VGG19                        train  0.995863  0.999837   0.990431   \n",
       "                                        test   0.795181  0.489641   0.205607   \n",
       "Logistic Regression, VGG19              train         1         1          1   \n",
       "                                        test   0.807229  0.603761   0.354839   \n",
       "SVC, VGG19                              train  0.885212  0.736967   0.643087   \n",
       "                                        test   0.783133       0.5          0   \n",
       "Gradient Boosting, VGG19                train  0.988625  0.973934   0.973236   \n",
       "                                        test   0.783133  0.520085        0.1   \n",
       "Random Forest, VGG19                    train         1         1          1   \n",
       "                                        test   0.787952  0.515128  0.0638298   \n",
       "Dense Net, Resnet50                     train  0.998966  0.999342   0.997636   \n",
       "                                        test   0.792771  0.684838   0.203704   \n",
       "Logistic Regression, Resnet50           train         1         1          1   \n",
       "                                        test   0.790361  0.556838   0.230088   \n",
       "SVC, Resnet50                           train  0.913133  0.800948   0.751479   \n",
       "                                        test   0.783133       0.5          0   \n",
       "Gradient Boosting, Resnet50             train         1         1          1   \n",
       "                                        test   0.790361  0.528718   0.121212   \n",
       "Random Forest, Resnet50                 train         1         1          1   \n",
       "                                        test   0.783133  0.508034  0.0425532   \n",
       "Dense Net, EfficientNet                 train         1         1          1   \n",
       "                                        test   0.983133  0.998701       0.96   \n",
       "Logistic Regression, EfficientNet       train         1         1          1   \n",
       "                                        test   0.987952  0.976239   0.971751   \n",
       "SVC, EfficientNet                       train  0.997932  0.995261   0.995238   \n",
       "                                        test   0.971084   0.93735   0.929412   \n",
       "Gradient Boosting, EfficientNet         train         1         1          1   \n",
       "                                        test   0.973494  0.954957   0.937853   \n",
       "Random Forest, EfficientNet             train         1         1          1   \n",
       "                                        test   0.963855  0.916667   0.909091   \n",
       "Dense Net, InceptionV3                  train         1         1          1   \n",
       "                                        test   0.966265  0.989607   0.922222   \n",
       "Logistic Regression, InceptionV3        train         1         1          1   \n",
       "                                        test   0.966265  0.950342   0.922222   \n",
       "SVC, InceptionV3                        train  0.986556  0.969194   0.968215   \n",
       "                                        test   0.956627  0.904017   0.890244   \n",
       "Gradient Boosting, InceptionV3          train         1         1          1   \n",
       "                                        test   0.946988  0.897863   0.869048   \n",
       "Random Forest, InceptionV3              train         1         1          1   \n",
       "                                        test   0.925301  0.835812   0.797386   \n",
       "Dense Net, VGG16 + PCA                  train         1         1          1   \n",
       "                                        test   0.816867  0.743744    0.40625   \n",
       "Logistic Regression, VGG16 + PCA        train         1         1          1   \n",
       "                                        test   0.860241  0.738034   0.618421   \n",
       "SVC, VGG16 + PCA                        train  0.907963    0.7891   0.732733   \n",
       "                                        test   0.785542  0.505556   0.021978   \n",
       "Gradient Boosting, VGG16 + PCA          train  0.996898  0.992891    0.99284   \n",
       "                                        test    0.79759  0.533333      0.125   \n",
       "Random Forest, VGG16 + PCA              train         1         1          1   \n",
       "                                        test   0.783133       0.5          0   \n",
       "Dense Net, VGG19 + PCA                  train  0.997932  0.999975   0.995283   \n",
       "                                        test   0.836145  0.804154   0.507246   \n",
       "Logistic Regression, VGG19 + PCA        train         1         1          1   \n",
       "                                        test   0.836145  0.698547   0.546667   \n",
       "SVC, VGG19 + PCA                        train  0.903826  0.779621   0.717325   \n",
       "                                        test   0.783133       0.5          0   \n",
       "Gradient Boosting, VGG19 + PCA          train         1         1          1   \n",
       "                                        test   0.790361  0.520684  0.0842105   \n",
       "Random Forest, VGG19 + PCA              train         1         1          1   \n",
       "                                        test   0.783133       0.5          0   \n",
       "Dense Net, Resnet50 + PCA               train  0.998966  0.999991   0.997636   \n",
       "                                        test    0.80241  0.762821    0.33871   \n",
       "Logistic Regression, Resnet50 + PCA     train         1         1          1   \n",
       "                                        test   0.828916  0.661795   0.481752   \n",
       "SVC, Resnet50 + PCA                     train  0.914168  0.803318   0.755162   \n",
       "                                        test   0.785542  0.505556   0.021978   \n",
       "Gradient Boosting, Resnet50 + PCA       train         1         1          1   \n",
       "                                        test   0.785542  0.505556   0.021978   \n",
       "Random Forest, Resnet50 + PCA           train         1         1          1   \n",
       "                                        test   0.783133       0.5          0   \n",
       "Dense Net, EfficientNet + PCA           train         1         1          1   \n",
       "                                        test   0.980723  0.997094   0.955056   \n",
       "Logistic Regression, EfficientNet + PCA train         1         1          1   \n",
       "                                        test   0.980723   0.96359   0.954545   \n",
       "SVC, EfficientNet + PCA                 train  0.997932  0.995261   0.995238   \n",
       "                                        test   0.975904  0.952479   0.942529   \n",
       "Gradient Boosting, EfficientNet + PCA   train         1         1          1   \n",
       "                                        test   0.966265  0.934274   0.918605   \n",
       "Random Forest, EfficientNet + PCA       train         1         1          1   \n",
       "                                        test   0.922892  0.822222   0.783784   \n",
       "Dense Net, InceptionV3 + PCA            train         1         1          1   \n",
       "                                        test   0.956627  0.984889   0.901099   \n",
       "Logistic Regression, InceptionV3 + PCA  train         1         1          1   \n",
       "                                        test   0.971084  0.961453   0.934066   \n",
       "SVC, InceptionV3 + PCA                  train   0.98759  0.971564   0.970732   \n",
       "                                        test   0.959036  0.909573    0.89697   \n",
       "Gradient Boosting, InceptionV3 + PCA    train         1         1          1   \n",
       "                                        test   0.910843   0.81453    0.75817   \n",
       "Random Forest, InceptionV3 + PCA        train         1         1          1   \n",
       "                                        test   0.819277  0.583333   0.285714   \n",
       "\n",
       "                                                  Recall Precision  \n",
       "Dense Net, VGG16                        train          1  0.890295  \n",
       "                                        test    0.211111  0.703704  \n",
       "Logistic Regression, VGG16              train          1         1  \n",
       "                                        test    0.222222  0.769231  \n",
       "SVC, VGG16                              train   0.507109         1  \n",
       "                                        test   0.0111111         1  \n",
       "Gradient Boosting, VGG16                train   0.909953         1  \n",
       "                                        test    0.177778       0.8  \n",
       "Random Forest, VGG16                    train          1         1  \n",
       "                                        test   0.0444444         1  \n",
       "Dense Net, VGG19                        train   0.981043         1  \n",
       "                                        test    0.122222  0.647059  \n",
       "Logistic Regression, VGG19              train          1         1  \n",
       "                                        test    0.244444  0.647059  \n",
       "SVC, VGG19                              train   0.473934         1  \n",
       "                                        test           0         0  \n",
       "Gradient Boosting, VGG19                train   0.947867         1  \n",
       "                                        test   0.0555556       0.5  \n",
       "Random Forest, VGG19                    train          1         1  \n",
       "                                        test   0.0333333      0.75  \n",
       "Dense Net, Resnet50                     train          1  0.995283  \n",
       "                                        test    0.122222  0.611111  \n",
       "Logistic Regression, Resnet50           train          1         1  \n",
       "                                        test    0.144444  0.565217  \n",
       "SVC, Resnet50                           train   0.601896         1  \n",
       "                                        test           0         0  \n",
       "Gradient Boosting, Resnet50             train          1         1  \n",
       "                                        test   0.0666667  0.666667  \n",
       "Random Forest, Resnet50                 train          1         1  \n",
       "                                        test   0.0222222       0.5  \n",
       "Dense Net, EfficientNet                 train          1         1  \n",
       "                                        test    0.933333  0.988235  \n",
       "Logistic Regression, EfficientNet       train          1         1  \n",
       "                                        test    0.955556  0.988506  \n",
       "SVC, EfficientNet                       train   0.990521         1  \n",
       "                                        test    0.877778    0.9875  \n",
       "Gradient Boosting, EfficientNet         train          1         1  \n",
       "                                        test    0.922222  0.954023  \n",
       "Random Forest, EfficientNet             train          1         1  \n",
       "                                        test    0.833333         1  \n",
       "Dense Net, InceptionV3                  train          1         1  \n",
       "                                        test    0.922222  0.922222  \n",
       "Logistic Regression, InceptionV3        train          1         1  \n",
       "                                        test    0.922222  0.922222  \n",
       "SVC, InceptionV3                        train   0.938389         1  \n",
       "                                        test    0.811111  0.986486  \n",
       "Gradient Boosting, InceptionV3          train          1         1  \n",
       "                                        test    0.811111  0.935897  \n",
       "Random Forest, InceptionV3              train          1         1  \n",
       "                                        test    0.677778  0.968254  \n",
       "Dense Net, VGG16 + PCA                  train          1         1  \n",
       "                                        test    0.288889  0.684211  \n",
       "Logistic Regression, VGG16 + PCA        train          1         1  \n",
       "                                        test    0.522222  0.758065  \n",
       "SVC, VGG16 + PCA                        train   0.578199         1  \n",
       "                                        test   0.0111111         1  \n",
       "Gradient Boosting, VGG16 + PCA          train   0.985782         1  \n",
       "                                        test   0.0666667         1  \n",
       "Random Forest, VGG16 + PCA              train          1         1  \n",
       "                                        test           0         0  \n",
       "Dense Net, VGG19 + PCA                  train          1   0.99061  \n",
       "                                        test    0.388889  0.729167  \n",
       "Logistic Regression, VGG19 + PCA        train          1         1  \n",
       "                                        test    0.455556  0.683333  \n",
       "SVC, VGG19 + PCA                        train   0.559242         1  \n",
       "                                        test           0         0  \n",
       "Gradient Boosting, VGG19 + PCA          train          1         1  \n",
       "                                        test   0.0444444       0.8  \n",
       "Random Forest, VGG19 + PCA              train          1         1  \n",
       "                                        test           0         0  \n",
       "Dense Net, Resnet50 + PCA               train          1  0.995283  \n",
       "                                        test    0.233333  0.617647  \n",
       "Logistic Regression, Resnet50 + PCA     train          1         1  \n",
       "                                        test    0.366667  0.702128  \n",
       "SVC, Resnet50 + PCA                     train   0.606635         1  \n",
       "                                        test   0.0111111         1  \n",
       "Gradient Boosting, Resnet50 + PCA       train          1         1  \n",
       "                                        test   0.0111111         1  \n",
       "Random Forest, Resnet50 + PCA           train          1         1  \n",
       "                                        test           0         0  \n",
       "Dense Net, EfficientNet + PCA           train          1         1  \n",
       "                                        test    0.944444  0.965909  \n",
       "Logistic Regression, EfficientNet + PCA train          1         1  \n",
       "                                        test    0.933333  0.976744  \n",
       "SVC, EfficientNet + PCA                 train   0.990521         1  \n",
       "                                        test    0.911111   0.97619  \n",
       "Gradient Boosting, EfficientNet + PCA   train          1         1  \n",
       "                                        test    0.877778  0.963415  \n",
       "Random Forest, EfficientNet + PCA       train          1         1  \n",
       "                                        test    0.644444         1  \n",
       "Dense Net, InceptionV3 + PCA            train          1         1  \n",
       "                                        test    0.911111  0.891304  \n",
       "Logistic Regression, InceptionV3 + PCA  train          1         1  \n",
       "                                        test    0.944444  0.923913  \n",
       "SVC, InceptionV3 + PCA                  train   0.943128         1  \n",
       "                                        test    0.822222  0.986667  \n",
       "Gradient Boosting, InceptionV3 + PCA    train          1         1  \n",
       "                                        test    0.644444  0.920635  \n",
       "Random Forest, InceptionV3 + PCA        train          1         1  \n",
       "                                        test    0.166667         1  "
      ]
     },
     "execution_count": 238,
     "metadata": {},
     "output_type": "execute_result"
    }
   ],
   "source": [
    "metrics_df"
   ]
  },
  {
   "cell_type": "code",
   "execution_count": null,
   "metadata": {},
   "outputs": [],
   "source": [
    "metrics_df.to_csv('all_metrics_lab3_additional.csv', index=True)"
   ]
  }
 ],
 "metadata": {
  "kernelspec": {
   "display_name": "Python 3",
   "language": "python",
   "name": "python3"
  },
  "language_info": {
   "codemirror_mode": {
    "name": "ipython",
    "version": 3
   },
   "file_extension": ".py",
   "mimetype": "text/x-python",
   "name": "python",
   "nbconvert_exporter": "python",
   "pygments_lexer": "ipython3",
   "version": "3.6.9"
  }
 },
 "nbformat": 4,
 "nbformat_minor": 4
}
